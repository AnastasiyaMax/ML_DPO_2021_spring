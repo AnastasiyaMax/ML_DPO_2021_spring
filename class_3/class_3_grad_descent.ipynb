{
 "cells": [
  {
   "cell_type": "markdown",
   "metadata": {
    "toc": true
   },
   "source": [
    "<h1>Table of Contents<span class=\"tocSkip\"></span></h1>\n",
    "<div class=\"toc\"><ul class=\"toc-item\"><li><span><a href=\"#Градиент\" data-toc-modified-id=\"Градиент-1\"><span class=\"toc-item-num\">1&nbsp;&nbsp;</span>Градиент</a></span></li><li><span><a href=\"#Градиентный-спуск\" data-toc-modified-id=\"Градиентный-спуск-2\"><span class=\"toc-item-num\">2&nbsp;&nbsp;</span>Градиентный спуск</a></span><ul class=\"toc-item\"><li><span><a href=\"#Пример\" data-toc-modified-id=\"Пример-2.1\"><span class=\"toc-item-num\">2.1&nbsp;&nbsp;</span>Пример</a></span></li><li><span><a href=\"#Задание\" data-toc-modified-id=\"Задание-2.2\"><span class=\"toc-item-num\">2.2&nbsp;&nbsp;</span>Задание</a></span></li></ul></li></ul></div>"
   ]
  },
  {
   "cell_type": "markdown",
   "metadata": {
    "id": "Dd-V-ELLKqrU"
   },
   "source": [
    "## Градиент\n",
    "\n",
    "Пусть $F(x, y, z)$ - функция трех переменных, $(x, y, z)$ - декартовы координаты.\n",
    "Градиентом функции $F(x, y, z)$ называется векторное поле\n",
    "$$\n",
    "\\nabla F(x, y, z)=\\frac{\\partial F}{\\partial x} \\mathbf{i}+\\frac{\\partial F}{\\partial y} \\mathbf{j}+\\frac{\\partial F}{\\partial z} \\mathbf{k}\n",
    "$$\n",
    "где $\\frac{\\partial F}{\\partial x}, \\frac{\\partial F}{\\partial y}$ и $\\frac{\\partial F}{\\partial z}-$ частные производные функции $F(x, y, z)$, а і, j и $\\mathbf{k}$ - базис декартовой системы координат $(x, y, z)$\n",
    "Иногда градиент обозначается так: $\\operatorname{grad} F(x, y, z)$.\n",
    "\n",
    "Главное свойство градиента – он показывает направление наискорейшего роста функции.\n",
    "\n",
    "**Пример**\n",
    "\n",
    "Найдите градиент функции $f(x, y)=x^{2}+y^{2}$ в точках $M(0,0), N(1,-1), P(1,1)$\n",
    "\n",
    "**Решение:**\n",
    "\n",
    "\n",
    "$\\frac{\\partial f}{\\partial x}=2 x \\quad \\frac{\\partial f}{\\partial y}=\\left.2 y \\quad \\quad \\quad \\quad \\quad \\operatorname{grad} f\\right|_{M}=\\left.(2 x, 2 y)\\right|_{x=0, y=0}=(0,0)$\n",
    "$$\n",
    "\\left.\\overrightarrow{g r a d} f\\right|_{N}=\\left.(2 x, 2 y)\\right|_{x=1, y=-1}=(2,-2)\n",
    "$$\n",
    "$\\overrightarrow{g r a d} f=\\left(\\frac{\\partial f}{\\partial x}, \\frac{\\partial f}{\\partial y}\\right)=\\left.(2 x, 2 y) \\quad \\quad \\quad \\quad \\quad \\operatorname{grad} f\\right|_{P}=\\left.(2 x, 2 y)\\right|_{x=1, y=1}=(2,2)$\n",
    "\n",
    "В точке $N$ градиент (2,-2) , то есть при увеличении $x$ функция $f$ будет возрастать, а при увеличении $y$ ー убывать. В точке $P$ значение градиента (2,2) , это значит что в окрестности $P$ наша сумма квадратов возрастает по обеим переменным. В точке $M$ градиент нулевой."
   ]
  },
  {
   "cell_type": "markdown",
   "metadata": {
    "id": "KisBjKYCKqrV"
   },
   "source": [
    "**Что значит нулевой вектор градиента?**\n",
    "\n",
    "Смысл:\n",
    "* Все частные производные равны нулю.\n",
    "* Все касательные в точке $M$ горизонтальны.\n",
    "* $M$ — стационарная точка функции : максимум, минимум или седло (точка перегиба)."
   ]
  },
  {
   "cell_type": "markdown",
   "metadata": {
    "id": "IBNo0XrfKqrZ"
   },
   "source": [
    "**Линии уровня:**\n",
    "\n",
    "В математике линией уровня функции называется такая линия, вдоль которой значение функции постоянно.\n",
    "\n",
    "<img src=\"https://scipython.com/static/media/uploads/blog/linreg-graddesc/linreg2d.png\" width=500>"
   ]
  },
  {
   "cell_type": "markdown",
   "metadata": {
    "id": "f1UvsgPXKqra"
   },
   "source": [
    "## Градиентный спуск\n",
    "\n",
    "Градиентный спуск - это алгоритм оптимизации, используемый для поиска значений параметров (коэффициентов) функции (f), которая минимизирует функцию стоимости (cost).\n",
    "\n",
    "Градиентный спуск лучше всего использовать, когда параметры не могут быть вычислены аналитически (например, с использованием линейной алгебры) и должны быть найдены с помощью алгоритма оптимизации.\n",
    "\n",
    "Процедура начинается с начальных значений коэффициента или коэффициентов функции. Это может быть 0,0 или небольшое случайное значение.\n",
    "\n",
    "$$ \\text{коэффициент} = 0.0 $$\n",
    "\n",
    "Значение функции стоимости рассчитывается по формуле:\n",
    "\n",
    "$$ cost = f(\\text{коэффициент}) $$\n",
    "\n",
    "Рассчитывается производная стоимости. Производная - это понятие из математического анализа и относится к наклону функции в данной точке. Нам нужно знать наклон, чтобы знать направление (знак) для перемещения значений коэффициентов, чтобы снизить затраты на следующей итерации.\n",
    "\n",
    "$$ delta = \\text{производная}(cost) $$\n",
    "\n",
    "Теперь, когда мы знаем по производной, какое направление идет вниз, мы можем обновить значения коэффициентов. Необходимо указать параметр скорости обучения (альфа), который контролирует, насколько коэффициенты могут изменяться при каждом обновлении.\n",
    "\n",
    "$$ \\text{коэффициент} = \\text{коэффициент} – (alpha * delta)$$\n",
    "\n",
    "Этот процесс повторяется до тех пор, пока функция стоимости не станет 0 или достаточно близка к нулю, чтобы быть достаточно хорошей.\n",
    "\n",
    "Метод градиентного спуска требует, чтобы вы знали градиент вашей функции затрат или функции, которую вы оптимизируете. Далее мы увидим, как мы можем использовать это в алгоритмах машинного обучения.\n",
    "\n",
    "Таким образом, ключевая формуля для градиентного спуска, которую нужно запомнить с сегодняшнего занятия, на картинке ниже. Будьте внимательны, такое могут спросить на собеседовании!\n",
    "\n",
    "<img src=\"https://miro.medium.com/max/450/1*8Omixzi4P2mnqdsPwIR1GQ.png\" width=300>\n",
    "\n",
    "А сам алгоритм будет выглядеть примерно так:\n",
    "\n",
    "<img src=\"https://cdn-images-1.medium.com/max/600/1*iNPHcCxIvcm7RwkRaMTx1g.jpeg\" width=300>"
   ]
  },
  {
   "cell_type": "markdown",
   "metadata": {
    "id": "Ld0xfDk4Kqrb"
   },
   "source": [
    "### Пример"
   ]
  },
  {
   "cell_type": "markdown",
   "metadata": {
    "id": "wYhgexrHKqrc"
   },
   "source": [
    "<img src=\"https://upload.wikimedia.org/wikipedia/commons/3/32/Rosenbrock_function.svg\" width=400>\n",
    "<img src=\"https://upload.wikimedia.org/wikipedia/commons/a/a7/Rosenbrock_function.PNG\" width=400>"
   ]
  },
  {
   "cell_type": "markdown",
   "metadata": {
    "id": "ROZS3ftQKqrd"
   },
   "source": [
    "Реализуем метод градиентного спуска на Python без использования библиотек. Посмотрим, как он ведёт себя при разных параметрах и критериях остановки.\n",
    "\n",
    "Оптимизировать будем **функцию Розенброка:**\n",
    "\n",
    "$f(x, y)=(1-x)^{2}+100\\left(y-x^{2}\\right)^{2}$\n",
    "\n",
    "Задаём функцию градиента, посчитав производные:\n",
    "\n",
    "$d x=2 x-2+100\\left(-4 y x+4 x^{3}\\right)$\n",
    "\n",
    "$d y=100\\left(2 y-2 x^{2}\\right)$\n",
    "\n",
    "Зададим параметры. Начальная точка (0, 0), γ = **0.1**, условием остановки зададим **20 000** итераций.\n",
    "\n",
    "Имплементируем формулу градиентного спуска:\n",
    "\n",
    "$x^{(n+1)}=x^{(n)}-\\gamma \\nabla f\\left(x^{(n)}\\right)$"
   ]
  },
  {
   "cell_type": "code",
   "execution_count": 1,
   "metadata": {
    "id": "rAnNc6z3Kqre"
   },
   "outputs": [],
   "source": [
    "def f(x, y):\n",
    "    return (1 - x) ** 2 + 100 * (y - x ** 2) ** 2\n",
    "\n",
    "def grad(x, y):\n",
    "    '''\n",
    "    dx = f'x\n",
    "    dy = f'y\n",
    "    '''\n",
    "    dx = 2 * x - 2 + 100 * (-4 * y * x + 4 * x ** 3)\n",
    "    dy = 100 * (2 * y - 2 * x ** 2)\n",
    "    return (dx, dy)\n",
    "\n",
    "def dist(x1, x2):\n",
    "    '''\n",
    "    x1 - 1st point like (x, y)\n",
    "    x2 - 2nd point like (x, y)\n",
    "    return ||x1-x2||_2^2\n",
    "    '''\n",
    "    return (x1[0] - x2[0]) ** 2 + (x1[1] - x2[1]) ** 2"
   ]
  },
  {
   "cell_type": "code",
   "execution_count": 2,
   "metadata": {
    "id": "ZAG3AdOGKqrj",
    "outputId": "b35bd8b8-74f3-4b60-c6a4-9180a7fbb77c"
   },
   "outputs": [
    {
     "data": {
      "text/plain": [
       "(1, 0, 101, 226.0)"
      ]
     },
     "execution_count": 2,
     "metadata": {},
     "output_type": "execute_result"
    }
   ],
   "source": [
    "f(0,0), f(1,1), f(0,1), f(0,1.5)"
   ]
  },
  {
   "cell_type": "code",
   "execution_count": 3,
   "metadata": {
    "id": "0wn3OFS6Kqrr"
   },
   "outputs": [],
   "source": [
    "import matplotlib.pyplot as plt\n",
    "import numpy as np\n",
    "\n",
    "\n",
    "def plot(coords, vals):\n",
    "    n = 200 # number of discretization points along the x-axis\n",
    "    m = 200 # number of discretization points along the x-axis\n",
    "    a=-2; b=2. # extreme points in the x-axis\n",
    "    c=-2; d=2. # extreme points in the y-axis\n",
    "\n",
    "\n",
    "    plt.figure(figsize=(12,6))\n",
    "    plt.subplot(1,2,1)\n",
    "\n",
    "    X,Y = np.meshgrid(np.linspace(a,b,n), np.linspace(c,d,m))\n",
    "\n",
    "    Z = f(X,Y)\n",
    "\n",
    "    plt.xlim(a,b)\n",
    "    plt.ylim(c,d)\n",
    "\n",
    "    plt.contour(X,Y,Z, np.logspace(-0.5, 3, 31), cmap='gray_r')\n",
    "    plt.plot([c[0] for c in coords], [c[1] for c in coords], '--')\n",
    "    plt.scatter(1,1,c='red')\n",
    "    plt.xlabel('x1')\n",
    "    plt.ylabel('x2')\n",
    "    plt.title('level lines')\n",
    "\n",
    "\n",
    "    plt.subplot(1,2,2)\n",
    "\n",
    "    plt.plot(vals)\n",
    "    plt.xscale('log')\n",
    "    plt.ylabel('f(x)')\n",
    "    plt.xlabel('iteration')\n",
    "    plt.show()"
   ]
  },
  {
   "cell_type": "code",
   "execution_count": 4,
   "metadata": {
    "id": "S4yCo9V0Kqrv",
    "outputId": "60f26b68-d084-429c-8ed6-ec6389d02555"
   },
   "outputs": [
    {
     "name": "stdout",
     "output_type": "stream",
     "text": [
      "iter=0; x=(0.002, 0.000); f(x)=1.00; grad f(x)=(-1.996, -0.001)\n",
      "iter=1000; x=(0.674, 0.453); f(x)=0.11; grad f(x)=(-0.231, -0.312)\n",
      "iter=2000; x=(0.822, 0.675); f(x)=0.03; grad f(x)=(-0.096, -0.158)\n",
      "iter=3000; x=(0.893, 0.796); f(x)=0.01; grad f(x)=(-0.051, -0.092)\n",
      "iter=4000; x=(0.932, 0.869); f(x)=0.00; grad f(x)=(-0.030, -0.057)\n",
      "iter=5000; x=(0.956, 0.914); f(x)=0.00; grad f(x)=(-0.019, -0.036)\n",
      "iter=6000; x=(0.971, 0.943); f(x)=0.00; grad f(x)=(-0.012, -0.023)\n",
      "iter=7000; x=(0.981, 0.962); f(x)=0.00; grad f(x)=(-0.008, -0.015)\n",
      "iter=8000; x=(0.987, 0.975); f(x)=0.00; grad f(x)=(-0.005, -0.010)\n",
      "iter=9000; x=(0.992, 0.983); f(x)=0.00; grad f(x)=(-0.003, -0.007)\n",
      "iter=10000; x=(0.994, 0.989); f(x)=0.00; grad f(x)=(-0.002, -0.004)\n",
      "iter=11000; x=(0.996, 0.993); f(x)=0.00; grad f(x)=(-0.002, -0.003)\n",
      "iter=12000; x=(0.997, 0.995); f(x)=0.00; grad f(x)=(-0.001, -0.002)\n",
      "iter=13000; x=(0.998, 0.997); f(x)=0.00; grad f(x)=(-0.001, -0.001)\n",
      "iter=14000; x=(0.999, 0.998); f(x)=0.00; grad f(x)=(-0.000, -0.001)\n",
      "\n",
      "dist(x_new, x_cur) < eps\n",
      "\n",
      "last iter = 14018\n",
      "last x = (0.9988831675486197, 0.9977631102939305)\n"
     ]
    },
    {
     "data": {
      "image/png": "[encoded data removed]",
      "text/plain": [
       "<Figure size 864x432 with 2 Axes>"
      ]
     },
     "metadata": {
      "needs_background": "light"
     },
     "output_type": "display_data"
    }
   ],
   "source": [
    "# where to start\n",
    "x0 = (0, 0)\n",
    "# learning rate\n",
    "gamma = 1e-3  # 0.001, 0.000001\n",
    "max_iter = 20000\n",
    "eps = 1e-12\n",
    "\n",
    "x_cur = x0\n",
    "vals = []\n",
    "coords = []\n",
    "i = 0\n",
    "\n",
    "while True:\n",
    "    # refresh points\n",
    "    x_new = (x_cur[0] - (gamma) * grad(*x_cur)[0],\n",
    "             x_cur[1] - (gamma) * grad(*x_cur)[1])\n",
    "\n",
    "    if dist(x_new, x_cur) < eps:  # check their change\n",
    "        print('\\ndist(x_new, x_cur) < eps')\n",
    "        break\n",
    "\n",
    "    x_cur = x_new\n",
    "    vals.append(f(*x_cur))  # append function value\n",
    "\n",
    "    coords.append(x_cur)  # append points\n",
    "    if i % 1000 == 0:  # count iterations\n",
    "        print(\n",
    "            f\"iter={i}; x=({x_cur[0]:.3f}, {x_cur[1]:.3f});\"\n",
    "            f\" f(x)={f(*x_cur):.2f}; grad f(x)=({grad(*x_cur)[0]:.3f}, {grad(*x_cur)[1]:.3f})\"\n",
    "        )\n",
    "    i += 1\n",
    "    if i > max_iter:\n",
    "        print('\\nmax iter reached')\n",
    "        break\n",
    "\n",
    "print()\n",
    "print(f'last iter = {i}')\n",
    "print(f'last x = {x_cur}')\n",
    "plot(coords, vals)"
   ]
  },
  {
   "cell_type": "code",
   "execution_count": 5,
   "metadata": {
    "id": "l33HrDTQKqr0",
    "outputId": "71beb877-0dc8-4cce-90de-03238d4f7020"
   },
   "outputs": [
    {
     "data": {
      "text/plain": [
       "      fun: 2.8439854262904333e-11\n",
       " hess_inv: array([[0.49482461, 0.98957648],\n",
       "       [0.98957648, 1.98394242]])\n",
       "      jac: array([ 3.98678486e-06, -2.84414614e-06])\n",
       "  message: 'Optimization terminated successfully.'\n",
       "     nfev: 96\n",
       "      nit: 19\n",
       "     njev: 24\n",
       "   status: 0\n",
       "  success: True\n",
       "        x: array([0.99999467, 0.99998932])"
      ]
     },
     "execution_count": 5,
     "metadata": {},
     "output_type": "execute_result"
    }
   ],
   "source": [
    "from scipy import optimize\n",
    "\n",
    "optimize.minimize(lambda x: f(*x), x0=(0, 0)) "
   ]
  },
  {
   "cell_type": "markdown",
   "metadata": {
    "id": "r22v-LHHKqsG"
   },
   "source": [
    "**Задание**\n",
    "- Найдите градиентным спуском минимум функции $f(x,y)=2 x^{2}-4 x y+y^{4}+2$"
   ]
  },
  {
   "cell_type": "code",
   "execution_count": 7,
   "metadata": {
    "id": "RvtXrqa5KqsI"
   },
   "outputs": [],
   "source": [
    "def grad_descent(x0, f, grad, dist, gamma=1e-3, max_iter=20000, eps=1e-12):\n",
    "\n",
    "    x_cur = x0\n",
    "    vals = []\n",
    "    coords = []\n",
    "    i = 0\n",
    "\n",
    "    while True:\n",
    "        # refresh points\n",
    "        x_new = (x_cur[0] - (gamma) * grad(*x_cur)[0],\n",
    "                 x_cur[1] - (gamma) * grad(*x_cur)[1])\n",
    "\n",
    "        if dist(x_new, x_cur) < eps:  # check their change\n",
    "            print('\\ndist(x_new, x_cur) < eps')\n",
    "            break\n",
    "\n",
    "        x_cur = x_new\n",
    "        vals.append(f(*x_cur))  # append function value\n",
    "\n",
    "        coords.append(x_cur)  # append points\n",
    "        if i % 1000 == 0:  # count iterations\n",
    "            print(\n",
    "                f\"iter={i}; x=({x_cur[0]:.3f}, {x_cur[1]:.3f});\"\n",
    "                f\" f(x)={f(*x_cur):.2f}; grad f(x)=({grad(*x_cur)[0]:.3f}, {grad(*x_cur)[1]:.3f})\"\n",
    "            )\n",
    "        i += 1\n",
    "        if i > max_iter:\n",
    "            print('\\nmax iter reached')\n",
    "            break\n",
    "\n",
    "    print()\n",
    "    print(f'last iter = {i}')\n",
    "    print(f'last x = {x_cur}')"
   ]
  },
  {
   "cell_type": "code",
   "execution_count": 8,
   "metadata": {
    "id": "1MasX5KGKqsN"
   },
   "outputs": [],
   "source": [
    "def f(x,y):\n",
    "    return 2*x**2 - 4*x*y + y**4 + 2\n",
    "\n",
    "def grad(x,y):\n",
    "    dx = 4*x - 4*y\n",
    "    dy = -4*x + 4*y**3\n",
    "    return dx, dy"
   ]
  },
  {
   "cell_type": "code",
   "execution_count": 9,
   "metadata": {
    "id": "D5bD47ruKqsS",
    "outputId": "9238b4aa-5ffd-4e75-cb52-b04c81d81da4"
   },
   "outputs": [
    {
     "name": "stdout",
     "output_type": "stream",
     "text": [
      "iter=0; x=(0.500, 0.501); f(x)=1.56; grad f(x)=(-0.006, -1.495)\n",
      "iter=1000; x=(0.916, 0.963); f(x)=1.01; grad f(x)=(-0.190, -0.087)\n",
      "iter=2000; x=(0.992, 0.997); f(x)=1.00; grad f(x)=(-0.019, -0.008)\n",
      "iter=3000; x=(0.999, 1.000); f(x)=1.00; grad f(x)=(-0.002, -0.001)\n",
      "\n",
      "dist(x_new, x_cur) < eps\n",
      "\n",
      "last iter = 3303\n",
      "last x = (0.9996061622146616, 0.9998368314556279)\n"
     ]
    }
   ],
   "source": [
    "x0 = (0.5, 0.5)\n",
    "grad_descent(x0, f, grad , dist, gamma=1e-3, max_iter = 20000, eps = 1e-12)"
   ]
  },
  {
   "cell_type": "code",
   "execution_count": 10,
   "metadata": {
    "id": "tOzc3x2RKqsZ",
    "outputId": "cbbd2ba7-e480-407c-a793-610942165eae"
   },
   "outputs": [
    {
     "data": {
      "text/plain": [
       "      fun: 1.0000000000036153\n",
       " hess_inv: array([[0.38546384, 0.13422901],\n",
       "       [0.13422901, 0.13314066]])\n",
       "      jac: array([5.66244125e-07, 7.16745853e-06])\n",
       "  message: 'Optimization terminated successfully.'\n",
       "     nfev: 32\n",
       "      nit: 6\n",
       "     njev: 8\n",
       "   status: 0\n",
       "  success: True\n",
       "        x: array([1.00000107, 1.00000095])"
      ]
     },
     "execution_count": 10,
     "metadata": {},
     "output_type": "execute_result"
    }
   ],
   "source": [
    "optimize.minimize(lambda x: f(*x), x0=x0) "
   ]
  },
  {
   "cell_type": "code",
   "execution_count": 11,
   "metadata": {
    "id": "_60w76JuKqsn",
    "outputId": "ae076719-cf3f-4cac-a50b-d63d6a592c5b"
   },
   "outputs": [
    {
     "name": "stdout",
     "output_type": "stream",
     "text": [
      "iter=0; x=(-0.500, -0.501); f(x)=1.56; grad f(x)=(0.006, 1.495)\n",
      "iter=1000; x=(-0.916, -0.963); f(x)=1.01; grad f(x)=(0.190, 0.087)\n",
      "iter=2000; x=(-0.992, -0.997); f(x)=1.00; grad f(x)=(0.019, 0.008)\n",
      "iter=3000; x=(-0.999, -1.000); f(x)=1.00; grad f(x)=(0.002, 0.001)\n",
      "\n",
      "dist(x_new, x_cur) < eps\n",
      "\n",
      "last iter = 3303\n",
      "last x = (-0.9996061622146616, -0.9998368314556279)\n"
     ]
    }
   ],
   "source": [
    "x0 = (-0.5, -0.5)\n",
    "grad_descent(x0, f, grad , dist, gamma=1e-3, max_iter = 20000, eps = 1e-12)"
   ]
  },
  {
   "cell_type": "code",
   "execution_count": 12,
   "metadata": {
    "id": "Wh4FyQGlKqss",
    "outputId": "b435fa82-1a3b-459b-9717-220d3d6f8aa3"
   },
   "outputs": [
    {
     "data": {
      "text/plain": [
       "      fun: 1.00000000000389\n",
       " hess_inv: array([[0.38546186, 0.13422836],\n",
       "       [0.13422836, 0.13314068]])\n",
       "      jac: array([-5.36441803e-07, -7.21216202e-06])\n",
       "  message: 'Optimization terminated successfully.'\n",
       "     nfev: 32\n",
       "      nit: 6\n",
       "     njev: 8\n",
       "   status: 0\n",
       "  success: True\n",
       "        x: array([-1.00000113, -1.00000098])"
      ]
     },
     "execution_count": 12,
     "metadata": {},
     "output_type": "execute_result"
    }
   ],
   "source": [
    "optimize.minimize(lambda x: f(*x), x0=x0) "
   ]
  },
  {
   "cell_type": "code",
   "execution_count": 13,
   "metadata": {
    "id": "7Ed-KyuVKqs0",
    "outputId": "ba268a2d-c3ed-440d-a0aa-b652ae73bb87"
   },
   "outputs": [
    {
     "name": "stdout",
     "output_type": "stream",
     "text": [
      "\n",
      "dist(x_new, x_cur) < eps\n",
      "\n",
      "last iter = 0\n",
      "last x = (0, 0)\n"
     ]
    }
   ],
   "source": [
    "x0 = (0, 0)\n",
    "grad_descent(x0, f, grad , dist, gamma=1e-3, max_iter = 20000, eps = 1e-12)"
   ]
  },
  {
   "cell_type": "code",
   "execution_count": 14,
   "metadata": {
    "id": "2sOMQ-0rKqs6",
    "outputId": "1a72b4a8-0e3d-49df-9190-294fadcdf6d8"
   },
   "outputs": [
    {
     "data": {
      "text/plain": [
       "      fun: 2.0\n",
       " hess_inv: array([[1, 0],\n",
       "       [0, 1]])\n",
       "      jac: array([2.98023224e-08, 0.00000000e+00])\n",
       "  message: 'Optimization terminated successfully.'\n",
       "     nfev: 4\n",
       "      nit: 0\n",
       "     njev: 1\n",
       "   status: 0\n",
       "  success: True\n",
       "        x: array([0., 0.])"
      ]
     },
     "execution_count": 14,
     "metadata": {},
     "output_type": "execute_result"
    }
   ],
   "source": [
    "optimize.minimize(lambda x: f(*x), x0=x0) "
   ]
  },
  {
   "cell_type": "markdown",
   "metadata": {
    "id": "ZJH8CtFFKqtC"
   },
   "source": [
    "### Задание\n",
    "\n",
    "Необходимо применить [SGDRegressor](https://scikit-learn.org/stable/modules/generated/sklearn.linear_model.SGDRegressor.html). Сравните качество с рассмотренными ранее алгоритмами. Подберите параметры *loss*, *penalty*, *alpha*, *learning_rate*."
   ]
  },
  {
   "cell_type": "code",
   "execution_count": 31,
   "metadata": {
    "id": "M91_fLOmKqtD"
   },
   "outputs": [],
   "source": [
    "#импорт необходимых библиотек и самого набора данных\n",
    "import pandas as pd\n",
    "import matplotlib.pyplot as plt\n",
    "import numpy as np\n",
    "import seaborn as sns\n",
    "from itertools import combinations\n",
    "from scipy.stats import ttest_ind\n",
    "from sklearn.model_selection import train_test_split"
   ]
  },
  {
   "cell_type": "code",
   "execution_count": 17,
   "metadata": {
    "id": "zCMBoFfIKqtI"
   },
   "outputs": [],
   "source": [
    "pd.set_option('display.max_rows', 50) # показывать больше строк\n",
    "pd.set_option('display.max_columns', 50) # показывать больше колонок\n",
    "\n",
    "# стиль графиков\n",
    "sns.set(style='darkgrid', palette='pastel', color_codes=True)\n",
    "# задать размер графиков\n",
    "plt.rcParams['figure.figsize'] = (12, 6)"
   ]
  },
  {
   "cell_type": "code",
   "execution_count": 19,
   "metadata": {},
   "outputs": [],
   "source": [
    "import ssl\n",
    "\n",
    "ssl._create_default_https_context = ssl._create_unverified_context"
   ]
  },
  {
   "cell_type": "code",
   "execution_count": 36,
   "metadata": {
    "colab": {
     "base_uri": "https://localhost:8080/",
     "height": 347
    },
    "id": "WMgbG4AoKqtP",
    "outputId": "d3a9590e-5674-4be4-bd3c-1ebb17649b05"
   },
   "outputs": [
    {
     "data": {
      "text/html": [
       "<div>\n",
       "<style scoped>\n",
       "    .dataframe tbody tr th:only-of-type {\n",
       "        vertical-align: middle;\n",
       "    }\n",
       "\n",
       "    .dataframe tbody tr th {\n",
       "        vertical-align: top;\n",
       "    }\n",
       "\n",
       "    .dataframe thead th {\n",
       "        text-align: right;\n",
       "    }\n",
       "</style>\n",
       "<table border=\"1\" class=\"dataframe\">\n",
       "  <thead>\n",
       "    <tr style=\"text-align: right;\">\n",
       "      <th></th>\n",
       "      <th>carat</th>\n",
       "      <th>cut</th>\n",
       "      <th>color</th>\n",
       "      <th>clarity</th>\n",
       "      <th>depth</th>\n",
       "      <th>table</th>\n",
       "      <th>price</th>\n",
       "      <th>x</th>\n",
       "      <th>y</th>\n",
       "      <th>z</th>\n",
       "    </tr>\n",
       "  </thead>\n",
       "  <tbody>\n",
       "    <tr>\n",
       "      <td>0</td>\n",
       "      <td>0.23</td>\n",
       "      <td>Ideal</td>\n",
       "      <td>E</td>\n",
       "      <td>SI2</td>\n",
       "      <td>61.5</td>\n",
       "      <td>55.0</td>\n",
       "      <td>326</td>\n",
       "      <td>3.95</td>\n",
       "      <td>3.98</td>\n",
       "      <td>2.43</td>\n",
       "    </tr>\n",
       "    <tr>\n",
       "      <td>1</td>\n",
       "      <td>0.21</td>\n",
       "      <td>Premium</td>\n",
       "      <td>E</td>\n",
       "      <td>SI1</td>\n",
       "      <td>59.8</td>\n",
       "      <td>61.0</td>\n",
       "      <td>326</td>\n",
       "      <td>3.89</td>\n",
       "      <td>3.84</td>\n",
       "      <td>2.31</td>\n",
       "    </tr>\n",
       "    <tr>\n",
       "      <td>2</td>\n",
       "      <td>0.23</td>\n",
       "      <td>Good</td>\n",
       "      <td>E</td>\n",
       "      <td>VS1</td>\n",
       "      <td>56.9</td>\n",
       "      <td>65.0</td>\n",
       "      <td>327</td>\n",
       "      <td>4.05</td>\n",
       "      <td>4.07</td>\n",
       "      <td>2.31</td>\n",
       "    </tr>\n",
       "    <tr>\n",
       "      <td>3</td>\n",
       "      <td>0.29</td>\n",
       "      <td>Premium</td>\n",
       "      <td>I</td>\n",
       "      <td>VS2</td>\n",
       "      <td>62.4</td>\n",
       "      <td>58.0</td>\n",
       "      <td>334</td>\n",
       "      <td>4.20</td>\n",
       "      <td>4.23</td>\n",
       "      <td>2.63</td>\n",
       "    </tr>\n",
       "    <tr>\n",
       "      <td>4</td>\n",
       "      <td>0.31</td>\n",
       "      <td>Good</td>\n",
       "      <td>J</td>\n",
       "      <td>SI2</td>\n",
       "      <td>63.3</td>\n",
       "      <td>58.0</td>\n",
       "      <td>335</td>\n",
       "      <td>4.34</td>\n",
       "      <td>4.35</td>\n",
       "      <td>2.75</td>\n",
       "    </tr>\n",
       "    <tr>\n",
       "      <td>5</td>\n",
       "      <td>0.24</td>\n",
       "      <td>Very Good</td>\n",
       "      <td>J</td>\n",
       "      <td>VVS2</td>\n",
       "      <td>62.8</td>\n",
       "      <td>57.0</td>\n",
       "      <td>336</td>\n",
       "      <td>3.94</td>\n",
       "      <td>3.96</td>\n",
       "      <td>2.48</td>\n",
       "    </tr>\n",
       "    <tr>\n",
       "      <td>6</td>\n",
       "      <td>0.24</td>\n",
       "      <td>Very Good</td>\n",
       "      <td>I</td>\n",
       "      <td>VVS1</td>\n",
       "      <td>62.3</td>\n",
       "      <td>57.0</td>\n",
       "      <td>336</td>\n",
       "      <td>3.95</td>\n",
       "      <td>3.98</td>\n",
       "      <td>2.47</td>\n",
       "    </tr>\n",
       "    <tr>\n",
       "      <td>7</td>\n",
       "      <td>0.26</td>\n",
       "      <td>Very Good</td>\n",
       "      <td>H</td>\n",
       "      <td>SI1</td>\n",
       "      <td>61.9</td>\n",
       "      <td>55.0</td>\n",
       "      <td>337</td>\n",
       "      <td>4.07</td>\n",
       "      <td>4.11</td>\n",
       "      <td>2.53</td>\n",
       "    </tr>\n",
       "    <tr>\n",
       "      <td>8</td>\n",
       "      <td>0.22</td>\n",
       "      <td>Fair</td>\n",
       "      <td>E</td>\n",
       "      <td>VS2</td>\n",
       "      <td>65.1</td>\n",
       "      <td>61.0</td>\n",
       "      <td>337</td>\n",
       "      <td>3.87</td>\n",
       "      <td>3.78</td>\n",
       "      <td>2.49</td>\n",
       "    </tr>\n",
       "    <tr>\n",
       "      <td>9</td>\n",
       "      <td>0.23</td>\n",
       "      <td>Very Good</td>\n",
       "      <td>H</td>\n",
       "      <td>VS1</td>\n",
       "      <td>59.4</td>\n",
       "      <td>61.0</td>\n",
       "      <td>338</td>\n",
       "      <td>4.00</td>\n",
       "      <td>4.05</td>\n",
       "      <td>2.39</td>\n",
       "    </tr>\n",
       "  </tbody>\n",
       "</table>\n",
       "</div>"
      ],
      "text/plain": [
       "   carat        cut color clarity  depth  table  price     x     y     z\n",
       "0   0.23      Ideal     E     SI2   61.5   55.0    326  3.95  3.98  2.43\n",
       "1   0.21    Premium     E     SI1   59.8   61.0    326  3.89  3.84  2.31\n",
       "2   0.23       Good     E     VS1   56.9   65.0    327  4.05  4.07  2.31\n",
       "3   0.29    Premium     I     VS2   62.4   58.0    334  4.20  4.23  2.63\n",
       "4   0.31       Good     J     SI2   63.3   58.0    335  4.34  4.35  2.75\n",
       "5   0.24  Very Good     J    VVS2   62.8   57.0    336  3.94  3.96  2.48\n",
       "6   0.24  Very Good     I    VVS1   62.3   57.0    336  3.95  3.98  2.47\n",
       "7   0.26  Very Good     H     SI1   61.9   55.0    337  4.07  4.11  2.53\n",
       "8   0.22       Fair     E     VS2   65.1   61.0    337  3.87  3.78  2.49\n",
       "9   0.23  Very Good     H     VS1   59.4   61.0    338  4.00  4.05  2.39"
      ]
     },
     "execution_count": 36,
     "metadata": {},
     "output_type": "execute_result"
    }
   ],
   "source": [
    "df = sns.load_dataset('diamonds')\n",
    "\n",
    "df.head(10)"
   ]
  },
  {
   "cell_type": "markdown",
   "metadata": {},
   "source": [
    "Выведем информацию о датасете:"
   ]
  },
  {
   "cell_type": "code",
   "execution_count": 21,
   "metadata": {},
   "outputs": [
    {
     "data": {
      "text/plain": [
       "carat      0\n",
       "cut        0\n",
       "color      0\n",
       "clarity    0\n",
       "depth      0\n",
       "table      0\n",
       "price      0\n",
       "x          0\n",
       "y          0\n",
       "z          0\n",
       "dtype: int64"
      ]
     },
     "execution_count": 21,
     "metadata": {},
     "output_type": "execute_result"
    }
   ],
   "source": [
    "df.isna().sum()"
   ]
  },
  {
   "cell_type": "code",
   "execution_count": 22,
   "metadata": {},
   "outputs": [
    {
     "data": {
      "text/plain": [
       "(53940, 10)"
      ]
     },
     "execution_count": 22,
     "metadata": {},
     "output_type": "execute_result"
    }
   ],
   "source": [
    "df.shape"
   ]
  },
  {
   "cell_type": "code",
   "execution_count": 24,
   "metadata": {},
   "outputs": [
    {
     "data": {
      "text/html": [
       "<div>\n",
       "<style scoped>\n",
       "    .dataframe tbody tr th:only-of-type {\n",
       "        vertical-align: middle;\n",
       "    }\n",
       "\n",
       "    .dataframe tbody tr th {\n",
       "        vertical-align: top;\n",
       "    }\n",
       "\n",
       "    .dataframe thead th {\n",
       "        text-align: right;\n",
       "    }\n",
       "</style>\n",
       "<table border=\"1\" class=\"dataframe\">\n",
       "  <thead>\n",
       "    <tr style=\"text-align: right;\">\n",
       "      <th></th>\n",
       "      <th>carat</th>\n",
       "      <th>depth</th>\n",
       "      <th>table</th>\n",
       "      <th>price</th>\n",
       "      <th>x</th>\n",
       "      <th>y</th>\n",
       "      <th>z</th>\n",
       "    </tr>\n",
       "  </thead>\n",
       "  <tbody>\n",
       "    <tr>\n",
       "      <td>count</td>\n",
       "      <td>53940.000000</td>\n",
       "      <td>53940.000000</td>\n",
       "      <td>53940.000000</td>\n",
       "      <td>53940.000000</td>\n",
       "      <td>53940.000000</td>\n",
       "      <td>53940.000000</td>\n",
       "      <td>53940.000000</td>\n",
       "    </tr>\n",
       "    <tr>\n",
       "      <td>mean</td>\n",
       "      <td>0.797940</td>\n",
       "      <td>61.749405</td>\n",
       "      <td>57.457184</td>\n",
       "      <td>3932.799722</td>\n",
       "      <td>5.731157</td>\n",
       "      <td>5.734526</td>\n",
       "      <td>3.538734</td>\n",
       "    </tr>\n",
       "    <tr>\n",
       "      <td>std</td>\n",
       "      <td>0.474011</td>\n",
       "      <td>1.432621</td>\n",
       "      <td>2.234491</td>\n",
       "      <td>3989.439738</td>\n",
       "      <td>1.121761</td>\n",
       "      <td>1.142135</td>\n",
       "      <td>0.705699</td>\n",
       "    </tr>\n",
       "    <tr>\n",
       "      <td>min</td>\n",
       "      <td>0.200000</td>\n",
       "      <td>43.000000</td>\n",
       "      <td>43.000000</td>\n",
       "      <td>326.000000</td>\n",
       "      <td>0.000000</td>\n",
       "      <td>0.000000</td>\n",
       "      <td>0.000000</td>\n",
       "    </tr>\n",
       "    <tr>\n",
       "      <td>25%</td>\n",
       "      <td>0.400000</td>\n",
       "      <td>61.000000</td>\n",
       "      <td>56.000000</td>\n",
       "      <td>950.000000</td>\n",
       "      <td>4.710000</td>\n",
       "      <td>4.720000</td>\n",
       "      <td>2.910000</td>\n",
       "    </tr>\n",
       "    <tr>\n",
       "      <td>50%</td>\n",
       "      <td>0.700000</td>\n",
       "      <td>61.800000</td>\n",
       "      <td>57.000000</td>\n",
       "      <td>2401.000000</td>\n",
       "      <td>5.700000</td>\n",
       "      <td>5.710000</td>\n",
       "      <td>3.530000</td>\n",
       "    </tr>\n",
       "    <tr>\n",
       "      <td>75%</td>\n",
       "      <td>1.040000</td>\n",
       "      <td>62.500000</td>\n",
       "      <td>59.000000</td>\n",
       "      <td>5324.250000</td>\n",
       "      <td>6.540000</td>\n",
       "      <td>6.540000</td>\n",
       "      <td>4.040000</td>\n",
       "    </tr>\n",
       "    <tr>\n",
       "      <td>max</td>\n",
       "      <td>5.010000</td>\n",
       "      <td>79.000000</td>\n",
       "      <td>95.000000</td>\n",
       "      <td>18823.000000</td>\n",
       "      <td>10.740000</td>\n",
       "      <td>58.900000</td>\n",
       "      <td>31.800000</td>\n",
       "    </tr>\n",
       "  </tbody>\n",
       "</table>\n",
       "</div>"
      ],
      "text/plain": [
       "              carat         depth         table         price             x  \\\n",
       "count  53940.000000  53940.000000  53940.000000  53940.000000  53940.000000   \n",
       "mean       0.797940     61.749405     57.457184   3932.799722      5.731157   \n",
       "std        0.474011      1.432621      2.234491   3989.439738      1.121761   \n",
       "min        0.200000     43.000000     43.000000    326.000000      0.000000   \n",
       "25%        0.400000     61.000000     56.000000    950.000000      4.710000   \n",
       "50%        0.700000     61.800000     57.000000   2401.000000      5.700000   \n",
       "75%        1.040000     62.500000     59.000000   5324.250000      6.540000   \n",
       "max        5.010000     79.000000     95.000000  18823.000000     10.740000   \n",
       "\n",
       "                  y             z  \n",
       "count  53940.000000  53940.000000  \n",
       "mean       5.734526      3.538734  \n",
       "std        1.142135      0.705699  \n",
       "min        0.000000      0.000000  \n",
       "25%        4.720000      2.910000  \n",
       "50%        5.710000      3.530000  \n",
       "75%        6.540000      4.040000  \n",
       "max       58.900000     31.800000  "
      ]
     },
     "execution_count": 24,
     "metadata": {},
     "output_type": "execute_result"
    }
   ],
   "source": [
    "df.describe()"
   ]
  },
  {
   "cell_type": "code",
   "execution_count": 25,
   "metadata": {},
   "outputs": [
    {
     "data": {
      "text/html": [
       "<div>\n",
       "<style scoped>\n",
       "    .dataframe tbody tr th:only-of-type {\n",
       "        vertical-align: middle;\n",
       "    }\n",
       "\n",
       "    .dataframe tbody tr th {\n",
       "        vertical-align: top;\n",
       "    }\n",
       "\n",
       "    .dataframe thead th {\n",
       "        text-align: right;\n",
       "    }\n",
       "</style>\n",
       "<table border=\"1\" class=\"dataframe\">\n",
       "  <thead>\n",
       "    <tr style=\"text-align: right;\">\n",
       "      <th></th>\n",
       "      <th>cut</th>\n",
       "      <th>color</th>\n",
       "      <th>clarity</th>\n",
       "    </tr>\n",
       "  </thead>\n",
       "  <tbody>\n",
       "    <tr>\n",
       "      <td>count</td>\n",
       "      <td>53940</td>\n",
       "      <td>53940</td>\n",
       "      <td>53940</td>\n",
       "    </tr>\n",
       "    <tr>\n",
       "      <td>unique</td>\n",
       "      <td>5</td>\n",
       "      <td>7</td>\n",
       "      <td>8</td>\n",
       "    </tr>\n",
       "    <tr>\n",
       "      <td>top</td>\n",
       "      <td>Ideal</td>\n",
       "      <td>G</td>\n",
       "      <td>SI1</td>\n",
       "    </tr>\n",
       "    <tr>\n",
       "      <td>freq</td>\n",
       "      <td>21551</td>\n",
       "      <td>11292</td>\n",
       "      <td>13065</td>\n",
       "    </tr>\n",
       "  </tbody>\n",
       "</table>\n",
       "</div>"
      ],
      "text/plain": [
       "          cut  color clarity\n",
       "count   53940  53940   53940\n",
       "unique      5      7       8\n",
       "top     Ideal      G     SI1\n",
       "freq    21551  11292   13065"
      ]
     },
     "execution_count": 25,
     "metadata": {},
     "output_type": "execute_result"
    }
   ],
   "source": [
    "df.describe(include=['object'])"
   ]
  },
  {
   "cell_type": "markdown",
   "metadata": {},
   "source": [
    "Удалим колонки, с которыми не будем работать в данном семинаре:"
   ]
  },
  {
   "cell_type": "code",
   "execution_count": 26,
   "metadata": {},
   "outputs": [],
   "source": [
    "df.drop(['depth', 'table', 'x', 'y', 'z'], axis=1, inplace=True)"
   ]
  },
  {
   "cell_type": "markdown",
   "metadata": {},
   "source": [
    "Логарифмируем признаки со слишком разным диапазоном значений:"
   ]
  },
  {
   "cell_type": "code",
   "execution_count": 27,
   "metadata": {},
   "outputs": [],
   "source": [
    "df['carat'] = np.log(1+df['carat'])\n",
    "df['price'] = np.log(1+df['price'])"
   ]
  },
  {
   "cell_type": "markdown",
   "metadata": {},
   "source": [
    "Закодируем категориальные признаки:"
   ]
  },
  {
   "cell_type": "code",
   "execution_count": 28,
   "metadata": {},
   "outputs": [
    {
     "data": {
      "text/html": [
       "<div>\n",
       "<style scoped>\n",
       "    .dataframe tbody tr th:only-of-type {\n",
       "        vertical-align: middle;\n",
       "    }\n",
       "\n",
       "    .dataframe tbody tr th {\n",
       "        vertical-align: top;\n",
       "    }\n",
       "\n",
       "    .dataframe thead th {\n",
       "        text-align: right;\n",
       "    }\n",
       "</style>\n",
       "<table border=\"1\" class=\"dataframe\">\n",
       "  <thead>\n",
       "    <tr style=\"text-align: right;\">\n",
       "      <th></th>\n",
       "      <th>carat</th>\n",
       "      <th>price</th>\n",
       "      <th>cut_Good</th>\n",
       "      <th>cut_Ideal</th>\n",
       "      <th>cut_Premium</th>\n",
       "      <th>cut_Very Good</th>\n",
       "      <th>color_E</th>\n",
       "      <th>color_F</th>\n",
       "      <th>color_G</th>\n",
       "      <th>color_H</th>\n",
       "      <th>color_I</th>\n",
       "      <th>color_J</th>\n",
       "      <th>clarity_IF</th>\n",
       "      <th>clarity_SI1</th>\n",
       "      <th>clarity_SI2</th>\n",
       "      <th>clarity_VS1</th>\n",
       "      <th>clarity_VS2</th>\n",
       "      <th>clarity_VVS1</th>\n",
       "      <th>clarity_VVS2</th>\n",
       "    </tr>\n",
       "  </thead>\n",
       "  <tbody>\n",
       "    <tr>\n",
       "      <td>0</td>\n",
       "      <td>0.207014</td>\n",
       "      <td>5.789960</td>\n",
       "      <td>0</td>\n",
       "      <td>1</td>\n",
       "      <td>0</td>\n",
       "      <td>0</td>\n",
       "      <td>1</td>\n",
       "      <td>0</td>\n",
       "      <td>0</td>\n",
       "      <td>0</td>\n",
       "      <td>0</td>\n",
       "      <td>0</td>\n",
       "      <td>0</td>\n",
       "      <td>0</td>\n",
       "      <td>1</td>\n",
       "      <td>0</td>\n",
       "      <td>0</td>\n",
       "      <td>0</td>\n",
       "      <td>0</td>\n",
       "    </tr>\n",
       "    <tr>\n",
       "      <td>1</td>\n",
       "      <td>0.190620</td>\n",
       "      <td>5.789960</td>\n",
       "      <td>0</td>\n",
       "      <td>0</td>\n",
       "      <td>1</td>\n",
       "      <td>0</td>\n",
       "      <td>1</td>\n",
       "      <td>0</td>\n",
       "      <td>0</td>\n",
       "      <td>0</td>\n",
       "      <td>0</td>\n",
       "      <td>0</td>\n",
       "      <td>0</td>\n",
       "      <td>1</td>\n",
       "      <td>0</td>\n",
       "      <td>0</td>\n",
       "      <td>0</td>\n",
       "      <td>0</td>\n",
       "      <td>0</td>\n",
       "    </tr>\n",
       "    <tr>\n",
       "      <td>2</td>\n",
       "      <td>0.207014</td>\n",
       "      <td>5.793014</td>\n",
       "      <td>1</td>\n",
       "      <td>0</td>\n",
       "      <td>0</td>\n",
       "      <td>0</td>\n",
       "      <td>1</td>\n",
       "      <td>0</td>\n",
       "      <td>0</td>\n",
       "      <td>0</td>\n",
       "      <td>0</td>\n",
       "      <td>0</td>\n",
       "      <td>0</td>\n",
       "      <td>0</td>\n",
       "      <td>0</td>\n",
       "      <td>1</td>\n",
       "      <td>0</td>\n",
       "      <td>0</td>\n",
       "      <td>0</td>\n",
       "    </tr>\n",
       "    <tr>\n",
       "      <td>3</td>\n",
       "      <td>0.254642</td>\n",
       "      <td>5.814131</td>\n",
       "      <td>0</td>\n",
       "      <td>0</td>\n",
       "      <td>1</td>\n",
       "      <td>0</td>\n",
       "      <td>0</td>\n",
       "      <td>0</td>\n",
       "      <td>0</td>\n",
       "      <td>0</td>\n",
       "      <td>1</td>\n",
       "      <td>0</td>\n",
       "      <td>0</td>\n",
       "      <td>0</td>\n",
       "      <td>0</td>\n",
       "      <td>0</td>\n",
       "      <td>1</td>\n",
       "      <td>0</td>\n",
       "      <td>0</td>\n",
       "    </tr>\n",
       "    <tr>\n",
       "      <td>4</td>\n",
       "      <td>0.270027</td>\n",
       "      <td>5.817111</td>\n",
       "      <td>1</td>\n",
       "      <td>0</td>\n",
       "      <td>0</td>\n",
       "      <td>0</td>\n",
       "      <td>0</td>\n",
       "      <td>0</td>\n",
       "      <td>0</td>\n",
       "      <td>0</td>\n",
       "      <td>0</td>\n",
       "      <td>1</td>\n",
       "      <td>0</td>\n",
       "      <td>0</td>\n",
       "      <td>1</td>\n",
       "      <td>0</td>\n",
       "      <td>0</td>\n",
       "      <td>0</td>\n",
       "      <td>0</td>\n",
       "    </tr>\n",
       "  </tbody>\n",
       "</table>\n",
       "</div>"
      ],
      "text/plain": [
       "      carat     price  cut_Good  cut_Ideal  cut_Premium  cut_Very Good  \\\n",
       "0  0.207014  5.789960         0          1            0              0   \n",
       "1  0.190620  5.789960         0          0            1              0   \n",
       "2  0.207014  5.793014         1          0            0              0   \n",
       "3  0.254642  5.814131         0          0            1              0   \n",
       "4  0.270027  5.817111         1          0            0              0   \n",
       "\n",
       "   color_E  color_F  color_G  color_H  color_I  color_J  clarity_IF  \\\n",
       "0        1        0        0        0        0        0           0   \n",
       "1        1        0        0        0        0        0           0   \n",
       "2        1        0        0        0        0        0           0   \n",
       "3        0        0        0        0        1        0           0   \n",
       "4        0        0        0        0        0        1           0   \n",
       "\n",
       "   clarity_SI1  clarity_SI2  clarity_VS1  clarity_VS2  clarity_VVS1  \\\n",
       "0            0            1            0            0             0   \n",
       "1            1            0            0            0             0   \n",
       "2            0            0            1            0             0   \n",
       "3            0            0            0            1             0   \n",
       "4            0            1            0            0             0   \n",
       "\n",
       "   clarity_VVS2  \n",
       "0             0  \n",
       "1             0  \n",
       "2             0  \n",
       "3             0  \n",
       "4             0  "
      ]
     },
     "execution_count": 28,
     "metadata": {},
     "output_type": "execute_result"
    }
   ],
   "source": [
    "df = pd.get_dummies(df, drop_first=True) \n",
    "df.head()"
   ]
  },
  {
   "cell_type": "markdown",
   "metadata": {},
   "source": [
    "Разделим данные на обучающую и тестовую выборки:"
   ]
  },
  {
   "cell_type": "code",
   "execution_count": 30,
   "metadata": {
    "colab": {
     "base_uri": "https://localhost:8080/",
     "height": 234
    },
    "id": "8D1-bB8_Kqta",
    "outputId": "8a39de81-e78f-48b9-ad01-27e802f94ccb"
   },
   "outputs": [
    {
     "data": {
      "text/html": [
       "<div>\n",
       "<style scoped>\n",
       "    .dataframe tbody tr th:only-of-type {\n",
       "        vertical-align: middle;\n",
       "    }\n",
       "\n",
       "    .dataframe tbody tr th {\n",
       "        vertical-align: top;\n",
       "    }\n",
       "\n",
       "    .dataframe thead th {\n",
       "        text-align: right;\n",
       "    }\n",
       "</style>\n",
       "<table border=\"1\" class=\"dataframe\">\n",
       "  <thead>\n",
       "    <tr style=\"text-align: right;\">\n",
       "      <th></th>\n",
       "      <th>carat</th>\n",
       "      <th>cut_Good</th>\n",
       "      <th>cut_Ideal</th>\n",
       "      <th>cut_Premium</th>\n",
       "      <th>cut_Very Good</th>\n",
       "      <th>color_E</th>\n",
       "      <th>color_F</th>\n",
       "      <th>color_G</th>\n",
       "      <th>color_H</th>\n",
       "      <th>color_I</th>\n",
       "      <th>color_J</th>\n",
       "      <th>clarity_IF</th>\n",
       "      <th>clarity_SI1</th>\n",
       "      <th>clarity_SI2</th>\n",
       "      <th>clarity_VS1</th>\n",
       "      <th>clarity_VS2</th>\n",
       "      <th>clarity_VVS1</th>\n",
       "      <th>clarity_VVS2</th>\n",
       "    </tr>\n",
       "  </thead>\n",
       "  <tbody>\n",
       "    <tr>\n",
       "      <td>0</td>\n",
       "      <td>0.207014</td>\n",
       "      <td>0</td>\n",
       "      <td>1</td>\n",
       "      <td>0</td>\n",
       "      <td>0</td>\n",
       "      <td>1</td>\n",
       "      <td>0</td>\n",
       "      <td>0</td>\n",
       "      <td>0</td>\n",
       "      <td>0</td>\n",
       "      <td>0</td>\n",
       "      <td>0</td>\n",
       "      <td>0</td>\n",
       "      <td>1</td>\n",
       "      <td>0</td>\n",
       "      <td>0</td>\n",
       "      <td>0</td>\n",
       "      <td>0</td>\n",
       "    </tr>\n",
       "    <tr>\n",
       "      <td>1</td>\n",
       "      <td>0.190620</td>\n",
       "      <td>0</td>\n",
       "      <td>0</td>\n",
       "      <td>1</td>\n",
       "      <td>0</td>\n",
       "      <td>1</td>\n",
       "      <td>0</td>\n",
       "      <td>0</td>\n",
       "      <td>0</td>\n",
       "      <td>0</td>\n",
       "      <td>0</td>\n",
       "      <td>0</td>\n",
       "      <td>1</td>\n",
       "      <td>0</td>\n",
       "      <td>0</td>\n",
       "      <td>0</td>\n",
       "      <td>0</td>\n",
       "      <td>0</td>\n",
       "    </tr>\n",
       "    <tr>\n",
       "      <td>2</td>\n",
       "      <td>0.207014</td>\n",
       "      <td>1</td>\n",
       "      <td>0</td>\n",
       "      <td>0</td>\n",
       "      <td>0</td>\n",
       "      <td>1</td>\n",
       "      <td>0</td>\n",
       "      <td>0</td>\n",
       "      <td>0</td>\n",
       "      <td>0</td>\n",
       "      <td>0</td>\n",
       "      <td>0</td>\n",
       "      <td>0</td>\n",
       "      <td>0</td>\n",
       "      <td>1</td>\n",
       "      <td>0</td>\n",
       "      <td>0</td>\n",
       "      <td>0</td>\n",
       "    </tr>\n",
       "    <tr>\n",
       "      <td>3</td>\n",
       "      <td>0.254642</td>\n",
       "      <td>0</td>\n",
       "      <td>0</td>\n",
       "      <td>1</td>\n",
       "      <td>0</td>\n",
       "      <td>0</td>\n",
       "      <td>0</td>\n",
       "      <td>0</td>\n",
       "      <td>0</td>\n",
       "      <td>1</td>\n",
       "      <td>0</td>\n",
       "      <td>0</td>\n",
       "      <td>0</td>\n",
       "      <td>0</td>\n",
       "      <td>0</td>\n",
       "      <td>1</td>\n",
       "      <td>0</td>\n",
       "      <td>0</td>\n",
       "    </tr>\n",
       "    <tr>\n",
       "      <td>4</td>\n",
       "      <td>0.270027</td>\n",
       "      <td>1</td>\n",
       "      <td>0</td>\n",
       "      <td>0</td>\n",
       "      <td>0</td>\n",
       "      <td>0</td>\n",
       "      <td>0</td>\n",
       "      <td>0</td>\n",
       "      <td>0</td>\n",
       "      <td>0</td>\n",
       "      <td>1</td>\n",
       "      <td>0</td>\n",
       "      <td>0</td>\n",
       "      <td>1</td>\n",
       "      <td>0</td>\n",
       "      <td>0</td>\n",
       "      <td>0</td>\n",
       "      <td>0</td>\n",
       "    </tr>\n",
       "  </tbody>\n",
       "</table>\n",
       "</div>"
      ],
      "text/plain": [
       "      carat  cut_Good  cut_Ideal  cut_Premium  cut_Very Good  color_E  \\\n",
       "0  0.207014         0          1            0              0        1   \n",
       "1  0.190620         0          0            1              0        1   \n",
       "2  0.207014         1          0            0              0        1   \n",
       "3  0.254642         0          0            1              0        0   \n",
       "4  0.270027         1          0            0              0        0   \n",
       "\n",
       "   color_F  color_G  color_H  color_I  color_J  clarity_IF  clarity_SI1  \\\n",
       "0        0        0        0        0        0           0            0   \n",
       "1        0        0        0        0        0           0            1   \n",
       "2        0        0        0        0        0           0            0   \n",
       "3        0        0        0        1        0           0            0   \n",
       "4        0        0        0        0        1           0            0   \n",
       "\n",
       "   clarity_SI2  clarity_VS1  clarity_VS2  clarity_VVS1  clarity_VVS2  \n",
       "0            1            0            0             0             0  \n",
       "1            0            0            0             0             0  \n",
       "2            0            1            0             0             0  \n",
       "3            0            0            1             0             0  \n",
       "4            1            0            0             0             0  "
      ]
     },
     "execution_count": 30,
     "metadata": {},
     "output_type": "execute_result"
    }
   ],
   "source": [
    "X_cols = [col for col in df.columns if col!='price'] \n",
    "X = df[X_cols]\n",
    "y = df['price']\n",
    "X.head()"
   ]
  },
  {
   "cell_type": "code",
   "execution_count": 32,
   "metadata": {},
   "outputs": [],
   "source": [
    "X_train, X_test, y_train, y_test = train_test_split(\n",
    "    X, y, test_size=0.33, random_state=42)"
   ]
  },
  {
   "cell_type": "code",
   "execution_count": 34,
   "metadata": {
    "colab": {
     "base_uri": "https://localhost:8080/"
    },
    "id": "CADaWWJzKqtn",
    "outputId": "170075c9-a038-42ff-aec4-6a04e6f3a149"
   },
   "outputs": [
    {
     "data": {
      "text/plain": [
       "0.9554217920031134"
      ]
     },
     "execution_count": 34,
     "metadata": {},
     "output_type": "execute_result"
    }
   ],
   "source": [
    "from sklearn.linear_model import SGDRegressor\n",
    "\n",
    "# your code here\n",
    "sgd = SGDRegressor(random_state=42)\n",
    "sgd.fit(X_train, y_train)\n",
    "sgd.score(X_train, y_train) #r2"
   ]
  },
  {
   "cell_type": "code",
   "execution_count": 35,
   "metadata": {},
   "outputs": [
    {
     "data": {
      "text/plain": [
       "0.9557773437484368"
      ]
     },
     "execution_count": 35,
     "metadata": {},
     "output_type": "execute_result"
    }
   ],
   "source": [
    "sgd.score(X_test, y_test)"
   ]
  },
  {
   "cell_type": "markdown",
   "metadata": {
    "id": "BMsKFIoYKqtu"
   },
   "source": [
    "GridSearchCV помогает перебрать  предопределенные гиперпараметры и найти наиболее подходящие для Вашей модели. В дополнение к этому Вы можете указать количество сплитов кросс-валидации для каждого набора гиперпараметров и посмотреть на результаты.\n",
    "\n",
    "<img src=\"https://i.pinimg.com/originals/9a/48/c4/9a48c43e09471c801df96f92ba56619f.png\" width=700>\n"
   ]
  },
  {
   "cell_type": "code",
   "execution_count": null,
   "metadata": {
    "colab": {
     "base_uri": "https://localhost:8080/"
    },
    "id": "9gy6zPpkKqtv",
    "outputId": "44ee950e-a0c4-4075-94b5-b17184a418b1"
   },
   "outputs": [
    {
     "data": {
      "text/plain": [
       "GridSearchCV(cv=3, error_score=nan,\n",
       "             estimator=SGDRegressor(alpha=0.0001, average=False,\n",
       "                                    early_stopping=True, epsilon=0.1, eta0=0.01,\n",
       "                                    fit_intercept=True, l1_ratio=0.15,\n",
       "                                    learning_rate='invscaling',\n",
       "                                    loss='squared_loss', max_iter=1000,\n",
       "                                    n_iter_no_change=5, penalty='l2',\n",
       "                                    power_t=0.25, random_state=42, shuffle=True,\n",
       "                                    tol=0.001, validation_fraction=0.1,\n",
       "                                    verbose=0, warm_start=F...\n",
       "       2.68269580e+00, 7.19685673e+00, 1.93069773e+01, 5.17947468e+01,\n",
       "       1.38949549e+02, 3.72759372e+02, 1.00000000e+03]),\n",
       "                         'l1_ratio': array([0. , 0.1, 0.2, 0.3, 0.4, 0.5, 0.6, 0.7, 0.8, 0.9, 1. ]),\n",
       "                         'learning_rate': ['constant'],\n",
       "                         'loss': ['squared_loss', 'epsilon_insensitive'],\n",
       "                         'penalty': ['elasticnet']},\n",
       "             pre_dispatch='2*n_jobs', refit=True, return_train_score=False,\n",
       "             scoring='neg_root_mean_squared_error', verbose=0)"
      ]
     },
     "execution_count": 52,
     "metadata": {
      "tags": []
     },
     "output_type": "execute_result"
    }
   ],
   "source": [
    "from sklearn.model_selection import GridSearchCV\n",
    "\n",
    "parameters = {\n",
    "    'learning_rate': ['constant'],\n",
    "    #'eta0': np.logspace(-4,-1,4),\n",
    "    #'max_iter': np.logspace(0,3,10),\n",
    "    'loss': ['squared_loss', 'epsilon_insensitive'],\n",
    "    'penalty': ['elasticnet'], \n",
    "    'alpha': np.logspace(-3,3,15),\n",
    "    'l1_ratio': np.linspace(0,1,11),\n",
    "    }\n",
    "\n",
    "scoring = 'neg_root_mean_squared_error'\n",
    "sgd = SGDRegressor(random_state=42, early_stopping=True)\n",
    "sgd_cv = GridSearchCV(\n",
    "    estimator=sgd, \n",
    "    param_grid=parameters, \n",
    "    scoring=scoring, \n",
    "    n_jobs=-1,\n",
    "    cv=3\n",
    ")\n",
    "\n",
    "sgd_cv.fit(X,y)"
   ]
  },
  {
   "cell_type": "code",
   "execution_count": null,
   "metadata": {
    "colab": {
     "base_uri": "https://localhost:8080/"
    },
    "id": "nRRkaA3smCtN",
    "outputId": "bc5c12fa-07fe-4c57-981b-fc7e6aed5db7"
   },
   "outputs": [
    {
     "data": {
      "text/plain": [
       "{'alpha': 0.0026826957952797246,\n",
       " 'l1_ratio': 1.0,\n",
       " 'learning_rate': 'constant',\n",
       " 'loss': 'epsilon_insensitive',\n",
       " 'penalty': 'elasticnet'}"
      ]
     },
     "execution_count": 53,
     "metadata": {
      "tags": []
     },
     "output_type": "execute_result"
    }
   ],
   "source": [
    "sgd_cv.best_params_"
   ]
  },
  {
   "cell_type": "code",
   "execution_count": null,
   "metadata": {
    "colab": {
     "base_uri": "https://localhost:8080/"
    },
    "id": "L_3705fAmVZG",
    "outputId": "975095ef-7e42-4137-8185-0de0f251fe26"
   },
   "outputs": [
    {
     "data": {
      "text/plain": [
       "GridSearchCV(cv=3, error_score=nan,\n",
       "             estimator=SGDRegressor(alpha=0.0001, average=False,\n",
       "                                    early_stopping=True, epsilon=0.1, eta0=0.01,\n",
       "                                    fit_intercept=True, l1_ratio=0.15,\n",
       "                                    learning_rate='invscaling',\n",
       "                                    loss='squared_loss', max_iter=1000,\n",
       "                                    n_iter_no_change=5, penalty='l2',\n",
       "                                    power_t=0.25, random_state=42, shuffle=True,\n",
       "                                    tol=0.001, validation_fraction=0.1,\n",
       "                                    verbose=0, warm_start=F...\n",
       "             param_grid={'alpha': [0.001],\n",
       "                         'eta0': array([0.001     , 0.00464159, 0.02154435, 0.1       ]),\n",
       "                         'l1_ratio': [0.8], 'loss': ['squared_loss'],\n",
       "                         'max_iter': array([   1.        ,    2.15443469,    4.64158883,   10.        ,\n",
       "         21.5443469 ,   46.41588834,  100.        ,  215.443469  ,\n",
       "        464.15888336, 1000.        ]),\n",
       "                         'penalty': ['elasticnet']},\n",
       "             pre_dispatch='2*n_jobs', refit=True, return_train_score=False,\n",
       "             scoring='neg_root_mean_squared_error', verbose=0)"
      ]
     },
     "execution_count": 54,
     "metadata": {
      "tags": []
     },
     "output_type": "execute_result"
    }
   ],
   "source": [
    "from sklearn.model_selection import GridSearchCV\n",
    "\n",
    "parameters = {\n",
    "    #'learning_rate': ['constant'],\n",
    "    'eta0': np.logspace(-3,-1,4),\n",
    "    'max_iter': np.logspace(0,3,10),\n",
    "    'loss': ['squared_loss'],\n",
    "    'penalty': ['elasticnet'], \n",
    "    'alpha': [0.001],\n",
    "    'l1_ratio': [0.8],\n",
    "    }\n",
    "\n",
    "scoring = 'neg_root_mean_squared_error'\n",
    "sgd = SGDRegressor(random_state=42, early_stopping=True)\n",
    "sgd_cv = GridSearchCV(\n",
    "    estimator=sgd, \n",
    "    param_grid=parameters, \n",
    "    scoring=scoring, \n",
    "    n_jobs=-1,\n",
    "    cv=3\n",
    ")\n",
    "\n",
    "sgd_cv.fit(X,y)"
   ]
  },
  {
   "cell_type": "code",
   "execution_count": null,
   "metadata": {
    "id": "CXd0OAB0oNlz"
   },
   "outputs": [],
   "source": []
  }
 ],
 "metadata": {
  "colab": {
   "collapsed_sections": [],
   "name": "31_ml_grad_descent_pt1.ipynb",
   "provenance": [],
   "toc_visible": true
  },
  "kernelspec": {
   "display_name": "Python 3",
   "language": "python",
   "name": "python3"
  },
  "language_info": {
   "codemirror_mode": {
    "name": "ipython",
    "version": 3
   },
   "file_extension": ".py",
   "mimetype": "text/x-python",
   "name": "python",
   "nbconvert_exporter": "python",
   "pygments_lexer": "ipython3",
   "version": "3.6.6"
  },
  "toc": {
   "base_numbering": 1,
   "nav_menu": {},
   "number_sections": true,
   "sideBar": true,
   "skip_h1_title": false,
   "title_cell": "Table of Contents",
   "title_sidebar": "Contents",
   "toc_cell": true,
   "toc_position": {},
   "toc_section_display": true,
   "toc_window_display": true
  }
 },
 "nbformat": 4,
 "nbformat_minor": 1
}
