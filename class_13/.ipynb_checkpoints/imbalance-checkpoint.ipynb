{
 "cells": [
  {
   "cell_type": "markdown",
   "metadata": {
    "id": "PjNn3M4SfoF1",
    "toc": true
   },
   "source": [
    "<h1>Table of Contents<span class=\"tocSkip\"></span></h1>\n",
    "<div class=\"toc\"><ul class=\"toc-item\"><li><span><a href=\"#Несбалансированные-выборки\" data-toc-modified-id=\"Несбалансированные-выборки-1\"><span class=\"toc-item-num\">1&nbsp;&nbsp;</span>Несбалансированные выборки</a></span><ul class=\"toc-item\"><li><span><a href=\"#Детекция-мошенничества-по-транзакциям\" data-toc-modified-id=\"Детекция-мошенничества-по-транзакциям-1.1\"><span class=\"toc-item-num\">1.1&nbsp;&nbsp;</span>Детекция мошенничества по транзакциям</a></span></li><li><span><a href=\"#Получим-общее-представление-о-данных\" data-toc-modified-id=\"Получим-общее-представление-о-данных-1.2\"><span class=\"toc-item-num\">1.2&nbsp;&nbsp;</span>Получим общее представление о данных</a></span></li><li><span><a href=\"#Масштабирование\" data-toc-modified-id=\"Масштабирование-1.3\"><span class=\"toc-item-num\">1.3&nbsp;&nbsp;</span>Масштабирование</a></span><ul class=\"toc-item\"><li><span><a href=\"#Разбиваем-данные\" data-toc-modified-id=\"Разбиваем-данные-1.3.1\"><span class=\"toc-item-num\">1.3.1&nbsp;&nbsp;</span>Разбиваем данные</a></span></li></ul></li><li><span><a href=\"#Случайный-Undersampling:\" data-toc-modified-id=\"Случайный-Undersampling:-1.4\"><span class=\"toc-item-num\">1.4&nbsp;&nbsp;</span>Случайный Undersampling:</a></span><ul class=\"toc-item\"><li><span><a href=\"#Корреляционный-анализ\" data-toc-modified-id=\"Корреляционный-анализ-1.4.1\"><span class=\"toc-item-num\">1.4.1&nbsp;&nbsp;</span>Корреляционный анализ</a></span></li><li><span><a href=\"#Детекция-аномалий\" data-toc-modified-id=\"Детекция-аномалий-1.4.2\"><span class=\"toc-item-num\">1.4.2&nbsp;&nbsp;</span>Детекция аномалий</a></span></li><li><span><a href=\"#Применение-логистической-регрессии\" data-toc-modified-id=\"Применение-логистической-регрессии-1.4.3\"><span class=\"toc-item-num\">1.4.3&nbsp;&nbsp;</span>Применение логистической регрессии</a></span></li></ul></li><li><span><a href=\"#SMOTE\" data-toc-modified-id=\"SMOTE-1.5\"><span class=\"toc-item-num\">1.5&nbsp;&nbsp;</span>SMOTE</a></span><ul class=\"toc-item\"><li><span><a href=\"#Тестируем-результат\" data-toc-modified-id=\"Тестируем-результат-1.5.1\"><span class=\"toc-item-num\">1.5.1&nbsp;&nbsp;</span>Тестируем результат</a></span></li></ul></li></ul></li><li><span><a href=\"#Практика\" data-toc-modified-id=\"Практика-2\"><span class=\"toc-item-num\">2&nbsp;&nbsp;</span>Практика</a></span></li></ul></div>"
   ]
  },
  {
   "cell_type": "markdown",
   "metadata": {
    "id": "JhpcTWiQfoF2"
   },
   "source": [
    "## Несбалансированные выборки\n",
    "\n",
    "Сегодня мы продолжим заниматься классификацией и рассмотрим случай несбалансированной выборки."
   ]
  },
  {
   "cell_type": "markdown",
   "metadata": {
    "_cell_guid": "3689760c-41f8-4a33-9c96-3fd17803950e",
    "_uuid": "3e0ad409d438c7c68ea6a76700a1e964a357453f",
    "id": "rpVcf9M6foF2"
   },
   "source": [
    "### Детекция мошенничества по транзакциям\n",
    "\n",
    "Набор данных содержат транзакции, совершенные европейскими держателями кредитных карт в сентябре 2013 года.\n",
    "\n",
    "В этом наборе данных представлены транзакции, которые произошли за два дня, из которых у нас 492 мошенничества из 284 807 транзакций. Набор данных сильно несбалансирован, на положительный класс (мошенничество) приходится 0,172% всех транзакций.\n",
    "\n",
    "Он содержит только числовые входные переменные, которые являются результатом преобразования PCA. Из-за проблем с конфиденциальностью доплнительная информация о признаках не продоставлена. Признаки V1, V2,… V28 - это основные компоненты, полученные с помощью PCA, единственными признаками, которые не были преобразованы с помощью PCA, являются `Time` и `Amount`. `Time` содержит секунды, прошедшие между каждой транзакцией и первой транзакцией в наборе данных. `Amount` - это сумма транзакции. `Class` - это целевая переменная, которая принимает значение 1 в случае мошенничества и 0 в противном случае.\n",
    "\n",
    "\n",
    "**Что важно учесть?**\n",
    "* Никогда не тестируйте набор данных с оверсемплингом или андерсемплингом.\n",
    "* Если хотите использовать кросс-валидацию, не забудьте оверсемплить или андерсемплить выборку данных во время кросс-валидации, а не раньше!\n",
    "* Не используйте показатель точности (accuracy) в качестве метрики для несбалансированных наборов данных (обычно высокий и вводящий в заблуждение), вместо этого используйте показатель f1, показатель precision / recall или confusion matrix."
   ]
  },
  {
   "cell_type": "markdown",
   "metadata": {
    "_cell_guid": "ae8dd7f3-80a7-4db9-a132-823b0e48c041",
    "_uuid": "c999e5f1ac81513263d83883008f2844209e9e07",
    "id": "cPAC8TQMfoF2"
   },
   "source": [
    "### Получим общее представление о данных  "
   ]
  },
  {
   "cell_type": "code",
   "execution_count": 1,
   "metadata": {
    "id": "DSsDVIAAfoF3",
    "outputId": "14765909-0190-4f5e-ea1b-e2f5d5b1b94a"
   },
   "outputs": [
    {
     "name": "stdout",
     "output_type": "stream",
     "text": [
      "Requirement already satisfied: imblearn in /Users/a18509896/opt/anaconda3/lib/python3.7/site-packages (0.0)\n",
      "Requirement already satisfied: imbalanced-learn in /Users/a18509896/opt/anaconda3/lib/python3.7/site-packages (from imblearn) (0.7.0)\n",
      "Requirement already satisfied: scipy>=0.19.1 in /Users/a18509896/opt/anaconda3/lib/python3.7/site-packages (from imbalanced-learn->imblearn) (1.6.0)\n",
      "Requirement already satisfied: numpy>=1.13.3 in /Users/a18509896/opt/anaconda3/lib/python3.7/site-packages (from imbalanced-learn->imblearn) (1.19.4)\n",
      "Requirement already satisfied: joblib>=0.11 in /Users/a18509896/opt/anaconda3/lib/python3.7/site-packages (from imbalanced-learn->imblearn) (1.0.0)\n",
      "Requirement already satisfied: scikit-learn>=0.23 in /Users/a18509896/opt/anaconda3/lib/python3.7/site-packages (from imbalanced-learn->imblearn) (0.24.0)\n",
      "Requirement already satisfied: threadpoolctl>=2.0.0 in /Users/a18509896/opt/anaconda3/lib/python3.7/site-packages (from scikit-learn>=0.23->imbalanced-learn->imblearn) (2.1.0)\n"
     ]
    }
   ],
   "source": [
    "!pip3 install imblearn"
   ]
  },
  {
   "cell_type": "code",
   "execution_count": 2,
   "metadata": {
    "_cell_guid": "b1076dfc-b9ad-4769-8c92-a6c4dae69d19",
    "_uuid": "8f2839f25d086af736a60e9eeb907d3b93b6e0e5",
    "colab": {
     "base_uri": "https://localhost:8080/",
     "height": 568
    },
    "id": "MoArQu7QfoF5",
    "outputId": "80cc15e5-e1b9-4fb7-f7a5-16d914232151"
   },
   "outputs": [
    {
     "data": {
      "text/html": [
       "<div>\n",
       "<style scoped>\n",
       "    .dataframe tbody tr th:only-of-type {\n",
       "        vertical-align: middle;\n",
       "    }\n",
       "\n",
       "    .dataframe tbody tr th {\n",
       "        vertical-align: top;\n",
       "    }\n",
       "\n",
       "    .dataframe thead th {\n",
       "        text-align: right;\n",
       "    }\n",
       "</style>\n",
       "<table border=\"1\" class=\"dataframe\">\n",
       "  <thead>\n",
       "    <tr style=\"text-align: right;\">\n",
       "      <th></th>\n",
       "      <th>Time</th>\n",
       "      <th>V1</th>\n",
       "      <th>V2</th>\n",
       "      <th>V3</th>\n",
       "      <th>V4</th>\n",
       "      <th>V5</th>\n",
       "      <th>V6</th>\n",
       "      <th>V7</th>\n",
       "      <th>V8</th>\n",
       "      <th>V9</th>\n",
       "      <th>...</th>\n",
       "      <th>V21</th>\n",
       "      <th>V22</th>\n",
       "      <th>V23</th>\n",
       "      <th>V24</th>\n",
       "      <th>V25</th>\n",
       "      <th>V26</th>\n",
       "      <th>V27</th>\n",
       "      <th>V28</th>\n",
       "      <th>Amount</th>\n",
       "      <th>Class</th>\n",
       "    </tr>\n",
       "  </thead>\n",
       "  <tbody>\n",
       "    <tr>\n",
       "      <th>0</th>\n",
       "      <td>0.0</td>\n",
       "      <td>-1.359807</td>\n",
       "      <td>-0.072781</td>\n",
       "      <td>2.536347</td>\n",
       "      <td>1.378155</td>\n",
       "      <td>-0.338321</td>\n",
       "      <td>0.462388</td>\n",
       "      <td>0.239599</td>\n",
       "      <td>0.098698</td>\n",
       "      <td>0.363787</td>\n",
       "      <td>...</td>\n",
       "      <td>-0.018307</td>\n",
       "      <td>0.277838</td>\n",
       "      <td>-0.110474</td>\n",
       "      <td>0.066928</td>\n",
       "      <td>0.128539</td>\n",
       "      <td>-0.189115</td>\n",
       "      <td>0.133558</td>\n",
       "      <td>-0.021053</td>\n",
       "      <td>149.62</td>\n",
       "      <td>0</td>\n",
       "    </tr>\n",
       "    <tr>\n",
       "      <th>1</th>\n",
       "      <td>0.0</td>\n",
       "      <td>1.191857</td>\n",
       "      <td>0.266151</td>\n",
       "      <td>0.166480</td>\n",
       "      <td>0.448154</td>\n",
       "      <td>0.060018</td>\n",
       "      <td>-0.082361</td>\n",
       "      <td>-0.078803</td>\n",
       "      <td>0.085102</td>\n",
       "      <td>-0.255425</td>\n",
       "      <td>...</td>\n",
       "      <td>-0.225775</td>\n",
       "      <td>-0.638672</td>\n",
       "      <td>0.101288</td>\n",
       "      <td>-0.339846</td>\n",
       "      <td>0.167170</td>\n",
       "      <td>0.125895</td>\n",
       "      <td>-0.008983</td>\n",
       "      <td>0.014724</td>\n",
       "      <td>2.69</td>\n",
       "      <td>0</td>\n",
       "    </tr>\n",
       "    <tr>\n",
       "      <th>2</th>\n",
       "      <td>1.0</td>\n",
       "      <td>-1.358354</td>\n",
       "      <td>-1.340163</td>\n",
       "      <td>1.773209</td>\n",
       "      <td>0.379780</td>\n",
       "      <td>-0.503198</td>\n",
       "      <td>1.800499</td>\n",
       "      <td>0.791461</td>\n",
       "      <td>0.247676</td>\n",
       "      <td>-1.514654</td>\n",
       "      <td>...</td>\n",
       "      <td>0.247998</td>\n",
       "      <td>0.771679</td>\n",
       "      <td>0.909412</td>\n",
       "      <td>-0.689281</td>\n",
       "      <td>-0.327642</td>\n",
       "      <td>-0.139097</td>\n",
       "      <td>-0.055353</td>\n",
       "      <td>-0.059752</td>\n",
       "      <td>378.66</td>\n",
       "      <td>0</td>\n",
       "    </tr>\n",
       "    <tr>\n",
       "      <th>3</th>\n",
       "      <td>1.0</td>\n",
       "      <td>-0.966272</td>\n",
       "      <td>-0.185226</td>\n",
       "      <td>1.792993</td>\n",
       "      <td>-0.863291</td>\n",
       "      <td>-0.010309</td>\n",
       "      <td>1.247203</td>\n",
       "      <td>0.237609</td>\n",
       "      <td>0.377436</td>\n",
       "      <td>-1.387024</td>\n",
       "      <td>...</td>\n",
       "      <td>-0.108300</td>\n",
       "      <td>0.005274</td>\n",
       "      <td>-0.190321</td>\n",
       "      <td>-1.175575</td>\n",
       "      <td>0.647376</td>\n",
       "      <td>-0.221929</td>\n",
       "      <td>0.062723</td>\n",
       "      <td>0.061458</td>\n",
       "      <td>123.50</td>\n",
       "      <td>0</td>\n",
       "    </tr>\n",
       "    <tr>\n",
       "      <th>4</th>\n",
       "      <td>2.0</td>\n",
       "      <td>-1.158233</td>\n",
       "      <td>0.877737</td>\n",
       "      <td>1.548718</td>\n",
       "      <td>0.403034</td>\n",
       "      <td>-0.407193</td>\n",
       "      <td>0.095921</td>\n",
       "      <td>0.592941</td>\n",
       "      <td>-0.270533</td>\n",
       "      <td>0.817739</td>\n",
       "      <td>...</td>\n",
       "      <td>-0.009431</td>\n",
       "      <td>0.798278</td>\n",
       "      <td>-0.137458</td>\n",
       "      <td>0.141267</td>\n",
       "      <td>-0.206010</td>\n",
       "      <td>0.502292</td>\n",
       "      <td>0.219422</td>\n",
       "      <td>0.215153</td>\n",
       "      <td>69.99</td>\n",
       "      <td>0</td>\n",
       "    </tr>\n",
       "  </tbody>\n",
       "</table>\n",
       "<p>5 rows × 31 columns</p>\n",
       "</div>"
      ],
      "text/plain": [
       "   Time        V1        V2        V3        V4        V5        V6        V7  \\\n",
       "0   0.0 -1.359807 -0.072781  2.536347  1.378155 -0.338321  0.462388  0.239599   \n",
       "1   0.0  1.191857  0.266151  0.166480  0.448154  0.060018 -0.082361 -0.078803   \n",
       "2   1.0 -1.358354 -1.340163  1.773209  0.379780 -0.503198  1.800499  0.791461   \n",
       "3   1.0 -0.966272 -0.185226  1.792993 -0.863291 -0.010309  1.247203  0.237609   \n",
       "4   2.0 -1.158233  0.877737  1.548718  0.403034 -0.407193  0.095921  0.592941   \n",
       "\n",
       "         V8        V9  ...       V21       V22       V23       V24       V25  \\\n",
       "0  0.098698  0.363787  ... -0.018307  0.277838 -0.110474  0.066928  0.128539   \n",
       "1  0.085102 -0.255425  ... -0.225775 -0.638672  0.101288 -0.339846  0.167170   \n",
       "2  0.247676 -1.514654  ...  0.247998  0.771679  0.909412 -0.689281 -0.327642   \n",
       "3  0.377436 -1.387024  ... -0.108300  0.005274 -0.190321 -1.175575  0.647376   \n",
       "4 -0.270533  0.817739  ... -0.009431  0.798278 -0.137458  0.141267 -0.206010   \n",
       "\n",
       "        V26       V27       V28  Amount  Class  \n",
       "0 -0.189115  0.133558 -0.021053  149.62      0  \n",
       "1  0.125895 -0.008983  0.014724    2.69      0  \n",
       "2 -0.139097 -0.055353 -0.059752  378.66      0  \n",
       "3 -0.221929  0.062723  0.061458  123.50      0  \n",
       "4  0.502292  0.219422  0.215153   69.99      0  \n",
       "\n",
       "[5 rows x 31 columns]"
      ]
     },
     "execution_count": 2,
     "metadata": {},
     "output_type": "execute_result"
    }
   ],
   "source": [
    "import numpy as np \n",
    "import pandas as pd\n",
    "import matplotlib.pyplot as plt\n",
    "import seaborn as sns\n",
    "from sklearn.manifold import TSNE\n",
    "from sklearn.decomposition import PCA, TruncatedSVD\n",
    "import matplotlib.patches as mpatches\n",
    "import time\n",
    "\n",
    "from sklearn.linear_model import LogisticRegression\n",
    "import collections\n",
    "\n",
    "from sklearn.model_selection import train_test_split\n",
    "from sklearn.pipeline import make_pipeline\n",
    "from imblearn.pipeline import make_pipeline as imbalanced_make_pipeline\n",
    "from imblearn.over_sampling import SMOTE\n",
    "from imblearn.under_sampling import NearMiss\n",
    "from imblearn.metrics import classification_report_imbalanced\n",
    "from sklearn.metrics import precision_score, recall_score, f1_score, roc_auc_score,\\\n",
    "accuracy_score, classification_report\n",
    "from collections import Counter\n",
    "from sklearn.model_selection import KFold, StratifiedKFold\n",
    "import warnings\n",
    "warnings.filterwarnings(\"ignore\")\n",
    "\n",
    "\n",
    "df = pd.read_csv('creditcard.csv')\n",
    "df.head()"
   ]
  },
  {
   "cell_type": "code",
   "execution_count": null,
   "metadata": {
    "_cell_guid": "376ce881-463a-4a09-9ac0-c63f85577eec",
    "_kg_hide-input": true,
    "_uuid": "93031e732e5aca3a2b4984799d6bf58d76e4b52d",
    "id": "W3J2Am2dfoF7",
    "outputId": "149ef3ef-90ad-4e32-8657-d69e318f1bfa"
   },
   "outputs": [
    {
     "data": {
      "text/html": [
       "<div>\n",
       "<style scoped>\n",
       "    .dataframe tbody tr th:only-of-type {\n",
       "        vertical-align: middle;\n",
       "    }\n",
       "\n",
       "    .dataframe tbody tr th {\n",
       "        vertical-align: top;\n",
       "    }\n",
       "\n",
       "    .dataframe thead th {\n",
       "        text-align: right;\n",
       "    }\n",
       "</style>\n",
       "<table border=\"1\" class=\"dataframe\">\n",
       "  <thead>\n",
       "    <tr style=\"text-align: right;\">\n",
       "      <th></th>\n",
       "      <th>Time</th>\n",
       "      <th>V1</th>\n",
       "      <th>V2</th>\n",
       "      <th>V3</th>\n",
       "      <th>V4</th>\n",
       "      <th>V5</th>\n",
       "      <th>V6</th>\n",
       "      <th>V7</th>\n",
       "      <th>V8</th>\n",
       "      <th>V9</th>\n",
       "      <th>...</th>\n",
       "      <th>V21</th>\n",
       "      <th>V22</th>\n",
       "      <th>V23</th>\n",
       "      <th>V24</th>\n",
       "      <th>V25</th>\n",
       "      <th>V26</th>\n",
       "      <th>V27</th>\n",
       "      <th>V28</th>\n",
       "      <th>Amount</th>\n",
       "      <th>Class</th>\n",
       "    </tr>\n",
       "  </thead>\n",
       "  <tbody>\n",
       "    <tr>\n",
       "      <th>count</th>\n",
       "      <td>284807.000000</td>\n",
       "      <td>2.848070e+05</td>\n",
       "      <td>2.848070e+05</td>\n",
       "      <td>2.848070e+05</td>\n",
       "      <td>2.848070e+05</td>\n",
       "      <td>2.848070e+05</td>\n",
       "      <td>2.848070e+05</td>\n",
       "      <td>2.848070e+05</td>\n",
       "      <td>2.848070e+05</td>\n",
       "      <td>2.848070e+05</td>\n",
       "      <td>...</td>\n",
       "      <td>2.848070e+05</td>\n",
       "      <td>2.848070e+05</td>\n",
       "      <td>2.848070e+05</td>\n",
       "      <td>2.848070e+05</td>\n",
       "      <td>2.848070e+05</td>\n",
       "      <td>2.848070e+05</td>\n",
       "      <td>2.848070e+05</td>\n",
       "      <td>2.848070e+05</td>\n",
       "      <td>284807.000000</td>\n",
       "      <td>284807.000000</td>\n",
       "    </tr>\n",
       "    <tr>\n",
       "      <th>mean</th>\n",
       "      <td>94813.859575</td>\n",
       "      <td>1.165980e-15</td>\n",
       "      <td>3.416908e-16</td>\n",
       "      <td>-1.373150e-15</td>\n",
       "      <td>2.086869e-15</td>\n",
       "      <td>9.604066e-16</td>\n",
       "      <td>1.490107e-15</td>\n",
       "      <td>-5.556467e-16</td>\n",
       "      <td>1.177556e-16</td>\n",
       "      <td>-2.406455e-15</td>\n",
       "      <td>...</td>\n",
       "      <td>1.656562e-16</td>\n",
       "      <td>-3.444850e-16</td>\n",
       "      <td>2.578648e-16</td>\n",
       "      <td>4.471968e-15</td>\n",
       "      <td>5.340915e-16</td>\n",
       "      <td>1.687098e-15</td>\n",
       "      <td>-3.666453e-16</td>\n",
       "      <td>-1.220404e-16</td>\n",
       "      <td>88.349619</td>\n",
       "      <td>0.001727</td>\n",
       "    </tr>\n",
       "    <tr>\n",
       "      <th>std</th>\n",
       "      <td>47488.145955</td>\n",
       "      <td>1.958696e+00</td>\n",
       "      <td>1.651309e+00</td>\n",
       "      <td>1.516255e+00</td>\n",
       "      <td>1.415869e+00</td>\n",
       "      <td>1.380247e+00</td>\n",
       "      <td>1.332271e+00</td>\n",
       "      <td>1.237094e+00</td>\n",
       "      <td>1.194353e+00</td>\n",
       "      <td>1.098632e+00</td>\n",
       "      <td>...</td>\n",
       "      <td>7.345240e-01</td>\n",
       "      <td>7.257016e-01</td>\n",
       "      <td>6.244603e-01</td>\n",
       "      <td>6.056471e-01</td>\n",
       "      <td>5.212781e-01</td>\n",
       "      <td>4.822270e-01</td>\n",
       "      <td>4.036325e-01</td>\n",
       "      <td>3.300833e-01</td>\n",
       "      <td>250.120109</td>\n",
       "      <td>0.041527</td>\n",
       "    </tr>\n",
       "    <tr>\n",
       "      <th>min</th>\n",
       "      <td>0.000000</td>\n",
       "      <td>-5.640751e+01</td>\n",
       "      <td>-7.271573e+01</td>\n",
       "      <td>-4.832559e+01</td>\n",
       "      <td>-5.683171e+00</td>\n",
       "      <td>-1.137433e+02</td>\n",
       "      <td>-2.616051e+01</td>\n",
       "      <td>-4.355724e+01</td>\n",
       "      <td>-7.321672e+01</td>\n",
       "      <td>-1.343407e+01</td>\n",
       "      <td>...</td>\n",
       "      <td>-3.483038e+01</td>\n",
       "      <td>-1.093314e+01</td>\n",
       "      <td>-4.480774e+01</td>\n",
       "      <td>-2.836627e+00</td>\n",
       "      <td>-1.029540e+01</td>\n",
       "      <td>-2.604551e+00</td>\n",
       "      <td>-2.256568e+01</td>\n",
       "      <td>-1.543008e+01</td>\n",
       "      <td>0.000000</td>\n",
       "      <td>0.000000</td>\n",
       "    </tr>\n",
       "    <tr>\n",
       "      <th>25%</th>\n",
       "      <td>54201.500000</td>\n",
       "      <td>-9.203734e-01</td>\n",
       "      <td>-5.985499e-01</td>\n",
       "      <td>-8.903648e-01</td>\n",
       "      <td>-8.486401e-01</td>\n",
       "      <td>-6.915971e-01</td>\n",
       "      <td>-7.682956e-01</td>\n",
       "      <td>-5.540759e-01</td>\n",
       "      <td>-2.086297e-01</td>\n",
       "      <td>-6.430976e-01</td>\n",
       "      <td>...</td>\n",
       "      <td>-2.283949e-01</td>\n",
       "      <td>-5.423504e-01</td>\n",
       "      <td>-1.618463e-01</td>\n",
       "      <td>-3.545861e-01</td>\n",
       "      <td>-3.171451e-01</td>\n",
       "      <td>-3.269839e-01</td>\n",
       "      <td>-7.083953e-02</td>\n",
       "      <td>-5.295979e-02</td>\n",
       "      <td>5.600000</td>\n",
       "      <td>0.000000</td>\n",
       "    </tr>\n",
       "    <tr>\n",
       "      <th>50%</th>\n",
       "      <td>84692.000000</td>\n",
       "      <td>1.810880e-02</td>\n",
       "      <td>6.548556e-02</td>\n",
       "      <td>1.798463e-01</td>\n",
       "      <td>-1.984653e-02</td>\n",
       "      <td>-5.433583e-02</td>\n",
       "      <td>-2.741871e-01</td>\n",
       "      <td>4.010308e-02</td>\n",
       "      <td>2.235804e-02</td>\n",
       "      <td>-5.142873e-02</td>\n",
       "      <td>...</td>\n",
       "      <td>-2.945017e-02</td>\n",
       "      <td>6.781943e-03</td>\n",
       "      <td>-1.119293e-02</td>\n",
       "      <td>4.097606e-02</td>\n",
       "      <td>1.659350e-02</td>\n",
       "      <td>-5.213911e-02</td>\n",
       "      <td>1.342146e-03</td>\n",
       "      <td>1.124383e-02</td>\n",
       "      <td>22.000000</td>\n",
       "      <td>0.000000</td>\n",
       "    </tr>\n",
       "    <tr>\n",
       "      <th>75%</th>\n",
       "      <td>139320.500000</td>\n",
       "      <td>1.315642e+00</td>\n",
       "      <td>8.037239e-01</td>\n",
       "      <td>1.027196e+00</td>\n",
       "      <td>7.433413e-01</td>\n",
       "      <td>6.119264e-01</td>\n",
       "      <td>3.985649e-01</td>\n",
       "      <td>5.704361e-01</td>\n",
       "      <td>3.273459e-01</td>\n",
       "      <td>5.971390e-01</td>\n",
       "      <td>...</td>\n",
       "      <td>1.863772e-01</td>\n",
       "      <td>5.285536e-01</td>\n",
       "      <td>1.476421e-01</td>\n",
       "      <td>4.395266e-01</td>\n",
       "      <td>3.507156e-01</td>\n",
       "      <td>2.409522e-01</td>\n",
       "      <td>9.104512e-02</td>\n",
       "      <td>7.827995e-02</td>\n",
       "      <td>77.165000</td>\n",
       "      <td>0.000000</td>\n",
       "    </tr>\n",
       "    <tr>\n",
       "      <th>max</th>\n",
       "      <td>172792.000000</td>\n",
       "      <td>2.454930e+00</td>\n",
       "      <td>2.205773e+01</td>\n",
       "      <td>9.382558e+00</td>\n",
       "      <td>1.687534e+01</td>\n",
       "      <td>3.480167e+01</td>\n",
       "      <td>7.330163e+01</td>\n",
       "      <td>1.205895e+02</td>\n",
       "      <td>2.000721e+01</td>\n",
       "      <td>1.559499e+01</td>\n",
       "      <td>...</td>\n",
       "      <td>2.720284e+01</td>\n",
       "      <td>1.050309e+01</td>\n",
       "      <td>2.252841e+01</td>\n",
       "      <td>4.584549e+00</td>\n",
       "      <td>7.519589e+00</td>\n",
       "      <td>3.517346e+00</td>\n",
       "      <td>3.161220e+01</td>\n",
       "      <td>3.384781e+01</td>\n",
       "      <td>25691.160000</td>\n",
       "      <td>1.000000</td>\n",
       "    </tr>\n",
       "  </tbody>\n",
       "</table>\n",
       "<p>8 rows × 31 columns</p>\n",
       "</div>"
      ],
      "text/plain": [
       "                Time            V1            V2            V3            V4  \\\n",
       "count  284807.000000  2.848070e+05  2.848070e+05  2.848070e+05  2.848070e+05   \n",
       "mean    94813.859575  1.165980e-15  3.416908e-16 -1.373150e-15  2.086869e-15   \n",
       "std     47488.145955  1.958696e+00  1.651309e+00  1.516255e+00  1.415869e+00   \n",
       "min         0.000000 -5.640751e+01 -7.271573e+01 -4.832559e+01 -5.683171e+00   \n",
       "25%     54201.500000 -9.203734e-01 -5.985499e-01 -8.903648e-01 -8.486401e-01   \n",
       "50%     84692.000000  1.810880e-02  6.548556e-02  1.798463e-01 -1.984653e-02   \n",
       "75%    139320.500000  1.315642e+00  8.037239e-01  1.027196e+00  7.433413e-01   \n",
       "max    172792.000000  2.454930e+00  2.205773e+01  9.382558e+00  1.687534e+01   \n",
       "\n",
       "                 V5            V6            V7            V8            V9  \\\n",
       "count  2.848070e+05  2.848070e+05  2.848070e+05  2.848070e+05  2.848070e+05   \n",
       "mean   9.604066e-16  1.490107e-15 -5.556467e-16  1.177556e-16 -2.406455e-15   \n",
       "std    1.380247e+00  1.332271e+00  1.237094e+00  1.194353e+00  1.098632e+00   \n",
       "min   -1.137433e+02 -2.616051e+01 -4.355724e+01 -7.321672e+01 -1.343407e+01   \n",
       "25%   -6.915971e-01 -7.682956e-01 -5.540759e-01 -2.086297e-01 -6.430976e-01   \n",
       "50%   -5.433583e-02 -2.741871e-01  4.010308e-02  2.235804e-02 -5.142873e-02   \n",
       "75%    6.119264e-01  3.985649e-01  5.704361e-01  3.273459e-01  5.971390e-01   \n",
       "max    3.480167e+01  7.330163e+01  1.205895e+02  2.000721e+01  1.559499e+01   \n",
       "\n",
       "       ...           V21           V22           V23           V24  \\\n",
       "count  ...  2.848070e+05  2.848070e+05  2.848070e+05  2.848070e+05   \n",
       "mean   ...  1.656562e-16 -3.444850e-16  2.578648e-16  4.471968e-15   \n",
       "std    ...  7.345240e-01  7.257016e-01  6.244603e-01  6.056471e-01   \n",
       "min    ... -3.483038e+01 -1.093314e+01 -4.480774e+01 -2.836627e+00   \n",
       "25%    ... -2.283949e-01 -5.423504e-01 -1.618463e-01 -3.545861e-01   \n",
       "50%    ... -2.945017e-02  6.781943e-03 -1.119293e-02  4.097606e-02   \n",
       "75%    ...  1.863772e-01  5.285536e-01  1.476421e-01  4.395266e-01   \n",
       "max    ...  2.720284e+01  1.050309e+01  2.252841e+01  4.584549e+00   \n",
       "\n",
       "                V25           V26           V27           V28         Amount  \\\n",
       "count  2.848070e+05  2.848070e+05  2.848070e+05  2.848070e+05  284807.000000   \n",
       "mean   5.340915e-16  1.687098e-15 -3.666453e-16 -1.220404e-16      88.349619   \n",
       "std    5.212781e-01  4.822270e-01  4.036325e-01  3.300833e-01     250.120109   \n",
       "min   -1.029540e+01 -2.604551e+00 -2.256568e+01 -1.543008e+01       0.000000   \n",
       "25%   -3.171451e-01 -3.269839e-01 -7.083953e-02 -5.295979e-02       5.600000   \n",
       "50%    1.659350e-02 -5.213911e-02  1.342146e-03  1.124383e-02      22.000000   \n",
       "75%    3.507156e-01  2.409522e-01  9.104512e-02  7.827995e-02      77.165000   \n",
       "max    7.519589e+00  3.517346e+00  3.161220e+01  3.384781e+01   25691.160000   \n",
       "\n",
       "               Class  \n",
       "count  284807.000000  \n",
       "mean        0.001727  \n",
       "std         0.041527  \n",
       "min         0.000000  \n",
       "25%         0.000000  \n",
       "50%         0.000000  \n",
       "75%         0.000000  \n",
       "max         1.000000  \n",
       "\n",
       "[8 rows x 31 columns]"
      ]
     },
     "execution_count": 3,
     "metadata": {
      "tags": []
     },
     "output_type": "execute_result"
    }
   ],
   "source": [
    "df.describe()"
   ]
  },
  {
   "cell_type": "code",
   "execution_count": null,
   "metadata": {
    "_cell_guid": "03ddb929-5bc8-4af4-90cd-21dcbb57560d",
    "_kg_hide-input": true,
    "_uuid": "38bec67888aa534e9739e95ef9fac62d27a87021",
    "id": "KRTvrOBLfoF7",
    "outputId": "48115ebe-34e7-4fb8-b879-ccaea7c2b59a"
   },
   "outputs": [
    {
     "data": {
      "text/plain": [
       "Time      0\n",
       "V1        0\n",
       "V2        0\n",
       "V3        0\n",
       "V4        0\n",
       "V5        0\n",
       "V6        0\n",
       "V7        0\n",
       "V8        0\n",
       "V9        0\n",
       "V10       0\n",
       "V11       0\n",
       "V12       0\n",
       "V13       0\n",
       "V14       0\n",
       "V15       0\n",
       "V16       0\n",
       "V17       0\n",
       "V18       0\n",
       "V19       0\n",
       "V20       0\n",
       "V21       0\n",
       "V22       0\n",
       "V23       0\n",
       "V24       0\n",
       "V25       0\n",
       "V26       0\n",
       "V27       0\n",
       "V28       0\n",
       "Amount    0\n",
       "Class     0\n",
       "dtype: int64"
      ]
     },
     "execution_count": 4,
     "metadata": {
      "tags": []
     },
     "output_type": "execute_result"
    }
   ],
   "source": [
    "df.isnull().sum()#.max()"
   ]
  },
  {
   "cell_type": "code",
   "execution_count": null,
   "metadata": {
    "_cell_guid": "6a526b6c-8463-4f6f-92b0-e8a3a21cbb2e",
    "_kg_hide-input": true,
    "_uuid": "479a5f12d3dd68262316a17b4b7b3499e0a2cbe0",
    "id": "bYG_XBggfoF8",
    "outputId": "a7453650-7bad-4b68-980a-c257a3323729"
   },
   "outputs": [
    {
     "data": {
      "text/plain": [
       "Index(['Time', 'V1', 'V2', 'V3', 'V4', 'V5', 'V6', 'V7', 'V8', 'V9', 'V10',\n",
       "       'V11', 'V12', 'V13', 'V14', 'V15', 'V16', 'V17', 'V18', 'V19', 'V20',\n",
       "       'V21', 'V22', 'V23', 'V24', 'V25', 'V26', 'V27', 'V28', 'Amount',\n",
       "       'Class'],\n",
       "      dtype='object')"
      ]
     },
     "execution_count": 5,
     "metadata": {
      "tags": []
     },
     "output_type": "execute_result"
    }
   ],
   "source": [
    "df.columns"
   ]
  },
  {
   "cell_type": "code",
   "execution_count": null,
   "metadata": {
    "_cell_guid": "01c007fa-0fcc-4eea-84ff-0861a2f8c533",
    "_kg_hide-input": true,
    "_uuid": "f6b96ff34855e3bf7af1f6979342b01c473e4e07",
    "id": "gKSIHC_SfoF8",
    "outputId": "c4ba2ce7-1c5b-4f0a-faaf-c250299440e9"
   },
   "outputs": [
    {
     "name": "stdout",
     "output_type": "stream",
     "text": [
      "Не мошенники: 99.83\n",
      "Мошенники: 0.17\n"
     ]
    }
   ],
   "source": [
    "print('Не мошенники:', round(df['Class'].value_counts()[0]/len(df) * 100,2))\n",
    "print('Мошенники:', round(df['Class'].value_counts()[1]/len(df) * 100,2))"
   ]
  },
  {
   "cell_type": "code",
   "execution_count": null,
   "metadata": {
    "_cell_guid": "657bc987-4b15-4cfa-b290-c39a2632e2ac",
    "_kg_hide-input": true,
    "_uuid": "337caaf6ed3f65beedb24a74eebb22d97ff52ba4",
    "id": "3RnvxTRFfoF-",
    "outputId": "c54fa659-efd2-488b-d975-d5eec52204cb"
   },
   "outputs": [
    {
     "data": {
      "image/png": "[encoded data removed]",
      "text/plain": [
       "<Figure size 432x288 with 1 Axes>"
      ]
     },
     "metadata": {
      "needs_background": "light",
      "tags": []
     },
     "output_type": "display_data"
    }
   ],
   "source": [
    "sns.countplot('Class', data=df)#)\n",
    "plt.title('Распределение классов');"
   ]
  },
  {
   "cell_type": "code",
   "execution_count": null,
   "metadata": {
    "_cell_guid": "cee315f2-325f-42b6-a640-736f10c272cc",
    "_kg_hide-input": true,
    "_uuid": "cfa51792bf6f8a6b318ae1bffcff4e922b1d1917",
    "id": "PS_5h8dpfoGA",
    "outputId": "b7e18a40-a0b2-48b1-b7d4-5e2e2924b1e5"
   },
   "outputs": [
    {
     "data": {
      "image/png": "[encoded data removed]",
      "text/plain": [
       "<Figure size 1296x288 with 2 Axes>"
      ]
     },
     "metadata": {
      "needs_background": "light",
      "tags": []
     },
     "output_type": "display_data"
    }
   ],
   "source": [
    "fig, ax = plt.subplots(1, 2, figsize=(18,4))\n",
    "\n",
    "amount_val = df['Amount'].values\n",
    "time_val = df['Time'].values\n",
    "\n",
    "sns.distplot(amount_val, ax=ax[0], color='r')\n",
    "ax[0].set_title('Распределение суммы транзакций')\n",
    "ax[0].set_xlim([min(amount_val), max(amount_val)])\n",
    "\n",
    "sns.distplot(time_val, ax=ax[1], color='b')\n",
    "ax[1].set_title('Распределение времени транзакций')\n",
    "ax[1].set_xlim([min(time_val), max(time_val)])\n",
    "\n",
    "plt.show()"
   ]
  },
  {
   "cell_type": "code",
   "execution_count": null,
   "metadata": {
    "id": "SIVYWQ3BfoGA",
    "outputId": "61c2a978-4ca4-4dff-dbb2-b142a6135764"
   },
   "outputs": [
    {
     "data": {
      "text/plain": [
       "<matplotlib.axes._subplots.AxesSubplot at 0x104150a20>"
      ]
     },
     "execution_count": 9,
     "metadata": {
      "tags": []
     },
     "output_type": "execute_result"
    },
    {
     "data": {
      "image/png": "[encoded data removed]",
      "text/plain": [
       "<Figure size 432x288 with 1 Axes>"
      ]
     },
     "metadata": {
      "needs_background": "light",
      "tags": []
     },
     "output_type": "display_data"
    }
   ],
   "source": [
    "sns.distplot(np.log(1+df['Amount']))"
   ]
  },
  {
   "cell_type": "code",
   "execution_count": null,
   "metadata": {
    "id": "D80jz05RfoGA"
   },
   "outputs": [],
   "source": [
    "df['Amount'] = np.log(1+df['Amount'])"
   ]
  },
  {
   "cell_type": "code",
   "execution_count": null,
   "metadata": {
    "id": "dOWSf8t2foGA"
   },
   "outputs": [],
   "source": [
    "x = df['Amount']\n",
    "\n",
    "# RobustScaler\n",
    "# (x - x.median())/(x.quantile(0.75)-x.quantile(0.25))"
   ]
  },
  {
   "cell_type": "code",
   "execution_count": null,
   "metadata": {
    "id": "EnpKGBbIfoGA"
   },
   "outputs": [],
   "source": [
    "# StandardScaler\n",
    "# (x - x.mean())/(x.std())"
   ]
  },
  {
   "cell_type": "code",
   "execution_count": null,
   "metadata": {
    "id": "qQspVBxTfoGA",
    "outputId": "b401806b-eb8e-448a-ba33-04010ea5a743"
   },
   "outputs": [
    {
     "data": {
      "image/png": "[encoded data removed]",
      "text/plain": [
       "<Figure size 432x288 with 1 Axes>"
      ]
     },
     "metadata": {
      "needs_background": "light",
      "tags": []
     },
     "output_type": "display_data"
    }
   ],
   "source": [
    "sns.boxplot(x);"
   ]
  },
  {
   "cell_type": "markdown",
   "metadata": {
    "_cell_guid": "72fdda5e-7f82-488d-a433-6157d6180bb8",
    "_uuid": "c5d6781e61c0ee84e72d26e8465bfd98ef91f3b9",
    "id": "P6dIBtx7foGB"
   },
   "source": [
    "### Масштабирование \n"
   ]
  },
  {
   "cell_type": "code",
   "execution_count": null,
   "metadata": {
    "_cell_guid": "d5d64bf0-2fbb-4096-a265-f68887bf2fde",
    "_kg_hide-input": true,
    "_uuid": "1501ec379c9b5c39c3857ba0febd0aedee9c30d5",
    "id": "me5RvI-1foGB"
   },
   "outputs": [],
   "source": [
    "from sklearn.preprocessing import StandardScaler, RobustScaler\n",
    "std_scaler = StandardScaler()\n",
    "rob_scaler = RobustScaler()\n",
    "\n",
    "df['scaled_amount'] = rob_scaler.fit_transform(df['Amount'].values.reshape(-1,1))\n",
    "df['scaled_time'] = rob_scaler.fit_transform(df['Time'].values.reshape(-1,1))\n",
    "\n",
    "df.drop(['Time','Amount'], axis=1, inplace=True)"
   ]
  },
  {
   "cell_type": "code",
   "execution_count": null,
   "metadata": {
    "_cell_guid": "cdb9bb1e-9fab-4fd1-a409-468ba8bc36ee",
    "_kg_hide-input": true,
    "_uuid": "a33d701247ab45d849c5e94735346a738a6c6970",
    "id": "r-PXlBMbfoGB",
    "outputId": "94bc0250-637b-43fe-b314-590ab4ac10aa"
   },
   "outputs": [
    {
     "data": {
      "text/html": [
       "<div>\n",
       "<style scoped>\n",
       "    .dataframe tbody tr th:only-of-type {\n",
       "        vertical-align: middle;\n",
       "    }\n",
       "\n",
       "    .dataframe tbody tr th {\n",
       "        vertical-align: top;\n",
       "    }\n",
       "\n",
       "    .dataframe thead th {\n",
       "        text-align: right;\n",
       "    }\n",
       "</style>\n",
       "<table border=\"1\" class=\"dataframe\">\n",
       "  <thead>\n",
       "    <tr style=\"text-align: right;\">\n",
       "      <th></th>\n",
       "      <th>scaled_amount</th>\n",
       "      <th>scaled_time</th>\n",
       "      <th>V1</th>\n",
       "      <th>V2</th>\n",
       "      <th>V3</th>\n",
       "      <th>V4</th>\n",
       "      <th>V5</th>\n",
       "      <th>V6</th>\n",
       "      <th>V7</th>\n",
       "      <th>V8</th>\n",
       "      <th>...</th>\n",
       "      <th>V20</th>\n",
       "      <th>V21</th>\n",
       "      <th>V22</th>\n",
       "      <th>V23</th>\n",
       "      <th>V24</th>\n",
       "      <th>V25</th>\n",
       "      <th>V26</th>\n",
       "      <th>V27</th>\n",
       "      <th>V28</th>\n",
       "      <th>Class</th>\n",
       "    </tr>\n",
       "  </thead>\n",
       "  <tbody>\n",
       "    <tr>\n",
       "      <th>0</th>\n",
       "      <td>0.760297</td>\n",
       "      <td>-0.994983</td>\n",
       "      <td>-1.359807</td>\n",
       "      <td>-0.072781</td>\n",
       "      <td>2.536347</td>\n",
       "      <td>1.378155</td>\n",
       "      <td>-0.338321</td>\n",
       "      <td>0.462388</td>\n",
       "      <td>0.239599</td>\n",
       "      <td>0.098698</td>\n",
       "      <td>...</td>\n",
       "      <td>0.251412</td>\n",
       "      <td>-0.018307</td>\n",
       "      <td>0.277838</td>\n",
       "      <td>-0.110474</td>\n",
       "      <td>0.066928</td>\n",
       "      <td>0.128539</td>\n",
       "      <td>-0.189115</td>\n",
       "      <td>0.133558</td>\n",
       "      <td>-0.021053</td>\n",
       "      <td>0</td>\n",
       "    </tr>\n",
       "    <tr>\n",
       "      <th>1</th>\n",
       "      <td>-0.740312</td>\n",
       "      <td>-0.994983</td>\n",
       "      <td>1.191857</td>\n",
       "      <td>0.266151</td>\n",
       "      <td>0.166480</td>\n",
       "      <td>0.448154</td>\n",
       "      <td>0.060018</td>\n",
       "      <td>-0.082361</td>\n",
       "      <td>-0.078803</td>\n",
       "      <td>0.085102</td>\n",
       "      <td>...</td>\n",
       "      <td>-0.069083</td>\n",
       "      <td>-0.225775</td>\n",
       "      <td>-0.638672</td>\n",
       "      <td>0.101288</td>\n",
       "      <td>-0.339846</td>\n",
       "      <td>0.167170</td>\n",
       "      <td>0.125895</td>\n",
       "      <td>-0.008983</td>\n",
       "      <td>0.014724</td>\n",
       "      <td>0</td>\n",
       "    </tr>\n",
       "    <tr>\n",
       "      <th>2</th>\n",
       "      <td>1.134330</td>\n",
       "      <td>-0.994972</td>\n",
       "      <td>-1.358354</td>\n",
       "      <td>-1.340163</td>\n",
       "      <td>1.773209</td>\n",
       "      <td>0.379780</td>\n",
       "      <td>-0.503198</td>\n",
       "      <td>1.800499</td>\n",
       "      <td>0.791461</td>\n",
       "      <td>0.247676</td>\n",
       "      <td>...</td>\n",
       "      <td>0.524980</td>\n",
       "      <td>0.247998</td>\n",
       "      <td>0.771679</td>\n",
       "      <td>0.909412</td>\n",
       "      <td>-0.689281</td>\n",
       "      <td>-0.327642</td>\n",
       "      <td>-0.139097</td>\n",
       "      <td>-0.055353</td>\n",
       "      <td>-0.059752</td>\n",
       "      <td>0</td>\n",
       "    </tr>\n",
       "    <tr>\n",
       "      <th>3</th>\n",
       "      <td>0.683245</td>\n",
       "      <td>-0.994972</td>\n",
       "      <td>-0.966272</td>\n",
       "      <td>-0.185226</td>\n",
       "      <td>1.792993</td>\n",
       "      <td>-0.863291</td>\n",
       "      <td>-0.010309</td>\n",
       "      <td>1.247203</td>\n",
       "      <td>0.237609</td>\n",
       "      <td>0.377436</td>\n",
       "      <td>...</td>\n",
       "      <td>-0.208038</td>\n",
       "      <td>-0.108300</td>\n",
       "      <td>0.005274</td>\n",
       "      <td>-0.190321</td>\n",
       "      <td>-1.175575</td>\n",
       "      <td>0.647376</td>\n",
       "      <td>-0.221929</td>\n",
       "      <td>0.062723</td>\n",
       "      <td>0.061458</td>\n",
       "      <td>0</td>\n",
       "    </tr>\n",
       "    <tr>\n",
       "      <th>4</th>\n",
       "      <td>0.455970</td>\n",
       "      <td>-0.994960</td>\n",
       "      <td>-1.158233</td>\n",
       "      <td>0.877737</td>\n",
       "      <td>1.548718</td>\n",
       "      <td>0.403034</td>\n",
       "      <td>-0.407193</td>\n",
       "      <td>0.095921</td>\n",
       "      <td>0.592941</td>\n",
       "      <td>-0.270533</td>\n",
       "      <td>...</td>\n",
       "      <td>0.408542</td>\n",
       "      <td>-0.009431</td>\n",
       "      <td>0.798278</td>\n",
       "      <td>-0.137458</td>\n",
       "      <td>0.141267</td>\n",
       "      <td>-0.206010</td>\n",
       "      <td>0.502292</td>\n",
       "      <td>0.219422</td>\n",
       "      <td>0.215153</td>\n",
       "      <td>0</td>\n",
       "    </tr>\n",
       "  </tbody>\n",
       "</table>\n",
       "<p>5 rows × 31 columns</p>\n",
       "</div>"
      ],
      "text/plain": [
       "   scaled_amount  scaled_time        V1        V2        V3        V4  \\\n",
       "0       0.760297    -0.994983 -1.359807 -0.072781  2.536347  1.378155   \n",
       "1      -0.740312    -0.994983  1.191857  0.266151  0.166480  0.448154   \n",
       "2       1.134330    -0.994972 -1.358354 -1.340163  1.773209  0.379780   \n",
       "3       0.683245    -0.994972 -0.966272 -0.185226  1.792993 -0.863291   \n",
       "4       0.455970    -0.994960 -1.158233  0.877737  1.548718  0.403034   \n",
       "\n",
       "         V5        V6        V7        V8  ...       V20       V21       V22  \\\n",
       "0 -0.338321  0.462388  0.239599  0.098698  ...  0.251412 -0.018307  0.277838   \n",
       "1  0.060018 -0.082361 -0.078803  0.085102  ... -0.069083 -0.225775 -0.638672   \n",
       "2 -0.503198  1.800499  0.791461  0.247676  ...  0.524980  0.247998  0.771679   \n",
       "3 -0.010309  1.247203  0.237609  0.377436  ... -0.208038 -0.108300  0.005274   \n",
       "4 -0.407193  0.095921  0.592941 -0.270533  ...  0.408542 -0.009431  0.798278   \n",
       "\n",
       "        V23       V24       V25       V26       V27       V28  Class  \n",
       "0 -0.110474  0.066928  0.128539 -0.189115  0.133558 -0.021053      0  \n",
       "1  0.101288 -0.339846  0.167170  0.125895 -0.008983  0.014724      0  \n",
       "2  0.909412 -0.689281 -0.327642 -0.139097 -0.055353 -0.059752      0  \n",
       "3 -0.190321 -1.175575  0.647376 -0.221929  0.062723  0.061458      0  \n",
       "4 -0.137458  0.141267 -0.206010  0.502292  0.219422  0.215153      0  \n",
       "\n",
       "[5 rows x 31 columns]"
      ]
     },
     "execution_count": 15,
     "metadata": {
      "tags": []
     },
     "output_type": "execute_result"
    }
   ],
   "source": [
    "scaled_amount = df['scaled_amount']\n",
    "scaled_time = df['scaled_time']\n",
    "\n",
    "df.drop(['scaled_amount', 'scaled_time'], axis=1, inplace=True)\n",
    "df.insert(0, 'scaled_amount', scaled_amount)\n",
    "df.insert(1, 'scaled_time', scaled_time)\n",
    "\n",
    "df.head()"
   ]
  },
  {
   "cell_type": "code",
   "execution_count": null,
   "metadata": {
    "id": "1zSml7bufoGB",
    "outputId": "356208c5-f521-46ae-c082-c0872080f343"
   },
   "outputs": [
    {
     "data": {
      "image/png": "[encoded data removed]",
      "text/plain": [
       "<Figure size 1296x288 with 2 Axes>"
      ]
     },
     "metadata": {
      "needs_background": "light",
      "tags": []
     },
     "output_type": "display_data"
    }
   ],
   "source": [
    "fig, ax = plt.subplots(1, 2, figsize=(18,4))\n",
    "\n",
    "amount_val = df['scaled_amount'].values\n",
    "time_val = df['scaled_time'].values\n",
    "\n",
    "sns.distplot(amount_val, ax=ax[0], color='r')\n",
    "ax[0].set_title('Распределение суммы транзакций')\n",
    "ax[0].set_xlim([min(amount_val), max(amount_val)])\n",
    "\n",
    "sns.distplot(time_val, ax=ax[1], color='b')\n",
    "ax[1].set_title('Распределение времени транзакций')\n",
    "ax[1].set_xlim([min(time_val), max(time_val)])\n",
    "\n",
    "plt.show()"
   ]
  },
  {
   "cell_type": "markdown",
   "metadata": {
    "_cell_guid": "a59c8c8d-a4bc-4671-aa2f-9f959c142cde",
    "_uuid": "5119c4ea9e0b9031dbc5937b56323da224985024",
    "id": "95v6EzZNfoGB"
   },
   "source": [
    "#### Разбиваем данные "
   ]
  },
  {
   "cell_type": "code",
   "execution_count": null,
   "metadata": {
    "_cell_guid": "c6c962cc-6f38-4a00-bcd7-ce9d91db954c",
    "_kg_hide-input": true,
    "_uuid": "9f7b5d920703b3a3c8c0f62bc6042e4615bc8324",
    "id": "nIuRsgwTfoGB",
    "outputId": "bc45035a-065a-4294-b7a9-f55834494d15"
   },
   "outputs": [
    {
     "name": "stdout",
     "output_type": "stream",
     "text": [
      "No Frauds 99.83 % of the dataset\n",
      "Frauds 0.17 % of the dataset\n",
      "Train: [ 30473  30496  31002 ... 284804 284805 284806] Test: [    0     1     2 ... 57017 57018 57019]\n",
      "Train: [     0      1      2 ... 284804 284805 284806] Test: [ 30473  30496  31002 ... 113964 113965 113966]\n",
      "Train: [     0      1      2 ... 284804 284805 284806] Test: [ 81609  82400  83053 ... 170946 170947 170948]\n",
      "Train: [     0      1      2 ... 284804 284805 284806] Test: [150654 150660 150661 ... 227866 227867 227868]\n",
      "Train: [     0      1      2 ... 227866 227867 227868] Test: [212516 212644 213092 ... 284804 284805 284806]\n",
      "----------------------------------------------------------------------------------------------------\n",
      "Label Distributions: \n",
      "\n",
      "[0.99827076 0.00172924]\n",
      "[0.99827952 0.00172048]\n"
     ]
    }
   ],
   "source": [
    "from sklearn.model_selection import train_test_split\n",
    "from sklearn.model_selection import StratifiedShuffleSplit\n",
    "\n",
    "print('No Frauds', round(df['Class'].value_counts()[0]/len(df) * 100,2), '% of the dataset')\n",
    "print('Frauds', round(df['Class'].value_counts()[1]/len(df) * 100,2), '% of the dataset')\n",
    "\n",
    "X = df.drop('Class', axis=1)\n",
    "y = df['Class']\n",
    "\n",
    "sss = StratifiedKFold(n_splits=5, random_state=None, shuffle=False)\n",
    "\n",
    "for train_index, test_index in sss.split(X, y):\n",
    "    print(\"Train:\", train_index, \"Test:\", test_index)\n",
    "    original_Xtrain, original_Xtest = X.iloc[train_index], X.iloc[test_index]\n",
    "    original_ytrain, original_ytest = y.iloc[train_index], y.iloc[test_index]\n",
    "\n",
    "original_Xtrain = original_Xtrain.values\n",
    "original_Xtest = original_Xtest.values\n",
    "original_ytrain = original_ytrain.values\n",
    "original_ytest = original_ytest.values\n",
    "\n",
    "train_unique_label, train_counts_label = np.unique(original_ytrain, return_counts=True)\n",
    "test_unique_label, test_counts_label = np.unique(original_ytest, return_counts=True)\n",
    "print('-' * 100)\n",
    "\n",
    "print('Label Distributions: \\n')\n",
    "print(train_counts_label/ len(original_ytrain))\n",
    "print(test_counts_label/ len(original_ytest))"
   ]
  },
  {
   "cell_type": "markdown",
   "metadata": {
    "_cell_guid": "956d34b9-e562-4b70-a2f8-fbe060273a83",
    "_uuid": "cc554c4ffec656cb38d01c034f2cd338e1cb4565",
    "id": "E6FgLR6EfoGC"
   },
   "source": [
    "### Случайный Undersampling:\n",
    "\n",
    "<img src=\"https://i.stack.imgur.com/FEOjd.jpg\" width=500>"
   ]
  },
  {
   "cell_type": "code",
   "execution_count": null,
   "metadata": {
    "id": "Yl6eu6Y0foGC",
    "outputId": "29fbda7e-1c40-4b8a-e5d7-658ace47fb64"
   },
   "outputs": [
    {
     "data": {
      "text/plain": [
       "492"
      ]
     },
     "execution_count": 18,
     "metadata": {
      "tags": []
     },
     "output_type": "execute_result"
    }
   ],
   "source": [
    "target_count = df['Class'].sum()\n",
    "target_count"
   ]
  },
  {
   "cell_type": "code",
   "execution_count": null,
   "metadata": {
    "_cell_guid": "f0acfc44-eb2a-4356-ad03-d0c12807acd7",
    "_kg_hide-input": true,
    "_uuid": "e3a2b89752681164f14c8273452fc66734d7f41b",
    "id": "f5rxhb7-foGC",
    "outputId": "6d02b2cd-1c01-40bc-97c9-7feda693d215"
   },
   "outputs": [
    {
     "data": {
      "text/html": [
       "<div>\n",
       "<style scoped>\n",
       "    .dataframe tbody tr th:only-of-type {\n",
       "        vertical-align: middle;\n",
       "    }\n",
       "\n",
       "    .dataframe tbody tr th {\n",
       "        vertical-align: top;\n",
       "    }\n",
       "\n",
       "    .dataframe thead th {\n",
       "        text-align: right;\n",
       "    }\n",
       "</style>\n",
       "<table border=\"1\" class=\"dataframe\">\n",
       "  <thead>\n",
       "    <tr style=\"text-align: right;\">\n",
       "      <th></th>\n",
       "      <th>scaled_amount</th>\n",
       "      <th>scaled_time</th>\n",
       "      <th>V1</th>\n",
       "      <th>V2</th>\n",
       "      <th>V3</th>\n",
       "      <th>V4</th>\n",
       "      <th>V5</th>\n",
       "      <th>V6</th>\n",
       "      <th>V7</th>\n",
       "      <th>V8</th>\n",
       "      <th>...</th>\n",
       "      <th>V20</th>\n",
       "      <th>V21</th>\n",
       "      <th>V22</th>\n",
       "      <th>V23</th>\n",
       "      <th>V24</th>\n",
       "      <th>V25</th>\n",
       "      <th>V26</th>\n",
       "      <th>V27</th>\n",
       "      <th>V28</th>\n",
       "      <th>Class</th>\n",
       "    </tr>\n",
       "  </thead>\n",
       "  <tbody>\n",
       "    <tr>\n",
       "      <th>10116</th>\n",
       "      <td>1.106087</td>\n",
       "      <td>-0.814025</td>\n",
       "      <td>-3.754515</td>\n",
       "      <td>3.446419</td>\n",
       "      <td>-3.557958</td>\n",
       "      <td>2.160615</td>\n",
       "      <td>-1.543146</td>\n",
       "      <td>4.742471</td>\n",
       "      <td>-1.531349</td>\n",
       "      <td>3.683528</td>\n",
       "      <td>...</td>\n",
       "      <td>-1.340409</td>\n",
       "      <td>0.276658</td>\n",
       "      <td>0.160800</td>\n",
       "      <td>-0.042897</td>\n",
       "      <td>1.016171</td>\n",
       "      <td>-0.334730</td>\n",
       "      <td>0.174343</td>\n",
       "      <td>-1.375997</td>\n",
       "      <td>-0.615954</td>\n",
       "      <td>0</td>\n",
       "    </tr>\n",
       "    <tr>\n",
       "      <th>150669</th>\n",
       "      <td>0.853241</td>\n",
       "      <td>0.107708</td>\n",
       "      <td>-10.632375</td>\n",
       "      <td>7.251936</td>\n",
       "      <td>-17.681072</td>\n",
       "      <td>8.204144</td>\n",
       "      <td>-10.166591</td>\n",
       "      <td>-4.510344</td>\n",
       "      <td>-12.981606</td>\n",
       "      <td>6.783589</td>\n",
       "      <td>...</td>\n",
       "      <td>-0.810146</td>\n",
       "      <td>2.715357</td>\n",
       "      <td>0.695603</td>\n",
       "      <td>-1.138122</td>\n",
       "      <td>0.459442</td>\n",
       "      <td>0.386337</td>\n",
       "      <td>0.522438</td>\n",
       "      <td>-1.416604</td>\n",
       "      <td>-0.488307</td>\n",
       "      <td>1</td>\n",
       "    </tr>\n",
       "    <tr>\n",
       "      <th>169173</th>\n",
       "      <td>-0.298779</td>\n",
       "      <td>0.409685</td>\n",
       "      <td>1.979782</td>\n",
       "      <td>-0.464783</td>\n",
       "      <td>-0.587836</td>\n",
       "      <td>0.176041</td>\n",
       "      <td>-0.228367</td>\n",
       "      <td>0.434897</td>\n",
       "      <td>-0.755083</td>\n",
       "      <td>0.200462</td>\n",
       "      <td>...</td>\n",
       "      <td>-0.149107</td>\n",
       "      <td>0.207231</td>\n",
       "      <td>0.793281</td>\n",
       "      <td>0.074015</td>\n",
       "      <td>0.223879</td>\n",
       "      <td>-0.029911</td>\n",
       "      <td>-0.234458</td>\n",
       "      <td>0.033641</td>\n",
       "      <td>-0.044335</td>\n",
       "      <td>0</td>\n",
       "    </tr>\n",
       "    <tr>\n",
       "      <th>226877</th>\n",
       "      <td>-1.268531</td>\n",
       "      <td>0.706622</td>\n",
       "      <td>-6.423306</td>\n",
       "      <td>1.658515</td>\n",
       "      <td>-5.866440</td>\n",
       "      <td>2.052064</td>\n",
       "      <td>-0.615817</td>\n",
       "      <td>-3.372266</td>\n",
       "      <td>-5.036556</td>\n",
       "      <td>2.643106</td>\n",
       "      <td>...</td>\n",
       "      <td>-0.713516</td>\n",
       "      <td>0.641211</td>\n",
       "      <td>-0.256678</td>\n",
       "      <td>-2.337233</td>\n",
       "      <td>-0.158278</td>\n",
       "      <td>1.198797</td>\n",
       "      <td>-0.261258</td>\n",
       "      <td>0.780125</td>\n",
       "      <td>-0.731801</td>\n",
       "      <td>1</td>\n",
       "    </tr>\n",
       "    <tr>\n",
       "      <th>124176</th>\n",
       "      <td>-0.988103</td>\n",
       "      <td>-0.087994</td>\n",
       "      <td>-0.356326</td>\n",
       "      <td>1.435305</td>\n",
       "      <td>-0.813564</td>\n",
       "      <td>1.993117</td>\n",
       "      <td>2.055878</td>\n",
       "      <td>-0.543579</td>\n",
       "      <td>0.487691</td>\n",
       "      <td>0.085449</td>\n",
       "      <td>...</td>\n",
       "      <td>0.303262</td>\n",
       "      <td>-0.312863</td>\n",
       "      <td>-0.687874</td>\n",
       "      <td>-0.267003</td>\n",
       "      <td>-1.158480</td>\n",
       "      <td>0.271460</td>\n",
       "      <td>-0.155397</td>\n",
       "      <td>0.114328</td>\n",
       "      <td>0.101526</td>\n",
       "      <td>1</td>\n",
       "    </tr>\n",
       "  </tbody>\n",
       "</table>\n",
       "<p>5 rows × 31 columns</p>\n",
       "</div>"
      ],
      "text/plain": [
       "        scaled_amount  scaled_time         V1        V2         V3        V4  \\\n",
       "10116        1.106087    -0.814025  -3.754515  3.446419  -3.557958  2.160615   \n",
       "150669       0.853241     0.107708 -10.632375  7.251936 -17.681072  8.204144   \n",
       "169173      -0.298779     0.409685   1.979782 -0.464783  -0.587836  0.176041   \n",
       "226877      -1.268531     0.706622  -6.423306  1.658515  -5.866440  2.052064   \n",
       "124176      -0.988103    -0.087994  -0.356326  1.435305  -0.813564  1.993117   \n",
       "\n",
       "               V5        V6         V7        V8  ...       V20       V21  \\\n",
       "10116   -1.543146  4.742471  -1.531349  3.683528  ... -1.340409  0.276658   \n",
       "150669 -10.166591 -4.510344 -12.981606  6.783589  ... -0.810146  2.715357   \n",
       "169173  -0.228367  0.434897  -0.755083  0.200462  ... -0.149107  0.207231   \n",
       "226877  -0.615817 -3.372266  -5.036556  2.643106  ... -0.713516  0.641211   \n",
       "124176   2.055878 -0.543579   0.487691  0.085449  ...  0.303262 -0.312863   \n",
       "\n",
       "             V22       V23       V24       V25       V26       V27       V28  \\\n",
       "10116   0.160800 -0.042897  1.016171 -0.334730  0.174343 -1.375997 -0.615954   \n",
       "150669  0.695603 -1.138122  0.459442  0.386337  0.522438 -1.416604 -0.488307   \n",
       "169173  0.793281  0.074015  0.223879 -0.029911 -0.234458  0.033641 -0.044335   \n",
       "226877 -0.256678 -2.337233 -0.158278  1.198797 -0.261258  0.780125 -0.731801   \n",
       "124176 -0.687874 -0.267003 -1.158480  0.271460 -0.155397  0.114328  0.101526   \n",
       "\n",
       "        Class  \n",
       "10116       0  \n",
       "150669      1  \n",
       "169173      0  \n",
       "226877      1  \n",
       "124176      1  \n",
       "\n",
       "[5 rows x 31 columns]"
      ]
     },
     "execution_count": 19,
     "metadata": {
      "tags": []
     },
     "output_type": "execute_result"
    }
   ],
   "source": [
    "df = df.sample(frac=1)\n",
    "\n",
    "fraud_df = df.loc[df['Class'] == 1]\n",
    "non_fraud_df = df.loc[df['Class'] == 0][:target_count]\n",
    "\n",
    "normal_distributed_df = pd.concat([fraud_df, non_fraud_df])\n",
    "\n",
    "new_df = normal_distributed_df.sample(frac=1, random_state=42)\n",
    "\n",
    "new_df.head()"
   ]
  },
  {
   "cell_type": "code",
   "execution_count": null,
   "metadata": {
    "_cell_guid": "73454100-dc69-49fd-b1b2-f72e326bca5d",
    "_kg_hide-input": true,
    "_uuid": "68b42e92df59f10fbd3ba700389796c4506af604",
    "id": "eUvliArrfoGC",
    "outputId": "1266d2e8-b809-4812-b01d-5bd1b64a0467"
   },
   "outputs": [
    {
     "name": "stdout",
     "output_type": "stream",
     "text": [
      "Распределение классов в подвыборке\n",
      "1    0.5\n",
      "0    0.5\n",
      "Name: Class, dtype: float64\n"
     ]
    },
    {
     "data": {
      "image/png": "[encoded data removed]",
      "text/plain": [
       "<Figure size 432x288 with 1 Axes>"
      ]
     },
     "metadata": {
      "needs_background": "light",
      "tags": []
     },
     "output_type": "display_data"
    }
   ],
   "source": [
    "print('Распределение классов в подвыборке')\n",
    "print(new_df['Class'].value_counts()/len(new_df))\n",
    "\n",
    "\n",
    "sns.countplot('Class', data=new_df)\n",
    "plt.title('Одинаково распределенные классы')\n",
    "plt.show()"
   ]
  },
  {
   "cell_type": "markdown",
   "metadata": {
    "_cell_guid": "0abc31ee-a78e-43af-822f-f06772d00c1c",
    "_uuid": "88477bac6687f110e9d64ec22837c250d85d2a2b",
    "id": "D3PHK6YFfoGD"
   },
   "source": [
    "#### Корреляционный анализ"
   ]
  },
  {
   "cell_type": "code",
   "execution_count": null,
   "metadata": {
    "_cell_guid": "9f353623-9435-4bb2-b854-b4a201ec7dd9",
    "_kg_hide-input": true,
    "_uuid": "e2f417c5d7c633a1e3cdfaa78acd6bd77a38400e",
    "id": "hTNoRrVofoGD",
    "outputId": "c09f2705-dacf-4542-dafa-a193da24374c"
   },
   "outputs": [
    {
     "data": {
      "image/png": "[encoded data removed]",
      "text/plain": [
       "<Figure size 1728x1440 with 4 Axes>"
      ]
     },
     "metadata": {
      "needs_background": "light",
      "tags": []
     },
     "output_type": "display_data"
    }
   ],
   "source": [
    "f, (ax1, ax2) = plt.subplots(2, 1, figsize=(24,20))\n",
    "corr = df.corr()\n",
    "sns.heatmap(corr, cmap='coolwarm_r', annot_kws={'size':20}, ax=ax1)\n",
    "ax1.set_title(\"Корреляционная матрица для несбалансированной выборки\", fontsize=14)\n",
    "\n",
    "\n",
    "sub_sample_corr = new_df.corr()\n",
    "sns.heatmap(sub_sample_corr, cmap='coolwarm_r', annot_kws={'size':20}, ax=ax2)\n",
    "ax2.set_title('Корреляционная матрица для сбалансированной выборки', fontsize=14)\n",
    "plt.show()"
   ]
  },
  {
   "cell_type": "code",
   "execution_count": null,
   "metadata": {
    "_cell_guid": "2f02c21f-daa3-4251-a8e9-acad09a5ce0f",
    "_kg_hide-input": true,
    "_uuid": "318d0e7e0443f99139be21c00a7abc663be26385",
    "id": "v_SuUiYjfoGD",
    "outputId": "5aea7917-3d74-44f9-8c7f-1912992f2700"
   },
   "outputs": [
    {
     "data": {
      "image/png": "[encoded data removed]",
      "text/plain": [
       "<Figure size 1440x288 with 4 Axes>"
      ]
     },
     "metadata": {
      "needs_background": "light",
      "tags": []
     },
     "output_type": "display_data"
    }
   ],
   "source": [
    "f, axes = plt.subplots(ncols=4, figsize=(20,4))\n",
    "\n",
    "sns.boxplot(x=\"Class\", y=\"V17\", data=new_df, ax=axes[0])\n",
    "axes[0].set_title('V17 vs Class')\n",
    "\n",
    "sns.boxplot(x=\"Class\", y=\"V14\", data=new_df, ax=axes[1])\n",
    "axes[1].set_title('V14 vs Class')\n",
    "\n",
    "\n",
    "sns.boxplot(x=\"Class\", y=\"V12\", data=new_df, ax=axes[2])\n",
    "axes[2].set_title('V12 vs Class')\n",
    "\n",
    "\n",
    "sns.boxplot(x=\"Class\", y=\"V10\", data=new_df, ax=axes[3])\n",
    "axes[3].set_title('V10 vs Class')\n",
    "\n",
    "plt.show()"
   ]
  },
  {
   "cell_type": "code",
   "execution_count": null,
   "metadata": {
    "_cell_guid": "b457b10e-c17c-4cb2-9719-6d4128377c9f",
    "_kg_hide-input": true,
    "_uuid": "7bfc46c028f8602ee949de83629082633aa47b2c",
    "id": "POY-xOhMfoGD",
    "outputId": "ccf7e277-1339-40d8-f305-b625537fda94"
   },
   "outputs": [
    {
     "data": {
      "image/png": "[encoded data removed]",
      "text/plain": [
       "<Figure size 1440x288 with 4 Axes>"
      ]
     },
     "metadata": {
      "needs_background": "light",
      "tags": []
     },
     "output_type": "display_data"
    }
   ],
   "source": [
    "f, axes = plt.subplots(ncols=4, nrows=1, figsize=(20,4))\n",
    "\n",
    "\n",
    "sns.boxplot(x=\"Class\", y=\"V11\", data=new_df, ax=axes[0])\n",
    "axes[0].set_title('V11 vs Class')\n",
    "\n",
    "sns.boxplot(x=\"Class\", y=\"V4\", data=new_df, ax=axes[1])\n",
    "axes[1].set_title('V4 vs Class')\n",
    "\n",
    "\n",
    "sns.boxplot(x=\"Class\", y=\"V2\", data=new_df, ax=axes[2])\n",
    "axes[2].set_title('V2 vs Class')\n",
    "\n",
    "sns.boxplot(x=\"Class\", y=\"V19\", data=new_df, ax=axes[3])\n",
    "axes[3].set_title('V19 vs Class')\n",
    "\n",
    "\n",
    "\n",
    "\n",
    "plt.show()"
   ]
  },
  {
   "cell_type": "markdown",
   "metadata": {
    "_cell_guid": "93e56c89-185e-40d2-9ccc-29b123feb5a6",
    "_uuid": "a721282c0f44ec8030bbad6d0220091bde8cbec8",
    "id": "TCBxJuqZfoGD"
   },
   "source": [
    "#### Детекция аномалий"
   ]
  },
  {
   "cell_type": "code",
   "execution_count": null,
   "metadata": {
    "_cell_guid": "9c690dfa-8fed-44e5-99f5-ff4eb6f87f16",
    "_kg_hide-input": true,
    "_uuid": "b6963900379db5b0d4adf92f8c7f959164e9119f",
    "id": "XbVE8HcPfoGD",
    "outputId": "2b45b66c-f414-4455-90f6-597335183b3e"
   },
   "outputs": [
    {
     "data": {
      "image/png": "[encoded data removed]",
      "text/plain": [
       "<Figure size 1440x432 with 3 Axes>"
      ]
     },
     "metadata": {
      "needs_background": "light",
      "tags": []
     },
     "output_type": "display_data"
    }
   ],
   "source": [
    "from scipy.stats import norm\n",
    "\n",
    "f, (ax1, ax2, ax3) = plt.subplots(1,3, figsize=(20, 6))\n",
    "\n",
    "v14_fraud_dist = new_df['V14'].loc[new_df['Class'] == 1].values\n",
    "sns.distplot(v14_fraud_dist,ax=ax1, fit=norm, color='#FB8861')\n",
    "ax1.set_title('Распределение V14', fontsize=14)\n",
    "\n",
    "v12_fraud_dist = new_df['V12'].loc[new_df['Class'] == 1].values\n",
    "sns.distplot(v12_fraud_dist,ax=ax2, fit=norm, color='#56F9BB')\n",
    "ax2.set_title('Распределение V12', fontsize=14)\n",
    "\n",
    "\n",
    "v10_fraud_dist = new_df['V10'].loc[new_df['Class'] == 1].values\n",
    "sns.distplot(v10_fraud_dist,ax=ax3, fit=norm, color='#C5B3F9')\n",
    "ax3.set_title('Распределение V10', fontsize=14)\n",
    "\n",
    "plt.show()"
   ]
  },
  {
   "cell_type": "code",
   "execution_count": null,
   "metadata": {
    "_cell_guid": "2e19fe33-f85a-4ffd-8e4a-807d0e0fb992",
    "_kg_hide-input": true,
    "_uuid": "21e43406e62a9561fba2f065ce15a8d87a1bf389",
    "id": "I2QnLKN_foGD",
    "outputId": "29633a3e-c3f9-4de6-c501-2475b35e5e27"
   },
   "outputs": [
    {
     "name": "stdout",
     "output_type": "stream",
     "text": [
      "Квартиль 25: -9.692722964972385 | Квартиль 75: -4.282820849486866\n",
      "IQR: 5.409902115485519\n",
      "Отрезаем с: 8.114853173228278\n",
      "V14 – нижняя граница: -17.807576138200663\n",
      "V14 – верхняя граница: 3.8320323237414122\n",
      "V14 – выбросы для случаев моженничества: 4\n",
      "V10 выбросы:[-18.8220867423816, -19.2143254902614, -18.4937733551053, -18.049997689859396]\n"
     ]
    }
   ],
   "source": [
    "v14_fraud = new_df['V14'].loc[new_df['Class'] == 1].values\n",
    "q25, q75 = np.percentile(v14_fraud, 25), np.percentile(v14_fraud, 75)\n",
    "print('Квартиль 25: {} | Квартиль 75: {}'.format(q25, q75))\n",
    "v14_iqr = q75 - q25\n",
    "print('IQR: {}'.format(v14_iqr))\n",
    "\n",
    "v14_cut_off = v14_iqr * 1.5\n",
    "v14_lower, v14_upper = q25 - v14_cut_off, q75 + v14_cut_off\n",
    "print('Отрезаем с: {}'.format(v14_cut_off))\n",
    "print('V14 – нижняя граница: {}'.format(v14_lower))\n",
    "print('V14 – верхняя граница: {}'.format(v14_upper))\n",
    "\n",
    "outliers = [x for x in v14_fraud if x < v14_lower or x > v14_upper]\n",
    "print('V14 – выбросы для случаев моженничества: {}'.format(len(outliers)))\n",
    "print('V10 выбросы:{}'.format(outliers))"
   ]
  },
  {
   "cell_type": "code",
   "execution_count": null,
   "metadata": {
    "id": "rrMu6WFefoGE",
    "outputId": "aa92d519-ebdc-4249-efbb-20e103c58117"
   },
   "outputs": [
    {
     "name": "stdout",
     "output_type": "stream",
     "text": [
      "V12 – нижняя граница: -17.3430371579634\n",
      "V12 – верхняя граница: 5.776973384895937\n",
      "V12 outliers: [-18.683714633344298, -18.553697009645802, -18.4311310279993, -18.047596570821604]\n",
      "V12 – выбросы для случаев моженничества: 4\n",
      "Число наблюдений после удаления выбросов: 975\n"
     ]
    }
   ],
   "source": [
    "new_df = new_df.drop(new_df[(new_df['V14'] > v14_upper) | (new_df['V14'] < v14_lower)].index)\n",
    "\n",
    "v12_fraud = new_df['V12'].loc[new_df['Class'] == 1].values\n",
    "q25, q75 = np.percentile(v12_fraud, 25), np.percentile(v12_fraud, 75)\n",
    "v12_iqr = q75 - q25\n",
    "\n",
    "v12_cut_off = v12_iqr * 1.5\n",
    "v12_lower, v12_upper = q25 - v12_cut_off, q75 + v12_cut_off\n",
    "print('V12 – нижняя граница: {}'.format(v12_lower))\n",
    "print('V12 – верхняя граница: {}'.format(v12_upper))\n",
    "outliers = [x for x in v12_fraud if x < v12_lower or x > v12_upper]\n",
    "print('V12 outliers: {}'.format(outliers))\n",
    "print('V12 – выбросы для случаев моженничества: {}'.format(len(outliers)))\n",
    "new_df = new_df.drop(new_df[(new_df['V12'] > v12_upper) | (new_df['V12'] < v12_lower)].index)\n",
    "print('Число наблюдений после удаления выбросов: {}'.format(len(new_df)))"
   ]
  },
  {
   "cell_type": "code",
   "execution_count": null,
   "metadata": {
    "id": "u6Lgss-XfoGE",
    "outputId": "ca67492d-7197-440b-9e59-d38af83eef05"
   },
   "outputs": [
    {
     "name": "stdout",
     "output_type": "stream",
     "text": [
      "V10 – нижняя граница: -14.89885463232024\n",
      "V10 – верхняя граница: 4.920334958342141\n",
      "V10 – выбросы: [-14.9246547735487, -22.1870885620007, -22.1870885620007, -16.2556117491401, -22.1870885620007, -14.9246547735487, -15.346098846877501, -15.563791338730098, -18.2711681738888, -15.563791338730098, -24.403184969972802, -15.2399619587112, -15.1237521803455, -23.2282548357516, -19.836148851696, -24.5882624372475, -17.141513641289198, -16.6011969664137, -15.2318333653018, -20.949191554361104, -22.1870885620007, -16.3035376590131, -16.6496281595399, -18.9132433348732, -16.7460441053944, -15.124162814494698, -15.2399619587112]\n",
      "V10 – выбросы для случаев моженничества: 27\n",
      "Число наблюдений после удаления выбросов: 943\n"
     ]
    }
   ],
   "source": [
    "v10_fraud = new_df['V10'].loc[new_df['Class'] == 1].values\n",
    "q25, q75 = np.percentile(v10_fraud, 25), np.percentile(v10_fraud, 75)\n",
    "v10_iqr = q75 - q25\n",
    "\n",
    "v10_cut_off = v10_iqr * 1.5\n",
    "v10_lower, v10_upper = q25 - v10_cut_off, q75 + v10_cut_off\n",
    "print('V10 – нижняя граница: {}'.format(v10_lower))\n",
    "print('V10 – верхняя граница: {}'.format(v10_upper))\n",
    "outliers = [x for x in v10_fraud if x < v10_lower or x > v10_upper]\n",
    "print('V10 – выбросы: {}'.format(outliers))\n",
    "print('V10 – выбросы для случаев моженничества: {}'.format(len(outliers)))\n",
    "new_df = new_df.drop(new_df[(new_df['V10'] > v10_upper) | (new_df['V10'] < v10_lower)].index)\n",
    "print('Число наблюдений после удаления выбросов: {}'.format(len(new_df)))"
   ]
  },
  {
   "cell_type": "code",
   "execution_count": null,
   "metadata": {
    "_cell_guid": "66e44398-7c91-4cce-9778-4512cb838973",
    "_kg_hide-input": true,
    "_uuid": "ac80d9cfb07f1865094a8d460ae801750e93d694",
    "id": "AU928ZohfoGE",
    "outputId": "edd879ec-98ca-4108-a82e-7532a33347b6"
   },
   "outputs": [
    {
     "data": {
      "image/png": "[encoded data removed]",
      "text/plain": [
       "<Figure size 1440x432 with 3 Axes>"
      ]
     },
     "metadata": {
      "needs_background": "light",
      "tags": []
     },
     "output_type": "display_data"
    }
   ],
   "source": [
    "f,(ax1, ax2, ax3) = plt.subplots(1, 3, figsize=(20,6))\n",
    "\n",
    "sns.boxplot(x=\"Class\", y=\"V14\", data=new_df,ax=ax1)\n",
    "ax1.set_title(\"V14 – снижение числа выбросов\", fontsize=14)\n",
    "ax1.annotate('Значимые выбросы', xy=(0.98, -17.5), xytext=(0, -12),\n",
    "            arrowprops=dict(facecolor='black'),\n",
    "            fontsize=14)\n",
    "\n",
    "sns.boxplot(x=\"Class\", y=\"V12\", data=new_df, ax=ax2)\n",
    "ax2.set_title(\"V12 Feature \\n Reduction of outliers\", fontsize=14)\n",
    "ax2.annotate('Значимые выбросы', xy=(0.98, -17.3), xytext=(0, -12),\n",
    "            arrowprops=dict(facecolor='black'),\n",
    "            fontsize=14)\n",
    "\n",
    "sns.boxplot(x=\"Class\", y=\"V10\", data=new_df, ax=ax3)\n",
    "ax3.set_title(\"V10 – снижение числа выбросов\", fontsize=14)\n",
    "ax3.annotate('Значимые выбросы', xy=(0.95, -16.5), xytext=(0, -12),\n",
    "            arrowprops=dict(facecolor='black'),\n",
    "            fontsize=14)\n",
    "\n",
    "\n",
    "plt.show()"
   ]
  },
  {
   "cell_type": "code",
   "execution_count": null,
   "metadata": {
    "id": "4c0u78kQfoGE"
   },
   "outputs": [],
   "source": [
    "x = df['V10']\n",
    "\n"
   ]
  },
  {
   "cell_type": "code",
   "execution_count": null,
   "metadata": {
    "id": "9yD_CpeQfoGE",
    "outputId": "2a391248-3fc2-46a2-8c4a-0cf450e99a35"
   },
   "outputs": [
    {
     "data": {
      "text/plain": [
       "(-1.0321584820861296, 1.119758654101958)"
      ]
     },
     "execution_count": 30,
     "metadata": {
      "tags": []
     },
     "output_type": "execute_result"
    }
   ],
   "source": [
    "x.quantile(0.1), x.quantile(0.9)"
   ]
  },
  {
   "cell_type": "code",
   "execution_count": null,
   "metadata": {
    "id": "HVMw5U0XfoGE",
    "outputId": "bbc01aa3-3043-4999-b526-d748e5afc0d3"
   },
   "outputs": [
    {
     "data": {
      "text/plain": [
       "<matplotlib.axes._subplots.AxesSubplot at 0x11ce6ef98>"
      ]
     },
     "execution_count": 31,
     "metadata": {
      "tags": []
     },
     "output_type": "execute_result"
    },
    {
     "data": {
      "image/png": "[encoded data removed]",
      "text/plain": [
       "<Figure size 1152x288 with 4 Axes>"
      ]
     },
     "metadata": {
      "needs_background": "light",
      "tags": []
     },
     "output_type": "display_data"
    }
   ],
   "source": [
    "alpha = 0.05\n",
    "plt.figure(figsize=(16,4))\n",
    "plt.subplot(1,4,1); sns.distplot(x)\n",
    "plt.subplot(1,4,2); sns.distplot(x[x.between(x.quantile(alpha/2), x.quantile(1-alpha/2))])\n",
    "plt.subplot(1,4,3); sns.distplot(np.sign(x) * np.log(1+np.abs(x)))\n",
    "plt.subplot(1,4,4); sns.distplot(np.sign(x)*(np.abs(x)/(1+np.abs(x))))"
   ]
  },
  {
   "cell_type": "code",
   "execution_count": null,
   "metadata": {
    "id": "wdiMh_eTfoGE",
    "outputId": "0b76c91a-2f73-4061-fa70-a2b3e49a292b"
   },
   "outputs": [
    {
     "data": {
      "text/plain": [
       "<matplotlib.axes._subplots.AxesSubplot at 0x11becad30>"
      ]
     },
     "execution_count": 32,
     "metadata": {
      "tags": []
     },
     "output_type": "execute_result"
    },
    {
     "data": {
      "image/png": "[encoded data removed]",
      "text/plain": [
       "<Figure size 1152x288 with 1 Axes>"
      ]
     },
     "metadata": {
      "needs_background": "light",
      "tags": []
     },
     "output_type": "display_data"
    }
   ],
   "source": [
    "alpha = 0.05\n",
    "plt.figure(figsize=(16,4))\n",
    "#sns.distplot(x)\n",
    "sns.distplot(x[x.between(x.quantile(alpha/2), x.quantile(1-alpha/2))])\n",
    "sns.distplot(np.sign(x) * np.log(1+np.abs(x)))\n",
    "sns.distplot(np.sign(x)*(np.abs(x)/(1+np.abs(x))))"
   ]
  },
  {
   "cell_type": "code",
   "execution_count": null,
   "metadata": {
    "id": "p5zys5fxfoGF",
    "outputId": "dcf4a75a-eeda-44fb-b73f-a599336f2453"
   },
   "outputs": [
    {
     "data": {
      "text/plain": [
       "(-3.0, 3.0)"
      ]
     },
     "execution_count": 33,
     "metadata": {
      "tags": []
     },
     "output_type": "execute_result"
    },
    {
     "data": {
      "image/png": "[encoded data removed]",
      "text/plain": [
       "<Figure size 288x432 with 3 Axes>"
      ]
     },
     "metadata": {
      "needs_background": "light",
      "tags": []
     },
     "output_type": "display_data"
    }
   ],
   "source": [
    "plt.figure(figsize=(4,6))\n",
    "\n",
    "plt.subplot(3,1,1); sns.distplot(x[x.between(x.quantile(alpha/2), x.quantile(1-alpha/2))]) ; plt.xlim(-3,3)\n",
    "plt.subplot(3,1,2); sns.distplot(np.sign(x) * np.log(1+np.abs(x))) ; plt.xlim(-3,3)\n",
    "plt.subplot(3,1,3); sns.distplot(np.sign(x)*(np.abs(x)/(1+np.abs(x)))) ; plt.xlim(-3,3)\n",
    "\n",
    "#ticks"
   ]
  },
  {
   "cell_type": "code",
   "execution_count": null,
   "metadata": {
    "id": "pDkoOFvSfoGF",
    "outputId": "48bf7484-9427-418b-d967-5ae24189aec0"
   },
   "outputs": [
    {
     "data": {
      "text/plain": [
       "2.302585092994046"
      ]
     },
     "execution_count": 34,
     "metadata": {
      "tags": []
     },
     "output_type": "execute_result"
    }
   ],
   "source": [
    "np.log(10)"
   ]
  },
  {
   "cell_type": "code",
   "execution_count": null,
   "metadata": {
    "id": "opLaCqZZfoGF",
    "outputId": "bb901992-a983-4556-f7d9-b49b34600178"
   },
   "outputs": [
    {
     "data": {
      "text/plain": [
       "(0.9090909090909091, 0.9166666666666666)"
      ]
     },
     "execution_count": 35,
     "metadata": {
      "tags": []
     },
     "output_type": "execute_result"
    }
   ],
   "source": [
    "10/(10+1), 11/(11+1)"
   ]
  },
  {
   "cell_type": "code",
   "execution_count": null,
   "metadata": {
    "id": "JgWEW_vzfoGF"
   },
   "outputs": [],
   "source": [
    "x_log = np.sign(x) * np.log(1+np.abs(x))\n",
    "x_frac = np.sign(x)*(np.abs(x)/(1+np.abs(x)))"
   ]
  },
  {
   "cell_type": "code",
   "execution_count": null,
   "metadata": {
    "id": "67mfGs8vfoGF"
   },
   "outputs": [],
   "source": [
    "xx = pd.concat([x, x_log, x_frac],axis=1)\n",
    "xx.columns = ['original', 'log(1+x)', 'x/(x+1)']"
   ]
  },
  {
   "cell_type": "code",
   "execution_count": null,
   "metadata": {
    "id": "UL5PP2vqfoGF",
    "outputId": "a4ab7db9-c203-4f6b-c9dd-b9e336be6eae"
   },
   "outputs": [
    {
     "data": {
      "image/png": "[encoded data removed]",
      "text/plain": [
       "<Figure size 648x648 with 9 Axes>"
      ]
     },
     "metadata": {
      "needs_background": "light",
      "tags": []
     },
     "output_type": "display_data"
    }
   ],
   "source": [
    "sns.pairplot(xx.sample(1000), corner=True, size=3)\n",
    "plt.show()"
   ]
  },
  {
   "cell_type": "code",
   "execution_count": null,
   "metadata": {
    "id": "P17p6IWnf1r3"
   },
   "outputs": [],
   "source": [
    "from sklearn.metrics import roc_auc_score"
   ]
  },
  {
   "cell_type": "code",
   "execution_count": null,
   "metadata": {
    "id": "kl70J9owfoGF"
   },
   "outputs": [],
   "source": [
    "a = 5\n",
    "b = 5\n",
    "c = 5\n",
    "n = a+b+c\n",
    "\n",
    "y_true_ = a*[0] + c*[1] + b*[0]\n",
    "\n",
    "\n",
    "pred_proba_ = [round(x/n,3) for x in range(n)]"
   ]
  },
  {
   "cell_type": "code",
   "execution_count": null,
   "metadata": {
    "colab": {
     "base_uri": "https://localhost:8080/"
    },
    "id": "dlhy6GvZfoGF",
    "outputId": "f3a2530e-8fc2-47f9-fecb-223dbf8957a0"
   },
   "outputs": [
    {
     "name": "stdout",
     "output_type": "stream",
     "text": [
      "y\t0\t0\t0\t0\t0\t1\t1\t1\t1\t1\t0\t0\t0\t0\t0\n",
      "p(y=1)\t0.0\t0.067\t0.133\t0.2\t0.267\t0.333\t0.4\t0.467\t0.533\t0.6\t0.667\t0.733\t0.8\t0.867\t0.933\n",
      "\n",
      "roc_auc_score =  0.5\n"
     ]
    }
   ],
   "source": [
    "print(*['y'] + y_true_, sep='\\t')\n",
    "print(*['p(y=1)'] + pred_proba_, sep='\\t')\n",
    "print()\n",
    "print('roc_auc_score = ',roc_auc_score(y_true_, pred_proba_))"
   ]
  },
  {
   "cell_type": "code",
   "execution_count": null,
   "metadata": {
    "id": "v-1vOfa5foGG"
   },
   "outputs": [],
   "source": [
    "# zeros\n",
    "a = 3\n",
    "b = 2\n",
    "e = 1\n",
    "\n",
    "n_zeros = a+b+e\n",
    "\n",
    "# ones\n",
    "d = 2\n",
    "c = 1\n",
    "n_ones = d+c\n",
    "\n",
    "\n",
    "\n",
    "\n",
    "n = a+b+c+d+e\n",
    "\n",
    "y_true_ = a*[0] + c*[1] + e*[0] + d*[1] + b*[0]\n",
    "\n",
    "\n",
    "pred_proba_ = [round(x/n,3) for x in range(n)]"
   ]
  },
  {
   "cell_type": "code",
   "execution_count": null,
   "metadata": {
    "colab": {
     "base_uri": "https://localhost:8080/"
    },
    "id": "noGoRrWgfoGG",
    "outputId": "5bd5c62d-a709-4221-ae36-066e9f1d11c3"
   },
   "outputs": [
    {
     "name": "stdout",
     "output_type": "stream",
     "text": [
      "y\t0\t0\t0\t1\t0\t1\t1\t0\t0\n",
      "p(y=1)\t0.0\t0.111\t0.222\t0.333\t0.444\t0.556\t0.667\t0.778\t0.889\n",
      "\n",
      "roc_auc_score =  0.6111111111111112\n"
     ]
    }
   ],
   "source": [
    "print(*['y'] + y_true_, sep='\\t')\n",
    "print(*['p(y=1)'] + pred_proba_, sep='\\t')\n",
    "print()\n",
    "print('roc_auc_score = ',roc_auc_score(y_true_, pred_proba_))"
   ]
  },
  {
   "cell_type": "code",
   "execution_count": null,
   "metadata": {
    "colab": {
     "base_uri": "https://localhost:8080/"
    },
    "id": "toFgQLuxfoGG",
    "outputId": "9499cad8-c349-4944-b1f3-2f78532d02bf"
   },
   "outputs": [
    {
     "data": {
      "text/plain": [
       "0.6111111111111112"
      ]
     },
     "execution_count": 8,
     "metadata": {
      "tags": []
     },
     "output_type": "execute_result"
    }
   ],
   "source": [
    "(a*c + d*(a+e)) / (n_zeros*n_ones)"
   ]
  },
  {
   "cell_type": "code",
   "execution_count": null,
   "metadata": {
    "id": "R1fJDScXfwpB"
   },
   "outputs": [],
   "source": [
    "# zeros\n",
    "z1 = 3\n",
    "z2 = 2\n",
    "z3 = 1\n",
    "\n",
    "n_zeros = z1+z2+z3\n",
    "\n",
    "# ones\n",
    "o1 = 1\n",
    "o2 = 2\n",
    "o3 = 3\n",
    "n_ones = o1+o2+o3\n",
    "\n",
    "\n",
    "\n",
    "\n",
    "n = n_zeros + n_ones\n",
    "\n",
    "y_true_ = z1*[0] + o1*[1] + z2*[0] + o2*[1] + z3*[0] + o3*[1]\n",
    "\n",
    "\n",
    "pred_proba_ = [round(x/n,3) for x in range(n)]"
   ]
  },
  {
   "cell_type": "code",
   "execution_count": null,
   "metadata": {
    "colab": {
     "base_uri": "https://localhost:8080/"
    },
    "id": "gFI4RzjZgYNe",
    "outputId": "b062b7d3-93a5-4bfb-c307-cc26bdc3c9bb"
   },
   "outputs": [
    {
     "name": "stdout",
     "output_type": "stream",
     "text": [
      "y\t0\t0\t0\t1\t0\t0\t1\t1\t0\t1\t1\t1\n",
      "p(y=1)\t0.0\t0.083\t0.167\t0.25\t0.333\t0.417\t0.5\t0.583\t0.667\t0.75\t0.833\t0.917\n",
      "\n",
      "roc_auc_score =  0.8611111111111112\n"
     ]
    }
   ],
   "source": [
    "print(*['y'] + y_true_, sep='\\t')\n",
    "print(*['p(y=1)'] + pred_proba_, sep='\\t')\n",
    "print()\n",
    "print('roc_auc_score = ',roc_auc_score(y_true_, pred_proba_))"
   ]
  },
  {
   "cell_type": "code",
   "execution_count": null,
   "metadata": {
    "id": "XYSrCnFvfoGG"
   },
   "outputs": [],
   "source": [
    "from sklearn.metrics import precision_recall_curve\n",
    "precision, recall, thresholds = precision_recall_curve(y_true_, pred_proba_,)\n"
   ]
  },
  {
   "cell_type": "code",
   "execution_count": null,
   "metadata": {
    "colab": {
     "base_uri": "https://localhost:8080/"
    },
    "id": "uSHfDowkfoGG",
    "outputId": "7c2eda08-db83-43ce-c8af-d52b3a712a6b"
   },
   "outputs": [
    {
     "data": {
      "text/plain": [
       "(array([0.66666667, 0.625     , 0.71428571, 0.83333333, 0.8       ,\n",
       "        0.75      , 1.        , 1.        , 1.        , 1.        ]),\n",
       " array([1.        , 0.83333333, 0.83333333, 0.83333333, 0.66666667,\n",
       "        0.5       , 0.5       , 0.33333333, 0.16666667, 0.        ]),\n",
       " array([0.25 , 0.333, 0.417, 0.5  , 0.583, 0.667, 0.75 , 0.833, 0.917]))"
      ]
     },
     "execution_count": 19,
     "metadata": {
      "tags": []
     },
     "output_type": "execute_result"
    }
   ],
   "source": [
    "precision, recall, thresholds"
   ]
  },
  {
   "cell_type": "code",
   "execution_count": null,
   "metadata": {
    "colab": {
     "base_uri": "https://localhost:8080/"
    },
    "id": "0yH46EANfoGG",
    "outputId": "dd470acb-27ed-44a6-c1f7-d3878e2d847f"
   },
   "outputs": [
    {
     "data": {
      "text/plain": [
       "array([0.8       , 0.71428571, 0.76923077, 0.83333333, 0.72727273,\n",
       "       0.6       , 0.66666667, 0.5       , 0.28571429, 0.        ])"
      ]
     },
     "execution_count": 20,
     "metadata": {
      "tags": []
     },
     "output_type": "execute_result"
    }
   ],
   "source": [
    "f1_m = 2*precision*recall/(precision+recall)\n",
    "f1_m"
   ]
  },
  {
   "cell_type": "code",
   "execution_count": null,
   "metadata": {
    "colab": {
     "base_uri": "https://localhost:8080/"
    },
    "id": "mqJjSA30foGG",
    "outputId": "8dd33b07-48df-4ea5-8702-20860d16388e"
   },
   "outputs": [
    {
     "data": {
      "text/plain": [
       "0.5"
      ]
     },
     "execution_count": 21,
     "metadata": {
      "tags": []
     },
     "output_type": "execute_result"
    }
   ],
   "source": [
    "thresholds[f1_m.argmax()]"
   ]
  },
  {
   "cell_type": "code",
   "execution_count": null,
   "metadata": {
    "colab": {
     "base_uri": "https://localhost:8080/",
     "height": 268
    },
    "id": "6GD3PZ5ufoGG",
    "outputId": "23aaeea6-e8f4-44b9-c235-392011f2a12d"
   },
   "outputs": [
    {
     "data": {
      "image/png": "[encoded data removed]",
      "text/plain": [
       "<Figure size 432x288 with 1 Axes>"
      ]
     },
     "metadata": {
      "needs_background": "light",
      "tags": []
     },
     "output_type": "display_data"
    }
   ],
   "source": [
    "plt.plot(recall, precision)\n",
    "plt.xlim(0,1)\n",
    "plt.ylim(0,1)\n",
    "plt.grid(True)"
   ]
  },
  {
   "cell_type": "markdown",
   "metadata": {
    "_cell_guid": "cb2c480a-090a-4cfb-b12e-3b74c325826c",
    "_uuid": "1b63bfd92008043cc1a336f924c835e73792f6d8",
    "id": "J49Wn5xYfoGH"
   },
   "source": [
    "#### Применение логистической регрессии"
   ]
  },
  {
   "cell_type": "code",
   "execution_count": null,
   "metadata": {
    "_cell_guid": "85ce8738-7599-4b06-a722-5c0ed073599b",
    "_kg_hide-input": true,
    "_uuid": "e3751d88766a982119e522e27a9c0c647f20af85",
    "id": "XWVfwAWpfoGH"
   },
   "outputs": [],
   "source": [
    "X = new_df.drop('Class', axis=1)\n",
    "y = new_df['Class']"
   ]
  },
  {
   "cell_type": "code",
   "execution_count": null,
   "metadata": {
    "_cell_guid": "288a65b7-8b86-44b1-973d-38dbcfe82bbb",
    "_kg_hide-input": true,
    "_uuid": "fb0a479efaa7147d6702c2c24083f1118621863f",
    "id": "cU8rfLA8foGH"
   },
   "outputs": [],
   "source": [
    "from sklearn.model_selection import train_test_split\n",
    "\n",
    "X_train, X_test, y_train, y_test = train_test_split(X, y, test_size=0.2, random_state=42)"
   ]
  },
  {
   "cell_type": "code",
   "execution_count": null,
   "metadata": {
    "id": "6xu9JYcjfoGH",
    "outputId": "af86af3b-c9ae-461f-d30a-27519e03db20"
   },
   "outputs": [
    {
     "data": {
      "text/plain": [
       "(83, 374)"
      ]
     },
     "execution_count": 46,
     "metadata": {
      "tags": []
     },
     "output_type": "execute_result"
    }
   ],
   "source": [
    "y_test.sum(), y_train.sum()"
   ]
  },
  {
   "cell_type": "code",
   "execution_count": null,
   "metadata": {
    "_cell_guid": "bccd5685-a979-451e-85b3-1cb968523540",
    "_kg_hide-input": true,
    "_uuid": "28f5178089d2d133b9e7478c1c7dc7a1f98aabee",
    "id": "ys4vvW1MfoGH"
   },
   "outputs": [],
   "source": [
    "X_train = X_train.values\n",
    "X_test = X_test.values\n",
    "y_train = y_train.values\n",
    "y_test = y_test.values"
   ]
  },
  {
   "cell_type": "code",
   "execution_count": null,
   "metadata": {
    "id": "HdGVNdODfoGH",
    "outputId": "77271c7c-cda2-4992-b817-e1cc8408efb0"
   },
   "outputs": [
    {
     "data": {
      "text/html": [
       "<div>\n",
       "<style scoped>\n",
       "    .dataframe tbody tr th:only-of-type {\n",
       "        vertical-align: middle;\n",
       "    }\n",
       "\n",
       "    .dataframe tbody tr th {\n",
       "        vertical-align: top;\n",
       "    }\n",
       "\n",
       "    .dataframe thead th {\n",
       "        text-align: right;\n",
       "    }\n",
       "</style>\n",
       "<table border=\"1\" class=\"dataframe\">\n",
       "  <thead>\n",
       "    <tr style=\"text-align: right;\">\n",
       "      <th></th>\n",
       "      <th>scaled_amount</th>\n",
       "      <th>scaled_time</th>\n",
       "      <th>V1</th>\n",
       "      <th>V2</th>\n",
       "      <th>V3</th>\n",
       "      <th>V4</th>\n",
       "      <th>V5</th>\n",
       "      <th>V6</th>\n",
       "      <th>V7</th>\n",
       "      <th>V8</th>\n",
       "      <th>...</th>\n",
       "      <th>V20</th>\n",
       "      <th>V21</th>\n",
       "      <th>V22</th>\n",
       "      <th>V23</th>\n",
       "      <th>V24</th>\n",
       "      <th>V25</th>\n",
       "      <th>V26</th>\n",
       "      <th>V27</th>\n",
       "      <th>V28</th>\n",
       "      <th>Class</th>\n",
       "    </tr>\n",
       "  </thead>\n",
       "  <tbody>\n",
       "    <tr>\n",
       "      <th>63181</th>\n",
       "      <td>0.374208</td>\n",
       "      <td>-0.400580</td>\n",
       "      <td>1.256487</td>\n",
       "      <td>-0.603403</td>\n",
       "      <td>0.635983</td>\n",
       "      <td>-0.697761</td>\n",
       "      <td>-1.179775</td>\n",
       "      <td>-0.819127</td>\n",
       "      <td>-0.556335</td>\n",
       "      <td>-0.095210</td>\n",
       "      <td>...</td>\n",
       "      <td>0.193164</td>\n",
       "      <td>0.003086</td>\n",
       "      <td>-0.242117</td>\n",
       "      <td>0.101068</td>\n",
       "      <td>0.521166</td>\n",
       "      <td>0.166605</td>\n",
       "      <td>-0.517450</td>\n",
       "      <td>-0.000114</td>\n",
       "      <td>0.023669</td>\n",
       "      <td>0</td>\n",
       "    </tr>\n",
       "    <tr>\n",
       "      <th>221700</th>\n",
       "      <td>0.393615</td>\n",
       "      <td>0.681070</td>\n",
       "      <td>1.938987</td>\n",
       "      <td>-1.049651</td>\n",
       "      <td>-0.609937</td>\n",
       "      <td>-1.298691</td>\n",
       "      <td>-1.224564</td>\n",
       "      <td>-1.012962</td>\n",
       "      <td>-0.694319</td>\n",
       "      <td>-0.081083</td>\n",
       "      <td>...</td>\n",
       "      <td>-0.164867</td>\n",
       "      <td>0.272853</td>\n",
       "      <td>0.966336</td>\n",
       "      <td>0.036345</td>\n",
       "      <td>0.028418</td>\n",
       "      <td>-0.094860</td>\n",
       "      <td>-0.062478</td>\n",
       "      <td>0.024693</td>\n",
       "      <td>-0.038157</td>\n",
       "      <td>0</td>\n",
       "    </tr>\n",
       "    <tr>\n",
       "      <th>102310</th>\n",
       "      <td>0.200997</td>\n",
       "      <td>-0.194492</td>\n",
       "      <td>-1.288253</td>\n",
       "      <td>-0.624487</td>\n",
       "      <td>3.159950</td>\n",
       "      <td>-2.071732</td>\n",
       "      <td>-1.570901</td>\n",
       "      <td>1.103406</td>\n",
       "      <td>-0.997901</td>\n",
       "      <td>0.351372</td>\n",
       "      <td>...</td>\n",
       "      <td>0.068034</td>\n",
       "      <td>-0.305733</td>\n",
       "      <td>0.495012</td>\n",
       "      <td>-0.239546</td>\n",
       "      <td>0.140642</td>\n",
       "      <td>0.402620</td>\n",
       "      <td>-0.092876</td>\n",
       "      <td>0.470639</td>\n",
       "      <td>0.075448</td>\n",
       "      <td>0</td>\n",
       "    </tr>\n",
       "    <tr>\n",
       "      <th>14027</th>\n",
       "      <td>0.666932</td>\n",
       "      <td>-0.701794</td>\n",
       "      <td>-1.034667</td>\n",
       "      <td>-0.097239</td>\n",
       "      <td>2.188392</td>\n",
       "      <td>-2.826483</td>\n",
       "      <td>-0.578737</td>\n",
       "      <td>-0.180772</td>\n",
       "      <td>0.462625</td>\n",
       "      <td>0.127515</td>\n",
       "      <td>...</td>\n",
       "      <td>0.018946</td>\n",
       "      <td>0.219840</td>\n",
       "      <td>0.833937</td>\n",
       "      <td>-0.015312</td>\n",
       "      <td>0.221796</td>\n",
       "      <td>0.151584</td>\n",
       "      <td>-0.264912</td>\n",
       "      <td>0.036119</td>\n",
       "      <td>0.095040</td>\n",
       "      <td>0</td>\n",
       "    </tr>\n",
       "    <tr>\n",
       "      <th>239350</th>\n",
       "      <td>-0.988103</td>\n",
       "      <td>0.767984</td>\n",
       "      <td>2.025408</td>\n",
       "      <td>-0.182197</td>\n",
       "      <td>-3.124741</td>\n",
       "      <td>-0.351013</td>\n",
       "      <td>2.606837</td>\n",
       "      <td>3.283100</td>\n",
       "      <td>-0.567525</td>\n",
       "      <td>0.834910</td>\n",
       "      <td>...</td>\n",
       "      <td>-0.116550</td>\n",
       "      <td>-0.037280</td>\n",
       "      <td>0.099739</td>\n",
       "      <td>0.080699</td>\n",
       "      <td>0.631398</td>\n",
       "      <td>0.127218</td>\n",
       "      <td>0.660080</td>\n",
       "      <td>-0.021093</td>\n",
       "      <td>-0.037461</td>\n",
       "      <td>0</td>\n",
       "    </tr>\n",
       "  </tbody>\n",
       "</table>\n",
       "<p>5 rows × 31 columns</p>\n",
       "</div>"
      ],
      "text/plain": [
       "        scaled_amount  scaled_time        V1        V2        V3        V4  \\\n",
       "63181        0.374208    -0.400580  1.256487 -0.603403  0.635983 -0.697761   \n",
       "221700       0.393615     0.681070  1.938987 -1.049651 -0.609937 -1.298691   \n",
       "102310       0.200997    -0.194492 -1.288253 -0.624487  3.159950 -2.071732   \n",
       "14027        0.666932    -0.701794 -1.034667 -0.097239  2.188392 -2.826483   \n",
       "239350      -0.988103     0.767984  2.025408 -0.182197 -3.124741 -0.351013   \n",
       "\n",
       "              V5        V6        V7        V8  ...       V20       V21  \\\n",
       "63181  -1.179775 -0.819127 -0.556335 -0.095210  ...  0.193164  0.003086   \n",
       "221700 -1.224564 -1.012962 -0.694319 -0.081083  ... -0.164867  0.272853   \n",
       "102310 -1.570901  1.103406 -0.997901  0.351372  ...  0.068034 -0.305733   \n",
       "14027  -0.578737 -0.180772  0.462625  0.127515  ...  0.018946  0.219840   \n",
       "239350  2.606837  3.283100 -0.567525  0.834910  ... -0.116550 -0.037280   \n",
       "\n",
       "             V22       V23       V24       V25       V26       V27       V28  \\\n",
       "63181  -0.242117  0.101068  0.521166  0.166605 -0.517450 -0.000114  0.023669   \n",
       "221700  0.966336  0.036345  0.028418 -0.094860 -0.062478  0.024693 -0.038157   \n",
       "102310  0.495012 -0.239546  0.140642  0.402620 -0.092876  0.470639  0.075448   \n",
       "14027   0.833937 -0.015312  0.221796  0.151584 -0.264912  0.036119  0.095040   \n",
       "239350  0.099739  0.080699  0.631398  0.127218  0.660080 -0.021093 -0.037461   \n",
       "\n",
       "        Class  \n",
       "63181       0  \n",
       "221700      0  \n",
       "102310      0  \n",
       "14027       0  \n",
       "239350      0  \n",
       "\n",
       "[5 rows x 31 columns]"
      ]
     },
     "execution_count": 48,
     "metadata": {
      "tags": []
     },
     "output_type": "execute_result"
    }
   ],
   "source": [
    "df.sample(5)"
   ]
  },
  {
   "cell_type": "code",
   "execution_count": null,
   "metadata": {
    "id": "oLrFd-dUfoGH",
    "outputId": "e8ceb184-4e35-439c-eea6-05dab6792e26"
   },
   "outputs": [
    {
     "data": {
      "text/plain": [
       "dict_keys(['explained_variance', 'r2', 'max_error', 'neg_median_absolute_error', 'neg_mean_absolute_error', 'neg_mean_squared_error', 'neg_mean_squared_log_error', 'neg_root_mean_squared_error', 'neg_mean_poisson_deviance', 'neg_mean_gamma_deviance', 'accuracy', 'roc_auc', 'roc_auc_ovr', 'roc_auc_ovo', 'roc_auc_ovr_weighted', 'roc_auc_ovo_weighted', 'balanced_accuracy', 'average_precision', 'neg_log_loss', 'neg_brier_score', 'adjusted_rand_score', 'homogeneity_score', 'completeness_score', 'v_measure_score', 'mutual_info_score', 'adjusted_mutual_info_score', 'normalized_mutual_info_score', 'fowlkes_mallows_score', 'precision', 'precision_macro', 'precision_micro', 'precision_samples', 'precision_weighted', 'recall', 'recall_macro', 'recall_micro', 'recall_samples', 'recall_weighted', 'f1', 'f1_macro', 'f1_micro', 'f1_samples', 'f1_weighted', 'jaccard', 'jaccard_macro', 'jaccard_micro', 'jaccard_samples', 'jaccard_weighted'])"
      ]
     },
     "execution_count": 49,
     "metadata": {
      "tags": []
     },
     "output_type": "execute_result"
    }
   ],
   "source": [
    "from sklearn.metrics import SCORERS\n",
    "SCORERS.keys()"
   ]
  },
  {
   "cell_type": "code",
   "execution_count": null,
   "metadata": {
    "_cell_guid": "eb37c0f6-9cfe-48b6-92d3-475d5e6767a6",
    "_kg_hide-input": true,
    "_uuid": "fe129af379caccc5428cf1836e6c96bd32e68feb",
    "id": "O42RCgr0foGH",
    "outputId": "1660c78a-179a-456c-8b17-03b62c7f61e0"
   },
   "outputs": [
    {
     "data": {
      "text/plain": [
       "array([0.91922006, 0.91056911, 0.92391304, 0.93224932, 0.91256831,\n",
       "       0.92183288, 0.92432432, 0.92265193, 0.91935484, 0.9137931 ,\n",
       "       0.93224932, 0.91598916, 0.91620112, 0.91351351, 0.9260274 ,\n",
       "       0.94054054, 0.92307692, 0.92934783, 0.92631579, 0.9121813 ])"
      ]
     },
     "execution_count": 50,
     "metadata": {
      "tags": []
     },
     "output_type": "execute_result"
    }
   ],
   "source": [
    "from sklearn.model_selection import StratifiedShuffleSplit\n",
    "from sklearn.model_selection import cross_val_score\n",
    "sss = StratifiedShuffleSplit(n_splits=20, test_size=0.5, random_state=0)\n",
    "\n",
    "\n",
    "clf = LogisticRegression()\n",
    "clf.fit(X_train, y_train)\n",
    "training_score = cross_val_score(clf, X_train, y_train, cv=sss, scoring='f1')\n",
    "training_score"
   ]
  },
  {
   "cell_type": "code",
   "execution_count": null,
   "metadata": {
    "id": "C7CGY_LufoGI",
    "outputId": "276d6be9-f0dc-4e74-aa63-441962596ac9"
   },
   "outputs": [
    {
     "data": {
      "text/plain": [
       "<matplotlib.axes._subplots.AxesSubplot at 0x11cfcac88>"
      ]
     },
     "execution_count": 51,
     "metadata": {
      "tags": []
     },
     "output_type": "execute_result"
    },
    {
     "data": {
      "image/png": "[encoded data removed]",
      "text/plain": [
       "<Figure size 432x288 with 1 Axes>"
      ]
     },
     "metadata": {
      "needs_background": "light",
      "tags": []
     },
     "output_type": "display_data"
    }
   ],
   "source": [
    "sns.boxplot(training_score)"
   ]
  },
  {
   "cell_type": "code",
   "execution_count": null,
   "metadata": {
    "_cell_guid": "a1c35773-f4c7-4caf-9911-532784c9eae0",
    "_kg_hide-input": true,
    "_uuid": "d15b1ab16737358806e34c48dc57aa238cf0cfd2",
    "id": "62s7j3tIfoGI"
   },
   "outputs": [],
   "source": [
    "from sklearn.model_selection import GridSearchCV\n",
    "\n",
    "log_reg_params = {\"penalty\": ['l1', 'l2'], 'C': [0.001, 0.01, 0.1, 1, 10, 100, 1000]}\n",
    "\n",
    "grid_log_reg = GridSearchCV(LogisticRegression(), log_reg_params)\n",
    "grid_log_reg.fit(X_train, y_train)\n",
    "log_reg = grid_log_reg.best_estimator_"
   ]
  },
  {
   "cell_type": "code",
   "execution_count": null,
   "metadata": {
    "id": "-NXzQJ2yfoGI",
    "outputId": "ac71b056-9011-409b-9b0c-a7f1b725f946"
   },
   "outputs": [
    {
     "data": {
      "text/plain": [
       "{'C': 0.1, 'penalty': 'l2'}"
      ]
     },
     "execution_count": 53,
     "metadata": {
      "tags": []
     },
     "output_type": "execute_result"
    }
   ],
   "source": [
    "grid_log_reg.best_params_"
   ]
  },
  {
   "cell_type": "code",
   "execution_count": null,
   "metadata": {
    "_cell_guid": "7f327bcd-335f-4e49-af07-fc4214dbcbdc",
    "_kg_hide-input": true,
    "_uuid": "1b2108bf377b924ed8a6efe580d9e162a132cd9e",
    "id": "jdTb7xtrfoGI",
    "outputId": "8f961ca8-6825-4d4f-b29e-18b1a2a4c94f"
   },
   "outputs": [
    {
     "name": "stdout",
     "output_type": "stream",
     "text": [
      "Logistic Regression Cross Validation Score:  93.24%\n"
     ]
    }
   ],
   "source": [
    "log_reg_score = cross_val_score(log_reg, X_train, y_train, cv=5)\n",
    "print('Logistic Regression Cross Validation Score: ', round(log_reg_score.mean() * 100, 2).astype(str) + '%')"
   ]
  },
  {
   "cell_type": "code",
   "execution_count": null,
   "metadata": {
    "id": "pa0fP1m5foGI",
    "outputId": "39e4f0a9-b62f-44f4-8c37-2d0b678e1a60"
   },
   "outputs": [
    {
     "data": {
      "text/plain": [
       "StratifiedShuffleSplit(n_splits=20, random_state=0, test_size=0.5,\n",
       "            train_size=None)"
      ]
     },
     "execution_count": 55,
     "metadata": {
      "tags": []
     },
     "output_type": "execute_result"
    }
   ],
   "source": [
    "sss"
   ]
  },
  {
   "cell_type": "code",
   "execution_count": null,
   "metadata": {
    "_cell_guid": "38e430ef-0160-47a1-9b6f-11ff62c5ecc0",
    "_kg_hide-input": true,
    "_uuid": "eeb5736b279bb8fa3804689a175394f216ec4f72",
    "id": "81ghhQMAfoGI",
    "outputId": "2293769b-e1a4-420c-8a2b-7cc53a74be46"
   },
   "outputs": [
    {
     "name": "stdout",
     "output_type": "stream",
     "text": [
      "Train: [  7244  16363 266415 ...  22302 269950 175903] Test: [248004 159691 259913 ...  46238 257061  29299]\n",
      "Train: [168397 159255 106759 ... 154293  98730  85491] Test: [116072   5039 191883 ...  57179 147184 159773]\n",
      "Train: [247579  16169  62312 ...  72327 161705 123891] Test: [175974  72818 262960 ...  84661 187427  81685]\n",
      "Train: [164739 136012 137760 ... 128061 224697 234652] Test: [173295 178910 182604 ... 271467 195352  65077]\n",
      "Train: [128553  53610  22854 ...  34690  37133 236654] Test: [279788  62142  53156 ... 241846  56815 154922]\n",
      "Train: [181583 216037 182811 ...  18858 266131  89078] Test: [156070  87830 257217 ...  76595 227381 262660]\n",
      "Train: [162182    465 187742 ... 160514  77662 237114] Test: [ 91372  85283 145878 ... 190517 144551 177983]\n",
      "Train: [168222 139000 147746 ... 213723 153648 258579] Test: [246154 236987  67698 ... 189330   1466  67673]\n",
      "Train: [182036  16813  48763 ...  54753 181385  38489] Test: [272681 192692 250347 ... 265957  77912  14210]\n",
      "Train: [129172   2242  96701 ... 263123 197990 247739] Test: [105383 255742 282101 ...  79327 284737 169073]\n",
      "Train: [268700 227718 202603 ... 168024 169025  55622] Test: [211636  64813 129210 ... 230069 111071 105471]\n",
      "Train: [245652 216105 256982 ... 276761 146053 215668] Test: [ 78230 242060 122224 ... 201202  85163  93035]\n",
      "Train: [ 36417 170985 174498 ... 218379 161653  76996] Test: [ 44055 280164  84422 ...  95827 163607 138208]\n",
      "Train: [109421 221275 252715 ...    155  97896 215730] Test: [ 44336 168050  97876 ... 104565  50703  70243]\n",
      "Train: [250694 107776 140468 ... 202039  56832 162321] Test: [ 24428 201900 153941 ...  48966  81804   7065]\n",
      "Train: [232901  22659  79487 ... 162185 242174 116166] Test: [234636 174167 140977 ... 155298  10821 236186]\n",
      "Train: [ 41654  77361  91792 ...  93662  33259 105017] Test: [274725 264756  51096 ...  91722 114648  13080]\n",
      "Train: [ 69371  17170 275357 ...  22942  33956   9564] Test: [ 50487   4252  29124 ... 255299 211256  89420]\n",
      "Train: [146715   6453 184871 ... 222378  33482   7127] Test: [152284 111856 145849 ...    502  92210 214369]\n",
      "Train: [ 67358  56026  30446 ... 174908  69659  51906] Test: [201460 144653  48190 ... 247156  65993  80091]\n",
      "NearMiss Label Distribution: Counter({0: 492, 1: 492})\n"
     ]
    }
   ],
   "source": [
    "undersample_X = df.drop('Class', axis=1)\n",
    "undersample_y = df['Class']\n",
    "\n",
    "for train_index, test_index in sss.split(undersample_X, undersample_y):\n",
    "    print(\"Train:\", train_index, \"Test:\", test_index)\n",
    "    undersample_Xtrain, undersample_Xtest = undersample_X.iloc[train_index], undersample_X.iloc[test_index]\n",
    "    undersample_ytrain, undersample_ytest = undersample_y.iloc[train_index], undersample_y.iloc[test_index]\n",
    "    \n",
    "undersample_Xtrain = undersample_Xtrain.values\n",
    "undersample_Xtest = undersample_Xtest.values\n",
    "undersample_ytrain = undersample_ytrain.values\n",
    "undersample_ytest = undersample_ytest.values \n",
    "\n",
    "undersample_accuracy = []\n",
    "undersample_precision = []\n",
    "undersample_recall = []\n",
    "undersample_f1 = []\n",
    "undersample_auc = []\n",
    "\n",
    "# NearMiss техника\n",
    "X_nearmiss, y_nearmiss = NearMiss().fit_sample(undersample_X.values, undersample_y.values)\n",
    "print('NearMiss Label Distribution: {}'.format(Counter(y_nearmiss)))\n",
    "\n",
    "for train, test in sss.split(undersample_Xtrain, undersample_ytrain):\n",
    "    undersample_pipeline = imbalanced_make_pipeline(NearMiss(sampling_strategy='majority'), log_reg) \n",
    "    undersample_model = undersample_pipeline.fit(undersample_Xtrain[train], undersample_ytrain[train])\n",
    "    undersample_prediction = undersample_model.predict(undersample_Xtrain[test])\n",
    "    \n",
    "    undersample_accuracy.append(undersample_pipeline.score(original_Xtrain[test], original_ytrain[test]))\n",
    "    undersample_precision.append(precision_score(original_ytrain[test], undersample_prediction))\n",
    "    undersample_recall.append(recall_score(original_ytrain[test], undersample_prediction))\n",
    "    undersample_f1.append(f1_score(original_ytrain[test], undersample_prediction))\n",
    "    undersample_auc.append(\n",
    "        roc_auc_score(original_ytrain[test], \n",
    "        undersample_model.predict_proba(undersample_Xtrain[test])[:,1]                                \n",
    "                                        ))"
   ]
  },
  {
   "cell_type": "code",
   "execution_count": null,
   "metadata": {
    "id": "F1n7h3csfoGJ",
    "outputId": "b0aa6433-8b65-4594-b12d-253c28fe0cec"
   },
   "outputs": [
    {
     "data": {
      "text/plain": [
       "0.22767508122624797"
      ]
     },
     "execution_count": 57,
     "metadata": {
      "tags": []
     },
     "output_type": "execute_result"
    }
   ],
   "source": [
    "np.mean(undersample_recall)"
   ]
  },
  {
   "cell_type": "code",
   "execution_count": null,
   "metadata": {
    "id": "srptqWM2foGL",
    "outputId": "63de6b7e-bbfb-4fc8-d011-54270fdf23ca"
   },
   "outputs": [
    {
     "data": {
      "text/plain": [
       "0.0016608187037321135"
      ]
     },
     "execution_count": 58,
     "metadata": {
      "tags": []
     },
     "output_type": "execute_result"
    }
   ],
   "source": [
    "np.mean(undersample_precision)"
   ]
  },
  {
   "cell_type": "code",
   "execution_count": null,
   "metadata": {
    "id": "1YXM-9rvfoGM",
    "outputId": "96f81c52-891a-498d-9060-d480ab8abe3f"
   },
   "outputs": [
    {
     "data": {
      "text/plain": [
       "0.47375086511086595"
      ]
     },
     "execution_count": 59,
     "metadata": {
      "tags": []
     },
     "output_type": "execute_result"
    }
   ],
   "source": [
    "np.mean(undersample_auc)"
   ]
  },
  {
   "cell_type": "code",
   "execution_count": null,
   "metadata": {
    "id": "etNMyY8ufoGM",
    "outputId": "97d4ff1d-f3d0-440f-881b-42eee34076df"
   },
   "outputs": [
    {
     "data": {
      "text/plain": [
       "17950"
      ]
     },
     "execution_count": 60,
     "metadata": {
      "tags": []
     },
     "output_type": "execute_result"
    }
   ],
   "source": [
    "undersample_prediction.sum()"
   ]
  },
  {
   "cell_type": "code",
   "execution_count": null,
   "metadata": {
    "id": "hPklcj9WfoGM",
    "outputId": "003247ad-a43b-4762-fe79-3f50689b487b"
   },
   "outputs": [
    {
     "data": {
      "text/plain": [
       "71202"
      ]
     },
     "execution_count": 61,
     "metadata": {
      "tags": []
     },
     "output_type": "execute_result"
    }
   ],
   "source": [
    "len(undersample_prediction)"
   ]
  },
  {
   "cell_type": "code",
   "execution_count": null,
   "metadata": {
    "id": "Q3fbeTKKfoGN"
   },
   "outputs": [],
   "source": [
    "rock = pd.DataFrame([undersample_model.predict_proba(undersample_Xtrain[test])[:,1], original_ytrain[test]])"
   ]
  },
  {
   "cell_type": "code",
   "execution_count": null,
   "metadata": {
    "id": "e4-0VdQbfoGN"
   },
   "outputs": [],
   "source": [
    "rock = rock.T"
   ]
  },
  {
   "cell_type": "code",
   "execution_count": null,
   "metadata": {
    "id": "diIzShkDfoGN"
   },
   "outputs": [],
   "source": [
    "rock.columns = ['proba','class']"
   ]
  },
  {
   "cell_type": "code",
   "execution_count": null,
   "metadata": {
    "id": "cY4Zy7vZfoGN"
   },
   "outputs": [],
   "source": [
    "rock = rock.sort_values('proba')"
   ]
  },
  {
   "cell_type": "code",
   "execution_count": null,
   "metadata": {
    "id": "xlBjkHZsfoGN",
    "outputId": "5e797d83-483b-4264-e711-5bd07e9b2d8c"
   },
   "outputs": [
    {
     "data": {
      "text/plain": [
       "<seaborn.axisgrid.FacetGrid at 0x11c73e208>"
      ]
     },
     "execution_count": 66,
     "metadata": {
      "tags": []
     },
     "output_type": "execute_result"
    },
    {
     "data": {
      "image/png": "[encoded data removed]",
      "text/plain": [
       "<Figure size 411.875x360 with 1 Axes>"
      ]
     },
     "metadata": {
      "needs_background": "light",
      "tags": []
     },
     "output_type": "display_data"
    }
   ],
   "source": [
    "sns.displot(rock, x = 'proba', hue='class', kind='kde')"
   ]
  },
  {
   "cell_type": "code",
   "execution_count": null,
   "metadata": {
    "_cell_guid": "bb72803c-3ea3-40cd-8ac3-399540ab7f5a",
    "_kg_hide-input": true,
    "_uuid": "a12fb2f7e104931bb78e1bd6cfc5a516c970708b",
    "id": "CC0th9yufoGN"
   },
   "outputs": [],
   "source": [
    "from sklearn.model_selection import ShuffleSplit\n",
    "from sklearn.model_selection import learning_curve\n",
    "\n",
    "def plot_learning_curve(estimator1, X, y, ylim=None, cv=None,\n",
    "                        n_jobs=1, train_sizes=np.linspace(.1, 1.0, 5)):\n",
    "    f, ax = plt.subplots(figsize=(15,10))\n",
    "    train_sizes, train_scores, test_scores = learning_curve(\n",
    "        estimator1, X, y, cv=cv, n_jobs=n_jobs, train_sizes=train_sizes)\n",
    "    train_scores_mean = np.mean(train_scores, axis=1)\n",
    "    train_scores_std = np.std(train_scores, axis=1)\n",
    "    test_scores_mean = np.mean(test_scores, axis=1)\n",
    "    test_scores_std = np.std(test_scores, axis=1)\n",
    "    ax.fill_between(train_sizes, train_scores_mean - train_scores_std,\n",
    "                     train_scores_mean + train_scores_std, alpha=0.1,\n",
    "                     color=\"#ff9124\")\n",
    "    ax.fill_between(train_sizes, test_scores_mean - test_scores_std,\n",
    "                     test_scores_mean + test_scores_std, alpha=0.1, color=\"#2492ff\")\n",
    "    ax.plot(train_sizes, train_scores_mean, 'o-', color=\"#ff9124\",\n",
    "             label=\"Training score\")\n",
    "    ax.plot(train_sizes, test_scores_mean, 'o-', color=\"#2492ff\",\n",
    "             label=\"Cross-validation score\")\n",
    "    ax.set_title(\"Logistic Regression Learning Curve\", fontsize=14)\n",
    "    ax.set_xlabel('Training size (m)')\n",
    "    ax.set_ylabel('Score')\n",
    "    ax.grid(True)\n",
    "    ax.legend(loc=\"best\")\n",
    "    return plt"
   ]
  },
  {
   "cell_type": "code",
   "execution_count": null,
   "metadata": {
    "_cell_guid": "5b8302aa-0207-455f-8c1a-78ff3e9b5141",
    "_kg_hide-input": true,
    "_uuid": "15b262baa0c61c288a5453031b4d7f80f5a7a5ab",
    "id": "_-WMxZ9ufoGN",
    "outputId": "9c689919-315e-4f6b-8804-07a3e38c2764"
   },
   "outputs": [
    {
     "data": {
      "image/png": "[encoded data removed]",
      "text/plain": [
       "<Figure size 1080x720 with 1 Axes>"
      ]
     },
     "metadata": {
      "needs_background": "light",
      "tags": []
     },
     "output_type": "display_data"
    }
   ],
   "source": [
    "cv = ShuffleSplit(n_splits=100, test_size=0.2, random_state=42)\n",
    "plot_learning_curve(log_reg, X_train, y_train, (0.87, 1.01), cv=cv, n_jobs=4);"
   ]
  },
  {
   "cell_type": "code",
   "execution_count": null,
   "metadata": {
    "_cell_guid": "780e485a-ea64-48a0-ad97-a7516b047f32",
    "_kg_hide-input": true,
    "_uuid": "fdd59bf2c7a8e61cfb401142570643e8a29cf86b",
    "id": "LZPdA7AdfoGO"
   },
   "outputs": [],
   "source": [
    "from sklearn.metrics import roc_curve\n",
    "from sklearn.model_selection import cross_val_predict\n",
    "log_reg_pred = cross_val_predict(log_reg, X_train, y_train, cv=5,\n",
    "                             method=\"decision_function\")"
   ]
  },
  {
   "cell_type": "code",
   "execution_count": null,
   "metadata": {
    "_cell_guid": "57c211c6-e88f-4634-b321-4949df08815d",
    "_kg_hide-input": true,
    "_uuid": "cb2e4715e91e36f2029ef2a5c241991ff162cd9f",
    "id": "eTLnJ9zEfoGO",
    "outputId": "39559961-07ad-4758-cd29-839a24538c96"
   },
   "outputs": [
    {
     "name": "stdout",
     "output_type": "stream",
     "text": [
      "Logistic Regression:  0.9761961722488037\n"
     ]
    }
   ],
   "source": [
    "from sklearn.metrics import roc_auc_score\n",
    "\n",
    "print('Logistic Regression: ', roc_auc_score(y_train, log_reg_pred))"
   ]
  },
  {
   "cell_type": "code",
   "execution_count": null,
   "metadata": {
    "_cell_guid": "89b0b9b6-ef82-4b69-9517-e89a79696dbb",
    "_kg_hide-input": true,
    "_uuid": "9d57aad23f3f72f3c45bf80b089a65acbce2a9ab",
    "id": "sFyOSJdKfoGO",
    "outputId": "d0b9fc28-630b-4617-bb43-c936f6583f2b"
   },
   "outputs": [
    {
     "data": {
      "image/png": "[encoded data removed]",
      "text/plain": [
       "<Figure size 720x576 with 1 Axes>"
      ]
     },
     "metadata": {
      "needs_background": "light",
      "tags": []
     },
     "output_type": "display_data"
    }
   ],
   "source": [
    "log_fpr, log_tpr, log_thresold = roc_curve(y_train, log_reg_pred)\n",
    "\n",
    "def graph_roc_curve_multiple(log_fpr, log_tpr):\n",
    "    plt.figure(figsize=(10,8))\n",
    "    plt.plot(log_fpr, log_tpr, label='Logistic Regression Classifier Score: {:.4f}'.format(roc_auc_score(y_train, log_reg_pred)))\n",
    "    plt.plot([0, 1], [0, 1], 'k--')\n",
    "    plt.axis([-0.01, 1, 0, 1])\n",
    "    plt.xlabel('False Positive Rate', fontsize=16)\n",
    "    plt.ylabel('True Positive Rate', fontsize=16)\n",
    "    plt.legend()\n",
    "    \n",
    "graph_roc_curve_multiple(log_fpr, log_tpr)\n",
    "plt.show()"
   ]
  },
  {
   "cell_type": "code",
   "execution_count": null,
   "metadata": {
    "_cell_guid": "d59c7621-5adb-4339-9a04-54630f679665",
    "_uuid": "f6d54ac036fa499104d269dd52d704c71629c1b0",
    "id": "la0EX92EfoGP"
   },
   "outputs": [],
   "source": [
    "from sklearn.metrics import precision_recall_curve\n",
    "\n",
    "precision, recall, threshold = precision_recall_curve(y_train, log_reg_pred)"
   ]
  },
  {
   "cell_type": "code",
   "execution_count": null,
   "metadata": {
    "_cell_guid": "06d9e8b8-3ba5-4c1e-8480-af5a8e04f851",
    "_kg_hide-input": true,
    "_uuid": "b19df81d0a5178a260d7518f9cca804646839c01",
    "id": "crsEw2MRfoGP",
    "outputId": "8f8ba2de-f277-4ad1-bc16-f703f59fd75a"
   },
   "outputs": [
    {
     "name": "stdout",
     "output_type": "stream",
     "text": [
      "Overfitting: \n",
      "\n",
      "Recall Score: 0.91\n",
      "Precision Score: 0.80\n",
      "F1 Score: 0.85\n",
      "Accuracy Score: 0.84\n",
      "\n",
      "Normal:\n",
      "\n",
      "Accuracy Score: 0.73\n",
      "Precision Score: 0.00\n",
      "Recall Score: 0.23\n",
      "F1 Score: 0.00\n"
     ]
    }
   ],
   "source": [
    "from sklearn.metrics import recall_score, precision_score, f1_score, accuracy_score\n",
    "y_pred = log_reg.predict(X_train)\n",
    "\n",
    "print('Overfitting: \\n')\n",
    "print('Recall Score: {:.2f}'.format(recall_score(y_train, y_pred)))\n",
    "print('Precision Score: {:.2f}'.format(precision_score(y_train, y_pred)))\n",
    "print('F1 Score: {:.2f}'.format(f1_score(y_train, y_pred)))\n",
    "print('Accuracy Score: {:.2f}'.format(accuracy_score(y_train, y_pred)))\n",
    "print()\n",
    "\n",
    "print('Normal:\\n')\n",
    "print(\"Accuracy Score: {:.2f}\".format(np.mean(undersample_accuracy)))\n",
    "print(\"Precision Score: {:.2f}\".format(np.mean(undersample_precision)))\n",
    "print(\"Recall Score: {:.2f}\".format(np.mean(undersample_recall)))\n",
    "print(\"F1 Score: {:.2f}\".format(np.mean(undersample_f1)))"
   ]
  },
  {
   "cell_type": "code",
   "execution_count": null,
   "metadata": {
    "_cell_guid": "89d88863-536f-4eea-a0cd-d2c77f407dd6",
    "_kg_hide-input": true,
    "_uuid": "f041ab92c183d2aa29569fc048ee6af4e6ee81f0",
    "id": "Fi49E4ARfoGP"
   },
   "outputs": [],
   "source": [
    "undersample_y_score = log_reg.decision_function(original_Xtest)"
   ]
  },
  {
   "cell_type": "code",
   "execution_count": null,
   "metadata": {
    "_cell_guid": "3f54604f-396c-421e-ae93-305ad0103591",
    "_kg_hide-input": true,
    "_uuid": "c501d9226855a510a136bbf06794c702497e5b28",
    "id": "rPaywf-kfoGP",
    "outputId": "a656a49f-a9f6-45a4-c685-1c4cef987ed3"
   },
   "outputs": [
    {
     "name": "stdout",
     "output_type": "stream",
     "text": [
      "Average precision-recall score: 0.29\n"
     ]
    }
   ],
   "source": [
    "from sklearn.metrics import average_precision_score\n",
    "\n",
    "undersample_average_precision = average_precision_score(original_ytest, undersample_y_score)\n",
    "\n",
    "print('Average precision-recall score: {0:0.2f}'.format(\n",
    "      undersample_average_precision))"
   ]
  },
  {
   "cell_type": "code",
   "execution_count": null,
   "metadata": {
    "_cell_guid": "2442a51e-0263-48a3-99f9-06f47bdc04f1",
    "_kg_hide-input": true,
    "_uuid": "2edd5461ff5253f12955ac02106c323f7aabe49f",
    "id": "n_pAW1J-foGP",
    "outputId": "cc8a92e0-2754-4ea8-c612-675883dbbd2b"
   },
   "outputs": [
    {
     "data": {
      "image/png": "[encoded data removed]",
      "text/plain": [
       "<Figure size 864x432 with 1 Axes>"
      ]
     },
     "metadata": {
      "needs_background": "light",
      "tags": []
     },
     "output_type": "display_data"
    }
   ],
   "source": [
    "from sklearn.metrics import precision_recall_curve\n",
    "import matplotlib.pyplot as plt\n",
    "\n",
    "fig = plt.figure(figsize=(12,6))\n",
    "\n",
    "precision, recall, _ = precision_recall_curve(original_ytest, undersample_y_score)\n",
    "\n",
    "plt.step(recall, precision, color='#004a93', alpha=0.2,\n",
    "         where='post')\n",
    "plt.fill_between(recall, precision, step='post', alpha=0.2,\n",
    "                 color='#48a6ff')\n",
    "\n",
    "plt.xlabel('Recall')\n",
    "plt.ylabel('Precision')\n",
    "plt.ylim([0.0, 1.05])\n",
    "plt.xlim([0.0, 1.0])\n",
    "plt.title('UnderSampling Precision-Recall curve: \\n Среднее Precision-Recall Score ={0:0.2f}'.format(\n",
    "          undersample_average_precision), fontsize=16);"
   ]
  },
  {
   "cell_type": "markdown",
   "metadata": {
    "_cell_guid": "e70e913a-173b-401b-96ee-93ddda7374c0",
    "_uuid": "d901eb00581cc890075a93d292935304e5b63355",
    "id": "Ijp9AU-EfoGP"
   },
   "source": [
    "### SMOTE \n",
    "\n",
    "<img src=\"https://basegroup.ru/sites/default/files/article_img/smote.gif\" width=500>"
   ]
  },
  {
   "cell_type": "code",
   "execution_count": null,
   "metadata": {
    "_cell_guid": "cc175ddc-ddd7-4087-ae1f-dd6fac664d58",
    "_kg_hide-input": true,
    "_uuid": "96f8d3f4160d65f12af4c7106739c4ad46d1e76b",
    "id": "FQnKRuB0foGP",
    "outputId": "4988cb33-60f1-4c2f-fb52-8c6230dc98a8"
   },
   "outputs": [
    {
     "name": "stdout",
     "output_type": "stream",
     "text": [
      "Число элементов в X (train): 227846 | Число элементов в y (train): 227846\n",
      "Число элементов в X (test): 56961 | Число элементов в (test): 56961\n",
      "accuracy: 0.9760281067036507\n",
      "precision: 0.06226669744938286\n",
      "recall: 0.905329949238579\n",
      "f1: 0.11644831050770059\n"
     ]
    }
   ],
   "source": [
    "from imblearn.over_sampling import SMOTE\n",
    "from sklearn.model_selection import train_test_split, RandomizedSearchCV\n",
    "\n",
    "\n",
    "print('Число элементов в X (train): {} | Число элементов в y (train): {}'.format(len(original_Xtrain), len(original_ytrain)))\n",
    "print('Число элементов в X (test): {} | Число элементов в (test): {}'.format(len(original_Xtest), len(original_ytest)))\n",
    "\n",
    "accuracy_lst = []\n",
    "precision_lst = []\n",
    "recall_lst = []\n",
    "f1_lst = []\n",
    "auc_lst = []\n",
    "log_reg_sm = LogisticRegression()\n",
    "\n",
    "rand_log_reg = RandomizedSearchCV(LogisticRegression(), log_reg_params, n_iter=4)\n",
    "\n",
    "log_reg_params = {\"penalty\": ['l1', 'l2'], 'C': [0.001, 0.01, 0.1, 1, 10, 100, 1000]}\n",
    "for train, test in sss.split(original_Xtrain, original_ytrain):\n",
    "    pipeline = imbalanced_make_pipeline(SMOTE(sampling_strategy='minority'), rand_log_reg) # SMOTE\n",
    "    model = pipeline.fit(original_Xtrain[train], original_ytrain[train])\n",
    "    best_est = rand_log_reg.best_estimator_\n",
    "    prediction = best_est.predict(original_Xtrain[test])\n",
    "    \n",
    "    accuracy_lst.append(pipeline.score(original_Xtrain[test], original_ytrain[test]))\n",
    "    precision_lst.append(precision_score(original_ytrain[test], prediction))\n",
    "    recall_lst.append(recall_score(original_ytrain[test], prediction))\n",
    "    f1_lst.append(f1_score(original_ytrain[test], prediction))\n",
    "    auc_lst.append(roc_auc_score(original_ytrain[test], prediction))\n",
    "    \n",
    "\n",
    "print(\"accuracy: {}\".format(np.mean(accuracy_lst)))\n",
    "print(\"precision: {}\".format(np.mean(precision_lst)))\n",
    "print(\"recall: {}\".format(np.mean(recall_lst)))\n",
    "print(\"f1: {}\".format(np.mean(f1_lst)))"
   ]
  },
  {
   "cell_type": "code",
   "execution_count": null,
   "metadata": {
    "_cell_guid": "41dd6215-2927-4de3-999a-724272aea2b6",
    "_kg_hide-input": true,
    "_uuid": "d109652d1e170d0f9938d64f29aa33d93c941cdc",
    "id": "o-7RwmwzfoGQ",
    "outputId": "7a114ed8-86b1-48d6-b9df-456f0a8dee66"
   },
   "outputs": [
    {
     "name": "stdout",
     "output_type": "stream",
     "text": [
      "              precision    recall  f1-score   support\n",
      "\n",
      "    No Fraud       1.00      0.99      0.99     56863\n",
      "       Fraud       0.10      0.87      0.18        98\n",
      "\n",
      "    accuracy                           0.99     56961\n",
      "   macro avg       0.55      0.93      0.59     56961\n",
      "weighted avg       1.00      0.99      0.99     56961\n",
      "\n"
     ]
    }
   ],
   "source": [
    "labels = ['No Fraud', 'Fraud']\n",
    "smote_prediction = best_est.predict(original_Xtest)\n",
    "print(classification_report(original_ytest, smote_prediction, target_names=labels))"
   ]
  },
  {
   "cell_type": "markdown",
   "metadata": {
    "id": "rbcI0s8zfoGR"
   },
   "source": [
    "![](https://upload.wikimedia.org/wikipedia/commons/2/26/Precisionrecall.svg)"
   ]
  },
  {
   "cell_type": "code",
   "execution_count": null,
   "metadata": {
    "_cell_guid": "f0e671f7-7ed1-4188-b9bf-e509f050b134",
    "_kg_hide-input": true,
    "_uuid": "a8dcc4bba95aed7fbc8b9e39ceeeec6902d1865c",
    "id": "MzHM8UHyfoGR"
   },
   "outputs": [],
   "source": [
    "y_score = best_est.decision_function(original_Xtest)"
   ]
  },
  {
   "cell_type": "code",
   "execution_count": null,
   "metadata": {
    "_cell_guid": "77bed8fa-1117-4bc0-a740-bd1bd97012a4",
    "_kg_hide-input": true,
    "_uuid": "f9213b24dd2fb3eb04f9b59c3b715dcb167664b5",
    "id": "urQf4HfZfoGR",
    "outputId": "aab807d1-41a6-415d-b066-e18846e18ad4"
   },
   "outputs": [
    {
     "name": "stdout",
     "output_type": "stream",
     "text": [
      "Average precision-recall score: 0.71\n"
     ]
    }
   ],
   "source": [
    "average_precision = average_precision_score(original_ytest, y_score)\n",
    "\n",
    "print('Average precision-recall score: {0:0.2f}'.format(\n",
    "      average_precision))"
   ]
  },
  {
   "cell_type": "code",
   "execution_count": null,
   "metadata": {
    "_cell_guid": "54e926f4-2a5d-4bb1-b74c-8cd79da7b6e5",
    "_kg_hide-input": true,
    "_uuid": "7be0445ac80df7ca252ec350b026d6275669aea6",
    "id": "qr6in60ufoGR",
    "outputId": "d7a8fc16-8419-457a-f3da-fdf4f82324d4"
   },
   "outputs": [
    {
     "data": {
      "text/plain": [
       "Text(0.5, 1.0, 'OverSampling Precision-Recall curve: \\n Среднее Precision-Recall Score =0.71')"
      ]
     },
     "execution_count": 81,
     "metadata": {
      "tags": []
     },
     "output_type": "execute_result"
    },
    {
     "data": {
      "image/png": "[encoded data removed]",
      "text/plain": [
       "<Figure size 864x432 with 1 Axes>"
      ]
     },
     "metadata": {
      "needs_background": "light",
      "tags": []
     },
     "output_type": "display_data"
    }
   ],
   "source": [
    "fig = plt.figure(figsize=(12,6))\n",
    "\n",
    "precision, recall, _ = precision_recall_curve(original_ytest, y_score)\n",
    "\n",
    "plt.step(recall, precision, color='r', alpha=0.2,\n",
    "         where='post')\n",
    "plt.fill_between(recall, precision, step='post', alpha=0.2,\n",
    "                 color='#F59B00')\n",
    "\n",
    "plt.xlabel('Recall')\n",
    "plt.ylabel('Precision')\n",
    "plt.ylim([0.0, 1.05])\n",
    "plt.xlim([0.0, 1.0])\n",
    "plt.title('OverSampling Precision-Recall curve: \\n Среднее Precision-Recall Score ={0:0.2f}'.format(\n",
    "          average_precision), fontsize=16)"
   ]
  },
  {
   "cell_type": "code",
   "execution_count": null,
   "metadata": {
    "_cell_guid": "d5c6fe5b-f086-4151-aba5-3c758677be0f",
    "_kg_hide-input": true,
    "_uuid": "787ec6bb25c3dc379c12a57619f5cc3e41afa42e",
    "id": "xSMZSyr8foGR"
   },
   "outputs": [],
   "source": [
    "sm = SMOTE(sampling_strategy='minority', random_state=42)\n",
    "Xsm_train, ysm_train = sm.fit_sample(original_Xtrain, original_ytrain)"
   ]
  },
  {
   "cell_type": "code",
   "execution_count": null,
   "metadata": {
    "_cell_guid": "7af62152-e7e3-45c8-9a56-69467ede59a6",
    "_kg_hide-input": true,
    "_uuid": "a25f7cc327bbaeae985cb0d2f9a0c8e2c2009aa3",
    "id": "6IATKKLRfoGR",
    "outputId": "9aa7b4c0-9767-4e93-daa0-7f82ffe90a8b"
   },
   "outputs": [
    {
     "data": {
      "text/plain": [
       "LogisticRegression(C=0.1)"
      ]
     },
     "execution_count": 83,
     "metadata": {
      "tags": []
     },
     "output_type": "execute_result"
    }
   ],
   "source": [
    "log_reg_sm = grid_log_reg.best_estimator_\n",
    "log_reg_sm.fit(Xsm_train, ysm_train)"
   ]
  },
  {
   "cell_type": "markdown",
   "metadata": {
    "_cell_guid": "a250e819-cdd4-43f5-b0a4-eb8f232199a0",
    "_uuid": "feb07b601c9ec79be1fe96cbbadf4ac838f7f7a8",
    "id": "9mGsv6RHfoGR"
   },
   "source": [
    "#### Тестируем результат"
   ]
  },
  {
   "cell_type": "code",
   "execution_count": null,
   "metadata": {
    "_cell_guid": "13a7d31c-2586-4946-aaa3-60090cd5680b",
    "_kg_hide-input": true,
    "_uuid": "d0e37500506d1b942431ac5bfabedcfea30275ce",
    "id": "9PfJrwYkfoGR",
    "outputId": "3b09f0e4-99a0-45c4-86e2-0de454e43e96"
   },
   "outputs": [
    {
     "data": {
      "image/png": "[encoded data removed]",
      "text/plain": [
       "<Figure size 432x288 with 2 Axes>"
      ]
     },
     "metadata": {
      "needs_background": "light",
      "tags": []
     },
     "output_type": "display_data"
    }
   ],
   "source": [
    "from sklearn.metrics import confusion_matrix\n",
    "\n",
    "y_pred_log_reg = log_reg_sm.predict(X_test)\n",
    "log_reg_cf = confusion_matrix(y_test, y_pred_log_reg)\n",
    "\n",
    "sns.heatmap(log_reg_cf, annot=True);"
   ]
  },
  {
   "cell_type": "code",
   "execution_count": null,
   "metadata": {
    "_cell_guid": "bd4529fd-f38a-4dd1-8b63-467a15a2167d",
    "_kg_hide-input": true,
    "_uuid": "1380d639d3b9087ec767ed6db391fc4b8c01e765",
    "id": "chWkonnvfoGS",
    "outputId": "7e69fe00-7d9a-4111-a723-7b5957d1b74c"
   },
   "outputs": [
    {
     "name": "stdout",
     "output_type": "stream",
     "text": [
      "Logistic Regression:\n",
      "              precision    recall  f1-score   support\n",
      "\n",
      "           0       0.95      0.98      0.97       106\n",
      "           1       0.97      0.94      0.96        83\n",
      "\n",
      "    accuracy                           0.96       189\n",
      "   macro avg       0.96      0.96      0.96       189\n",
      "weighted avg       0.96      0.96      0.96       189\n",
      "\n"
     ]
    }
   ],
   "source": [
    "from sklearn.metrics import classification_report\n",
    "\n",
    "print('Logistic Regression:')\n",
    "print(classification_report(y_test, y_pred_log_reg))"
   ]
  },
  {
   "cell_type": "code",
   "execution_count": null,
   "metadata": {
    "_cell_guid": "9103c5ed-df9d-4441-91dc-1104a51f06ff",
    "_kg_hide-input": true,
    "_uuid": "49c94105ad280d1ca16271daf7f9395041016c5c",
    "id": "aQUIQB0afoGS",
    "outputId": "94d89a86-36eb-4d2b-8c21-0c7a011b2702",
    "scrolled": true
   },
   "outputs": [
    {
     "data": {
      "text/html": [
       "<div>\n",
       "<style scoped>\n",
       "    .dataframe tbody tr th:only-of-type {\n",
       "        vertical-align: middle;\n",
       "    }\n",
       "\n",
       "    .dataframe tbody tr th {\n",
       "        vertical-align: top;\n",
       "    }\n",
       "\n",
       "    .dataframe thead th {\n",
       "        text-align: right;\n",
       "    }\n",
       "</style>\n",
       "<table border=\"1\" class=\"dataframe\">\n",
       "  <thead>\n",
       "    <tr style=\"text-align: right;\">\n",
       "      <th></th>\n",
       "      <th>Техника</th>\n",
       "      <th>roc_auc_score</th>\n",
       "      <th>average_precision_score</th>\n",
       "    </tr>\n",
       "  </thead>\n",
       "  <tbody>\n",
       "    <tr>\n",
       "      <th>0</th>\n",
       "      <td>Random UnderSampling</td>\n",
       "      <td>0.981561</td>\n",
       "      <td>0.774216</td>\n",
       "    </tr>\n",
       "    <tr>\n",
       "      <th>1</th>\n",
       "      <td>Oversampling (SMOTE)</td>\n",
       "      <td>0.969466</td>\n",
       "      <td>0.708896</td>\n",
       "    </tr>\n",
       "  </tbody>\n",
       "</table>\n",
       "</div>"
      ],
      "text/plain": [
       "                Техника  roc_auc_score  average_precision_score\n",
       "0  Random UnderSampling       0.981561                 0.774216\n",
       "1  Oversampling (SMOTE)       0.969466                 0.708896"
      ]
     },
     "execution_count": 114,
     "metadata": {
      "tags": []
     },
     "output_type": "execute_result"
    }
   ],
   "source": [
    "# X_test original_Xtest y_test original_ytest\n",
    "\n",
    "d = {\n",
    "    'Техника': [\n",
    "        'Random UnderSampling', \n",
    "        'Oversampling (SMOTE)',\n",
    "    ], \n",
    "    'roc_auc_score': [\n",
    "        roc_auc_score(original_ytest, log_reg.predict_proba(original_Xtest)[:,1]), \n",
    "        roc_auc_score(original_ytest, best_est.predict_proba(original_Xtest)[:,1])\n",
    "    ],\n",
    "    'average_precision_score': [\n",
    "        average_precision_score(original_ytest, log_reg.predict_proba(original_Xtest)[:,1]), \n",
    "        average_precision_score(original_ytest, best_est.predict_proba(original_Xtest)[:,1])\n",
    "    ]\n",
    "}\n",
    "pd.DataFrame(data=d)\n"
   ]
  },
  {
   "cell_type": "markdown",
   "metadata": {
    "id": "t8gdDfkpfoGS"
   },
   "source": [
    "## Практика\n",
    "\n",
    "Повторите основные шаги с семинара на данных по [оттоку клиентов](https://www.kaggle.com/c/customer-churn-prediction-2020/data)."
   ]
  },
  {
   "cell_type": "code",
   "execution_count": null,
   "metadata": {
    "id": "qxep2rNcfoGS",
    "outputId": "a83ac5b3-5099-41a2-aab6-3bd26da8503a"
   },
   "outputs": [
    {
     "data": {
      "text/html": [
       "<div>\n",
       "<style scoped>\n",
       "    .dataframe tbody tr th:only-of-type {\n",
       "        vertical-align: middle;\n",
       "    }\n",
       "\n",
       "    .dataframe tbody tr th {\n",
       "        vertical-align: top;\n",
       "    }\n",
       "\n",
       "    .dataframe thead th {\n",
       "        text-align: right;\n",
       "    }\n",
       "</style>\n",
       "<table border=\"1\" class=\"dataframe\">\n",
       "  <thead>\n",
       "    <tr style=\"text-align: right;\">\n",
       "      <th></th>\n",
       "      <th>state</th>\n",
       "      <th>account_length</th>\n",
       "      <th>area_code</th>\n",
       "      <th>international_plan</th>\n",
       "      <th>voice_mail_plan</th>\n",
       "      <th>number_vmail_messages</th>\n",
       "      <th>total_day_minutes</th>\n",
       "      <th>total_day_calls</th>\n",
       "      <th>total_day_charge</th>\n",
       "      <th>total_eve_minutes</th>\n",
       "      <th>total_eve_calls</th>\n",
       "      <th>total_eve_charge</th>\n",
       "      <th>total_night_minutes</th>\n",
       "      <th>total_night_calls</th>\n",
       "      <th>total_night_charge</th>\n",
       "      <th>total_intl_minutes</th>\n",
       "      <th>total_intl_calls</th>\n",
       "      <th>total_intl_charge</th>\n",
       "      <th>number_customer_service_calls</th>\n",
       "      <th>churn</th>\n",
       "    </tr>\n",
       "  </thead>\n",
       "  <tbody>\n",
       "    <tr>\n",
       "      <th>0</th>\n",
       "      <td>OH</td>\n",
       "      <td>107</td>\n",
       "      <td>area_code_415</td>\n",
       "      <td>no</td>\n",
       "      <td>yes</td>\n",
       "      <td>26</td>\n",
       "      <td>161.6</td>\n",
       "      <td>123</td>\n",
       "      <td>27.47</td>\n",
       "      <td>195.5</td>\n",
       "      <td>103</td>\n",
       "      <td>16.62</td>\n",
       "      <td>254.4</td>\n",
       "      <td>103</td>\n",
       "      <td>11.45</td>\n",
       "      <td>13.7</td>\n",
       "      <td>3</td>\n",
       "      <td>3.70</td>\n",
       "      <td>1</td>\n",
       "      <td>no</td>\n",
       "    </tr>\n",
       "    <tr>\n",
       "      <th>1</th>\n",
       "      <td>NJ</td>\n",
       "      <td>137</td>\n",
       "      <td>area_code_415</td>\n",
       "      <td>no</td>\n",
       "      <td>no</td>\n",
       "      <td>0</td>\n",
       "      <td>243.4</td>\n",
       "      <td>114</td>\n",
       "      <td>41.38</td>\n",
       "      <td>121.2</td>\n",
       "      <td>110</td>\n",
       "      <td>10.30</td>\n",
       "      <td>162.6</td>\n",
       "      <td>104</td>\n",
       "      <td>7.32</td>\n",
       "      <td>12.2</td>\n",
       "      <td>5</td>\n",
       "      <td>3.29</td>\n",
       "      <td>0</td>\n",
       "      <td>no</td>\n",
       "    </tr>\n",
       "    <tr>\n",
       "      <th>2</th>\n",
       "      <td>OH</td>\n",
       "      <td>84</td>\n",
       "      <td>area_code_408</td>\n",
       "      <td>yes</td>\n",
       "      <td>no</td>\n",
       "      <td>0</td>\n",
       "      <td>299.4</td>\n",
       "      <td>71</td>\n",
       "      <td>50.90</td>\n",
       "      <td>61.9</td>\n",
       "      <td>88</td>\n",
       "      <td>5.26</td>\n",
       "      <td>196.9</td>\n",
       "      <td>89</td>\n",
       "      <td>8.86</td>\n",
       "      <td>6.6</td>\n",
       "      <td>7</td>\n",
       "      <td>1.78</td>\n",
       "      <td>2</td>\n",
       "      <td>no</td>\n",
       "    </tr>\n",
       "    <tr>\n",
       "      <th>3</th>\n",
       "      <td>OK</td>\n",
       "      <td>75</td>\n",
       "      <td>area_code_415</td>\n",
       "      <td>yes</td>\n",
       "      <td>no</td>\n",
       "      <td>0</td>\n",
       "      <td>166.7</td>\n",
       "      <td>113</td>\n",
       "      <td>28.34</td>\n",
       "      <td>148.3</td>\n",
       "      <td>122</td>\n",
       "      <td>12.61</td>\n",
       "      <td>186.9</td>\n",
       "      <td>121</td>\n",
       "      <td>8.41</td>\n",
       "      <td>10.1</td>\n",
       "      <td>3</td>\n",
       "      <td>2.73</td>\n",
       "      <td>3</td>\n",
       "      <td>no</td>\n",
       "    </tr>\n",
       "    <tr>\n",
       "      <th>4</th>\n",
       "      <td>MA</td>\n",
       "      <td>121</td>\n",
       "      <td>area_code_510</td>\n",
       "      <td>no</td>\n",
       "      <td>yes</td>\n",
       "      <td>24</td>\n",
       "      <td>218.2</td>\n",
       "      <td>88</td>\n",
       "      <td>37.09</td>\n",
       "      <td>348.5</td>\n",
       "      <td>108</td>\n",
       "      <td>29.62</td>\n",
       "      <td>212.6</td>\n",
       "      <td>118</td>\n",
       "      <td>9.57</td>\n",
       "      <td>7.5</td>\n",
       "      <td>7</td>\n",
       "      <td>2.03</td>\n",
       "      <td>3</td>\n",
       "      <td>no</td>\n",
       "    </tr>\n",
       "  </tbody>\n",
       "</table>\n",
       "</div>"
      ],
      "text/plain": [
       "  state  account_length      area_code international_plan voice_mail_plan  \\\n",
       "0    OH             107  area_code_415                 no             yes   \n",
       "1    NJ             137  area_code_415                 no              no   \n",
       "2    OH              84  area_code_408                yes              no   \n",
       "3    OK              75  area_code_415                yes              no   \n",
       "4    MA             121  area_code_510                 no             yes   \n",
       "\n",
       "   number_vmail_messages  total_day_minutes  total_day_calls  \\\n",
       "0                     26              161.6              123   \n",
       "1                      0              243.4              114   \n",
       "2                      0              299.4               71   \n",
       "3                      0              166.7              113   \n",
       "4                     24              218.2               88   \n",
       "\n",
       "   total_day_charge  total_eve_minutes  total_eve_calls  total_eve_charge  \\\n",
       "0             27.47              195.5              103             16.62   \n",
       "1             41.38              121.2              110             10.30   \n",
       "2             50.90               61.9               88              5.26   \n",
       "3             28.34              148.3              122             12.61   \n",
       "4             37.09              348.5              108             29.62   \n",
       "\n",
       "   total_night_minutes  total_night_calls  total_night_charge  \\\n",
       "0                254.4                103               11.45   \n",
       "1                162.6                104                7.32   \n",
       "2                196.9                 89                8.86   \n",
       "3                186.9                121                8.41   \n",
       "4                212.6                118                9.57   \n",
       "\n",
       "   total_intl_minutes  total_intl_calls  total_intl_charge  \\\n",
       "0                13.7                 3               3.70   \n",
       "1                12.2                 5               3.29   \n",
       "2                 6.6                 7               1.78   \n",
       "3                10.1                 3               2.73   \n",
       "4                 7.5                 7               2.03   \n",
       "\n",
       "   number_customer_service_calls churn  \n",
       "0                              1    no  \n",
       "1                              0    no  \n",
       "2                              2    no  \n",
       "3                              3    no  \n",
       "4                              3    no  "
      ]
     },
     "execution_count": 181,
     "metadata": {
      "tags": []
     },
     "output_type": "execute_result"
    }
   ],
   "source": [
    "df = pd.read_csv('../data/churn_train.csv')\n",
    "df.head()"
   ]
  },
  {
   "cell_type": "code",
   "execution_count": null,
   "metadata": {
    "id": "Mh0IbWcUfoGS"
   },
   "outputs": [],
   "source": [
    "num_cols = df.describe().columns"
   ]
  },
  {
   "cell_type": "code",
   "execution_count": null,
   "metadata": {
    "id": "RM1KQap2foGS"
   },
   "outputs": [],
   "source": [
    "minn = df[num_cols].quantile(0.01)\n",
    "maxx = df[num_cols].quantile(0.99)\n",
    "df[num_cols] = (df[num_cols] - minn)/(maxx-minn)"
   ]
  },
  {
   "cell_type": "code",
   "execution_count": null,
   "metadata": {
    "id": "ZbPvZ-NCfoGS",
    "outputId": "33504f7c-bf96-4958-a9a6-478abf7dfa95"
   },
   "outputs": [
    {
     "data": {
      "text/html": [
       "<div>\n",
       "<style scoped>\n",
       "    .dataframe tbody tr th:only-of-type {\n",
       "        vertical-align: middle;\n",
       "    }\n",
       "\n",
       "    .dataframe tbody tr th {\n",
       "        vertical-align: top;\n",
       "    }\n",
       "\n",
       "    .dataframe thead th {\n",
       "        text-align: right;\n",
       "    }\n",
       "</style>\n",
       "<table border=\"1\" class=\"dataframe\">\n",
       "  <thead>\n",
       "    <tr style=\"text-align: right;\">\n",
       "      <th></th>\n",
       "      <th>account_length</th>\n",
       "      <th>number_vmail_messages</th>\n",
       "      <th>total_day_minutes</th>\n",
       "      <th>total_day_calls</th>\n",
       "      <th>total_day_charge</th>\n",
       "      <th>total_eve_minutes</th>\n",
       "      <th>total_eve_calls</th>\n",
       "      <th>total_eve_charge</th>\n",
       "      <th>total_night_minutes</th>\n",
       "      <th>total_night_calls</th>\n",
       "      <th>total_night_charge</th>\n",
       "      <th>total_intl_minutes</th>\n",
       "      <th>total_intl_calls</th>\n",
       "      <th>total_intl_charge</th>\n",
       "      <th>number_customer_service_calls</th>\n",
       "    </tr>\n",
       "  </thead>\n",
       "  <tbody>\n",
       "    <tr>\n",
       "      <th>count</th>\n",
       "      <td>4250.000000</td>\n",
       "      <td>4250.000000</td>\n",
       "      <td>4250.000000</td>\n",
       "      <td>4250.000000</td>\n",
       "      <td>4250.000000</td>\n",
       "      <td>4250.000000</td>\n",
       "      <td>4250.000000</td>\n",
       "      <td>4250.000000</td>\n",
       "      <td>4250.000000</td>\n",
       "      <td>4250.000000</td>\n",
       "      <td>4250.000000</td>\n",
       "      <td>4250.000000</td>\n",
       "      <td>4250.000000</td>\n",
       "      <td>4250.000000</td>\n",
       "      <td>4250.000000</td>\n",
       "    </tr>\n",
       "    <tr>\n",
       "      <th>mean</th>\n",
       "      <td>0.481968</td>\n",
       "      <td>0.177483</td>\n",
       "      <td>0.501239</td>\n",
       "      <td>0.501664</td>\n",
       "      <td>0.501228</td>\n",
       "      <td>0.502943</td>\n",
       "      <td>0.496521</td>\n",
       "      <td>0.502972</td>\n",
       "      <td>0.503306</td>\n",
       "      <td>0.492975</td>\n",
       "      <td>0.503436</td>\n",
       "      <td>0.517667</td>\n",
       "      <td>0.285529</td>\n",
       "      <td>0.516918</td>\n",
       "      <td>0.259843</td>\n",
       "    </tr>\n",
       "    <tr>\n",
       "      <th>std</th>\n",
       "      <td>0.219328</td>\n",
       "      <td>0.312555</td>\n",
       "      <td>0.216214</td>\n",
       "      <td>0.216925</td>\n",
       "      <td>0.216219</td>\n",
       "      <td>0.210816</td>\n",
       "      <td>0.214071</td>\n",
       "      <td>0.210814</td>\n",
       "      <td>0.213714</td>\n",
       "      <td>0.213712</td>\n",
       "      <td>0.213655</td>\n",
       "      <td>0.211486</td>\n",
       "      <td>0.205256</td>\n",
       "      <td>0.211694</td>\n",
       "      <td>0.218572</td>\n",
       "    </tr>\n",
       "    <tr>\n",
       "      <th>min</th>\n",
       "      <td>-0.066298</td>\n",
       "      <td>0.000000</td>\n",
       "      <td>-0.220347</td>\n",
       "      <td>-0.590099</td>\n",
       "      <td>-0.220389</td>\n",
       "      <td>-0.336864</td>\n",
       "      <td>-0.580645</td>\n",
       "      <td>-0.336836</td>\n",
       "      <td>-0.347788</td>\n",
       "      <td>-0.568922</td>\n",
       "      <td>-0.347433</td>\n",
       "      <td>-0.268179</td>\n",
       "      <td>-0.083333</td>\n",
       "      <td>-0.269871</td>\n",
       "      <td>0.000000</td>\n",
       "    </tr>\n",
       "    <tr>\n",
       "      <th>25%</th>\n",
       "      <td>0.331492</td>\n",
       "      <td>0.000000</td>\n",
       "      <td>0.353389</td>\n",
       "      <td>0.360616</td>\n",
       "      <td>0.353355</td>\n",
       "      <td>0.359255</td>\n",
       "      <td>0.354839</td>\n",
       "      <td>0.359219</td>\n",
       "      <td>0.361959</td>\n",
       "      <td>0.345777</td>\n",
       "      <td>0.361869</td>\n",
       "      <td>0.383112</td>\n",
       "      <td>0.166667</td>\n",
       "      <td>0.383501</td>\n",
       "      <td>0.166667</td>\n",
       "    </tr>\n",
       "    <tr>\n",
       "      <th>50%</th>\n",
       "      <td>0.480663</td>\n",
       "      <td>0.000000</td>\n",
       "      <td>0.502002</td>\n",
       "      <td>0.502677</td>\n",
       "      <td>0.502059</td>\n",
       "      <td>0.505150</td>\n",
       "      <td>0.494624</td>\n",
       "      <td>0.505192</td>\n",
       "      <td>0.502975</td>\n",
       "      <td>0.494682</td>\n",
       "      <td>0.503069</td>\n",
       "      <td>0.521033</td>\n",
       "      <td>0.250000</td>\n",
       "      <td>0.519857</td>\n",
       "      <td>0.166667</td>\n",
       "    </tr>\n",
       "    <tr>\n",
       "      <th>75%</th>\n",
       "      <td>0.629834</td>\n",
       "      <td>0.372093</td>\n",
       "      <td>0.645110</td>\n",
       "      <td>0.644738</td>\n",
       "      <td>0.644995</td>\n",
       "      <td>0.643912</td>\n",
       "      <td>0.645161</td>\n",
       "      <td>0.643762</td>\n",
       "      <td>0.648341</td>\n",
       "      <td>0.632950</td>\n",
       "      <td>0.648277</td>\n",
       "      <td>0.651291</td>\n",
       "      <td>0.416667</td>\n",
       "      <td>0.650531</td>\n",
       "      <td>0.333333</td>\n",
       "    </tr>\n",
       "    <tr>\n",
       "      <th>max</th>\n",
       "      <td>1.270718</td>\n",
       "      <td>1.209302</td>\n",
       "      <td>1.186722</td>\n",
       "      <td>1.212982</td>\n",
       "      <td>1.186831</td>\n",
       "      <td>1.170538</td>\n",
       "      <td>1.247312</td>\n",
       "      <td>1.170523</td>\n",
       "      <td>1.328697</td>\n",
       "      <td>1.292385</td>\n",
       "      <td>1.328113</td>\n",
       "      <td>1.264271</td>\n",
       "      <td>1.583333</td>\n",
       "      <td>1.264133</td>\n",
       "      <td>1.500000</td>\n",
       "    </tr>\n",
       "  </tbody>\n",
       "</table>\n",
       "</div>"
      ],
      "text/plain": [
       "       account_length  number_vmail_messages  total_day_minutes  \\\n",
       "count     4250.000000            4250.000000        4250.000000   \n",
       "mean         0.481968               0.177483           0.501239   \n",
       "std          0.219328               0.312555           0.216214   \n",
       "min         -0.066298               0.000000          -0.220347   \n",
       "25%          0.331492               0.000000           0.353389   \n",
       "50%          0.480663               0.000000           0.502002   \n",
       "75%          0.629834               0.372093           0.645110   \n",
       "max          1.270718               1.209302           1.186722   \n",
       "\n",
       "       total_day_calls  total_day_charge  total_eve_minutes  total_eve_calls  \\\n",
       "count      4250.000000       4250.000000        4250.000000      4250.000000   \n",
       "mean          0.501664          0.501228           0.502943         0.496521   \n",
       "std           0.216925          0.216219           0.210816         0.214071   \n",
       "min          -0.590099         -0.220389          -0.336864        -0.580645   \n",
       "25%           0.360616          0.353355           0.359255         0.354839   \n",
       "50%           0.502677          0.502059           0.505150         0.494624   \n",
       "75%           0.644738          0.644995           0.643912         0.645161   \n",
       "max           1.212982          1.186831           1.170538         1.247312   \n",
       "\n",
       "       total_eve_charge  total_night_minutes  total_night_calls  \\\n",
       "count       4250.000000          4250.000000        4250.000000   \n",
       "mean           0.502972             0.503306           0.492975   \n",
       "std            0.210814             0.213714           0.213712   \n",
       "min           -0.336836            -0.347788          -0.568922   \n",
       "25%            0.359219             0.361959           0.345777   \n",
       "50%            0.505192             0.502975           0.494682   \n",
       "75%            0.643762             0.648341           0.632950   \n",
       "max            1.170523             1.328697           1.292385   \n",
       "\n",
       "       total_night_charge  total_intl_minutes  total_intl_calls  \\\n",
       "count         4250.000000         4250.000000       4250.000000   \n",
       "mean             0.503436            0.517667          0.285529   \n",
       "std              0.213655            0.211486          0.205256   \n",
       "min             -0.347433           -0.268179         -0.083333   \n",
       "25%              0.361869            0.383112          0.166667   \n",
       "50%              0.503069            0.521033          0.250000   \n",
       "75%              0.648277            0.651291          0.416667   \n",
       "max              1.328113            1.264271          1.583333   \n",
       "\n",
       "       total_intl_charge  number_customer_service_calls  \n",
       "count        4250.000000                    4250.000000  \n",
       "mean            0.516918                       0.259843  \n",
       "std             0.211694                       0.218572  \n",
       "min            -0.269871                       0.000000  \n",
       "25%             0.383501                       0.166667  \n",
       "50%             0.519857                       0.166667  \n",
       "75%             0.650531                       0.333333  \n",
       "max             1.264133                       1.500000  "
      ]
     },
     "execution_count": 184,
     "metadata": {
      "tags": []
     },
     "output_type": "execute_result"
    }
   ],
   "source": [
    "df[num_cols].describe()"
   ]
  },
  {
   "cell_type": "code",
   "execution_count": null,
   "metadata": {
    "id": "YngsQtadfoGT",
    "outputId": "4ca0e92b-3c31-42e9-9dfb-37d9e92f83dc"
   },
   "outputs": [
    {
     "data": {
      "text/plain": [
       "(4250, 20)"
      ]
     },
     "execution_count": 185,
     "metadata": {
      "tags": []
     },
     "output_type": "execute_result"
    }
   ],
   "source": [
    "df.shape"
   ]
  },
  {
   "cell_type": "code",
   "execution_count": null,
   "metadata": {
    "id": "CDSWLrxvfoGT",
    "outputId": "0ac1c150-a70b-43d7-cc09-a57dc7075866"
   },
   "outputs": [
    {
     "data": {
      "text/html": [
       "<div>\n",
       "<style scoped>\n",
       "    .dataframe tbody tr th:only-of-type {\n",
       "        vertical-align: middle;\n",
       "    }\n",
       "\n",
       "    .dataframe tbody tr th {\n",
       "        vertical-align: top;\n",
       "    }\n",
       "\n",
       "    .dataframe thead th {\n",
       "        text-align: right;\n",
       "    }\n",
       "</style>\n",
       "<table border=\"1\" class=\"dataframe\">\n",
       "  <thead>\n",
       "    <tr style=\"text-align: right;\">\n",
       "      <th></th>\n",
       "      <th>state</th>\n",
       "      <th>area_code</th>\n",
       "      <th>international_plan</th>\n",
       "      <th>voice_mail_plan</th>\n",
       "      <th>churn</th>\n",
       "    </tr>\n",
       "  </thead>\n",
       "  <tbody>\n",
       "    <tr>\n",
       "      <th>count</th>\n",
       "      <td>4250</td>\n",
       "      <td>4250</td>\n",
       "      <td>4250</td>\n",
       "      <td>4250</td>\n",
       "      <td>4250</td>\n",
       "    </tr>\n",
       "    <tr>\n",
       "      <th>unique</th>\n",
       "      <td>51</td>\n",
       "      <td>3</td>\n",
       "      <td>2</td>\n",
       "      <td>2</td>\n",
       "      <td>2</td>\n",
       "    </tr>\n",
       "    <tr>\n",
       "      <th>top</th>\n",
       "      <td>WV</td>\n",
       "      <td>area_code_415</td>\n",
       "      <td>no</td>\n",
       "      <td>no</td>\n",
       "      <td>no</td>\n",
       "    </tr>\n",
       "    <tr>\n",
       "      <th>freq</th>\n",
       "      <td>139</td>\n",
       "      <td>2108</td>\n",
       "      <td>3854</td>\n",
       "      <td>3138</td>\n",
       "      <td>3652</td>\n",
       "    </tr>\n",
       "  </tbody>\n",
       "</table>\n",
       "</div>"
      ],
      "text/plain": [
       "       state      area_code international_plan voice_mail_plan churn\n",
       "count   4250           4250               4250            4250  4250\n",
       "unique    51              3                  2               2     2\n",
       "top       WV  area_code_415                 no              no    no\n",
       "freq     139           2108               3854            3138  3652"
      ]
     },
     "execution_count": 186,
     "metadata": {
      "tags": []
     },
     "output_type": "execute_result"
    }
   ],
   "source": [
    "cat_cols = df.dtypes[df.dtypes=='object'].index\n",
    "cat_des = df[cat_cols].describe()\n",
    "cat_des"
   ]
  },
  {
   "cell_type": "code",
   "execution_count": null,
   "metadata": {
    "id": "wo48KRnJfoGT",
    "outputId": "ca5315f1-c589-493f-8bce-cc55c2700af1"
   },
   "outputs": [
    {
     "data": {
      "text/html": [
       "<div>\n",
       "<style scoped>\n",
       "    .dataframe tbody tr th:only-of-type {\n",
       "        vertical-align: middle;\n",
       "    }\n",
       "\n",
       "    .dataframe tbody tr th {\n",
       "        vertical-align: top;\n",
       "    }\n",
       "\n",
       "    .dataframe thead th {\n",
       "        text-align: right;\n",
       "    }\n",
       "</style>\n",
       "<table border=\"1\" class=\"dataframe\">\n",
       "  <thead>\n",
       "    <tr style=\"text-align: right;\">\n",
       "      <th></th>\n",
       "      <th>state</th>\n",
       "      <th>account_length</th>\n",
       "      <th>number_vmail_messages</th>\n",
       "      <th>total_day_minutes</th>\n",
       "      <th>total_day_calls</th>\n",
       "      <th>total_day_charge</th>\n",
       "      <th>total_eve_minutes</th>\n",
       "      <th>total_eve_calls</th>\n",
       "      <th>total_eve_charge</th>\n",
       "      <th>total_night_minutes</th>\n",
       "      <th>...</th>\n",
       "      <th>total_night_charge</th>\n",
       "      <th>total_intl_minutes</th>\n",
       "      <th>total_intl_calls</th>\n",
       "      <th>total_intl_charge</th>\n",
       "      <th>number_customer_service_calls</th>\n",
       "      <th>international_plan_yes</th>\n",
       "      <th>voice_mail_plan_yes</th>\n",
       "      <th>churn_yes</th>\n",
       "      <th>area_code_area_code_415</th>\n",
       "      <th>area_code_area_code_510</th>\n",
       "    </tr>\n",
       "  </thead>\n",
       "  <tbody>\n",
       "    <tr>\n",
       "      <th>0</th>\n",
       "      <td>OH</td>\n",
       "      <td>0.519337</td>\n",
       "      <td>0.604651</td>\n",
       "      <td>0.426544</td>\n",
       "      <td>0.754016</td>\n",
       "      <td>0.426471</td>\n",
       "      <td>0.483334</td>\n",
       "      <td>0.526882</td>\n",
       "      <td>0.483475</td>\n",
       "      <td>0.731953</td>\n",
       "      <td>...</td>\n",
       "      <td>0.732196</td>\n",
       "      <td>0.781549</td>\n",
       "      <td>0.166667</td>\n",
       "      <td>0.781206</td>\n",
       "      <td>0.166667</td>\n",
       "      <td>0</td>\n",
       "      <td>1</td>\n",
       "      <td>0</td>\n",
       "      <td>1</td>\n",
       "      <td>0</td>\n",
       "    </tr>\n",
       "    <tr>\n",
       "      <th>1</th>\n",
       "      <td>NJ</td>\n",
       "      <td>0.685083</td>\n",
       "      <td>0.000000</td>\n",
       "      <td>0.753993</td>\n",
       "      <td>0.655666</td>\n",
       "      <td>0.754021</td>\n",
       "      <td>0.171617</td>\n",
       "      <td>0.602151</td>\n",
       "      <td>0.171540</td>\n",
       "      <td>0.342330</td>\n",
       "      <td>...</td>\n",
       "      <td>0.342775</td>\n",
       "      <td>0.666616</td>\n",
       "      <td>0.333333</td>\n",
       "      <td>0.664735</td>\n",
       "      <td>0.000000</td>\n",
       "      <td>0</td>\n",
       "      <td>0</td>\n",
       "      <td>0</td>\n",
       "      <td>1</td>\n",
       "      <td>0</td>\n",
       "    </tr>\n",
       "    <tr>\n",
       "      <th>2</th>\n",
       "      <td>OH</td>\n",
       "      <td>0.392265</td>\n",
       "      <td>0.000000</td>\n",
       "      <td>0.978163</td>\n",
       "      <td>0.185772</td>\n",
       "      <td>0.978197</td>\n",
       "      <td>-0.077170</td>\n",
       "      <td>0.365591</td>\n",
       "      <td>-0.077219</td>\n",
       "      <td>0.487908</td>\n",
       "      <td>...</td>\n",
       "      <td>0.487983</td>\n",
       "      <td>0.237530</td>\n",
       "      <td>0.500000</td>\n",
       "      <td>0.235782</td>\n",
       "      <td>0.333333</td>\n",
       "      <td>1</td>\n",
       "      <td>0</td>\n",
       "      <td>0</td>\n",
       "      <td>0</td>\n",
       "      <td>0</td>\n",
       "    </tr>\n",
       "    <tr>\n",
       "      <th>3</th>\n",
       "      <td>OK</td>\n",
       "      <td>0.342541</td>\n",
       "      <td>0.000000</td>\n",
       "      <td>0.446960</td>\n",
       "      <td>0.644738</td>\n",
       "      <td>0.446957</td>\n",
       "      <td>0.285312</td>\n",
       "      <td>0.731183</td>\n",
       "      <td>0.285554</td>\n",
       "      <td>0.445465</td>\n",
       "      <td>...</td>\n",
       "      <td>0.445552</td>\n",
       "      <td>0.505708</td>\n",
       "      <td>0.166667</td>\n",
       "      <td>0.505653</td>\n",
       "      <td>0.500000</td>\n",
       "      <td>1</td>\n",
       "      <td>0</td>\n",
       "      <td>0</td>\n",
       "      <td>1</td>\n",
       "      <td>0</td>\n",
       "    </tr>\n",
       "    <tr>\n",
       "      <th>4</th>\n",
       "      <td>MA</td>\n",
       "      <td>0.596685</td>\n",
       "      <td>0.558140</td>\n",
       "      <td>0.653116</td>\n",
       "      <td>0.371544</td>\n",
       "      <td>0.653001</td>\n",
       "      <td>1.125228</td>\n",
       "      <td>0.580645</td>\n",
       "      <td>1.125115</td>\n",
       "      <td>0.554543</td>\n",
       "      <td>...</td>\n",
       "      <td>0.554929</td>\n",
       "      <td>0.306490</td>\n",
       "      <td>0.500000</td>\n",
       "      <td>0.306801</td>\n",
       "      <td>0.500000</td>\n",
       "      <td>0</td>\n",
       "      <td>1</td>\n",
       "      <td>0</td>\n",
       "      <td>0</td>\n",
       "      <td>1</td>\n",
       "    </tr>\n",
       "  </tbody>\n",
       "</table>\n",
       "<p>5 rows × 21 columns</p>\n",
       "</div>"
      ],
      "text/plain": [
       "  state  account_length  number_vmail_messages  total_day_minutes  \\\n",
       "0    OH        0.519337               0.604651           0.426544   \n",
       "1    NJ        0.685083               0.000000           0.753993   \n",
       "2    OH        0.392265               0.000000           0.978163   \n",
       "3    OK        0.342541               0.000000           0.446960   \n",
       "4    MA        0.596685               0.558140           0.653116   \n",
       "\n",
       "   total_day_calls  total_day_charge  total_eve_minutes  total_eve_calls  \\\n",
       "0         0.754016          0.426471           0.483334         0.526882   \n",
       "1         0.655666          0.754021           0.171617         0.602151   \n",
       "2         0.185772          0.978197          -0.077170         0.365591   \n",
       "3         0.644738          0.446957           0.285312         0.731183   \n",
       "4         0.371544          0.653001           1.125228         0.580645   \n",
       "\n",
       "   total_eve_charge  total_night_minutes  ...  total_night_charge  \\\n",
       "0          0.483475             0.731953  ...            0.732196   \n",
       "1          0.171540             0.342330  ...            0.342775   \n",
       "2         -0.077219             0.487908  ...            0.487983   \n",
       "3          0.285554             0.445465  ...            0.445552   \n",
       "4          1.125115             0.554543  ...            0.554929   \n",
       "\n",
       "   total_intl_minutes  total_intl_calls  total_intl_charge  \\\n",
       "0            0.781549          0.166667           0.781206   \n",
       "1            0.666616          0.333333           0.664735   \n",
       "2            0.237530          0.500000           0.235782   \n",
       "3            0.505708          0.166667           0.505653   \n",
       "4            0.306490          0.500000           0.306801   \n",
       "\n",
       "   number_customer_service_calls  international_plan_yes  voice_mail_plan_yes  \\\n",
       "0                       0.166667                       0                    1   \n",
       "1                       0.000000                       0                    0   \n",
       "2                       0.333333                       1                    0   \n",
       "3                       0.500000                       1                    0   \n",
       "4                       0.500000                       0                    1   \n",
       "\n",
       "   churn_yes  area_code_area_code_415  area_code_area_code_510  \n",
       "0          0                        1                        0  \n",
       "1          0                        1                        0  \n",
       "2          0                        0                        0  \n",
       "3          0                        1                        0  \n",
       "4          0                        0                        1  \n",
       "\n",
       "[5 rows x 21 columns]"
      ]
     },
     "execution_count": 191,
     "metadata": {
      "tags": []
     },
     "output_type": "execute_result"
    }
   ],
   "source": [
    "bin_cols = ['international_plan','voice_mail_plan','churn','area_code']\n",
    "\n",
    "df = pd.get_dummies(df, drop_first=True, columns=bin_cols)\n",
    "df.head()"
   ]
  },
  {
   "cell_type": "code",
   "execution_count": null,
   "metadata": {
    "id": "ClR2SrGpfoGT"
   },
   "outputs": [],
   "source": [
    "from category_encoders.cat_boost import CatBoostEncoder"
   ]
  },
  {
   "cell_type": "code",
   "execution_count": null,
   "metadata": {
    "id": "R13f9SCZfoGT"
   },
   "outputs": [],
   "source": [
    "cat_enc = CatBoostEncoder()"
   ]
  },
  {
   "cell_type": "code",
   "execution_count": null,
   "metadata": {
    "id": "HQGJf5SHfoGT",
    "outputId": "fa802254-0d2a-4f71-800c-817f4dc361ef",
    "scrolled": true
   },
   "outputs": [
    {
     "data": {
      "text/plain": [
       "WV    0.032706\n",
       "MN    0.025412\n",
       "ID    0.024941\n",
       "AL    0.023765\n",
       "VA    0.023529\n",
       "OR    0.023294\n",
       "TX    0.023059\n",
       "UT    0.022824\n",
       "NJ    0.022588\n",
       "NY    0.022588\n",
       "WY    0.022353\n",
       "OH    0.022353\n",
       "WI    0.022118\n",
       "ME    0.020941\n",
       "MA    0.020941\n",
       "CT    0.020706\n",
       "MI    0.020471\n",
       "KS    0.020471\n",
       "RI    0.020471\n",
       "VT    0.020235\n",
       "MD    0.020235\n",
       "KY    0.020000\n",
       "IN    0.019529\n",
       "NV    0.019529\n",
       "MS    0.019294\n",
       "CO    0.018824\n",
       "DE    0.018824\n",
       "WA    0.018824\n",
       "MO    0.018824\n",
       "NC    0.018824\n",
       "MT    0.018824\n",
       "IL    0.018588\n",
       "TN    0.018588\n",
       "NM    0.018353\n",
       "NH    0.018353\n",
       "OK    0.018353\n",
       "HI    0.018118\n",
       "AZ    0.018118\n",
       "FL    0.017882\n",
       "SD    0.017647\n",
       "NE    0.017176\n",
       "SC    0.016941\n",
       "DC    0.016941\n",
       "AR    0.016706\n",
       "LA    0.016235\n",
       "ND    0.015765\n",
       "PA    0.015765\n",
       "GA    0.015059\n",
       "IA    0.014588\n",
       "AK    0.014353\n",
       "CA    0.009176\n",
       "Name: state, dtype: float64"
      ]
     },
     "execution_count": 141,
     "metadata": {
      "tags": []
     },
     "output_type": "execute_result"
    }
   ],
   "source": [
    "df['state'].value_counts(normalize=True)"
   ]
  },
  {
   "cell_type": "code",
   "execution_count": null,
   "metadata": {
    "id": "du2fZokOfoGT"
   },
   "outputs": [],
   "source": [
    "y = df['churn_yes']\n",
    "\n",
    "X = cat_enc.fit_transform(df.drop('churn_yes', axis=1), y)"
   ]
  },
  {
   "cell_type": "code",
   "execution_count": null,
   "metadata": {
    "id": "UPTSIZjtfoGT",
    "outputId": "c205f11d-b740-4bfb-9955-0a1e092e5b06"
   },
   "outputs": [
    {
     "data": {
      "text/html": [
       "<div>\n",
       "<style scoped>\n",
       "    .dataframe tbody tr th:only-of-type {\n",
       "        vertical-align: middle;\n",
       "    }\n",
       "\n",
       "    .dataframe tbody tr th {\n",
       "        vertical-align: top;\n",
       "    }\n",
       "\n",
       "    .dataframe thead th {\n",
       "        text-align: right;\n",
       "    }\n",
       "</style>\n",
       "<table border=\"1\" class=\"dataframe\">\n",
       "  <thead>\n",
       "    <tr style=\"text-align: right;\">\n",
       "      <th></th>\n",
       "      <th>state</th>\n",
       "      <th>account_length</th>\n",
       "      <th>number_vmail_messages</th>\n",
       "      <th>total_day_minutes</th>\n",
       "      <th>total_day_calls</th>\n",
       "      <th>total_day_charge</th>\n",
       "      <th>total_eve_minutes</th>\n",
       "      <th>total_eve_calls</th>\n",
       "      <th>total_eve_charge</th>\n",
       "      <th>total_night_minutes</th>\n",
       "      <th>total_night_calls</th>\n",
       "      <th>total_night_charge</th>\n",
       "      <th>total_intl_minutes</th>\n",
       "      <th>total_intl_calls</th>\n",
       "      <th>total_intl_charge</th>\n",
       "      <th>number_customer_service_calls</th>\n",
       "      <th>international_plan_yes</th>\n",
       "      <th>voice_mail_plan_yes</th>\n",
       "      <th>area_code_area_code_415</th>\n",
       "      <th>area_code_area_code_510</th>\n",
       "    </tr>\n",
       "  </thead>\n",
       "  <tbody>\n",
       "    <tr>\n",
       "      <th>0</th>\n",
       "      <td>0.140706</td>\n",
       "      <td>0.519337</td>\n",
       "      <td>0.604651</td>\n",
       "      <td>0.426544</td>\n",
       "      <td>0.754016</td>\n",
       "      <td>0.426471</td>\n",
       "      <td>0.483334</td>\n",
       "      <td>0.526882</td>\n",
       "      <td>0.483475</td>\n",
       "      <td>0.731953</td>\n",
       "      <td>0.526590</td>\n",
       "      <td>0.732196</td>\n",
       "      <td>0.781549</td>\n",
       "      <td>0.166667</td>\n",
       "      <td>0.781206</td>\n",
       "      <td>0.166667</td>\n",
       "      <td>0</td>\n",
       "      <td>1</td>\n",
       "      <td>1</td>\n",
       "      <td>0</td>\n",
       "    </tr>\n",
       "    <tr>\n",
       "      <th>1</th>\n",
       "      <td>0.140706</td>\n",
       "      <td>0.685083</td>\n",
       "      <td>0.000000</td>\n",
       "      <td>0.753993</td>\n",
       "      <td>0.655666</td>\n",
       "      <td>0.754021</td>\n",
       "      <td>0.171617</td>\n",
       "      <td>0.602151</td>\n",
       "      <td>0.171540</td>\n",
       "      <td>0.342330</td>\n",
       "      <td>0.537226</td>\n",
       "      <td>0.342775</td>\n",
       "      <td>0.666616</td>\n",
       "      <td>0.333333</td>\n",
       "      <td>0.664735</td>\n",
       "      <td>0.000000</td>\n",
       "      <td>0</td>\n",
       "      <td>0</td>\n",
       "      <td>1</td>\n",
       "      <td>0</td>\n",
       "    </tr>\n",
       "    <tr>\n",
       "      <th>2</th>\n",
       "      <td>0.070353</td>\n",
       "      <td>0.392265</td>\n",
       "      <td>0.000000</td>\n",
       "      <td>0.978163</td>\n",
       "      <td>0.185772</td>\n",
       "      <td>0.978197</td>\n",
       "      <td>-0.077170</td>\n",
       "      <td>0.365591</td>\n",
       "      <td>-0.077219</td>\n",
       "      <td>0.487908</td>\n",
       "      <td>0.377686</td>\n",
       "      <td>0.487983</td>\n",
       "      <td>0.237530</td>\n",
       "      <td>0.500000</td>\n",
       "      <td>0.235782</td>\n",
       "      <td>0.333333</td>\n",
       "      <td>1</td>\n",
       "      <td>0</td>\n",
       "      <td>0</td>\n",
       "      <td>0</td>\n",
       "    </tr>\n",
       "    <tr>\n",
       "      <th>3</th>\n",
       "      <td>0.140706</td>\n",
       "      <td>0.342541</td>\n",
       "      <td>0.000000</td>\n",
       "      <td>0.446960</td>\n",
       "      <td>0.644738</td>\n",
       "      <td>0.446957</td>\n",
       "      <td>0.285312</td>\n",
       "      <td>0.731183</td>\n",
       "      <td>0.285554</td>\n",
       "      <td>0.445465</td>\n",
       "      <td>0.718039</td>\n",
       "      <td>0.445552</td>\n",
       "      <td>0.505708</td>\n",
       "      <td>0.166667</td>\n",
       "      <td>0.505653</td>\n",
       "      <td>0.500000</td>\n",
       "      <td>1</td>\n",
       "      <td>0</td>\n",
       "      <td>1</td>\n",
       "      <td>0</td>\n",
       "    </tr>\n",
       "    <tr>\n",
       "      <th>4</th>\n",
       "      <td>0.140706</td>\n",
       "      <td>0.596685</td>\n",
       "      <td>0.558140</td>\n",
       "      <td>0.653116</td>\n",
       "      <td>0.371544</td>\n",
       "      <td>0.653001</td>\n",
       "      <td>1.125228</td>\n",
       "      <td>0.580645</td>\n",
       "      <td>1.125115</td>\n",
       "      <td>0.554543</td>\n",
       "      <td>0.686131</td>\n",
       "      <td>0.554929</td>\n",
       "      <td>0.306490</td>\n",
       "      <td>0.500000</td>\n",
       "      <td>0.306801</td>\n",
       "      <td>0.500000</td>\n",
       "      <td>0</td>\n",
       "      <td>1</td>\n",
       "      <td>0</td>\n",
       "      <td>1</td>\n",
       "    </tr>\n",
       "  </tbody>\n",
       "</table>\n",
       "</div>"
      ],
      "text/plain": [
       "      state  account_length  number_vmail_messages  total_day_minutes  \\\n",
       "0  0.140706        0.519337               0.604651           0.426544   \n",
       "1  0.140706        0.685083               0.000000           0.753993   \n",
       "2  0.070353        0.392265               0.000000           0.978163   \n",
       "3  0.140706        0.342541               0.000000           0.446960   \n",
       "4  0.140706        0.596685               0.558140           0.653116   \n",
       "\n",
       "   total_day_calls  total_day_charge  total_eve_minutes  total_eve_calls  \\\n",
       "0         0.754016          0.426471           0.483334         0.526882   \n",
       "1         0.655666          0.754021           0.171617         0.602151   \n",
       "2         0.185772          0.978197          -0.077170         0.365591   \n",
       "3         0.644738          0.446957           0.285312         0.731183   \n",
       "4         0.371544          0.653001           1.125228         0.580645   \n",
       "\n",
       "   total_eve_charge  total_night_minutes  total_night_calls  \\\n",
       "0          0.483475             0.731953           0.526590   \n",
       "1          0.171540             0.342330           0.537226   \n",
       "2         -0.077219             0.487908           0.377686   \n",
       "3          0.285554             0.445465           0.718039   \n",
       "4          1.125115             0.554543           0.686131   \n",
       "\n",
       "   total_night_charge  total_intl_minutes  total_intl_calls  \\\n",
       "0            0.732196            0.781549          0.166667   \n",
       "1            0.342775            0.666616          0.333333   \n",
       "2            0.487983            0.237530          0.500000   \n",
       "3            0.445552            0.505708          0.166667   \n",
       "4            0.554929            0.306490          0.500000   \n",
       "\n",
       "   total_intl_charge  number_customer_service_calls  international_plan_yes  \\\n",
       "0           0.781206                       0.166667                       0   \n",
       "1           0.664735                       0.000000                       0   \n",
       "2           0.235782                       0.333333                       1   \n",
       "3           0.505653                       0.500000                       1   \n",
       "4           0.306801                       0.500000                       0   \n",
       "\n",
       "   voice_mail_plan_yes  area_code_area_code_415  area_code_area_code_510  \n",
       "0                    1                        1                        0  \n",
       "1                    0                        1                        0  \n",
       "2                    0                        0                        0  \n",
       "3                    0                        1                        0  \n",
       "4                    1                        0                        1  "
      ]
     },
     "execution_count": 202,
     "metadata": {
      "tags": []
     },
     "output_type": "execute_result"
    }
   ],
   "source": [
    "X.head()"
   ]
  },
  {
   "cell_type": "code",
   "execution_count": null,
   "metadata": {
    "id": "BXOorrxvfoGU",
    "outputId": "5366d5bf-12e4-42ee-87b0-0b3d17a0868b"
   },
   "outputs": [
    {
     "data": {
      "image/png": "[encoded data removed]",
      "text/plain": [
       "<Figure size 432x288 with 1 Axes>"
      ]
     },
     "metadata": {
      "needs_background": "light",
      "tags": []
     },
     "output_type": "display_data"
    }
   ],
   "source": [
    "sns.distplot(X['state']);"
   ]
  },
  {
   "cell_type": "code",
   "execution_count": null,
   "metadata": {
    "id": "7PNGlqm6foGU",
    "outputId": "6356aae8-6ed4-4058-dfa7-1e3247fa7f62"
   },
   "outputs": [
    {
     "data": {
      "text/plain": [
       "dict_keys(['explained_variance', 'r2', 'max_error', 'neg_median_absolute_error', 'neg_mean_absolute_error', 'neg_mean_squared_error', 'neg_mean_squared_log_error', 'neg_root_mean_squared_error', 'neg_mean_poisson_deviance', 'neg_mean_gamma_deviance', 'accuracy', 'roc_auc', 'roc_auc_ovr', 'roc_auc_ovo', 'roc_auc_ovr_weighted', 'roc_auc_ovo_weighted', 'balanced_accuracy', 'average_precision', 'neg_log_loss', 'neg_brier_score', 'adjusted_rand_score', 'homogeneity_score', 'completeness_score', 'v_measure_score', 'mutual_info_score', 'adjusted_mutual_info_score', 'normalized_mutual_info_score', 'fowlkes_mallows_score', 'precision', 'precision_macro', 'precision_micro', 'precision_samples', 'precision_weighted', 'recall', 'recall_macro', 'recall_micro', 'recall_samples', 'recall_weighted', 'f1', 'f1_macro', 'f1_micro', 'f1_samples', 'f1_weighted', 'jaccard', 'jaccard_macro', 'jaccard_micro', 'jaccard_samples', 'jaccard_weighted'])"
      ]
     },
     "execution_count": 222,
     "metadata": {
      "tags": []
     },
     "output_type": "execute_result"
    }
   ],
   "source": [
    "from sklearn.metrics import SCORERS\n",
    "SCORERS.keys()"
   ]
  },
  {
   "cell_type": "code",
   "execution_count": null,
   "metadata": {
    "id": "GnkCIK6KfoGU",
    "outputId": "0c1e29db-0941-4864-b428-6b47b53b85a2"
   },
   "outputs": [
    {
     "data": {
      "image/png": "[encoded data removed]",
      "text/plain": [
       "<Figure size 432x288 with 2 Axes>"
      ]
     },
     "metadata": {
      "needs_background": "light",
      "tags": []
     },
     "output_type": "display_data"
    }
   ],
   "source": [
    "# your code here\n",
    "from sklearn.linear_model import LogisticRegression\n",
    "from imblearn.over_sampling import SMOTE\n",
    "from imblearn.pipeline import make_pipeline as imbalanced_make_pipeline\n",
    "from sklearn.model_selection import StratifiedShuffleSplit\n",
    "from sklearn.model_selection import cross_val_score\n",
    "\n",
    "\n",
    "log = LogisticRegression()\n",
    "smote = SMOTE(sampling_strategy='minority')\n",
    "smote_log = imbalanced_make_pipeline(smote, log)\n",
    "\n",
    "\n",
    "sss = StratifiedShuffleSplit(n_splits=50, test_size=0.5, random_state=42)\n",
    "\n",
    "training_score = cross_val_score(log, X, y, cv=sss, scoring='average_precision')\n",
    "plt.subplot(2,1,1); sns.boxplot(training_score); \n",
    "\n",
    "training_score = cross_val_score(smote_log, X, y, cv=sss, scoring='average_precision')\n",
    "plt.subplot(2,1,2); sns.boxplot(training_score);"
   ]
  },
  {
   "cell_type": "code",
   "execution_count": null,
   "metadata": {
    "id": "6yvvqn5-foGU",
    "outputId": "8355ca36-6b76-4a57-b01d-75edf78df545"
   },
   "outputs": [
    {
     "data": {
      "text/plain": [
       "Pipeline(steps=[('smote', SMOTE(sampling_strategy='minority')),\n",
       "                ('logisticregression', LogisticRegression())])"
      ]
     },
     "execution_count": 225,
     "metadata": {
      "tags": []
     },
     "output_type": "execute_result"
    }
   ],
   "source": [
    "smote_log.fit(X,y)"
   ]
  },
  {
   "cell_type": "code",
   "execution_count": null,
   "metadata": {
    "id": "zhyDVKijfoGU",
    "outputId": "4544879c-93b3-4bce-9f5e-e6e3305e495d"
   },
   "outputs": [
    {
     "data": {
      "text/html": [
       "<div>\n",
       "<style scoped>\n",
       "    .dataframe tbody tr th:only-of-type {\n",
       "        vertical-align: middle;\n",
       "    }\n",
       "\n",
       "    .dataframe tbody tr th {\n",
       "        vertical-align: top;\n",
       "    }\n",
       "\n",
       "    .dataframe thead th {\n",
       "        text-align: right;\n",
       "    }\n",
       "</style>\n",
       "<table border=\"1\" class=\"dataframe\">\n",
       "  <thead>\n",
       "    <tr style=\"text-align: right;\">\n",
       "      <th></th>\n",
       "      <th>id</th>\n",
       "      <th>state</th>\n",
       "      <th>account_length</th>\n",
       "      <th>area_code</th>\n",
       "      <th>international_plan</th>\n",
       "      <th>voice_mail_plan</th>\n",
       "      <th>number_vmail_messages</th>\n",
       "      <th>total_day_minutes</th>\n",
       "      <th>total_day_calls</th>\n",
       "      <th>total_day_charge</th>\n",
       "      <th>total_eve_minutes</th>\n",
       "      <th>total_eve_calls</th>\n",
       "      <th>total_eve_charge</th>\n",
       "      <th>total_night_minutes</th>\n",
       "      <th>total_night_calls</th>\n",
       "      <th>total_night_charge</th>\n",
       "      <th>total_intl_minutes</th>\n",
       "      <th>total_intl_calls</th>\n",
       "      <th>total_intl_charge</th>\n",
       "      <th>number_customer_service_calls</th>\n",
       "    </tr>\n",
       "  </thead>\n",
       "  <tbody>\n",
       "    <tr>\n",
       "      <th>0</th>\n",
       "      <td>1</td>\n",
       "      <td>KS</td>\n",
       "      <td>128</td>\n",
       "      <td>area_code_415</td>\n",
       "      <td>no</td>\n",
       "      <td>yes</td>\n",
       "      <td>25</td>\n",
       "      <td>265.1</td>\n",
       "      <td>110</td>\n",
       "      <td>45.07</td>\n",
       "      <td>197.4</td>\n",
       "      <td>99</td>\n",
       "      <td>16.78</td>\n",
       "      <td>244.7</td>\n",
       "      <td>91</td>\n",
       "      <td>11.01</td>\n",
       "      <td>10.0</td>\n",
       "      <td>3</td>\n",
       "      <td>2.70</td>\n",
       "      <td>1</td>\n",
       "    </tr>\n",
       "    <tr>\n",
       "      <th>1</th>\n",
       "      <td>2</td>\n",
       "      <td>AL</td>\n",
       "      <td>118</td>\n",
       "      <td>area_code_510</td>\n",
       "      <td>yes</td>\n",
       "      <td>no</td>\n",
       "      <td>0</td>\n",
       "      <td>223.4</td>\n",
       "      <td>98</td>\n",
       "      <td>37.98</td>\n",
       "      <td>220.6</td>\n",
       "      <td>101</td>\n",
       "      <td>18.75</td>\n",
       "      <td>203.9</td>\n",
       "      <td>118</td>\n",
       "      <td>9.18</td>\n",
       "      <td>6.3</td>\n",
       "      <td>6</td>\n",
       "      <td>1.70</td>\n",
       "      <td>0</td>\n",
       "    </tr>\n",
       "    <tr>\n",
       "      <th>2</th>\n",
       "      <td>3</td>\n",
       "      <td>IA</td>\n",
       "      <td>62</td>\n",
       "      <td>area_code_415</td>\n",
       "      <td>no</td>\n",
       "      <td>no</td>\n",
       "      <td>0</td>\n",
       "      <td>120.7</td>\n",
       "      <td>70</td>\n",
       "      <td>20.52</td>\n",
       "      <td>307.2</td>\n",
       "      <td>76</td>\n",
       "      <td>26.11</td>\n",
       "      <td>203.0</td>\n",
       "      <td>99</td>\n",
       "      <td>9.14</td>\n",
       "      <td>13.1</td>\n",
       "      <td>6</td>\n",
       "      <td>3.54</td>\n",
       "      <td>4</td>\n",
       "    </tr>\n",
       "    <tr>\n",
       "      <th>3</th>\n",
       "      <td>4</td>\n",
       "      <td>VT</td>\n",
       "      <td>93</td>\n",
       "      <td>area_code_510</td>\n",
       "      <td>no</td>\n",
       "      <td>no</td>\n",
       "      <td>0</td>\n",
       "      <td>190.7</td>\n",
       "      <td>114</td>\n",
       "      <td>32.42</td>\n",
       "      <td>218.2</td>\n",
       "      <td>111</td>\n",
       "      <td>18.55</td>\n",
       "      <td>129.6</td>\n",
       "      <td>121</td>\n",
       "      <td>5.83</td>\n",
       "      <td>8.1</td>\n",
       "      <td>3</td>\n",
       "      <td>2.19</td>\n",
       "      <td>3</td>\n",
       "    </tr>\n",
       "    <tr>\n",
       "      <th>4</th>\n",
       "      <td>5</td>\n",
       "      <td>NE</td>\n",
       "      <td>174</td>\n",
       "      <td>area_code_415</td>\n",
       "      <td>no</td>\n",
       "      <td>no</td>\n",
       "      <td>0</td>\n",
       "      <td>124.3</td>\n",
       "      <td>76</td>\n",
       "      <td>21.13</td>\n",
       "      <td>277.1</td>\n",
       "      <td>112</td>\n",
       "      <td>23.55</td>\n",
       "      <td>250.7</td>\n",
       "      <td>115</td>\n",
       "      <td>11.28</td>\n",
       "      <td>15.5</td>\n",
       "      <td>5</td>\n",
       "      <td>4.19</td>\n",
       "      <td>3</td>\n",
       "    </tr>\n",
       "  </tbody>\n",
       "</table>\n",
       "</div>"
      ],
      "text/plain": [
       "   id state  account_length      area_code international_plan voice_mail_plan  \\\n",
       "0   1    KS             128  area_code_415                 no             yes   \n",
       "1   2    AL             118  area_code_510                yes              no   \n",
       "2   3    IA              62  area_code_415                 no              no   \n",
       "3   4    VT              93  area_code_510                 no              no   \n",
       "4   5    NE             174  area_code_415                 no              no   \n",
       "\n",
       "   number_vmail_messages  total_day_minutes  total_day_calls  \\\n",
       "0                     25              265.1              110   \n",
       "1                      0              223.4               98   \n",
       "2                      0              120.7               70   \n",
       "3                      0              190.7              114   \n",
       "4                      0              124.3               76   \n",
       "\n",
       "   total_day_charge  total_eve_minutes  total_eve_calls  total_eve_charge  \\\n",
       "0             45.07              197.4               99             16.78   \n",
       "1             37.98              220.6              101             18.75   \n",
       "2             20.52              307.2               76             26.11   \n",
       "3             32.42              218.2              111             18.55   \n",
       "4             21.13              277.1              112             23.55   \n",
       "\n",
       "   total_night_minutes  total_night_calls  total_night_charge  \\\n",
       "0                244.7                 91               11.01   \n",
       "1                203.9                118                9.18   \n",
       "2                203.0                 99                9.14   \n",
       "3                129.6                121                5.83   \n",
       "4                250.7                115               11.28   \n",
       "\n",
       "   total_intl_minutes  total_intl_calls  total_intl_charge  \\\n",
       "0                10.0                 3               2.70   \n",
       "1                 6.3                 6               1.70   \n",
       "2                13.1                 6               3.54   \n",
       "3                 8.1                 3               2.19   \n",
       "4                15.5                 5               4.19   \n",
       "\n",
       "   number_customer_service_calls  \n",
       "0                              1  \n",
       "1                              0  \n",
       "2                              4  \n",
       "3                              3  \n",
       "4                              3  "
      ]
     },
     "execution_count": 226,
     "metadata": {
      "tags": []
     },
     "output_type": "execute_result"
    }
   ],
   "source": [
    "df_test = pd.read_csv('../data/churn_test.csv')\n",
    "df_test.head()"
   ]
  },
  {
   "cell_type": "code",
   "execution_count": null,
   "metadata": {
    "id": "aPtypgGRfoGV"
   },
   "outputs": [],
   "source": []
  }
 ],
 "metadata": {
  "colab": {
   "collapsed_sections": [],
   "name": "35_ml_imbalance.ipynb",
   "provenance": [],
   "toc_visible": true
  },
  "kernelspec": {
   "display_name": "Python 3",
   "language": "python",
   "name": "python3"
  },
  "language_info": {
   "codemirror_mode": {
    "name": "ipython",
    "version": 3
   },
   "file_extension": ".py",
   "mimetype": "text/x-python",
   "name": "python",
   "nbconvert_exporter": "python",
   "pygments_lexer": "ipython3",
   "version": "3.8.5"
  },
  "toc": {
   "base_numbering": 1,
   "nav_menu": {},
   "number_sections": true,
   "sideBar": true,
   "skip_h1_title": false,
   "title_cell": "Table of Contents",
   "title_sidebar": "Contents",
   "toc_cell": true,
   "toc_position": {},
   "toc_section_display": true,
   "toc_window_display": true
  },
  "varInspector": {
   "cols": {
    "lenName": 16,
    "lenType": 16,
    "lenVar": 40
   },
   "kernels_config": {
    "python": {
     "delete_cmd_postfix": "",
     "delete_cmd_prefix": "del ",
     "library": "var_list.py",
     "varRefreshCmd": "print(var_dic_list())"
    },
    "r": {
     "delete_cmd_postfix": ") ",
     "delete_cmd_prefix": "rm(",
     "library": "var_list.r",
     "varRefreshCmd": "cat(var_dic_list()) "
    }
   },
   "types_to_exclude": [
    "module",
    "function",
    "builtin_function_or_method",
    "instance",
    "_Feature"
   ],
   "window_display": false
  }
 },
 "nbformat": 4,
 "nbformat_minor": 1
}
