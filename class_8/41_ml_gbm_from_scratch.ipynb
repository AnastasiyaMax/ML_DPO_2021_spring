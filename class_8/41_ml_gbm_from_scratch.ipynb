{
 "cells": [
  {
   "cell_type": "markdown",
   "metadata": {
    "id": "kl0-T258iS64",
    "toc": true
   },
   "source": [
    "<h1>Table of Contents<span class=\"tocSkip\"></span></h1>\n",
    "<div class=\"toc\"><ul class=\"toc-item\"><li><span><a href=\"#diamonds\" data-toc-modified-id=\"diamonds-1\"><span class=\"toc-item-num\">1&nbsp;&nbsp;</span>diamonds</a></span><ul class=\"toc-item\"><li><span><a href=\"#Gradien-Boosting-Regressor-from-Scratch\" data-toc-modified-id=\"Gradien-Boosting-Regressor-from-Scratch-1.1\"><span class=\"toc-item-num\">1.1&nbsp;&nbsp;</span>Gradien Boosting Regressor from Scratch</a></span></li><li><span><a href=\"#tuning\" data-toc-modified-id=\"tuning-1.2\"><span class=\"toc-item-num\">1.2&nbsp;&nbsp;</span>tuning</a></span><ul class=\"toc-item\"><li><span><a href=\"#sklearn\" data-toc-modified-id=\"sklearn-1.2.1\"><span class=\"toc-item-num\">1.2.1&nbsp;&nbsp;</span>sklearn</a></span></li><li><span><a href=\"#custom\" data-toc-modified-id=\"custom-1.2.2\"><span class=\"toc-item-num\">1.2.2&nbsp;&nbsp;</span>custom</a></span></li></ul></li></ul></li></ul></div>"
   ]
  },
  {
   "cell_type": "markdown",
   "metadata": {
    "id": "zhlp240ciS65"
   },
   "source": [
    "# diamonds"
   ]
  },
  {
   "cell_type": "code",
   "execution_count": 1,
   "metadata": {
    "id": "Zy42RvvGiS65"
   },
   "outputs": [],
   "source": [
    "import numpy as np              # для работы с массивами чисел\n",
    "import pandas as pd             # для работы с таблицами\n",
    "\n",
    "import matplotlib.pyplot as plt # для работы с графиками\n",
    "import seaborn as sns           # для работы с красивыми графиками из pd.DataFrame\n",
    "\n"
   ]
  },
  {
   "cell_type": "code",
   "execution_count": 2,
   "metadata": {
    "id": "do-6P8q_iS65"
   },
   "outputs": [],
   "source": [
    "import ssl\n",
    "ssl._create_default_https_context = ssl._create_unverified_context\n",
    "\n",
    "# стиль графиков\n",
    "sns.set(style='darkgrid', palette='pastel', color_codes=True)\n",
    "\n",
    "# задать размер графиков\n",
    "plt.rcParams['figure.figsize'] = (10, 5)"
   ]
  },
  {
   "cell_type": "code",
   "execution_count": 3,
   "metadata": {
    "colab": {
     "base_uri": "https://localhost:8080/",
     "height": 191
    },
    "id": "71mhKy6_iS65",
    "outputId": "d9811b6b-2a6b-448e-8538-c0f35fa9ea93"
   },
   "outputs": [
    {
     "data": {
      "text/html": [
       "<div>\n",
       "<style scoped>\n",
       "    .dataframe tbody tr th:only-of-type {\n",
       "        vertical-align: middle;\n",
       "    }\n",
       "\n",
       "    .dataframe tbody tr th {\n",
       "        vertical-align: top;\n",
       "    }\n",
       "\n",
       "    .dataframe thead th {\n",
       "        text-align: right;\n",
       "    }\n",
       "</style>\n",
       "<table border=\"1\" class=\"dataframe\">\n",
       "  <thead>\n",
       "    <tr style=\"text-align: right;\">\n",
       "      <th></th>\n",
       "      <th>carat</th>\n",
       "      <th>cut</th>\n",
       "      <th>color</th>\n",
       "      <th>clarity</th>\n",
       "      <th>depth</th>\n",
       "      <th>table</th>\n",
       "      <th>price</th>\n",
       "      <th>x</th>\n",
       "      <th>y</th>\n",
       "      <th>z</th>\n",
       "    </tr>\n",
       "  </thead>\n",
       "  <tbody>\n",
       "    <tr>\n",
       "      <td>0</td>\n",
       "      <td>0.23</td>\n",
       "      <td>Ideal</td>\n",
       "      <td>E</td>\n",
       "      <td>SI2</td>\n",
       "      <td>61.5</td>\n",
       "      <td>55.0</td>\n",
       "      <td>326</td>\n",
       "      <td>3.95</td>\n",
       "      <td>3.98</td>\n",
       "      <td>2.43</td>\n",
       "    </tr>\n",
       "    <tr>\n",
       "      <td>1</td>\n",
       "      <td>0.21</td>\n",
       "      <td>Premium</td>\n",
       "      <td>E</td>\n",
       "      <td>SI1</td>\n",
       "      <td>59.8</td>\n",
       "      <td>61.0</td>\n",
       "      <td>326</td>\n",
       "      <td>3.89</td>\n",
       "      <td>3.84</td>\n",
       "      <td>2.31</td>\n",
       "    </tr>\n",
       "    <tr>\n",
       "      <td>2</td>\n",
       "      <td>0.23</td>\n",
       "      <td>Good</td>\n",
       "      <td>E</td>\n",
       "      <td>VS1</td>\n",
       "      <td>56.9</td>\n",
       "      <td>65.0</td>\n",
       "      <td>327</td>\n",
       "      <td>4.05</td>\n",
       "      <td>4.07</td>\n",
       "      <td>2.31</td>\n",
       "    </tr>\n",
       "    <tr>\n",
       "      <td>3</td>\n",
       "      <td>0.29</td>\n",
       "      <td>Premium</td>\n",
       "      <td>I</td>\n",
       "      <td>VS2</td>\n",
       "      <td>62.4</td>\n",
       "      <td>58.0</td>\n",
       "      <td>334</td>\n",
       "      <td>4.20</td>\n",
       "      <td>4.23</td>\n",
       "      <td>2.63</td>\n",
       "    </tr>\n",
       "    <tr>\n",
       "      <td>4</td>\n",
       "      <td>0.31</td>\n",
       "      <td>Good</td>\n",
       "      <td>J</td>\n",
       "      <td>SI2</td>\n",
       "      <td>63.3</td>\n",
       "      <td>58.0</td>\n",
       "      <td>335</td>\n",
       "      <td>4.34</td>\n",
       "      <td>4.35</td>\n",
       "      <td>2.75</td>\n",
       "    </tr>\n",
       "  </tbody>\n",
       "</table>\n",
       "</div>"
      ],
      "text/plain": [
       "   carat      cut color clarity  depth  table  price     x     y     z\n",
       "0   0.23    Ideal     E     SI2   61.5   55.0    326  3.95  3.98  2.43\n",
       "1   0.21  Premium     E     SI1   59.8   61.0    326  3.89  3.84  2.31\n",
       "2   0.23     Good     E     VS1   56.9   65.0    327  4.05  4.07  2.31\n",
       "3   0.29  Premium     I     VS2   62.4   58.0    334  4.20  4.23  2.63\n",
       "4   0.31     Good     J     SI2   63.3   58.0    335  4.34  4.35  2.75"
      ]
     },
     "execution_count": 3,
     "metadata": {},
     "output_type": "execute_result"
    }
   ],
   "source": [
    "df = sns.load_dataset('diamonds')\n",
    "df.head()"
   ]
  },
  {
   "cell_type": "code",
   "execution_count": 4,
   "metadata": {
    "colab": {
     "base_uri": "https://localhost:8080/",
     "height": 227
    },
    "id": "tIqlfNi6iS66",
    "outputId": "f8e73877-e5c2-4f07-d645-bdc971530d60"
   },
   "outputs": [
    {
     "data": {
      "text/html": [
       "<div>\n",
       "<style scoped>\n",
       "    .dataframe tbody tr th:only-of-type {\n",
       "        vertical-align: middle;\n",
       "    }\n",
       "\n",
       "    .dataframe tbody tr th {\n",
       "        vertical-align: top;\n",
       "    }\n",
       "\n",
       "    .dataframe thead th {\n",
       "        text-align: right;\n",
       "    }\n",
       "</style>\n",
       "<table border=\"1\" class=\"dataframe\">\n",
       "  <thead>\n",
       "    <tr style=\"text-align: right;\">\n",
       "      <th></th>\n",
       "      <th>carat</th>\n",
       "      <th>depth</th>\n",
       "      <th>table</th>\n",
       "      <th>x</th>\n",
       "      <th>y</th>\n",
       "      <th>z</th>\n",
       "      <th>cut_Fair</th>\n",
       "      <th>cut_Good</th>\n",
       "      <th>cut_Ideal</th>\n",
       "      <th>cut_Premium</th>\n",
       "      <th>...</th>\n",
       "      <th>color_I</th>\n",
       "      <th>color_J</th>\n",
       "      <th>clarity_I1</th>\n",
       "      <th>clarity_IF</th>\n",
       "      <th>clarity_SI1</th>\n",
       "      <th>clarity_SI2</th>\n",
       "      <th>clarity_VS1</th>\n",
       "      <th>clarity_VS2</th>\n",
       "      <th>clarity_VVS1</th>\n",
       "      <th>clarity_VVS2</th>\n",
       "    </tr>\n",
       "  </thead>\n",
       "  <tbody>\n",
       "    <tr>\n",
       "      <td>0</td>\n",
       "      <td>0.23</td>\n",
       "      <td>61.5</td>\n",
       "      <td>55.0</td>\n",
       "      <td>3.95</td>\n",
       "      <td>3.98</td>\n",
       "      <td>2.43</td>\n",
       "      <td>0</td>\n",
       "      <td>0</td>\n",
       "      <td>1</td>\n",
       "      <td>0</td>\n",
       "      <td>...</td>\n",
       "      <td>0</td>\n",
       "      <td>0</td>\n",
       "      <td>0</td>\n",
       "      <td>0</td>\n",
       "      <td>0</td>\n",
       "      <td>1</td>\n",
       "      <td>0</td>\n",
       "      <td>0</td>\n",
       "      <td>0</td>\n",
       "      <td>0</td>\n",
       "    </tr>\n",
       "    <tr>\n",
       "      <td>1</td>\n",
       "      <td>0.21</td>\n",
       "      <td>59.8</td>\n",
       "      <td>61.0</td>\n",
       "      <td>3.89</td>\n",
       "      <td>3.84</td>\n",
       "      <td>2.31</td>\n",
       "      <td>0</td>\n",
       "      <td>0</td>\n",
       "      <td>0</td>\n",
       "      <td>1</td>\n",
       "      <td>...</td>\n",
       "      <td>0</td>\n",
       "      <td>0</td>\n",
       "      <td>0</td>\n",
       "      <td>0</td>\n",
       "      <td>1</td>\n",
       "      <td>0</td>\n",
       "      <td>0</td>\n",
       "      <td>0</td>\n",
       "      <td>0</td>\n",
       "      <td>0</td>\n",
       "    </tr>\n",
       "    <tr>\n",
       "      <td>2</td>\n",
       "      <td>0.23</td>\n",
       "      <td>56.9</td>\n",
       "      <td>65.0</td>\n",
       "      <td>4.05</td>\n",
       "      <td>4.07</td>\n",
       "      <td>2.31</td>\n",
       "      <td>0</td>\n",
       "      <td>1</td>\n",
       "      <td>0</td>\n",
       "      <td>0</td>\n",
       "      <td>...</td>\n",
       "      <td>0</td>\n",
       "      <td>0</td>\n",
       "      <td>0</td>\n",
       "      <td>0</td>\n",
       "      <td>0</td>\n",
       "      <td>0</td>\n",
       "      <td>1</td>\n",
       "      <td>0</td>\n",
       "      <td>0</td>\n",
       "      <td>0</td>\n",
       "    </tr>\n",
       "    <tr>\n",
       "      <td>3</td>\n",
       "      <td>0.29</td>\n",
       "      <td>62.4</td>\n",
       "      <td>58.0</td>\n",
       "      <td>4.20</td>\n",
       "      <td>4.23</td>\n",
       "      <td>2.63</td>\n",
       "      <td>0</td>\n",
       "      <td>0</td>\n",
       "      <td>0</td>\n",
       "      <td>1</td>\n",
       "      <td>...</td>\n",
       "      <td>1</td>\n",
       "      <td>0</td>\n",
       "      <td>0</td>\n",
       "      <td>0</td>\n",
       "      <td>0</td>\n",
       "      <td>0</td>\n",
       "      <td>0</td>\n",
       "      <td>1</td>\n",
       "      <td>0</td>\n",
       "      <td>0</td>\n",
       "    </tr>\n",
       "    <tr>\n",
       "      <td>4</td>\n",
       "      <td>0.31</td>\n",
       "      <td>63.3</td>\n",
       "      <td>58.0</td>\n",
       "      <td>4.34</td>\n",
       "      <td>4.35</td>\n",
       "      <td>2.75</td>\n",
       "      <td>0</td>\n",
       "      <td>1</td>\n",
       "      <td>0</td>\n",
       "      <td>0</td>\n",
       "      <td>...</td>\n",
       "      <td>0</td>\n",
       "      <td>1</td>\n",
       "      <td>0</td>\n",
       "      <td>0</td>\n",
       "      <td>0</td>\n",
       "      <td>1</td>\n",
       "      <td>0</td>\n",
       "      <td>0</td>\n",
       "      <td>0</td>\n",
       "      <td>0</td>\n",
       "    </tr>\n",
       "  </tbody>\n",
       "</table>\n",
       "<p>5 rows × 26 columns</p>\n",
       "</div>"
      ],
      "text/plain": [
       "   carat  depth  table     x     y     z  cut_Fair  cut_Good  cut_Ideal  \\\n",
       "0   0.23   61.5   55.0  3.95  3.98  2.43         0         0          1   \n",
       "1   0.21   59.8   61.0  3.89  3.84  2.31         0         0          0   \n",
       "2   0.23   56.9   65.0  4.05  4.07  2.31         0         1          0   \n",
       "3   0.29   62.4   58.0  4.20  4.23  2.63         0         0          0   \n",
       "4   0.31   63.3   58.0  4.34  4.35  2.75         0         1          0   \n",
       "\n",
       "   cut_Premium  ...  color_I  color_J  clarity_I1  clarity_IF  clarity_SI1  \\\n",
       "0            0  ...        0        0           0           0            0   \n",
       "1            1  ...        0        0           0           0            1   \n",
       "2            0  ...        0        0           0           0            0   \n",
       "3            1  ...        1        0           0           0            0   \n",
       "4            0  ...        0        1           0           0            0   \n",
       "\n",
       "   clarity_SI2  clarity_VS1  clarity_VS2  clarity_VVS1  clarity_VVS2  \n",
       "0            1            0            0             0             0  \n",
       "1            0            0            0             0             0  \n",
       "2            0            1            0             0             0  \n",
       "3            0            0            1             0             0  \n",
       "4            1            0            0             0             0  \n",
       "\n",
       "[5 rows x 26 columns]"
      ]
     },
     "execution_count": 4,
     "metadata": {},
     "output_type": "execute_result"
    }
   ],
   "source": [
    "X = df.drop('price',axis=1)\n",
    "X = pd.get_dummies(X)\n",
    "y = df['price']/1000\n",
    "\n",
    "X.head()"
   ]
  },
  {
   "cell_type": "code",
   "execution_count": 5,
   "metadata": {
    "colab": {
     "base_uri": "https://localhost:8080/"
    },
    "id": "V-gTc4QciS66",
    "outputId": "7b87f207-c899-43d5-e42b-e50bd508c165"
   },
   "outputs": [
    {
     "data": {
      "text/plain": [
       "GradientBoostingRegressor(max_depth=5, n_estimators=3)"
      ]
     },
     "execution_count": 5,
     "metadata": {},
     "output_type": "execute_result"
    }
   ],
   "source": [
    "from sklearn.ensemble import GradientBoostingRegressor\n",
    "\n",
    "gb = GradientBoostingRegressor(n_estimators=3, learning_rate=0.1, max_depth=5)\n",
    "gb.fit(X,y)"
   ]
  },
  {
   "cell_type": "code",
   "execution_count": 6,
   "metadata": {
    "colab": {
     "base_uri": "https://localhost:8080/",
     "height": 141
    },
    "id": "l6kmWF9FiS66",
    "outputId": "d2770ef6-fb1c-4a30-fd3b-81932acf12a7"
   },
   "outputs": [
    {
     "data": {
      "text/html": [
       "<div>\n",
       "<style scoped>\n",
       "    .dataframe tbody tr th:only-of-type {\n",
       "        vertical-align: middle;\n",
       "    }\n",
       "\n",
       "    .dataframe tbody tr th {\n",
       "        vertical-align: top;\n",
       "    }\n",
       "\n",
       "    .dataframe thead th {\n",
       "        text-align: right;\n",
       "    }\n",
       "</style>\n",
       "<table border=\"1\" class=\"dataframe\">\n",
       "  <thead>\n",
       "    <tr style=\"text-align: right;\">\n",
       "      <th></th>\n",
       "      <th>carat</th>\n",
       "      <th>depth</th>\n",
       "      <th>table</th>\n",
       "      <th>x</th>\n",
       "      <th>y</th>\n",
       "      <th>z</th>\n",
       "      <th>cut_Fair</th>\n",
       "      <th>cut_Good</th>\n",
       "      <th>cut_Ideal</th>\n",
       "      <th>cut_Premium</th>\n",
       "      <th>...</th>\n",
       "      <th>color_I</th>\n",
       "      <th>color_J</th>\n",
       "      <th>clarity_I1</th>\n",
       "      <th>clarity_IF</th>\n",
       "      <th>clarity_SI1</th>\n",
       "      <th>clarity_SI2</th>\n",
       "      <th>clarity_VS1</th>\n",
       "      <th>clarity_VS2</th>\n",
       "      <th>clarity_VVS1</th>\n",
       "      <th>clarity_VVS2</th>\n",
       "    </tr>\n",
       "  </thead>\n",
       "  <tbody>\n",
       "    <tr>\n",
       "      <td>10856</td>\n",
       "      <td>1.13</td>\n",
       "      <td>60.7</td>\n",
       "      <td>54.0</td>\n",
       "      <td>6.82</td>\n",
       "      <td>6.72</td>\n",
       "      <td>4.11</td>\n",
       "      <td>0</td>\n",
       "      <td>0</td>\n",
       "      <td>0</td>\n",
       "      <td>1</td>\n",
       "      <td>...</td>\n",
       "      <td>0</td>\n",
       "      <td>0</td>\n",
       "      <td>0</td>\n",
       "      <td>0</td>\n",
       "      <td>0</td>\n",
       "      <td>1</td>\n",
       "      <td>0</td>\n",
       "      <td>0</td>\n",
       "      <td>0</td>\n",
       "      <td>0</td>\n",
       "    </tr>\n",
       "    <tr>\n",
       "      <td>35144</td>\n",
       "      <td>0.31</td>\n",
       "      <td>61.2</td>\n",
       "      <td>58.0</td>\n",
       "      <td>4.35</td>\n",
       "      <td>4.38</td>\n",
       "      <td>2.67</td>\n",
       "      <td>0</td>\n",
       "      <td>0</td>\n",
       "      <td>0</td>\n",
       "      <td>0</td>\n",
       "      <td>...</td>\n",
       "      <td>0</td>\n",
       "      <td>0</td>\n",
       "      <td>0</td>\n",
       "      <td>0</td>\n",
       "      <td>0</td>\n",
       "      <td>0</td>\n",
       "      <td>0</td>\n",
       "      <td>0</td>\n",
       "      <td>1</td>\n",
       "      <td>0</td>\n",
       "    </tr>\n",
       "  </tbody>\n",
       "</table>\n",
       "<p>2 rows × 26 columns</p>\n",
       "</div>"
      ],
      "text/plain": [
       "       carat  depth  table     x     y     z  cut_Fair  cut_Good  cut_Ideal  \\\n",
       "10856   1.13   60.7   54.0  6.82  6.72  4.11         0         0          0   \n",
       "35144   0.31   61.2   58.0  4.35  4.38  2.67         0         0          0   \n",
       "\n",
       "       cut_Premium  ...  color_I  color_J  clarity_I1  clarity_IF  \\\n",
       "10856            1  ...        0        0           0           0   \n",
       "35144            0  ...        0        0           0           0   \n",
       "\n",
       "       clarity_SI1  clarity_SI2  clarity_VS1  clarity_VS2  clarity_VVS1  \\\n",
       "10856            0            1            0            0             0   \n",
       "35144            0            0            0            0             1   \n",
       "\n",
       "       clarity_VVS2  \n",
       "10856             0  \n",
       "35144             0  \n",
       "\n",
       "[2 rows x 26 columns]"
      ]
     },
     "execution_count": 6,
     "metadata": {},
     "output_type": "execute_result"
    }
   ],
   "source": [
    "X_small = X.sample(2)\n",
    "y_small = y[X_small.index]\n",
    "X_small"
   ]
  },
  {
   "cell_type": "code",
   "execution_count": 7,
   "metadata": {
    "colab": {
     "base_uri": "https://localhost:8080/"
    },
    "id": "QIP9HFSziS67",
    "outputId": "860142f6-5da4-4525-db78-896225f81cb1"
   },
   "outputs": [
    {
     "name": "stdout",
     "output_type": "stream",
     "text": [
      "3.9327997219132373\t3.9327997219132373\n",
      "4.873\t0.89\n"
     ]
    }
   ],
   "source": [
    "# The estimator that provides the initial prediction\n",
    "print(*gb.init_.predict(X_small), sep='\\t')\n",
    "print(*y_small.values, sep='\\t')"
   ]
  },
  {
   "cell_type": "code",
   "execution_count": 8,
   "metadata": {
    "colab": {
     "base_uri": "https://localhost:8080/"
    },
    "id": "pIVCjPuaiS67",
    "outputId": "98d8331f-c8de-4e4d-ab46-b866c2765850",
    "scrolled": true
   },
   "outputs": [
    {
     "data": {
      "text/plain": [
       "{'alpha': 0.9,\n",
       " 'ccp_alpha': 0.0,\n",
       " 'criterion': 'friedman_mse',\n",
       " 'init': None,\n",
       " 'learning_rate': 0.1,\n",
       " 'loss': 'ls',\n",
       " 'max_depth': 5,\n",
       " 'max_features': None,\n",
       " 'max_leaf_nodes': None,\n",
       " 'min_impurity_decrease': 0.0,\n",
       " 'min_impurity_split': None,\n",
       " 'min_samples_leaf': 1,\n",
       " 'min_samples_split': 2,\n",
       " 'min_weight_fraction_leaf': 0.0,\n",
       " 'n_estimators': 3,\n",
       " 'n_iter_no_change': None,\n",
       " 'presort': 'deprecated',\n",
       " 'random_state': None,\n",
       " 'subsample': 1.0,\n",
       " 'tol': 0.0001,\n",
       " 'validation_fraction': 0.1,\n",
       " 'verbose': 0,\n",
       " 'warm_start': False}"
      ]
     },
     "execution_count": 8,
     "metadata": {},
     "output_type": "execute_result"
    }
   ],
   "source": [
    "gb.get_params()"
   ]
  },
  {
   "cell_type": "code",
   "execution_count": 9,
   "metadata": {
    "colab": {
     "base_uri": "https://localhost:8080/"
    },
    "id": "3H-j-t5niS67",
    "outputId": "7785ec4c-0b04-4d36-9743-d52589795f66"
   },
   "outputs": [
    {
     "data": {
      "text/plain": [
       "0.1"
      ]
     },
     "execution_count": 9,
     "metadata": {},
     "output_type": "execute_result"
    }
   ],
   "source": [
    "lr = gb.get_params()['learning_rate']\n",
    "lr"
   ]
  },
  {
   "cell_type": "code",
   "execution_count": 10,
   "metadata": {
    "colab": {
     "base_uri": "https://localhost:8080/"
    },
    "id": "jIuJyaveiS67",
    "outputId": "4b89f0c9-ffec-4145-ef1a-c831e4831cfc"
   },
   "outputs": [
    {
     "data": {
      "text/plain": [
       "10856    0.9402\n",
       "35144   -3.0428\n",
       "Name: price, dtype: float64"
      ]
     },
     "execution_count": 10,
     "metadata": {},
     "output_type": "execute_result"
    }
   ],
   "source": [
    "y_small - gb.init_.predict(X_small)"
   ]
  },
  {
   "cell_type": "code",
   "execution_count": 11,
   "metadata": {
    "colab": {
     "base_uri": "https://localhost:8080/"
    },
    "id": "7jvNCjDXiS67",
    "outputId": "6234c99f-f3fa-4b2e-aa3b-5d2240a210d5"
   },
   "outputs": [
    {
     "data": {
      "text/plain": [
       "array([[DecisionTreeRegressor(criterion='friedman_mse', max_depth=5,\n",
       "                      random_state=RandomState(MT19937) at 0x13CF42DB0)],\n",
       "       [DecisionTreeRegressor(criterion='friedman_mse', max_depth=5,\n",
       "                      random_state=RandomState(MT19937) at 0x13CF42DB0)],\n",
       "       [DecisionTreeRegressor(criterion='friedman_mse', max_depth=5,\n",
       "                      random_state=RandomState(MT19937) at 0x13CF42DB0)]],\n",
       "      dtype=object)"
      ]
     },
     "execution_count": 11,
     "metadata": {},
     "output_type": "execute_result"
    }
   ],
   "source": [
    "# The collection of fitted sub-estimators\n",
    "gb.estimators_"
   ]
  },
  {
   "cell_type": "code",
   "execution_count": 12,
   "metadata": {
    "colab": {
     "base_uri": "https://localhost:8080/"
    },
    "id": "gbGGCWk0iS67",
    "outputId": "5c06f1c2-ece5-4324-d673-7f87e194bc09"
   },
   "outputs": [
    {
     "data": {
      "text/plain": [
       "array([4.873, 0.89 ])"
      ]
     },
     "execution_count": 12,
     "metadata": {},
     "output_type": "execute_result"
    }
   ],
   "source": [
    "y_small.values"
   ]
  },
  {
   "cell_type": "code",
   "execution_count": 13,
   "metadata": {
    "id": "g7Yvd-NoiS67"
   },
   "outputs": [],
   "source": [
    "# y_hat_1\n",
    "y_hat_1 = gb.init_.predict(X_small)                  \n",
    "\n",
    "s_hat_2 = lr*gb.estimators_[0][0].predict(X_small)\n",
    "\n",
    "# y_hat_3 = y_hat_1 + s_hat_1 + s_hat_2 \\\n",
    "s_hat_3 = lr*gb.estimators_[1][0].predict(X_small)   "
   ]
  },
  {
   "cell_type": "code",
   "execution_count": 14,
   "metadata": {
    "colab": {
     "base_uri": "https://localhost:8080/"
    },
    "id": "pxoxa79DiS67",
    "outputId": "6a7cf1e3-b827-465c-b302-95984415625f"
   },
   "outputs": [
    {
     "data": {
      "text/plain": [
       "array([4.00181162, 3.61358468])"
      ]
     },
     "execution_count": 14,
     "metadata": {},
     "output_type": "execute_result"
    }
   ],
   "source": [
    "y_hat_1 + s_hat_2"
   ]
  },
  {
   "cell_type": "code",
   "execution_count": 15,
   "metadata": {
    "colab": {
     "base_uri": "https://localhost:8080/"
    },
    "id": "e7JDBUCViS67",
    "outputId": "8b754d15-10aa-4084-9c80-6ab22da4da2a"
   },
   "outputs": [
    {
     "data": {
      "text/plain": [
       "array([4.06421848, 3.32032085])"
      ]
     },
     "execution_count": 15,
     "metadata": {},
     "output_type": "execute_result"
    }
   ],
   "source": [
    "y_hat_1 + s_hat_2 + s_hat_3"
   ]
  },
  {
   "cell_type": "code",
   "execution_count": 16,
   "metadata": {
    "colab": {
     "base_uri": "https://localhost:8080/"
    },
    "id": "jpOGDjmXiS68",
    "outputId": "e386ec18-3285-4e80-edfb-9074852a8f8a"
   },
   "outputs": [
    {
     "data": {
      "text/plain": [
       "array([4.873, 0.89 ])"
      ]
     },
     "execution_count": 16,
     "metadata": {},
     "output_type": "execute_result"
    }
   ],
   "source": [
    "y_small.values"
   ]
  },
  {
   "cell_type": "code",
   "execution_count": 17,
   "metadata": {
    "colab": {
     "base_uri": "https://localhost:8080/"
    },
    "id": "G_D2wd5siS68",
    "outputId": "f35533a0-b6cd-490c-9a8f-07f86e9e5bb4",
    "scrolled": true
   },
   "outputs": [
    {
     "data": {
      "text/plain": [
       "[array([4.00181162, 3.61358468]),\n",
       " array([4.06421848, 3.32032085]),\n",
       " array([4.21232932, 3.06254713])]"
      ]
     },
     "execution_count": 17,
     "metadata": {},
     "output_type": "execute_result"
    }
   ],
   "source": [
    "[y for y in gb.staged_predict(X_small)]"
   ]
  },
  {
   "cell_type": "code",
   "execution_count": 18,
   "metadata": {
    "colab": {
     "base_uri": "https://localhost:8080/"
    },
    "id": "SFjpwWXfiS68",
    "outputId": "5a17a6ed-24bb-43f9-9038-e4b1438675fd"
   },
   "outputs": [
    {
     "data": {
      "text/plain": [
       "array([4.873, 0.89 ])"
      ]
     },
     "execution_count": 18,
     "metadata": {},
     "output_type": "execute_result"
    }
   ],
   "source": [
    "y_small.values"
   ]
  },
  {
   "cell_type": "code",
   "execution_count": 19,
   "metadata": {
    "colab": {
     "base_uri": "https://localhost:8080/"
    },
    "id": "2CFyH7YXiS68",
    "outputId": "e2d8e9c5-b619-4de6-dc6e-d87bd1cc1890",
    "scrolled": true
   },
   "outputs": [
    {
     "data": {
      "text/plain": [
       "[array([-0.87118838,  2.72358468]),\n",
       " array([-0.80878152,  2.43032085]),\n",
       " array([-0.66067068,  2.17254713])]"
      ]
     },
     "execution_count": 19,
     "metadata": {},
     "output_type": "execute_result"
    }
   ],
   "source": [
    "[y-y_small.values for y in gb.staged_predict(X_small)]"
   ]
  },
  {
   "cell_type": "code",
   "execution_count": 20,
   "metadata": {
    "colab": {
     "base_uri": "https://localhost:8080/",
     "height": 322
    },
    "id": "HlOH7TBAiS68",
    "outputId": "644980ba-ea5b-478b-a444-a798d86870f5"
   },
   "outputs": [
    {
     "data": {
      "image/png": "[encoded data removed]",
      "text/plain": [
       "<Figure size 720x360 with 1 Axes>"
      ]
     },
     "metadata": {},
     "output_type": "display_data"
    }
   ],
   "source": [
    "plt.plot([y for y in gb.staged_predict(X_small)], '--o')\n",
    "\n",
    "#plt.hlines(xmin=0, xmax=5, y=y_small.values, ':')\n",
    "plt.show()"
   ]
  },
  {
   "cell_type": "code",
   "execution_count": 21,
   "metadata": {
    "colab": {
     "base_uri": "https://localhost:8080/"
    },
    "id": "qw4Y4IANiS68",
    "outputId": "8ac9f952-3d2d-49db-92e3-22c1ac8f4700"
   },
   "outputs": [
    {
     "data": {
      "text/plain": [
       "10856    4.873\n",
       "35144    0.890\n",
       "Name: price, dtype: float64"
      ]
     },
     "execution_count": 21,
     "metadata": {},
     "output_type": "execute_result"
    }
   ],
   "source": [
    "y_small"
   ]
  },
  {
   "cell_type": "code",
   "execution_count": 22,
   "metadata": {
    "colab": {
     "base_uri": "https://localhost:8080/",
     "height": 322
    },
    "id": "UCQxEnPiiS68",
    "outputId": "23443434-89f6-4333-e77b-23a38d58f15e"
   },
   "outputs": [
    {
     "data": {
      "image/png": "[encoded data removed]",
      "text/plain": [
       "<Figure size 720x360 with 1 Axes>"
      ]
     },
     "metadata": {},
     "output_type": "display_data"
    }
   ],
   "source": [
    "plt.plot([y-y_small.values for y in gb.staged_predict(X_small)], '--o')\n",
    "\n",
    "\n",
    "#plt.hlines(xmin=0, xmax=5, y=y_small.values, ':')\n",
    "\n",
    "\n",
    "plt.show()"
   ]
  },
  {
   "cell_type": "code",
   "execution_count": 23,
   "metadata": {
    "colab": {
     "base_uri": "https://localhost:8080/",
     "height": 338
    },
    "id": "zJEuKCf3iS68",
    "outputId": "35d97796-d5e5-4bbb-d837-87aba09ca968"
   },
   "outputs": [
    {
     "data": {
      "text/plain": [
       "[<matplotlib.lines.Line2D at 0x159bdb0b8>]"
      ]
     },
     "execution_count": 23,
     "metadata": {},
     "output_type": "execute_result"
    },
    {
     "data": {
      "image/png": "[encoded data removed]",
      "text/plain": [
       "<Figure size 720x360 with 1 Axes>"
      ]
     },
     "metadata": {},
     "output_type": "display_data"
    }
   ],
   "source": [
    "plt.plot(gb.train_score_, '-o')"
   ]
  },
  {
   "cell_type": "markdown",
   "metadata": {
    "id": "bKrXiO-ciS68"
   },
   "source": [
    "## Gradien Boosting Regressor from Scratch"
   ]
  },
  {
   "cell_type": "code",
   "execution_count": 24,
   "metadata": {
    "id": "0t7YDFkWiS68"
   },
   "outputs": [],
   "source": [
    "from sklearn.tree import DecisionTreeRegressor\n",
    "from sklearn.base import BaseEstimator\n",
    "from sklearn.metrics import mean_squared_error\n",
    "from copy import deepcopy"
   ]
  },
  {
   "cell_type": "code",
   "execution_count": 25,
   "metadata": {
    "id": "H3r3Ho78iS68"
   },
   "outputs": [],
   "source": [
    "class GradienBoostingRegressorFromScratch(BaseEstimator):\n",
    "    def __init__(self,\n",
    "                 n_estimators=10, lr=0.1,\n",
    "                 max_depth=5, min_samples_leaf=10,\n",
    "                 **params\n",
    "                ):\n",
    "        '''\n",
    "        n_estimators - кол-во итераций в градиентном бустинге\n",
    "        lr - темп обучения\n",
    "        base_estimator - базовая модель\n",
    "        '''\n",
    "        self.n_estimators = n_estimators\n",
    "        self.lr=lr\n",
    "        \n",
    "        self.max_depth=max_depth\n",
    "        self.min_samples_leaf=min_samples_leaf\n",
    "        \n",
    "        self.base_estimator = DecisionTreeRegressor(\n",
    "            max_depth=max_depth, \n",
    "            min_samples_leaf=min_samples_leaf,\n",
    "            **params\n",
    "        )\n",
    "        \n",
    "    def fit(self, X, y):\n",
    "        self.init_pred = y.mean()\n",
    "        y_pred = np.array([self.init_pred]*y.shape[0])\n",
    "        error = y-y_pred\n",
    "        \n",
    "        self.estimators_ = []\n",
    "        self.mse_ = []\n",
    "        for i in range(self.n_estimators):\n",
    "            self.base_estimator.fit(X, error)            \n",
    "            error_pred = self.base_estimator.predict(X)\n",
    "            y_pred += self.lr * error_pred\n",
    "            error = y - y_pred\n",
    "            self.estimators_.append(deepcopy(self.base_estimator))\n",
    "            self.mse_.append(mean_squared_error(y,y_pred))\n",
    "            \n",
    "            \n",
    "    \n",
    "    def predict(self, X):\n",
    "        y_pred = np.array([self.init_pred]*X.shape[0])\n",
    "        for i in range(self.n_estimators):\n",
    "            error_pred = self.estimators_[i].predict(X)\n",
    "            y_pred += self.lr * error_pred\n",
    "        return y_pred\n",
    "        \n",
    "        "
   ]
  },
  {
   "cell_type": "code",
   "execution_count": 26,
   "metadata": {
    "id": "uXM9aggKiS68"
   },
   "outputs": [],
   "source": [
    "gbm = GradienBoostingRegressorFromScratch(n_estimators=50, lr=0.1, max_features=1)\n",
    "gbm.fit(X, y)"
   ]
  },
  {
   "cell_type": "code",
   "execution_count": 27,
   "metadata": {
    "colab": {
     "base_uri": "https://localhost:8080/"
    },
    "id": "-QvJOq6liS68",
    "outputId": "ccd4f540-e648-4f7c-ce75-04115cb43f11",
    "scrolled": true
   },
   "outputs": [
    {
     "data": {
      "text/plain": [
       "50"
      ]
     },
     "execution_count": 27,
     "metadata": {},
     "output_type": "execute_result"
    }
   ],
   "source": [
    "len(gbm.estimators_)"
   ]
  },
  {
   "cell_type": "code",
   "execution_count": 28,
   "metadata": {
    "colab": {
     "base_uri": "https://localhost:8080/",
     "height": 141
    },
    "id": "9NieJlYuiS68",
    "outputId": "4c9fadbf-7e9d-400e-c714-dce106d2eb62"
   },
   "outputs": [
    {
     "data": {
      "text/html": [
       "<div>\n",
       "<style scoped>\n",
       "    .dataframe tbody tr th:only-of-type {\n",
       "        vertical-align: middle;\n",
       "    }\n",
       "\n",
       "    .dataframe tbody tr th {\n",
       "        vertical-align: top;\n",
       "    }\n",
       "\n",
       "    .dataframe thead th {\n",
       "        text-align: right;\n",
       "    }\n",
       "</style>\n",
       "<table border=\"1\" class=\"dataframe\">\n",
       "  <thead>\n",
       "    <tr style=\"text-align: right;\">\n",
       "      <th></th>\n",
       "      <th>carat</th>\n",
       "      <th>depth</th>\n",
       "      <th>table</th>\n",
       "      <th>x</th>\n",
       "      <th>y</th>\n",
       "      <th>z</th>\n",
       "      <th>cut_Fair</th>\n",
       "      <th>cut_Good</th>\n",
       "      <th>cut_Ideal</th>\n",
       "      <th>cut_Premium</th>\n",
       "      <th>...</th>\n",
       "      <th>color_I</th>\n",
       "      <th>color_J</th>\n",
       "      <th>clarity_I1</th>\n",
       "      <th>clarity_IF</th>\n",
       "      <th>clarity_SI1</th>\n",
       "      <th>clarity_SI2</th>\n",
       "      <th>clarity_VS1</th>\n",
       "      <th>clarity_VS2</th>\n",
       "      <th>clarity_VVS1</th>\n",
       "      <th>clarity_VVS2</th>\n",
       "    </tr>\n",
       "  </thead>\n",
       "  <tbody>\n",
       "    <tr>\n",
       "      <td>10856</td>\n",
       "      <td>1.13</td>\n",
       "      <td>60.7</td>\n",
       "      <td>54.0</td>\n",
       "      <td>6.82</td>\n",
       "      <td>6.72</td>\n",
       "      <td>4.11</td>\n",
       "      <td>0</td>\n",
       "      <td>0</td>\n",
       "      <td>0</td>\n",
       "      <td>1</td>\n",
       "      <td>...</td>\n",
       "      <td>0</td>\n",
       "      <td>0</td>\n",
       "      <td>0</td>\n",
       "      <td>0</td>\n",
       "      <td>0</td>\n",
       "      <td>1</td>\n",
       "      <td>0</td>\n",
       "      <td>0</td>\n",
       "      <td>0</td>\n",
       "      <td>0</td>\n",
       "    </tr>\n",
       "    <tr>\n",
       "      <td>35144</td>\n",
       "      <td>0.31</td>\n",
       "      <td>61.2</td>\n",
       "      <td>58.0</td>\n",
       "      <td>4.35</td>\n",
       "      <td>4.38</td>\n",
       "      <td>2.67</td>\n",
       "      <td>0</td>\n",
       "      <td>0</td>\n",
       "      <td>0</td>\n",
       "      <td>0</td>\n",
       "      <td>...</td>\n",
       "      <td>0</td>\n",
       "      <td>0</td>\n",
       "      <td>0</td>\n",
       "      <td>0</td>\n",
       "      <td>0</td>\n",
       "      <td>0</td>\n",
       "      <td>0</td>\n",
       "      <td>0</td>\n",
       "      <td>1</td>\n",
       "      <td>0</td>\n",
       "    </tr>\n",
       "  </tbody>\n",
       "</table>\n",
       "<p>2 rows × 26 columns</p>\n",
       "</div>"
      ],
      "text/plain": [
       "       carat  depth  table     x     y     z  cut_Fair  cut_Good  cut_Ideal  \\\n",
       "10856   1.13   60.7   54.0  6.82  6.72  4.11         0         0          0   \n",
       "35144   0.31   61.2   58.0  4.35  4.38  2.67         0         0          0   \n",
       "\n",
       "       cut_Premium  ...  color_I  color_J  clarity_I1  clarity_IF  \\\n",
       "10856            1  ...        0        0           0           0   \n",
       "35144            0  ...        0        0           0           0   \n",
       "\n",
       "       clarity_SI1  clarity_SI2  clarity_VS1  clarity_VS2  clarity_VVS1  \\\n",
       "10856            0            1            0            0             0   \n",
       "35144            0            0            0            0             1   \n",
       "\n",
       "       clarity_VVS2  \n",
       "10856             0  \n",
       "35144             0  \n",
       "\n",
       "[2 rows x 26 columns]"
      ]
     },
     "execution_count": 28,
     "metadata": {},
     "output_type": "execute_result"
    }
   ],
   "source": [
    "X_small"
   ]
  },
  {
   "cell_type": "code",
   "execution_count": 29,
   "metadata": {
    "colab": {
     "base_uri": "https://localhost:8080/"
    },
    "id": "WSxv4qd8iS68",
    "outputId": "642bca83-2648-4bf4-80fb-5c0ef5b11af7"
   },
   "outputs": [
    {
     "name": "stdout",
     "output_type": "stream",
     "text": [
      "[4.873 0.89 ]\n",
      "[4.99098356 1.17137443]\n"
     ]
    }
   ],
   "source": [
    "print(y_small.values)\n",
    "print(gbm.predict(X_small))"
   ]
  },
  {
   "cell_type": "code",
   "execution_count": 30,
   "metadata": {
    "colab": {
     "base_uri": "https://localhost:8080/",
     "height": 338
    },
    "id": "u01_JrjoiS69",
    "outputId": "b61a1853-bf5f-43f1-ace0-49c2f6e54753",
    "scrolled": true
   },
   "outputs": [
    {
     "data": {
      "image/png": "[encoded data removed]",
      "text/plain": [
       "<Figure size 720x360 with 1 Axes>"
      ]
     },
     "metadata": {},
     "output_type": "display_data"
    }
   ],
   "source": [
    "plt.plot(gbm.mse_)\n",
    "plt.xlabel('iteration')\n",
    "plt.ylabel('mse'); #plt.yscale('log')\n",
    "plt.show()"
   ]
  },
  {
   "cell_type": "code",
   "execution_count": 31,
   "metadata": {
    "colab": {
     "base_uri": "https://localhost:8080/"
    },
    "id": "JK1yYNANiS69",
    "outputId": "eb505849-0a4f-46dc-d93c-29b0cf0e7afa"
   },
   "outputs": [
    {
     "data": {
      "text/plain": [
       "dict_keys(['explained_variance', 'r2', 'max_error', 'neg_median_absolute_error', 'neg_mean_absolute_error', 'neg_mean_squared_error', 'neg_mean_squared_log_error', 'neg_root_mean_squared_error', 'neg_mean_poisson_deviance', 'neg_mean_gamma_deviance', 'accuracy', 'roc_auc', 'roc_auc_ovr', 'roc_auc_ovo', 'roc_auc_ovr_weighted', 'roc_auc_ovo_weighted', 'balanced_accuracy', 'average_precision', 'neg_log_loss', 'neg_brier_score', 'adjusted_rand_score', 'homogeneity_score', 'completeness_score', 'v_measure_score', 'mutual_info_score', 'adjusted_mutual_info_score', 'normalized_mutual_info_score', 'fowlkes_mallows_score', 'precision', 'precision_macro', 'precision_micro', 'precision_samples', 'precision_weighted', 'recall', 'recall_macro', 'recall_micro', 'recall_samples', 'recall_weighted', 'f1', 'f1_macro', 'f1_micro', 'f1_samples', 'f1_weighted', 'jaccard', 'jaccard_macro', 'jaccard_micro', 'jaccard_samples', 'jaccard_weighted'])"
      ]
     },
     "execution_count": 31,
     "metadata": {},
     "output_type": "execute_result"
    }
   ],
   "source": [
    "from sklearn.model_selection import cross_val_score, train_test_split, KFold\n",
    "from sklearn.metrics import SCORERS\n",
    "SCORERS.keys()"
   ]
  },
  {
   "cell_type": "code",
   "execution_count": 32,
   "metadata": {
    "colab": {
     "base_uri": "https://localhost:8080/"
    },
    "id": "H0s8Ks30iS69",
    "outputId": "032e99c5-dcad-4b48-891e-a9627082d0e0"
   },
   "outputs": [
    {
     "data": {
      "text/plain": [
       "array([-0.2012331 ,  0.49516658, -0.33195852])"
      ]
     },
     "execution_count": 32,
     "metadata": {},
     "output_type": "execute_result"
    }
   ],
   "source": [
    "# without shuffling\n",
    "cross_val_score(gbm, X, y , cv=3, scoring='r2')"
   ]
  },
  {
   "cell_type": "code",
   "execution_count": 33,
   "metadata": {
    "colab": {
     "base_uri": "https://localhost:8080/"
    },
    "id": "0s941fQIiS69",
    "outputId": "90511613-5b11-4295-eecf-6f18c6507f56"
   },
   "outputs": [
    {
     "data": {
      "text/plain": [
       "array([0.9728687 , 0.97071722, 0.97263538])"
      ]
     },
     "execution_count": 33,
     "metadata": {},
     "output_type": "execute_result"
    }
   ],
   "source": [
    "# with shuffling\n",
    "cv_kfold = KFold(n_splits=3, shuffle=True, random_state=42)\n",
    "cross_val_score(gbm, X, y , cv=cv_kfold, scoring='r2')"
   ]
  },
  {
   "cell_type": "markdown",
   "metadata": {
    "id": "nMmGFVQCqo8N"
   },
   "source": [
    "## tuning"
   ]
  },
  {
   "cell_type": "markdown",
   "metadata": {
    "id": "NfxtFhWIiS69"
   },
   "source": [
    "- tune on the model on the all samples and features\n",
    "- choose max_depth + min_samples_leaf\n",
    "    - lr = 0.1 (high)\n",
    "    - n_estimators = 100 (small)\n",
    "- choose on the fraction of samples and features on each iteration\n",
    "- choose lr + n_estimators"
   ]
  },
  {
   "cell_type": "markdown",
   "metadata": {
    "id": "pkpWxxJ6uNil"
   },
   "source": [
    "### sklearn"
   ]
  },
  {
   "cell_type": "code",
   "execution_count": 34,
   "metadata": {
    "id": "ALrVZpn0iS69"
   },
   "outputs": [
    {
     "name": "stdout",
     "output_type": "stream",
     "text": [
      "Fitting 2 folds for each of 50 candidates, totalling 100 fits\n"
     ]
    },
    {
     "name": "stderr",
     "output_type": "stream",
     "text": [
      "[Parallel(n_jobs=-1)]: Using backend LokyBackend with 12 concurrent workers.\n",
      "[Parallel(n_jobs=-1)]: Done  17 tasks      | elapsed:    5.4s\n",
      "[Parallel(n_jobs=-1)]: Done 100 out of 100 | elapsed:   17.6s finished\n"
     ]
    },
    {
     "data": {
      "text/plain": [
       "GridSearchCV(cv=KFold(n_splits=2, random_state=42, shuffle=True),\n",
       "             estimator=GradienBoostingRegressorFromScratch(n_estimators=100),\n",
       "             n_jobs=-1,\n",
       "             param_grid={'max_depth': [1, 2, 4, 8, 16],\n",
       "                         'min_samples_leaf': array([ 1,  3,  5,  7,  9, 11, 13, 15, 17, 20])},\n",
       "             scoring='neg_root_mean_squared_error', verbose=2)"
      ]
     },
     "execution_count": 34,
     "metadata": {},
     "output_type": "execute_result"
    }
   ],
   "source": [
    "from sklearn.model_selection import GridSearchCV\n",
    "\n",
    "max_depth_ = [2**i for i in range(5)]\n",
    "min_samples_leaf_ = np.linspace(1, 20, 10, dtype=int)\n",
    "\n",
    "params = {\n",
    "    'max_depth': max_depth_,\n",
    "    'min_samples_leaf': min_samples_leaf_,\n",
    "}\n",
    "\n",
    "cv_kfold = KFold(n_splits=2, shuffle=True, random_state=42)\n",
    "gbm = GradienBoostingRegressorFromScratch(n_estimators=100, lr=0.1)\n",
    "gbm_cv = GridSearchCV(estimator=gbm, cv=cv_kfold, \n",
    "                      param_grid=params, verbose=2, \n",
    "                      scoring='neg_root_mean_squared_error', n_jobs=-1)\n",
    "\n",
    "\n",
    "X_train, X_test, y_train, y_test = train_test_split(\n",
    "    X, y, test_size=0.95, random_state=42, shuffle=True)\n",
    "\n",
    "\n",
    "gbm_cv.fit(X_train, y_train)\n"
   ]
  },
  {
   "cell_type": "markdown",
   "metadata": {
    "id": "nrkKT-LZuRsF"
   },
   "source": [
    "### custom"
   ]
  },
  {
   "cell_type": "code",
   "execution_count": 36,
   "metadata": {
    "colab": {
     "base_uri": "https://localhost:8080/",
     "height": 130,
     "referenced_widgets": [
      "a199280872ad4ce9af0f861cac3fd46e",
      "4abaabc5d447487d85ac787fa622b7e0",
      "0fa1227f9e4943f182327c1b7275307a",
      "b4677e9a8dc044479372b0ab83fd023f",
      "dc9f735dbcdb43babb99a4b18eb3a4aa",
      "e4788a12379c4c7dbcb1022d2bf7e317",
      "de6bfe61854242abb3821a33db80c7ac",
      "e864c158b0714ff99f04215c438321dc"
     ]
    },
    "id": "EkNFxTrliS69",
    "outputId": "cc650ac9-af73-4410-fc16-d621e7c5c36d"
   },
   "outputs": [
    {
     "ename": "NameError",
     "evalue": "name 'max_depth' is not defined",
     "output_type": "error",
     "traceback": [
      "\u001b[0;31m---------------------------------------------------------------------------\u001b[0m",
      "\u001b[0;31mNameError\u001b[0m                                 Traceback (most recent call last)",
      "\u001b[0;32m<ipython-input-36-8d2f0623cdc3>\u001b[0m in \u001b[0;36m<module>\u001b[0;34m\u001b[0m\n\u001b[1;32m      4\u001b[0m model = GradientBoostingRegressor(\n\u001b[1;32m      5\u001b[0m     \u001b[0mn_estimators\u001b[0m\u001b[0;34m=\u001b[0m\u001b[0;36m100\u001b[0m\u001b[0;34m,\u001b[0m \u001b[0mlearning_rate\u001b[0m\u001b[0;34m=\u001b[0m\u001b[0;36m0.1\u001b[0m\u001b[0;34m,\u001b[0m\u001b[0;34m\u001b[0m\u001b[0m\n\u001b[0;32m----> 6\u001b[0;31m     \u001b[0mmax_depth\u001b[0m\u001b[0;34m=\u001b[0m\u001b[0mmax_depth\u001b[0m\u001b[0;34m,\u001b[0m \u001b[0mmin_samples_leaf\u001b[0m\u001b[0;34m=\u001b[0m\u001b[0mmin_samples_leaf\u001b[0m\u001b[0;34m\u001b[0m\u001b[0m\n\u001b[0m\u001b[1;32m      7\u001b[0m )\n\u001b[1;32m      8\u001b[0m \u001b[0mpairs\u001b[0m \u001b[0;34m=\u001b[0m \u001b[0;34m[\u001b[0m\u001b[0;34m(\u001b[0m\u001b[0;36m2\u001b[0m\u001b[0;34m,\u001b[0m\u001b[0;36m1\u001b[0m\u001b[0;34m)\u001b[0m\u001b[0;34m,\u001b[0m\u001b[0;34m(\u001b[0m\u001b[0;36m4\u001b[0m\u001b[0;34m,\u001b[0m\u001b[0;36m3\u001b[0m\u001b[0;34m)\u001b[0m\u001b[0;34m,\u001b[0m\u001b[0;34m(\u001b[0m\u001b[0;36m8\u001b[0m\u001b[0;34m,\u001b[0m\u001b[0;36m5\u001b[0m\u001b[0;34m)\u001b[0m\u001b[0;34m,\u001b[0m\u001b[0;34m(\u001b[0m\u001b[0;36m16\u001b[0m\u001b[0;34m,\u001b[0m\u001b[0;36m15\u001b[0m\u001b[0;34m)\u001b[0m\u001b[0;34m]\u001b[0m\u001b[0;34m\u001b[0m\u001b[0m\n",
      "\u001b[0;31mNameError\u001b[0m: name 'max_depth' is not defined"
     ]
    }
   ],
   "source": [
    "from tqdm.notebook import tqdm\n",
    "\n",
    "\n",
    "model = GradientBoostingRegressor(\n",
    "    n_estimators=100, learning_rate=0.1,\n",
    "    max_depth=max_depth, min_samples_leaf=min_samples_leaf\n",
    ")\n",
    "pairs = [(2,1),(4,3),(8,5),(16,15)]\n",
    "\n",
    "\n",
    "\n",
    "\n",
    "\n",
    "def custom_grid_search():\n",
    "    cv_results = {\n",
    "        'max_depth' : [],\n",
    "        'min_samples_leaf' : [],\n",
    "        'mean_train_score': [],\n",
    "        'mean_test_score': [],\n",
    "        'model': []\n",
    "    }\n",
    "    for max_depth, min_samples_leaf in tqdm(pairs):\n",
    "        cv_results['max_depth'].append(max_depth)\n",
    "        cv_results['min_samples_leaf'].append(min_samples_leaf)\n",
    "\n",
    "        scores_train, scores_test = [], []\n",
    "        for train_index, test_index in cv_kfold.split(X):\n",
    "            X_train, X_test = X.iloc[train_index], X.iloc[test_index]\n",
    "            y_train, y_test = y.iloc[train_index], y.iloc[test_index]\n",
    "\n",
    "            model.fit(X_train,y_train)        \n",
    "            scores_train.append(mean_squared_error(y_train, model.predict(X_train)))\n",
    "            scores_test.append(mean_squared_error(y_test, model.predict(X_train)))\n",
    "\n",
    "        cv_results['mean_train_score'].append(np.mean(scores_train))\n",
    "        cv_results['mean_test_score'].append(np.mean(scores_test))\n",
    "\n",
    "        cv_results['model'].append(model)\n",
    "    return cv_results"
   ]
  },
  {
   "cell_type": "code",
   "execution_count": null,
   "metadata": {
    "id": "BN6S64HIsZ7U"
   },
   "outputs": [],
   "source": [
    "def grid_search(X,y,grid,model):\n",
    "    param1_name, param2_name = list(grid.keys())\n",
    "    mse_train=dict()\n",
    "    mses=dict()\n",
    "    for param1 in tqdm(grid[param1_name]):\n",
    "        for param2 in grid[param2_name]:\n",
    "            params = {param1_name:param1, param2_name:param2}\n",
    "            m = model(**params)\n",
    "            for train_index, test_index in cv_kfold.split(X):\n",
    "              X_train, X_test = X.iloc[train_index], X.iloc[test_index]\n",
    "              \n",
    "\n",
    "              m.fit(X_train,y_train)\n",
    "              mse_fit = mean_squared_error(y_train, m.predict(X_train))\n",
    "              mse_val = mean_squared_error(y_test, m.predict(X_test))\n",
    "              mses[(param1,param2)]=mse_val\n",
    "    best = np.argmax(list(mses.values()))\n",
    "    best_param1 = list(mses.keys())[best][0]\n",
    "    best_param2 = list(mses.keys())[best][1]\n",
    "    print('best params: ',param1_name,'=',best_param1,',',param2_name,'=',best_param2)\n",
    "\n",
    "\n",
    "    plt.figure(figsize=(8,4))\n",
    "    plt.plot(np.array(list(mses.values())).reshape(len(grid[param1_name]),len(grid[param2_name])))\n",
    "    plt.legend(grid[param2_name],title=param2_name)\n",
    "    plt.xticks(np.arange(0,len(grid[param1_name])),grid[param1_name])\n",
    "    plt.xlabel(param1_name)\n",
    "    plt.ylabel('accuracy')\n",
    "    plt.show()"
   ]
  },
  {
   "cell_type": "code",
   "execution_count": null,
   "metadata": {
    "colab": {
     "base_uri": "https://localhost:8080/",
     "height": 350,
     "referenced_widgets": [
      "221a5ed1c36a4e878944055c77955237",
      "df453cf99ed9496db03175f39e2a2a80",
      "df9cd8a31f114e44b17db70b826852ec",
      "94e6f44ac08148679e41a1dd4336e0f3",
      "690317e76cbc4096891f0e657c12243d",
      "502543021361480ea976b5b3051964e0",
      "a006b9139ddc4cd4ab926820de7110b5",
      "e17ee8b916424398b8bde703738d6627"
     ]
    },
    "id": "tKTJGkLBsbJV",
    "outputId": "8784ffb7-c4ac-4bfd-9f36-c78f9be69fa6"
   },
   "outputs": [],
   "source": [
    "param1_name='max_depth'\n",
    "params1=np.arange(1,17,2)\n",
    "\n",
    "param2_name='n_estimators'\n",
    "params2=[5,10,50,100]\n",
    "\n",
    "grid = {param1_name:params1,param2_name:params2}\n",
    "\n",
    "grid_search(X_train, y_train, grid, GradientBoostingRegressor)"
   ]
  },
  {
   "cell_type": "code",
   "execution_count": null,
   "metadata": {
    "id": "qPW7NX_Psd-q"
   },
   "outputs": [],
   "source": []
  },
  {
   "cell_type": "code",
   "execution_count": null,
   "metadata": {
    "colab": {
     "base_uri": "https://localhost:8080/"
    },
    "id": "qX2PlnoMiS69",
    "outputId": "b7991354-d8f8-4117-d0a2-460b883990a6"
   },
   "outputs": [],
   "source": [
    "cv_results"
   ]
  },
  {
   "cell_type": "markdown",
   "metadata": {
    "id": "1YQxoH28iS69"
   },
   "source": [
    "<img src=https://pbs.twimg.com/media/DrWC8TrVYAAHRhl.jpg width=600>"
   ]
  },
  {
   "cell_type": "code",
   "execution_count": null,
   "metadata": {
    "id": "s8HZTg2viS69"
   },
   "outputs": [],
   "source": [
    "def get_train_test_score(model):\n",
    "  N = model.n_estimators_\n",
    "  test_score = np.zeros((N,), dtype=np.float64)\n",
    "  for i, y_pred in enumerate(model.staged_predict(X_test)):\n",
    "      test_score[i] = model.loss_(y_test, y_pred)\n",
    "\n",
    "      \n",
    "  plt.plot(np.arange(N) + 1, model.train_score_, 'b-', label='train-mse')\n",
    "  plt.plot(np.arange(N) + 1, test_score, 'r-', label='test-mse')\n",
    "\n",
    "  plt.vlines(x=test_score.argmin(), \n",
    "            ymin=min(np.min(model.train_score_), np.min(test_score)),\n",
    "            ymax=max(np.max(model.train_score_), np.max(test_score)),\n",
    "            colors='gray', linestyles=':'\n",
    "            )\n",
    "\n",
    "\n",
    "  plt.legend(loc='upper right')\n",
    "  plt.xlabel('Boosting Iterations'); plt.ylabel('MSE')\n",
    "  #plt.yscale('log'); #plt.xscale('log')\n",
    "  plt.tight_layout()\n",
    "  plt.show()"
   ]
  },
  {
   "cell_type": "code",
   "execution_count": null,
   "metadata": {
    "colab": {
     "base_uri": "https://localhost:8080/",
     "height": 365
    },
    "id": "gAjWGSNMjHsA",
    "outputId": "6a52710b-a27b-4696-9105-fb9e83440b97"
   },
   "outputs": [],
   "source": [
    "get_train_test_score(cv_results['model'][3])"
   ]
  },
  {
   "cell_type": "code",
   "execution_count": null,
   "metadata": {
    "colab": {
     "base_uri": "https://localhost:8080/"
    },
    "id": "sjpRhmjbiS69",
    "outputId": "7d2a99c1-1f9e-42f9-92b2-2f5b66c030f8"
   },
   "outputs": [],
   "source": [
    "cv_results['model'][0]"
   ]
  },
  {
   "cell_type": "code",
   "execution_count": null,
   "metadata": {
    "colab": {
     "base_uri": "https://localhost:8080/"
    },
    "id": "kpRbhyFviS69",
    "outputId": "e80d7737-f3a5-4bf6-9546-8111c78e67d0"
   },
   "outputs": [],
   "source": [
    "cv_results['model'][3]"
   ]
  },
  {
   "cell_type": "code",
   "execution_count": null,
   "metadata": {
    "colab": {
     "base_uri": "https://localhost:8080/",
     "height": 223
    },
    "id": "ISbqoahIiS6-",
    "outputId": "4eaa21ec-4bb6-4248-d169-79485686d0d2"
   },
   "outputs": [],
   "source": [
    "for i,m in enumerate(max_depth_):\n",
    "    \n",
    "    plt.plot(cv_results['model'][i].mse_, label=f'{m}')\n",
    "plt.legend()\n",
    "plt.show()"
   ]
  },
  {
   "cell_type": "code",
   "execution_count": null,
   "metadata": {
    "id": "R3DRMltiiS6-"
   },
   "outputs": [],
   "source": [
    "X_train, X_test, y_train, y_test = train_test_split(\n",
    "    X, y, test_size=0.90, random_state=42, shuffle=True)\n",
    "\n",
    "gbm_cv.fit(X_train, y_train)"
   ]
  },
  {
   "cell_type": "code",
   "execution_count": null,
   "metadata": {
    "id": "gBm0zPmXiS6-"
   },
   "outputs": [],
   "source": [
    "res_1 = pd.DataFrame(gbm_cv.cv_results_)\n",
    "res_1.head()"
   ]
  },
  {
   "cell_type": "code",
   "execution_count": null,
   "metadata": {
    "id": "CRyLBdOPiS6-"
   },
   "outputs": [],
   "source": [
    "cols"
   ]
  },
  {
   "cell_type": "code",
   "execution_count": null,
   "metadata": {
    "id": "-iRpOw2EiS6-",
    "scrolled": true
   },
   "outputs": [],
   "source": [
    "res_1['mean_test_score'] = -res_1['mean_test_score']"
   ]
  },
  {
   "cell_type": "code",
   "execution_count": null,
   "metadata": {
    "id": "jgH71HJ1iS6-"
   },
   "outputs": [],
   "source": [
    "sns.lineplot(data=res_1, y='mean_test_score', hue='param_max_depth', \n",
    "             x='param_min_samples_leaf')"
   ]
  },
  {
   "cell_type": "code",
   "execution_count": null,
   "metadata": {
    "id": "OnUXXRssiS6-"
   },
   "outputs": [],
   "source": [
    "gbm_cv.best_params_"
   ]
  },
  {
   "cell_type": "code",
   "execution_count": null,
   "metadata": {
    "id": "ycZ3P4IZiS6-"
   },
   "outputs": [],
   "source": [
    "gbm = GradienBoostingRegressorFromScratch(**gbm_cv.best_params_)\n",
    "\n",
    "lr_ = np.logspace(-4,0,20)\n",
    "n_estimators_ =np.logspace(1, 4, 10, dtype=int) # 10 ... 10000\n",
    "\n",
    "params = {\n",
    "    'lr': lr_,\n",
    "    'n_estimators': n_estimators_,\n",
    "}\n",
    "\n",
    "gbm = GradienBoostingRegressorFromScratch(n_estimators=100, lr=0.1)\n",
    "gbm_cv_2 = GridSearchCV(estimator=gbm, cv=cv_kfold, \n",
    "                      param_grid=params, verbose=2, \n",
    "                      scoring='neg_root_mean_squared_error', n_jobs=-1)\n",
    "\n",
    "\n"
   ]
  },
  {
   "cell_type": "code",
   "execution_count": null,
   "metadata": {
    "id": "eeBWTDOLiS6-"
   },
   "outputs": [],
   "source": [
    "gbm_cv_2.fit(X_train, y_train)"
   ]
  },
  {
   "cell_type": "code",
   "execution_count": null,
   "metadata": {
    "id": "RdN_RFcHiS6-"
   },
   "outputs": [],
   "source": []
  }
 ],
 "metadata": {
  "colab": {
   "collapsed_sections": [],
   "name": "41_ml_gbm_from scratch.ipynb",
   "provenance": [],
   "toc_visible": true
  },
  "kernelspec": {
   "display_name": "Python 3",
   "language": "python",
   "name": "python3"
  },
  "language_info": {
   "codemirror_mode": {
    "name": "ipython",
    "version": 3
   },
   "file_extension": ".py",
   "mimetype": "text/x-python",
   "name": "python",
   "nbconvert_exporter": "python",
   "pygments_lexer": "ipython3",
   "version": "3.6.6"
  },
  "toc": {
   "base_numbering": 1,
   "nav_menu": {},
   "number_sections": true,
   "sideBar": true,
   "skip_h1_title": false,
   "title_cell": "Table of Contents",
   "title_sidebar": "Contents",
   "toc_cell": true,
   "toc_position": {},
   "toc_section_display": true,
   "toc_window_display": true
  },
  "widgets": {
   "application/vnd.jupyter.widget-state+json": {
    "0fa1227f9e4943f182327c1b7275307a": {
     "model_module": "@jupyter-widgets/controls",
     "model_name": "FloatProgressModel",
     "state": {
      "_dom_classes": [],
      "_model_module": "@jupyter-widgets/controls",
      "_model_module_version": "1.5.0",
      "_model_name": "FloatProgressModel",
      "_view_count": null,
      "_view_module": "@jupyter-widgets/controls",
      "_view_module_version": "1.5.0",
      "_view_name": "ProgressView",
      "bar_style": "success",
      "description": "100%",
      "description_tooltip": null,
      "layout": "IPY_MODEL_e4788a12379c4c7dbcb1022d2bf7e317",
      "max": 4,
      "min": 0,
      "orientation": "horizontal",
      "style": "IPY_MODEL_dc9f735dbcdb43babb99a4b18eb3a4aa",
      "value": 4
     }
    },
    "221a5ed1c36a4e878944055c77955237": {
     "model_module": "@jupyter-widgets/controls",
     "model_name": "HBoxModel",
     "state": {
      "_dom_classes": [],
      "_model_module": "@jupyter-widgets/controls",
      "_model_module_version": "1.5.0",
      "_model_name": "HBoxModel",
      "_view_count": null,
      "_view_module": "@jupyter-widgets/controls",
      "_view_module_version": "1.5.0",
      "_view_name": "HBoxView",
      "box_style": "",
      "children": [
       "IPY_MODEL_df9cd8a31f114e44b17db70b826852ec",
       "IPY_MODEL_94e6f44ac08148679e41a1dd4336e0f3"
      ],
      "layout": "IPY_MODEL_df453cf99ed9496db03175f39e2a2a80"
     }
    },
    "4abaabc5d447487d85ac787fa622b7e0": {
     "model_module": "@jupyter-widgets/base",
     "model_name": "LayoutModel",
     "state": {
      "_model_module": "@jupyter-widgets/base",
      "_model_module_version": "1.2.0",
      "_model_name": "LayoutModel",
      "_view_count": null,
      "_view_module": "@jupyter-widgets/base",
      "_view_module_version": "1.2.0",
      "_view_name": "LayoutView",
      "align_content": null,
      "align_items": null,
      "align_self": null,
      "border": null,
      "bottom": null,
      "display": null,
      "flex": null,
      "flex_flow": null,
      "grid_area": null,
      "grid_auto_columns": null,
      "grid_auto_flow": null,
      "grid_auto_rows": null,
      "grid_column": null,
      "grid_gap": null,
      "grid_row": null,
      "grid_template_areas": null,
      "grid_template_columns": null,
      "grid_template_rows": null,
      "height": null,
      "justify_content": null,
      "justify_items": null,
      "left": null,
      "margin": null,
      "max_height": null,
      "max_width": null,
      "min_height": null,
      "min_width": null,
      "object_fit": null,
      "object_position": null,
      "order": null,
      "overflow": null,
      "overflow_x": null,
      "overflow_y": null,
      "padding": null,
      "right": null,
      "top": null,
      "visibility": null,
      "width": null
     }
    },
    "502543021361480ea976b5b3051964e0": {
     "model_module": "@jupyter-widgets/base",
     "model_name": "LayoutModel",
     "state": {
      "_model_module": "@jupyter-widgets/base",
      "_model_module_version": "1.2.0",
      "_model_name": "LayoutModel",
      "_view_count": null,
      "_view_module": "@jupyter-widgets/base",
      "_view_module_version": "1.2.0",
      "_view_name": "LayoutView",
      "align_content": null,
      "align_items": null,
      "align_self": null,
      "border": null,
      "bottom": null,
      "display": null,
      "flex": null,
      "flex_flow": null,
      "grid_area": null,
      "grid_auto_columns": null,
      "grid_auto_flow": null,
      "grid_auto_rows": null,
      "grid_column": null,
      "grid_gap": null,
      "grid_row": null,
      "grid_template_areas": null,
      "grid_template_columns": null,
      "grid_template_rows": null,
      "height": null,
      "justify_content": null,
      "justify_items": null,
      "left": null,
      "margin": null,
      "max_height": null,
      "max_width": null,
      "min_height": null,
      "min_width": null,
      "object_fit": null,
      "object_position": null,
      "order": null,
      "overflow": null,
      "overflow_x": null,
      "overflow_y": null,
      "padding": null,
      "right": null,
      "top": null,
      "visibility": null,
      "width": null
     }
    },
    "690317e76cbc4096891f0e657c12243d": {
     "model_module": "@jupyter-widgets/controls",
     "model_name": "ProgressStyleModel",
     "state": {
      "_model_module": "@jupyter-widgets/controls",
      "_model_module_version": "1.5.0",
      "_model_name": "ProgressStyleModel",
      "_view_count": null,
      "_view_module": "@jupyter-widgets/base",
      "_view_module_version": "1.2.0",
      "_view_name": "StyleView",
      "bar_color": null,
      "description_width": "initial"
     }
    },
    "94e6f44ac08148679e41a1dd4336e0f3": {
     "model_module": "@jupyter-widgets/controls",
     "model_name": "HTMLModel",
     "state": {
      "_dom_classes": [],
      "_model_module": "@jupyter-widgets/controls",
      "_model_module_version": "1.5.0",
      "_model_name": "HTMLModel",
      "_view_count": null,
      "_view_module": "@jupyter-widgets/controls",
      "_view_module_version": "1.5.0",
      "_view_name": "HTMLView",
      "description": "",
      "description_tooltip": null,
      "layout": "IPY_MODEL_e17ee8b916424398b8bde703738d6627",
      "placeholder": "​",
      "style": "IPY_MODEL_a006b9139ddc4cd4ab926820de7110b5",
      "value": " 8/8 [02:33&lt;00:00, 19.13s/it]"
     }
    },
    "a006b9139ddc4cd4ab926820de7110b5": {
     "model_module": "@jupyter-widgets/controls",
     "model_name": "DescriptionStyleModel",
     "state": {
      "_model_module": "@jupyter-widgets/controls",
      "_model_module_version": "1.5.0",
      "_model_name": "DescriptionStyleModel",
      "_view_count": null,
      "_view_module": "@jupyter-widgets/base",
      "_view_module_version": "1.2.0",
      "_view_name": "StyleView",
      "description_width": ""
     }
    },
    "a199280872ad4ce9af0f861cac3fd46e": {
     "model_module": "@jupyter-widgets/controls",
     "model_name": "HBoxModel",
     "state": {
      "_dom_classes": [],
      "_model_module": "@jupyter-widgets/controls",
      "_model_module_version": "1.5.0",
      "_model_name": "HBoxModel",
      "_view_count": null,
      "_view_module": "@jupyter-widgets/controls",
      "_view_module_version": "1.5.0",
      "_view_name": "HBoxView",
      "box_style": "",
      "children": [
       "IPY_MODEL_0fa1227f9e4943f182327c1b7275307a",
       "IPY_MODEL_b4677e9a8dc044479372b0ab83fd023f"
      ],
      "layout": "IPY_MODEL_4abaabc5d447487d85ac787fa622b7e0"
     }
    },
    "b4677e9a8dc044479372b0ab83fd023f": {
     "model_module": "@jupyter-widgets/controls",
     "model_name": "HTMLModel",
     "state": {
      "_dom_classes": [],
      "_model_module": "@jupyter-widgets/controls",
      "_model_module_version": "1.5.0",
      "_model_name": "HTMLModel",
      "_view_count": null,
      "_view_module": "@jupyter-widgets/controls",
      "_view_module_version": "1.5.0",
      "_view_name": "HTMLView",
      "description": "",
      "description_tooltip": null,
      "layout": "IPY_MODEL_e864c158b0714ff99f04215c438321dc",
      "placeholder": "​",
      "style": "IPY_MODEL_de6bfe61854242abb3821a33db80c7ac",
      "value": " 4/4 [08:17&lt;00:00, 124.30s/it]"
     }
    },
    "dc9f735dbcdb43babb99a4b18eb3a4aa": {
     "model_module": "@jupyter-widgets/controls",
     "model_name": "ProgressStyleModel",
     "state": {
      "_model_module": "@jupyter-widgets/controls",
      "_model_module_version": "1.5.0",
      "_model_name": "ProgressStyleModel",
      "_view_count": null,
      "_view_module": "@jupyter-widgets/base",
      "_view_module_version": "1.2.0",
      "_view_name": "StyleView",
      "bar_color": null,
      "description_width": "initial"
     }
    },
    "de6bfe61854242abb3821a33db80c7ac": {
     "model_module": "@jupyter-widgets/controls",
     "model_name": "DescriptionStyleModel",
     "state": {
      "_model_module": "@jupyter-widgets/controls",
      "_model_module_version": "1.5.0",
      "_model_name": "DescriptionStyleModel",
      "_view_count": null,
      "_view_module": "@jupyter-widgets/base",
      "_view_module_version": "1.2.0",
      "_view_name": "StyleView",
      "description_width": ""
     }
    },
    "df453cf99ed9496db03175f39e2a2a80": {
     "model_module": "@jupyter-widgets/base",
     "model_name": "LayoutModel",
     "state": {
      "_model_module": "@jupyter-widgets/base",
      "_model_module_version": "1.2.0",
      "_model_name": "LayoutModel",
      "_view_count": null,
      "_view_module": "@jupyter-widgets/base",
      "_view_module_version": "1.2.0",
      "_view_name": "LayoutView",
      "align_content": null,
      "align_items": null,
      "align_self": null,
      "border": null,
      "bottom": null,
      "display": null,
      "flex": null,
      "flex_flow": null,
      "grid_area": null,
      "grid_auto_columns": null,
      "grid_auto_flow": null,
      "grid_auto_rows": null,
      "grid_column": null,
      "grid_gap": null,
      "grid_row": null,
      "grid_template_areas": null,
      "grid_template_columns": null,
      "grid_template_rows": null,
      "height": null,
      "justify_content": null,
      "justify_items": null,
      "left": null,
      "margin": null,
      "max_height": null,
      "max_width": null,
      "min_height": null,
      "min_width": null,
      "object_fit": null,
      "object_position": null,
      "order": null,
      "overflow": null,
      "overflow_x": null,
      "overflow_y": null,
      "padding": null,
      "right": null,
      "top": null,
      "visibility": null,
      "width": null
     }
    },
    "df9cd8a31f114e44b17db70b826852ec": {
     "model_module": "@jupyter-widgets/controls",
     "model_name": "FloatProgressModel",
     "state": {
      "_dom_classes": [],
      "_model_module": "@jupyter-widgets/controls",
      "_model_module_version": "1.5.0",
      "_model_name": "FloatProgressModel",
      "_view_count": null,
      "_view_module": "@jupyter-widgets/controls",
      "_view_module_version": "1.5.0",
      "_view_name": "ProgressView",
      "bar_style": "success",
      "description": "100%",
      "description_tooltip": null,
      "layout": "IPY_MODEL_502543021361480ea976b5b3051964e0",
      "max": 8,
      "min": 0,
      "orientation": "horizontal",
      "style": "IPY_MODEL_690317e76cbc4096891f0e657c12243d",
      "value": 8
     }
    },
    "e17ee8b916424398b8bde703738d6627": {
     "model_module": "@jupyter-widgets/base",
     "model_name": "LayoutModel",
     "state": {
      "_model_module": "@jupyter-widgets/base",
      "_model_module_version": "1.2.0",
      "_model_name": "LayoutModel",
      "_view_count": null,
      "_view_module": "@jupyter-widgets/base",
      "_view_module_version": "1.2.0",
      "_view_name": "LayoutView",
      "align_content": null,
      "align_items": null,
      "align_self": null,
      "border": null,
      "bottom": null,
      "display": null,
      "flex": null,
      "flex_flow": null,
      "grid_area": null,
      "grid_auto_columns": null,
      "grid_auto_flow": null,
      "grid_auto_rows": null,
      "grid_column": null,
      "grid_gap": null,
      "grid_row": null,
      "grid_template_areas": null,
      "grid_template_columns": null,
      "grid_template_rows": null,
      "height": null,
      "justify_content": null,
      "justify_items": null,
      "left": null,
      "margin": null,
      "max_height": null,
      "max_width": null,
      "min_height": null,
      "min_width": null,
      "object_fit": null,
      "object_position": null,
      "order": null,
      "overflow": null,
      "overflow_x": null,
      "overflow_y": null,
      "padding": null,
      "right": null,
      "top": null,
      "visibility": null,
      "width": null
     }
    },
    "e4788a12379c4c7dbcb1022d2bf7e317": {
     "model_module": "@jupyter-widgets/base",
     "model_name": "LayoutModel",
     "state": {
      "_model_module": "@jupyter-widgets/base",
      "_model_module_version": "1.2.0",
      "_model_name": "LayoutModel",
      "_view_count": null,
      "_view_module": "@jupyter-widgets/base",
      "_view_module_version": "1.2.0",
      "_view_name": "LayoutView",
      "align_content": null,
      "align_items": null,
      "align_self": null,
      "border": null,
      "bottom": null,
      "display": null,
      "flex": null,
      "flex_flow": null,
      "grid_area": null,
      "grid_auto_columns": null,
      "grid_auto_flow": null,
      "grid_auto_rows": null,
      "grid_column": null,
      "grid_gap": null,
      "grid_row": null,
      "grid_template_areas": null,
      "grid_template_columns": null,
      "grid_template_rows": null,
      "height": null,
      "justify_content": null,
      "justify_items": null,
      "left": null,
      "margin": null,
      "max_height": null,
      "max_width": null,
      "min_height": null,
      "min_width": null,
      "object_fit": null,
      "object_position": null,
      "order": null,
      "overflow": null,
      "overflow_x": null,
      "overflow_y": null,
      "padding": null,
      "right": null,
      "top": null,
      "visibility": null,
      "width": null
     }
    },
    "e864c158b0714ff99f04215c438321dc": {
     "model_module": "@jupyter-widgets/base",
     "model_name": "LayoutModel",
     "state": {
      "_model_module": "@jupyter-widgets/base",
      "_model_module_version": "1.2.0",
      "_model_name": "LayoutModel",
      "_view_count": null,
      "_view_module": "@jupyter-widgets/base",
      "_view_module_version": "1.2.0",
      "_view_name": "LayoutView",
      "align_content": null,
      "align_items": null,
      "align_self": null,
      "border": null,
      "bottom": null,
      "display": null,
      "flex": null,
      "flex_flow": null,
      "grid_area": null,
      "grid_auto_columns": null,
      "grid_auto_flow": null,
      "grid_auto_rows": null,
      "grid_column": null,
      "grid_gap": null,
      "grid_row": null,
      "grid_template_areas": null,
      "grid_template_columns": null,
      "grid_template_rows": null,
      "height": null,
      "justify_content": null,
      "justify_items": null,
      "left": null,
      "margin": null,
      "max_height": null,
      "max_width": null,
      "min_height": null,
      "min_width": null,
      "object_fit": null,
      "object_position": null,
      "order": null,
      "overflow": null,
      "overflow_x": null,
      "overflow_y": null,
      "padding": null,
      "right": null,
      "top": null,
      "visibility": null,
      "width": null
     }
    }
   }
  }
 },
 "nbformat": 4,
 "nbformat_minor": 1
}
