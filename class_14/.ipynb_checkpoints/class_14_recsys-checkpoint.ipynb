{
 "cells": [
  {
   "cell_type": "markdown",
   "metadata": {
    "_cell_guid": "bd1c7313-f898-4d87-a281-b405ad2bb006",
    "_uuid": "23c5f6f635d1ede5e6fa2ebecb7b6a4ede99a50b"
   },
   "source": [
    "Используем данные соревнования [Articles Sharing and Reading from CI&T Deskdrop](https://www.kaggle.com/gspmoreira/articles-sharing-reading-from-cit-deskdrop). Основано на материалах Елены Кантонистовой."
   ]
  },
  {
   "cell_type": "code",
   "execution_count": 1,
   "metadata": {
    "_cell_guid": "719f3966-e6fd-49c8-9f60-7bd741542450",
    "_uuid": "b61cd3125a7f8f991fc1bda85ae3cd26f74090ae"
   },
   "outputs": [],
   "source": [
    "import numpy as np\n",
    "import scipy\n",
    "import pandas as pd\n",
    "import math\n",
    "import random\n",
    "import sklearn\n",
    "from nltk.corpus import stopwords\n",
    "from scipy.sparse import csr_matrix\n",
    "from sklearn.model_selection import train_test_split\n",
    "from sklearn.feature_extraction.text import TfidfVectorizer\n",
    "from sklearn.metrics.pairwise import cosine_similarity\n",
    "from scipy.sparse.linalg import svds\n",
    "from sklearn.preprocessing import MinMaxScaler\n",
    "import matplotlib.pyplot as plt"
   ]
  },
  {
   "cell_type": "markdown",
   "metadata": {},
   "source": [
    "Данные содержат набор логов за 12 месяцев (с марта 2016 по февраль 2017) с CI&T's Internal Communication platform (DeskDrop). Он содержит около 73 тыс. зарегистрированных взаимодействий пользователей с более чем 3 тыс. общедоступных статей, опубликованных на платформе."
   ]
  },
  {
   "cell_type": "markdown",
   "metadata": {},
   "source": [
    "Первый файл содержит информацию о статьях, опубликованных на платформе. У каждой статьи есть дата публикации (временная метка), исходный URL-адрес, заголовок, содержание в виде обычного текста, язык статьи (португальский: pt или английский: en) и информация о пользователе, который поделился статьей (авторе).\n",
    "\n",
    "Для данной отметки времени существует два возможных типа событий:\n",
    "- CONTENT SHARED: статья была опубликована на платформе и доступна для пользователей.\n",
    "- CONTENT REMOVED: статья была удалена с платформы и недоступна для дальнейших рекомендаций.\n",
    "\n",
    "Для простоты мы рассматриваем здесь только тип события «CONTENT SHARED»."
   ]
  },
  {
   "cell_type": "code",
   "execution_count": 2,
   "metadata": {},
   "outputs": [
    {
     "data": {
      "text/html": [
       "<div>\n",
       "<style scoped>\n",
       "    .dataframe tbody tr th:only-of-type {\n",
       "        vertical-align: middle;\n",
       "    }\n",
       "\n",
       "    .dataframe tbody tr th {\n",
       "        vertical-align: top;\n",
       "    }\n",
       "\n",
       "    .dataframe thead th {\n",
       "        text-align: right;\n",
       "    }\n",
       "</style>\n",
       "<table border=\"1\" class=\"dataframe\">\n",
       "  <thead>\n",
       "    <tr style=\"text-align: right;\">\n",
       "      <th></th>\n",
       "      <th>timestamp</th>\n",
       "      <th>eventType</th>\n",
       "      <th>contentId</th>\n",
       "      <th>authorPersonId</th>\n",
       "      <th>authorSessionId</th>\n",
       "      <th>authorUserAgent</th>\n",
       "      <th>authorRegion</th>\n",
       "      <th>authorCountry</th>\n",
       "      <th>contentType</th>\n",
       "      <th>url</th>\n",
       "      <th>title</th>\n",
       "      <th>text</th>\n",
       "      <th>lang</th>\n",
       "    </tr>\n",
       "  </thead>\n",
       "  <tbody>\n",
       "    <tr>\n",
       "      <th>1</th>\n",
       "      <td>1459193988</td>\n",
       "      <td>CONTENT SHARED</td>\n",
       "      <td>-4110354420726924665</td>\n",
       "      <td>4340306774493623681</td>\n",
       "      <td>8940341205206233829</td>\n",
       "      <td>NaN</td>\n",
       "      <td>NaN</td>\n",
       "      <td>NaN</td>\n",
       "      <td>HTML</td>\n",
       "      <td>http://www.nytimes.com/2016/03/28/business/dea...</td>\n",
       "      <td>Ethereum, a Virtual Currency, Enables Transact...</td>\n",
       "      <td>All of this work is still very early. The firs...</td>\n",
       "      <td>en</td>\n",
       "    </tr>\n",
       "    <tr>\n",
       "      <th>2</th>\n",
       "      <td>1459194146</td>\n",
       "      <td>CONTENT SHARED</td>\n",
       "      <td>-7292285110016212249</td>\n",
       "      <td>4340306774493623681</td>\n",
       "      <td>8940341205206233829</td>\n",
       "      <td>NaN</td>\n",
       "      <td>NaN</td>\n",
       "      <td>NaN</td>\n",
       "      <td>HTML</td>\n",
       "      <td>http://cointelegraph.com/news/bitcoin-future-w...</td>\n",
       "      <td>Bitcoin Future: When GBPcoin of Branson Wins O...</td>\n",
       "      <td>The alarm clock wakes me at 8:00 with stream o...</td>\n",
       "      <td>en</td>\n",
       "    </tr>\n",
       "    <tr>\n",
       "      <th>3</th>\n",
       "      <td>1459194474</td>\n",
       "      <td>CONTENT SHARED</td>\n",
       "      <td>-6151852268067518688</td>\n",
       "      <td>3891637997717104548</td>\n",
       "      <td>-1457532940883382585</td>\n",
       "      <td>NaN</td>\n",
       "      <td>NaN</td>\n",
       "      <td>NaN</td>\n",
       "      <td>HTML</td>\n",
       "      <td>https://cloudplatform.googleblog.com/2016/03/G...</td>\n",
       "      <td>Google Data Center 360° Tour</td>\n",
       "      <td>We're excited to share the Google Data Center ...</td>\n",
       "      <td>en</td>\n",
       "    </tr>\n",
       "    <tr>\n",
       "      <th>4</th>\n",
       "      <td>1459194497</td>\n",
       "      <td>CONTENT SHARED</td>\n",
       "      <td>2448026894306402386</td>\n",
       "      <td>4340306774493623681</td>\n",
       "      <td>8940341205206233829</td>\n",
       "      <td>NaN</td>\n",
       "      <td>NaN</td>\n",
       "      <td>NaN</td>\n",
       "      <td>HTML</td>\n",
       "      <td>https://bitcoinmagazine.com/articles/ibm-wants...</td>\n",
       "      <td>IBM Wants to \"Evolve the Internet\" With Blockc...</td>\n",
       "      <td>The Aite Group projects the blockchain market ...</td>\n",
       "      <td>en</td>\n",
       "    </tr>\n",
       "    <tr>\n",
       "      <th>5</th>\n",
       "      <td>1459194522</td>\n",
       "      <td>CONTENT SHARED</td>\n",
       "      <td>-2826566343807132236</td>\n",
       "      <td>4340306774493623681</td>\n",
       "      <td>8940341205206233829</td>\n",
       "      <td>NaN</td>\n",
       "      <td>NaN</td>\n",
       "      <td>NaN</td>\n",
       "      <td>HTML</td>\n",
       "      <td>http://www.coindesk.com/ieee-blockchain-oxford...</td>\n",
       "      <td>IEEE to Talk Blockchain at Cloud Computing Oxf...</td>\n",
       "      <td>One of the largest and oldest organizations fo...</td>\n",
       "      <td>en</td>\n",
       "    </tr>\n",
       "  </tbody>\n",
       "</table>\n",
       "</div>"
      ],
      "text/plain": [
       "    timestamp       eventType            contentId       authorPersonId  \\\n",
       "1  1459193988  CONTENT SHARED -4110354420726924665  4340306774493623681   \n",
       "2  1459194146  CONTENT SHARED -7292285110016212249  4340306774493623681   \n",
       "3  1459194474  CONTENT SHARED -6151852268067518688  3891637997717104548   \n",
       "4  1459194497  CONTENT SHARED  2448026894306402386  4340306774493623681   \n",
       "5  1459194522  CONTENT SHARED -2826566343807132236  4340306774493623681   \n",
       "\n",
       "       authorSessionId authorUserAgent authorRegion authorCountry contentType  \\\n",
       "1  8940341205206233829             NaN          NaN           NaN        HTML   \n",
       "2  8940341205206233829             NaN          NaN           NaN        HTML   \n",
       "3 -1457532940883382585             NaN          NaN           NaN        HTML   \n",
       "4  8940341205206233829             NaN          NaN           NaN        HTML   \n",
       "5  8940341205206233829             NaN          NaN           NaN        HTML   \n",
       "\n",
       "                                                 url  \\\n",
       "1  http://www.nytimes.com/2016/03/28/business/dea...   \n",
       "2  http://cointelegraph.com/news/bitcoin-future-w...   \n",
       "3  https://cloudplatform.googleblog.com/2016/03/G...   \n",
       "4  https://bitcoinmagazine.com/articles/ibm-wants...   \n",
       "5  http://www.coindesk.com/ieee-blockchain-oxford...   \n",
       "\n",
       "                                               title  \\\n",
       "1  Ethereum, a Virtual Currency, Enables Transact...   \n",
       "2  Bitcoin Future: When GBPcoin of Branson Wins O...   \n",
       "3                       Google Data Center 360° Tour   \n",
       "4  IBM Wants to \"Evolve the Internet\" With Blockc...   \n",
       "5  IEEE to Talk Blockchain at Cloud Computing Oxf...   \n",
       "\n",
       "                                                text lang  \n",
       "1  All of this work is still very early. The firs...   en  \n",
       "2  The alarm clock wakes me at 8:00 with stream o...   en  \n",
       "3  We're excited to share the Google Data Center ...   en  \n",
       "4  The Aite Group projects the blockchain market ...   en  \n",
       "5  One of the largest and oldest organizations fo...   en  "
      ]
     },
     "execution_count": 2,
     "metadata": {},
     "output_type": "execute_result"
    }
   ],
   "source": [
    "articles_df = pd.read_csv('shared_articles.csv')\n",
    "articles_df = articles_df[articles_df['eventType'] == 'CONTENT SHARED']\n",
    "articles_df.head(5)"
   ]
  },
  {
   "cell_type": "markdown",
   "metadata": {},
   "source": [
    "Во втором файле находятся логи взаимодействий пользователей с доступными статьями. Его можно объединить с предыдущим по колонке `contentId`. \n",
    "\n",
    "Значения `eventType`:\n",
    "\n",
    "- **VIEW**: Пользователь открыл статью. \n",
    "- **LIKE**: Пользователь лайкнул статью. \n",
    "- **COMMENT CREATED**: Пользователь оставил комментарий под статьей. \n",
    "- **FOLLOW**: Пользователь включил уведомления о каждом новом комментарии под статьей. \n",
    "- **BOOKMARK**: Пользователь сделал закладку на статью (сохранил, чтобы иметь возможность быстро к ней вернуться)."
   ]
  },
  {
   "cell_type": "code",
   "execution_count": 3,
   "metadata": {
    "_cell_guid": "445d39ec-f6b0-4155-9f92-0a2540918bd1",
    "_uuid": "9829842326037e364de457f832deceae074d6164"
   },
   "outputs": [
    {
     "data": {
      "text/html": [
       "<div>\n",
       "<style scoped>\n",
       "    .dataframe tbody tr th:only-of-type {\n",
       "        vertical-align: middle;\n",
       "    }\n",
       "\n",
       "    .dataframe tbody tr th {\n",
       "        vertical-align: top;\n",
       "    }\n",
       "\n",
       "    .dataframe thead th {\n",
       "        text-align: right;\n",
       "    }\n",
       "</style>\n",
       "<table border=\"1\" class=\"dataframe\">\n",
       "  <thead>\n",
       "    <tr style=\"text-align: right;\">\n",
       "      <th></th>\n",
       "      <th>timestamp</th>\n",
       "      <th>eventType</th>\n",
       "      <th>contentId</th>\n",
       "      <th>personId</th>\n",
       "      <th>sessionId</th>\n",
       "      <th>userAgent</th>\n",
       "      <th>userRegion</th>\n",
       "      <th>userCountry</th>\n",
       "    </tr>\n",
       "  </thead>\n",
       "  <tbody>\n",
       "    <tr>\n",
       "      <th>0</th>\n",
       "      <td>1465413032</td>\n",
       "      <td>VIEW</td>\n",
       "      <td>-3499919498720038879</td>\n",
       "      <td>-8845298781299428018</td>\n",
       "      <td>1264196770339959068</td>\n",
       "      <td>NaN</td>\n",
       "      <td>NaN</td>\n",
       "      <td>NaN</td>\n",
       "    </tr>\n",
       "    <tr>\n",
       "      <th>1</th>\n",
       "      <td>1465412560</td>\n",
       "      <td>VIEW</td>\n",
       "      <td>8890720798209849691</td>\n",
       "      <td>-1032019229384696495</td>\n",
       "      <td>3621737643587579081</td>\n",
       "      <td>Mozilla/5.0 (Macintosh; Intel Mac OS X 10_11_2...</td>\n",
       "      <td>NY</td>\n",
       "      <td>US</td>\n",
       "    </tr>\n",
       "    <tr>\n",
       "      <th>2</th>\n",
       "      <td>1465416190</td>\n",
       "      <td>VIEW</td>\n",
       "      <td>310515487419366995</td>\n",
       "      <td>-1130272294246983140</td>\n",
       "      <td>2631864456530402479</td>\n",
       "      <td>NaN</td>\n",
       "      <td>NaN</td>\n",
       "      <td>NaN</td>\n",
       "    </tr>\n",
       "    <tr>\n",
       "      <th>3</th>\n",
       "      <td>1465413895</td>\n",
       "      <td>FOLLOW</td>\n",
       "      <td>310515487419366995</td>\n",
       "      <td>344280948527967603</td>\n",
       "      <td>-3167637573980064150</td>\n",
       "      <td>NaN</td>\n",
       "      <td>NaN</td>\n",
       "      <td>NaN</td>\n",
       "    </tr>\n",
       "    <tr>\n",
       "      <th>4</th>\n",
       "      <td>1465412290</td>\n",
       "      <td>VIEW</td>\n",
       "      <td>-7820640624231356730</td>\n",
       "      <td>-445337111692715325</td>\n",
       "      <td>5611481178424124714</td>\n",
       "      <td>NaN</td>\n",
       "      <td>NaN</td>\n",
       "      <td>NaN</td>\n",
       "    </tr>\n",
       "    <tr>\n",
       "      <th>5</th>\n",
       "      <td>1465413742</td>\n",
       "      <td>VIEW</td>\n",
       "      <td>310515487419366995</td>\n",
       "      <td>-8763398617720485024</td>\n",
       "      <td>1395789369402380392</td>\n",
       "      <td>Mozilla/5.0 (Windows NT 10.0; WOW64) AppleWebK...</td>\n",
       "      <td>MG</td>\n",
       "      <td>BR</td>\n",
       "    </tr>\n",
       "    <tr>\n",
       "      <th>6</th>\n",
       "      <td>1465415950</td>\n",
       "      <td>VIEW</td>\n",
       "      <td>-8864073373672512525</td>\n",
       "      <td>3609194402293569455</td>\n",
       "      <td>1143207167886864524</td>\n",
       "      <td>NaN</td>\n",
       "      <td>NaN</td>\n",
       "      <td>NaN</td>\n",
       "    </tr>\n",
       "    <tr>\n",
       "      <th>7</th>\n",
       "      <td>1465415066</td>\n",
       "      <td>VIEW</td>\n",
       "      <td>-1492913151930215984</td>\n",
       "      <td>4254153380739593270</td>\n",
       "      <td>8743229464706506141</td>\n",
       "      <td>Mozilla/5.0 (X11; Linux x86_64) AppleWebKit/53...</td>\n",
       "      <td>SP</td>\n",
       "      <td>BR</td>\n",
       "    </tr>\n",
       "    <tr>\n",
       "      <th>8</th>\n",
       "      <td>1465413762</td>\n",
       "      <td>VIEW</td>\n",
       "      <td>310515487419366995</td>\n",
       "      <td>344280948527967603</td>\n",
       "      <td>-3167637573980064150</td>\n",
       "      <td>NaN</td>\n",
       "      <td>NaN</td>\n",
       "      <td>NaN</td>\n",
       "    </tr>\n",
       "    <tr>\n",
       "      <th>9</th>\n",
       "      <td>1465413771</td>\n",
       "      <td>VIEW</td>\n",
       "      <td>3064370296170038610</td>\n",
       "      <td>3609194402293569455</td>\n",
       "      <td>1143207167886864524</td>\n",
       "      <td>NaN</td>\n",
       "      <td>NaN</td>\n",
       "      <td>NaN</td>\n",
       "    </tr>\n",
       "  </tbody>\n",
       "</table>\n",
       "</div>"
      ],
      "text/plain": [
       "    timestamp eventType            contentId             personId  \\\n",
       "0  1465413032      VIEW -3499919498720038879 -8845298781299428018   \n",
       "1  1465412560      VIEW  8890720798209849691 -1032019229384696495   \n",
       "2  1465416190      VIEW   310515487419366995 -1130272294246983140   \n",
       "3  1465413895    FOLLOW   310515487419366995   344280948527967603   \n",
       "4  1465412290      VIEW -7820640624231356730  -445337111692715325   \n",
       "5  1465413742      VIEW   310515487419366995 -8763398617720485024   \n",
       "6  1465415950      VIEW -8864073373672512525  3609194402293569455   \n",
       "7  1465415066      VIEW -1492913151930215984  4254153380739593270   \n",
       "8  1465413762      VIEW   310515487419366995   344280948527967603   \n",
       "9  1465413771      VIEW  3064370296170038610  3609194402293569455   \n",
       "\n",
       "             sessionId                                          userAgent  \\\n",
       "0  1264196770339959068                                                NaN   \n",
       "1  3621737643587579081  Mozilla/5.0 (Macintosh; Intel Mac OS X 10_11_2...   \n",
       "2  2631864456530402479                                                NaN   \n",
       "3 -3167637573980064150                                                NaN   \n",
       "4  5611481178424124714                                                NaN   \n",
       "5  1395789369402380392  Mozilla/5.0 (Windows NT 10.0; WOW64) AppleWebK...   \n",
       "6  1143207167886864524                                                NaN   \n",
       "7  8743229464706506141  Mozilla/5.0 (X11; Linux x86_64) AppleWebKit/53...   \n",
       "8 -3167637573980064150                                                NaN   \n",
       "9  1143207167886864524                                                NaN   \n",
       "\n",
       "  userRegion userCountry  \n",
       "0        NaN         NaN  \n",
       "1         NY          US  \n",
       "2        NaN         NaN  \n",
       "3        NaN         NaN  \n",
       "4        NaN         NaN  \n",
       "5         MG          BR  \n",
       "6        NaN         NaN  \n",
       "7         SP          BR  \n",
       "8        NaN         NaN  \n",
       "9        NaN         NaN  "
      ]
     },
     "execution_count": 3,
     "metadata": {},
     "output_type": "execute_result"
    }
   ],
   "source": [
    "interactions_df = pd.read_csv('users_interactions.csv')\n",
    "interactions_df.head(10)"
   ]
  },
  {
   "cell_type": "markdown",
   "metadata": {
    "_cell_guid": "585f81a5-c6ff-4399-bbec-901c41fc7285",
    "_uuid": "6abb0af8474eabb50be7a9e6496bfa75ec1b2bd9"
   },
   "source": [
    "# Предобработка данных"
   ]
  },
  {
   "cell_type": "markdown",
   "metadata": {
    "_cell_guid": "bad1a6c9-0258-4b89-85f9-bec89a523662",
    "_uuid": "84c2e91561d5de6afa7c45c173022193664c770e"
   },
   "source": [
    "Поскольку существуют разные типы взаимодействий, мы задаем им вес, предполагая, что, например, комментарий в статье указывает на более высокий интерес пользователя к элементу, чем лайк или простое представление."
   ]
  },
  {
   "cell_type": "code",
   "execution_count": 4,
   "metadata": {
    "_cell_guid": "3239c376-05b8-4a58-9afc-f6f57f67405f",
    "_uuid": "b06f8c0b082f0ad07bf773a5ad2fae33c1f7acc2"
   },
   "outputs": [],
   "source": [
    "event_type_strength = {\n",
    "   'VIEW': 1.0,\n",
    "   'LIKE': 2.0, \n",
    "   'BOOKMARK': 2.5, \n",
    "   'FOLLOW': 3.0,\n",
    "   'COMMENT CREATED': 4.0,  \n",
    "}\n",
    "\n",
    "interactions_df['eventStrength'] = interactions_df['eventType'].apply(lambda x: event_type_strength[x])"
   ]
  },
  {
   "cell_type": "markdown",
   "metadata": {
    "_cell_guid": "5c92aa80-2926-44db-b358-c4c32de806c4",
    "_uuid": "91100a395fdf4fb20df02c8d248072457c980b5d"
   },
   "source": [
    "У рекомендательных систем есть проблема, известная как **user cold-start**, при которой сложно предоставить персонализированные рекомендации для пользователей, у которых нет или очень мало потребленных элементов, из-за отсутствия информации для моделирования их предпочтений.\n",
    "\n",
    "По этой причине мы сохраняем в наборе данных только пользователей, у которых было как минимум 5 взаимодействий."
   ]
  },
  {
   "cell_type": "code",
   "execution_count": 5,
   "metadata": {
    "_cell_guid": "bad1d8ea-9b67-4a47-80c5-87a5e55c4f38",
    "_uuid": "1698c88340183baa7f3ebb8c3b60eaa8e6ca708f"
   },
   "outputs": [
    {
     "name": "stdout",
     "output_type": "stream",
     "text": [
      "# users: 1895\n",
      "# users with at least 5 interactions: 1140\n"
     ]
    }
   ],
   "source": [
    "users_interactions_count_df = interactions_df.groupby(\n",
    "    ['personId', 'contentId']).size().groupby('personId').size()\n",
    "print('# users: %d' % len(users_interactions_count_df))\n",
    "users_with_enough_interactions_df = users_interactions_count_df[\n",
    "    users_interactions_count_df >= 5].reset_index()[['personId']]\n",
    "print('# users with at least 5 interactions: %d' %\n",
    "      len(users_with_enough_interactions_df))"
   ]
  },
  {
   "cell_type": "code",
   "execution_count": 6,
   "metadata": {
    "_cell_guid": "4e79a418-a9d6-4e01-9f38-9b290a645626",
    "_uuid": "0f428a4c6e76f95de7ea328dc33c6539389ae5f0"
   },
   "outputs": [
    {
     "name": "stdout",
     "output_type": "stream",
     "text": [
      "# of interactions: 72312\n",
      "# of interactions from users with at least 5 interactions: 69868\n"
     ]
    }
   ],
   "source": [
    "print('# of interactions: %d' % len(interactions_df))\n",
    "interactions_from_selected_users_df = interactions_df.merge(\n",
    "    users_with_enough_interactions_df,\n",
    "    how='right',\n",
    "    left_on='personId',\n",
    "    right_on='personId')\n",
    "print('# of interactions from users with at least 5 interactions: %d' %\n",
    "      len(interactions_from_selected_users_df))"
   ]
  },
  {
   "cell_type": "markdown",
   "metadata": {
    "_cell_guid": "b81f2aae-4672-4ae7-aee5-f2c8f49ed863",
    "_uuid": "db9ae42791a79461ff11a462d142eae3d6c23e88"
   },
   "source": [
    "В Deskdrop пользователям разрешено просматривать статью много раз и взаимодействовать с ними по-разному (например, ставить лайк или комментировать). Таким образом, чтобы смоделировать интерес пользователя к данной статье, мы агрегируем все взаимодействия, которые пользователь выполнил с элементом, по взвешенной сумме силы типа взаимодействия и применяем преобразование журнала для сглаживания распределения."
   ]
  },
  {
   "cell_type": "code",
   "execution_count": 11,
   "metadata": {
    "_cell_guid": "54c82dd1-1102-4f11-ac6a-7993f8e5e842",
    "_uuid": "dcd64b20b47cf2c365341303ff410626a801f7a6"
   },
   "outputs": [
    {
     "name": "stdout",
     "output_type": "stream",
     "text": [
      "# of unique user/item interactions: 39106\n"
     ]
    },
    {
     "data": {
      "text/html": [
       "<div>\n",
       "<style scoped>\n",
       "    .dataframe tbody tr th:only-of-type {\n",
       "        vertical-align: middle;\n",
       "    }\n",
       "\n",
       "    .dataframe tbody tr th {\n",
       "        vertical-align: top;\n",
       "    }\n",
       "\n",
       "    .dataframe thead th {\n",
       "        text-align: right;\n",
       "    }\n",
       "</style>\n",
       "<table border=\"1\" class=\"dataframe\">\n",
       "  <thead>\n",
       "    <tr style=\"text-align: right;\">\n",
       "      <th></th>\n",
       "      <th>personId</th>\n",
       "      <th>contentId</th>\n",
       "      <th>eventStrength</th>\n",
       "      <th>last_timestamp</th>\n",
       "    </tr>\n",
       "  </thead>\n",
       "  <tbody>\n",
       "    <tr>\n",
       "      <th>0</th>\n",
       "      <td>-9223121837663643404</td>\n",
       "      <td>-8949113594875411859</td>\n",
       "      <td>1.000000</td>\n",
       "      <td>1462452127</td>\n",
       "    </tr>\n",
       "    <tr>\n",
       "      <th>1</th>\n",
       "      <td>-9223121837663643404</td>\n",
       "      <td>-8377626164558006982</td>\n",
       "      <td>1.000000</td>\n",
       "      <td>1473938707</td>\n",
       "    </tr>\n",
       "    <tr>\n",
       "      <th>2</th>\n",
       "      <td>-9223121837663643404</td>\n",
       "      <td>-8208801367848627943</td>\n",
       "      <td>1.000000</td>\n",
       "      <td>1469706702</td>\n",
       "    </tr>\n",
       "    <tr>\n",
       "      <th>3</th>\n",
       "      <td>-9223121837663643404</td>\n",
       "      <td>-8187220755213888616</td>\n",
       "      <td>1.000000</td>\n",
       "      <td>1467823897</td>\n",
       "    </tr>\n",
       "    <tr>\n",
       "      <th>4</th>\n",
       "      <td>-9223121837663643404</td>\n",
       "      <td>-7423191370472335463</td>\n",
       "      <td>3.169925</td>\n",
       "      <td>1479290925</td>\n",
       "    </tr>\n",
       "    <tr>\n",
       "      <th>5</th>\n",
       "      <td>-9223121837663643404</td>\n",
       "      <td>-7331393944609614247</td>\n",
       "      <td>1.000000</td>\n",
       "      <td>1463486417</td>\n",
       "    </tr>\n",
       "    <tr>\n",
       "      <th>6</th>\n",
       "      <td>-9223121837663643404</td>\n",
       "      <td>-6872546942144599345</td>\n",
       "      <td>1.000000</td>\n",
       "      <td>1487677800</td>\n",
       "    </tr>\n",
       "    <tr>\n",
       "      <th>7</th>\n",
       "      <td>-9223121837663643404</td>\n",
       "      <td>-6728844082024523434</td>\n",
       "      <td>1.000000</td>\n",
       "      <td>1485252387</td>\n",
       "    </tr>\n",
       "    <tr>\n",
       "      <th>8</th>\n",
       "      <td>-9223121837663643404</td>\n",
       "      <td>-6590819806697898649</td>\n",
       "      <td>1.000000</td>\n",
       "      <td>1485252385</td>\n",
       "    </tr>\n",
       "    <tr>\n",
       "      <th>9</th>\n",
       "      <td>-9223121837663643404</td>\n",
       "      <td>-6558712014192834002</td>\n",
       "      <td>1.584963</td>\n",
       "      <td>1464968564</td>\n",
       "    </tr>\n",
       "  </tbody>\n",
       "</table>\n",
       "</div>"
      ],
      "text/plain": [
       "              personId            contentId  eventStrength  last_timestamp\n",
       "0 -9223121837663643404 -8949113594875411859       1.000000      1462452127\n",
       "1 -9223121837663643404 -8377626164558006982       1.000000      1473938707\n",
       "2 -9223121837663643404 -8208801367848627943       1.000000      1469706702\n",
       "3 -9223121837663643404 -8187220755213888616       1.000000      1467823897\n",
       "4 -9223121837663643404 -7423191370472335463       3.169925      1479290925\n",
       "5 -9223121837663643404 -7331393944609614247       1.000000      1463486417\n",
       "6 -9223121837663643404 -6872546942144599345       1.000000      1487677800\n",
       "7 -9223121837663643404 -6728844082024523434       1.000000      1485252387\n",
       "8 -9223121837663643404 -6590819806697898649       1.000000      1485252385\n",
       "9 -9223121837663643404 -6558712014192834002       1.584963      1464968564"
      ]
     },
     "execution_count": 11,
     "metadata": {},
     "output_type": "execute_result"
    }
   ],
   "source": [
    "def smooth_user_preference(x):\n",
    "    return math.log(1+x, 2)\n",
    "    \n",
    "interactions_full_df = (\n",
    "    interactions_from_selected_users_df\n",
    "    .groupby(['personId', 'contentId']).eventStrength.sum()\n",
    "    .apply(smooth_user_preference)\n",
    "    .reset_index().set_index(['personId', 'contentId'])\n",
    ")\n",
    "interactions_full_df['last_timestamp'] = (\n",
    "    interactions_from_selected_users_df\n",
    "    .groupby(['personId', 'contentId'])['timestamp'].last()\n",
    ")\n",
    "        \n",
    "interactions_full_df = interactions_full_df.reset_index()\n",
    "interactions_full_df.head(20)\n",
    "print('# of unique user/item interactions: %d' % len(interactions_full_df))\n",
    "interactions_full_df.head(10)"
   ]
  },
  {
   "cell_type": "code",
   "execution_count": null,
   "metadata": {},
   "outputs": [],
   "source": []
  },
  {
   "cell_type": "markdown",
   "metadata": {},
   "source": [
    "Разобьём выборку на обучение и контроль по времени."
   ]
  },
  {
   "cell_type": "code",
   "execution_count": 12,
   "metadata": {
    "_cell_guid": "e594a5ef-255a-4d30-9ab2-7cebe12fe798",
    "_uuid": "babda61be5306281b34422dbded67675a0aab17d"
   },
   "outputs": [
    {
     "name": "stdout",
     "output_type": "stream",
     "text": [
      "# interactions on Train set: 29329\n",
      "# interactions on Test set: 9777\n"
     ]
    },
    {
     "data": {
      "text/html": [
       "<div>\n",
       "<style scoped>\n",
       "    .dataframe tbody tr th:only-of-type {\n",
       "        vertical-align: middle;\n",
       "    }\n",
       "\n",
       "    .dataframe tbody tr th {\n",
       "        vertical-align: top;\n",
       "    }\n",
       "\n",
       "    .dataframe thead th {\n",
       "        text-align: right;\n",
       "    }\n",
       "</style>\n",
       "<table border=\"1\" class=\"dataframe\">\n",
       "  <thead>\n",
       "    <tr style=\"text-align: right;\">\n",
       "      <th></th>\n",
       "      <th>personId</th>\n",
       "      <th>contentId</th>\n",
       "      <th>eventStrength</th>\n",
       "      <th>last_timestamp</th>\n",
       "    </tr>\n",
       "  </thead>\n",
       "  <tbody>\n",
       "    <tr>\n",
       "      <th>0</th>\n",
       "      <td>-1007001694607905623</td>\n",
       "      <td>-5065077552540450930</td>\n",
       "      <td>1.0</td>\n",
       "      <td>1470395911</td>\n",
       "    </tr>\n",
       "    <tr>\n",
       "      <th>2</th>\n",
       "      <td>-1007001694607905623</td>\n",
       "      <td>-793729620925729327</td>\n",
       "      <td>1.0</td>\n",
       "      <td>1472834892</td>\n",
       "    </tr>\n",
       "    <tr>\n",
       "      <th>6</th>\n",
       "      <td>-1032019229384696495</td>\n",
       "      <td>-1006791494035379303</td>\n",
       "      <td>1.0</td>\n",
       "      <td>1469129122</td>\n",
       "    </tr>\n",
       "    <tr>\n",
       "      <th>7</th>\n",
       "      <td>-1032019229384696495</td>\n",
       "      <td>-1039912738963181810</td>\n",
       "      <td>1.0</td>\n",
       "      <td>1459376415</td>\n",
       "    </tr>\n",
       "    <tr>\n",
       "      <th>8</th>\n",
       "      <td>-1032019229384696495</td>\n",
       "      <td>-1081723567492738167</td>\n",
       "      <td>2.0</td>\n",
       "      <td>1464054093</td>\n",
       "    </tr>\n",
       "    <tr>\n",
       "      <th>...</th>\n",
       "      <td>...</td>\n",
       "      <td>...</td>\n",
       "      <td>...</td>\n",
       "      <td>...</td>\n",
       "    </tr>\n",
       "    <tr>\n",
       "      <th>39099</th>\n",
       "      <td>997469202936578234</td>\n",
       "      <td>9112765177685685246</td>\n",
       "      <td>2.0</td>\n",
       "      <td>1472479493</td>\n",
       "    </tr>\n",
       "    <tr>\n",
       "      <th>39100</th>\n",
       "      <td>998688566268269815</td>\n",
       "      <td>-1255189867397298842</td>\n",
       "      <td>1.0</td>\n",
       "      <td>1474567164</td>\n",
       "    </tr>\n",
       "    <tr>\n",
       "      <th>39101</th>\n",
       "      <td>998688566268269815</td>\n",
       "      <td>-401664538366009049</td>\n",
       "      <td>1.0</td>\n",
       "      <td>1474567449</td>\n",
       "    </tr>\n",
       "    <tr>\n",
       "      <th>39103</th>\n",
       "      <td>998688566268269815</td>\n",
       "      <td>6881796783400625893</td>\n",
       "      <td>1.0</td>\n",
       "      <td>1474567675</td>\n",
       "    </tr>\n",
       "    <tr>\n",
       "      <th>39105</th>\n",
       "      <td>998688566268269815</td>\n",
       "      <td>739747367187387064</td>\n",
       "      <td>1.0</td>\n",
       "      <td>1474567514</td>\n",
       "    </tr>\n",
       "  </tbody>\n",
       "</table>\n",
       "<p>29329 rows × 4 columns</p>\n",
       "</div>"
      ],
      "text/plain": [
       "                   personId             contentId  eventStrength  \\\n",
       "0      -1007001694607905623  -5065077552540450930            1.0   \n",
       "2      -1007001694607905623   -793729620925729327            1.0   \n",
       "6      -1032019229384696495  -1006791494035379303            1.0   \n",
       "7      -1032019229384696495  -1039912738963181810            1.0   \n",
       "8      -1032019229384696495  -1081723567492738167            2.0   \n",
       "...                     ...                   ...            ...   \n",
       "39099    997469202936578234   9112765177685685246            2.0   \n",
       "39100    998688566268269815  -1255189867397298842            1.0   \n",
       "39101    998688566268269815   -401664538366009049            1.0   \n",
       "39103    998688566268269815   6881796783400625893            1.0   \n",
       "39105    998688566268269815    739747367187387064            1.0   \n",
       "\n",
       "       last_timestamp  \n",
       "0          1470395911  \n",
       "2          1472834892  \n",
       "6          1469129122  \n",
       "7          1459376415  \n",
       "8          1464054093  \n",
       "...               ...  \n",
       "39099      1472479493  \n",
       "39100      1474567164  \n",
       "39101      1474567449  \n",
       "39103      1474567675  \n",
       "39105      1474567514  \n",
       "\n",
       "[29329 rows x 4 columns]"
      ]
     },
     "execution_count": 12,
     "metadata": {},
     "output_type": "execute_result"
    }
   ],
   "source": [
    "from sklearn.model_selection import train_test_split\n",
    "\n",
    "split_ts = 1475519530\n",
    "interactions_train_df = interactions_full_df.loc[interactions_full_df.last_timestamp < split_ts].copy()\n",
    "interactions_test_df = interactions_full_df.loc[interactions_full_df.last_timestamp >= split_ts].copy()\n",
    "\n",
    "print('# interactions on Train set: %d' % len(interactions_train_df))\n",
    "print('# interactions on Test set: %d' % len(interactions_test_df))\n",
    "\n",
    "interactions_train_df"
   ]
  },
  {
   "cell_type": "markdown",
   "metadata": {},
   "source": [
    "Также разбить данные можно не опираясь на временной фактор:\n",
    "```python\n",
    "interactions_train_df, interactions_test_df = train_test_split(interactions_full_df,\n",
    "                                   stratify=interactions_full_df['personId'], \n",
    "                                   test_size=0.25,\n",
    "                                   random_state=42)\n",
    "\n",
    "```\n",
    "Как повлият такое разбиение на итоговый результат?"
   ]
  },
  {
   "cell_type": "markdown",
   "metadata": {},
   "source": [
    "Для удобства подсчёта качества запишем данные в формате, где строка соответствует пользователю, а столбцы будут истинными метками и предсказанями в виде списков."
   ]
  },
  {
   "cell_type": "code",
   "execution_count": 13,
   "metadata": {},
   "outputs": [
    {
     "data": {
      "text/html": [
       "<div>\n",
       "<style scoped>\n",
       "    .dataframe tbody tr th:only-of-type {\n",
       "        vertical-align: middle;\n",
       "    }\n",
       "\n",
       "    .dataframe tbody tr th {\n",
       "        vertical-align: top;\n",
       "    }\n",
       "\n",
       "    .dataframe thead th {\n",
       "        text-align: right;\n",
       "    }\n",
       "</style>\n",
       "<table border=\"1\" class=\"dataframe\">\n",
       "  <thead>\n",
       "    <tr style=\"text-align: right;\">\n",
       "      <th></th>\n",
       "      <th>true_train</th>\n",
       "      <th>true_test</th>\n",
       "    </tr>\n",
       "    <tr>\n",
       "      <th>personId</th>\n",
       "      <th></th>\n",
       "      <th></th>\n",
       "    </tr>\n",
       "  </thead>\n",
       "  <tbody>\n",
       "    <tr>\n",
       "      <th>-1007001694607905623</th>\n",
       "      <td>[-5065077552540450930, -793729620925729327]</td>\n",
       "      <td>[-6623581327558800021, 1469580151036142903, 72...</td>\n",
       "    </tr>\n",
       "  </tbody>\n",
       "</table>\n",
       "</div>"
      ],
      "text/plain": [
       "                                                       true_train  \\\n",
       "personId                                                            \n",
       "-1007001694607905623  [-5065077552540450930, -793729620925729327]   \n",
       "\n",
       "                                                              true_test  \n",
       "personId                                                                 \n",
       "-1007001694607905623  [-6623581327558800021, 1469580151036142903, 72...  "
      ]
     },
     "execution_count": 13,
     "metadata": {},
     "output_type": "execute_result"
    }
   ],
   "source": [
    "interactions = (\n",
    "    interactions_train_df\n",
    "    .groupby('personId')['contentId'].agg(lambda x: list(x))\n",
    "    .reset_index()\n",
    "    .rename(columns={'contentId': 'true_train'})\n",
    "    .set_index('personId')\n",
    ")\n",
    "\n",
    "interactions['true_test'] = (\n",
    "    interactions_test_df\n",
    "    .groupby('personId')['contentId'].agg(lambda x: list(x))\n",
    ")\n",
    "\n",
    "# заполнение пропусков пустыми списками\n",
    "interactions.loc[pd.isnull(interactions.true_test), 'true_test'] = [\n",
    "    list() for x in range(len(interactions.loc[pd.isnull(interactions.true_test), 'true_test']))]\n",
    "\n",
    "interactions.head(1)"
   ]
  },
  {
   "cell_type": "markdown",
   "metadata": {
    "_cell_guid": "2fac2a15-cc5c-4f31-8818-8065b0d2dc16",
    "_uuid": "59dd2131949c4d7e801114bffc11fb439c930b4c"
   },
   "source": [
    "## Часть 1: Baseline (модель по популярности)"
   ]
  },
  {
   "cell_type": "markdown",
   "metadata": {},
   "source": [
    "Самой простой моделью рекомендаций (при этом достаточно сильной!) является модель, которая рекомендует наиболее популярные предметы. \n",
    "\n",
    "Реализуем её. Давайте считать, что рекомендуем мы по 10 материалов (такое ограничение на размер блока на сайте).\n",
    "\n",
    "Посчитаем популярность каждой статьи, как сумму всех \"оценок\" взаимодействий с ней. Отсортируем материалы по их популярности."
   ]
  },
  {
   "cell_type": "code",
   "execution_count": 14,
   "metadata": {},
   "outputs": [],
   "source": [
    "# popular_content = \n",
    "####### Здесь ваш код ##########\n",
    "popular_content = (\n",
    "    interactions_train_df\n",
    "    .groupby('contentId')\n",
    "    .eventStrength.sum().reset_index()\n",
    "    .sort_values('eventStrength', ascending=False)\n",
    "    .contentId.values\n",
    ")\n",
    "################################"
   ]
  },
  {
   "cell_type": "code",
   "execution_count": 15,
   "metadata": {},
   "outputs": [
    {
     "name": "stdout",
     "output_type": "stream",
     "text": [
      "[\"Ray Kurzweil: The world isn't getting worse - our information is getting better\"]\n"
     ]
    }
   ],
   "source": [
    "print(articles_df.loc[articles_df.contentId == popular_content[2]]['title'].values)"
   ]
  },
  {
   "cell_type": "code",
   "execution_count": 16,
   "metadata": {},
   "outputs": [
    {
     "name": "stdout",
     "output_type": "stream",
     "text": [
      "['Sunset Blvd. (1950)']\n"
     ]
    }
   ],
   "source": [
    "print(articles_df.loc[articles_df.contentId == popular_content[2363]]['title'].values)"
   ]
  },
  {
   "cell_type": "markdown",
   "metadata": {},
   "source": [
    "Теперь необходимо сделать предсказания для каждого пользователя. Не забываем, что надо рекомендовать то, что пользователь ещё не читал (для этого нужно проверить, что материал не встречался в true_train)."
   ]
  },
  {
   "cell_type": "code",
   "execution_count": 17,
   "metadata": {},
   "outputs": [
    {
     "data": {
      "text/plain": [
       "array(['-6783772548752091658', '-133139342397538859',\n",
       "       '-8208801367848627943', '8224860111193157980',\n",
       "       '7507067965574797372', '-2358756719610361882',\n",
       "       '-6843047699859121724', '-1297580205670251233',\n",
       "       '8657408509986329668', '3367026768872537336'], dtype=object)"
      ]
     },
     "execution_count": 17,
     "metadata": {},
     "output_type": "execute_result"
    }
   ],
   "source": [
    "top_k = 10\n",
    "\n",
    "# interactions['prediction_popular'] =\n",
    "####### Здесь ваш код ##########\n",
    "interactions['prediction_popular'] = (\n",
    "    interactions.true_train\n",
    "    .apply(\n",
    "        lambda x:\n",
    "        popular_content[~np.in1d(popular_content, x)][:top_k]\n",
    "    )\n",
    ")\n",
    "################################\n",
    "interactions['prediction_popular'][0]"
   ]
  },
  {
   "cell_type": "markdown",
   "metadata": {},
   "source": [
    "Настало время оценить качество. Посчитаем precision@10 для каждого пользователя (доля угаданных рекомендаций). Усредним по всем пользователям. Везде далее будем считать эту же метрику."
   ]
  },
  {
   "cell_type": "code",
   "execution_count": 18,
   "metadata": {},
   "outputs": [],
   "source": [
    "def calc_precision(column):\n",
    "    ####### Здесь ваш код ##########\n",
    "    return (\n",
    "        interactions\n",
    "        .apply(\n",
    "            lambda row:\n",
    "            len(set(row['true_test']).intersection(\n",
    "                set(row[column]))) /\n",
    "            min(len(row['true_test']) + 0.001, 10.0),\n",
    "            axis=1)).mean()\n",
    "\n",
    "    ################################"
   ]
  },
  {
   "cell_type": "code",
   "execution_count": 19,
   "metadata": {},
   "outputs": [
    {
     "data": {
      "text/plain": [
       "0.006454207722621084"
      ]
     },
     "execution_count": 19,
     "metadata": {},
     "output_type": "execute_result"
    }
   ],
   "source": [
    "calc_precision('prediction_popular')"
   ]
  },
  {
   "cell_type": "markdown",
   "metadata": {},
   "source": [
    "## Часть 2. Коллаборативная фильтрация."
   ]
  },
  {
   "cell_type": "markdown",
   "metadata": {},
   "source": [
    "Перейдём к более сложному механизму рекомендаций, а именно коллаборативной фильтрации. Суть коллаборативной фильтрации в том, что учитывается схожесть пользователей и товаров между собой, а не факторы, которые их описывают. \n",
    "\n",
    "Для начала для удобства составим матрицу \"оценок\" пользователей. Нули будут обозначать отсутствие взаимодействия."
   ]
  },
  {
   "cell_type": "code",
   "execution_count": 20,
   "metadata": {},
   "outputs": [],
   "source": [
    "ratings = pd.pivot_table(\n",
    "    interactions_train_df,\n",
    "    values='eventStrength',\n",
    "    index='personId',\n",
    "    columns='contentId').fillna(0)"
   ]
  },
  {
   "cell_type": "markdown",
   "metadata": {},
   "source": [
    "### Memory-based"
   ]
  },
  {
   "cell_type": "markdown",
   "metadata": {},
   "source": [
    "Посчитаем схожести пользователей с помощью корреляции Пирсона. Для каждой пары учитываем только ненулевые значения.\n",
    "\n",
    "Для скорости работы лучше переходить от pandas к numpy."
   ]
  },
  {
   "cell_type": "code",
   "execution_count": 21,
   "metadata": {},
   "outputs": [],
   "source": [
    "ratings_m = ratings.values"
   ]
  },
  {
   "cell_type": "code",
   "execution_count": 22,
   "metadata": {},
   "outputs": [
    {
     "data": {
      "application/vnd.jupyter.widget-view+json": {
       "model_id": "bd45c57226fb414fb97d73b177ba89b3",
       "version_major": 2,
       "version_minor": 0
      },
      "text/plain": [
       "HBox(children=(IntProgress(value=0, max=1111), HTML(value='')))"
      ]
     },
     "metadata": {},
     "output_type": "display_data"
    },
    {
     "name": "stdout",
     "output_type": "stream",
     "text": [
      "\n"
     ]
    }
   ],
   "source": [
    "similarity_users = np.zeros((len(ratings_m), len(ratings_m)))\n",
    "\n",
    "for i in tqdm_notebook(range(len(ratings_m)-1)):\n",
    "    for j in range(i+1, len(ratings_m)):\n",
    "        \n",
    "        # nonzero elements of two users\n",
    "        mask_uv = (ratings_m[i] != 0) & (ratings_m[j] != 0)\n",
    "        \n",
    "        # continue if no intersection\n",
    "        if np.sum(mask_uv) == 0:\n",
    "            continue\n",
    "            \n",
    "        # get nonzero elements\n",
    "        ratings_v = ratings_m[i, mask_uv]\n",
    "        ratings_u = ratings_m[j, mask_uv]\n",
    "        \n",
    "        # for nonzero std\n",
    "        if len(np.unique(ratings_v)) < 2 or len(np.unique(ratings_u)) < 2:\n",
    "            continue\n",
    "        # similarity_users[i,j] = \n",
    "        # similarity_users[j,i] = \n",
    "        ####### Здесь ваш код ##########\n",
    "        similarity_users[i,j] = np.corrcoef(ratings_v, ratings_u)[0, 1]\n",
    "        similarity_users[j,i] = similarity_users[i,j]\n",
    "        ################################"
   ]
  },
  {
   "cell_type": "markdown",
   "metadata": {},
   "source": [
    "Теперь у нас есть матрицы схожести пользователей. Их можно использовать для рекомендаций.\n",
    "\n",
    "Для каждого пользователя:\n",
    "\n",
    "1. Найдём пользователей с похожестью больше $\\alpha$ на нашего пользователя.\n",
    "2. Посчитаем для каждой статьи долю пользователей (среди выделенных на первом шаге), которые взаимодействовали со статьёй.\n",
    "3. Порекомендуем статьи с наибольшими долями со второго шага (среди тех, которые пользователь ещё не видел).\n",
    "\n",
    "В нашем примере данных не очень много, поэтому возьмём $\\alpha = 0$.\n",
    "\n",
    "После того, как будут сделаны предсказания (новый столбец в interactions), посчитаем качество по той же метрике."
   ]
  },
  {
   "cell_type": "code",
   "execution_count": 23,
   "metadata": {},
   "outputs": [
    {
     "data": {
      "application/vnd.jupyter.widget-view+json": {
       "model_id": "ea1c4fb4def745ffbab10a8404e89d05",
       "version_major": 2,
       "version_minor": 0
      },
      "text/plain": [
       "HBox(children=(IntProgress(value=0, max=1112), HTML(value='')))"
      ]
     },
     "metadata": {},
     "output_type": "display_data"
    },
    {
     "name": "stdout",
     "output_type": "stream",
     "text": [
      "\n"
     ]
    }
   ],
   "source": [
    "prediction_user_based = []\n",
    "####### Здесь ваш код ##########\n",
    "for i in tqdm_notebook(range(len(similarity_users))):\n",
    "    users_sim = similarity_users[i] > 0\n",
    "    if len(users_sim) == 0:\n",
    "        prediction_user_based.append([])\n",
    "    else:\n",
    "        tmp_recommend = np.argsort(ratings_m[users_sim].sum(axis=0))[::-1]\n",
    "        tmp_recommend = ratings.columns[tmp_recommend]\n",
    "        recommend = np.array(tmp_recommend)[~np.in1d(tmp_recommend, interactions.iloc[i])][:10]\n",
    "        prediction_user_based.append(list(recommend))\n",
    "################################\n",
    "interactions['prediction_user_based'] = prediction_user_based"
   ]
  },
  {
   "cell_type": "code",
   "execution_count": 24,
   "metadata": {},
   "outputs": [
    {
     "data": {
      "text/plain": [
       "0.003541692918885617"
      ]
     },
     "execution_count": 24,
     "metadata": {},
     "output_type": "execute_result"
    }
   ],
   "source": [
    "calc_precision('prediction_user_based')"
   ]
  },
  {
   "cell_type": "markdown",
   "metadata": {},
   "source": [
    "### Модель со скрытыми переменными"
   ]
  },
  {
   "cell_type": "markdown",
   "metadata": {},
   "source": [
    "Реализуем подход с разложением матрицы оценок. Для этого сделаем сингулярное разложение (svd в scipy.linalg), на выходе вы получите три матрицы.\n",
    "\n",
    "Заметим, что мы используем матрицу с нулями, будто отсутствующие взаимодействия негативные, что странно.\n",
    "\n",
    "Если бы мы учили модель со скрытыми переменными с помощью стохастического градиентного спуска, то неизвестные взаимодействия могли бы не использовать."
   ]
  },
  {
   "cell_type": "code",
   "execution_count": 25,
   "metadata": {},
   "outputs": [],
   "source": [
    "from scipy.linalg import svd"
   ]
  },
  {
   "cell_type": "code",
   "execution_count": 26,
   "metadata": {},
   "outputs": [
    {
     "name": "stdout",
     "output_type": "stream",
     "text": [
      "(1112, 2366) (1112, 1112) (1112,) (2366, 2366)\n"
     ]
    }
   ],
   "source": [
    "####### Здесь ваш код ##########\n",
    "U, sigma, V = svd(ratings)\n",
    "print(ratings.shape, U.shape, sigma.shape, V.shape)\n",
    "################################"
   ]
  },
  {
   "cell_type": "code",
   "execution_count": 27,
   "metadata": {},
   "outputs": [
    {
     "name": "stdout",
     "output_type": "stream",
     "text": [
      "8.464877207035405e-25\n"
     ]
    }
   ],
   "source": [
    "####### Здесь ваш код ##########\n",
    "Sigma = np.zeros((1112, 2366))\n",
    "Sigma[:1112, :1112] = np.diag(sigma)\n",
    "\n",
    "new_ratings = U.dot(Sigma).dot(V)\n",
    "print(sum(sum((new_ratings - ratings.values) ** 2)))\n",
    "################################"
   ]
  },
  {
   "cell_type": "markdown",
   "metadata": {},
   "source": [
    "Значения у матрицы с сингулярными числами отсортированы по убыванию. Допустим мы хотим оставить только первые 100 компонент (и получить скрытые представления размерности 100). Для этого необходимо оставить 100 столбцов в матрице U, оставить из sigma только первые 100 значений (и сделать из них диагональную матрицу) и 100 столбцов в матрице V. Перемножим преобразованные матрицы ($\\hat{U}, \\hat{sigma}, \\hat{V^T}$), чтобы получить восстановленную матрицу оценок."
   ]
  },
  {
   "cell_type": "code",
   "execution_count": 28,
   "metadata": {},
   "outputs": [],
   "source": [
    "K = 100\n",
    "####### Здесь ваш код ##########\n",
    "sigma[K:] = 0\n",
    "Sigma = np.zeros((1112, 2366))\n",
    "Sigma[:1112, :1112] = np.diag(sigma)\n",
    "################################"
   ]
  },
  {
   "cell_type": "markdown",
   "metadata": {},
   "source": [
    "Посчитаем качество аппроксимации матрицы по норме Фробениуса (среднеквадратичную ошибку между всеми элементами соответствующими элементами двух матриц). Сравним его с простым бейзлайном с константным значением, равным среднему значению исходной матрицы. У аппроксимации ошибка должна получиться ниже."
   ]
  },
  {
   "cell_type": "code",
   "execution_count": 29,
   "metadata": {},
   "outputs": [
    {
     "name": "stdout",
     "output_type": "stream",
     "text": [
      "25843.424898912766\n",
      "78622.13000466056\n"
     ]
    }
   ],
   "source": [
    "####### Здесь ваш код ##########\n",
    "new_ratings = U.dot(Sigma).dot(V)\n",
    "print(sum(sum((new_ratings - ratings.values) ** 2)))\n",
    "print(sum(sum((ratings.values.mean() - ratings.values) ** 2)))\n",
    "################################"
   ]
  },
  {
   "cell_type": "markdown",
   "metadata": {},
   "source": [
    "Теперь можно делать предсказания по матрице. Сделаем их (не забываем про то, что уже было просмотрено пользователем), оценим качество. Для этого необходимо для каждого пользователя найти предметы с наибольшими оценками в восстановленной матрице."
   ]
  },
  {
   "cell_type": "code",
   "execution_count": 30,
   "metadata": {},
   "outputs": [
    {
     "data": {
      "application/vnd.jupyter.widget-view+json": {
       "model_id": "7f5d9cff71df4ae097e65fc7c5ba0dd2",
       "version_major": 2,
       "version_minor": 0
      },
      "text/plain": [
       "HBox(children=(IntProgress(value=0, max=1112), HTML(value='')))"
      ]
     },
     "metadata": {},
     "output_type": "display_data"
    },
    {
     "name": "stdout",
     "output_type": "stream",
     "text": [
      "\n"
     ]
    }
   ],
   "source": [
    "new_ratings = pd.DataFrame(new_ratings, index=ratings.index, columns=ratings.columns)\n",
    "\n",
    "predictions = []\n",
    "####### Здесь ваш код ##########\n",
    "for personId in tqdm_notebook(interactions.index):\n",
    "    prediction = (\n",
    "        new_ratings\n",
    "        .loc[personId]\n",
    "        .sort_values(ascending=False)\n",
    "        .index.values\n",
    "    )\n",
    "    \n",
    "    predictions.append(\n",
    "        list(prediction[~np.in1d(\n",
    "            prediction,\n",
    "            interactions.loc[personId, 'true_train'])])[:top_k])\n",
    "################################\n",
    "interactions['prediction_svd'] = predictions"
   ]
  },
  {
   "cell_type": "code",
   "execution_count": 31,
   "metadata": {
    "scrolled": true
   },
   "outputs": [
    {
     "data": {
      "text/plain": [
       "0.012212989310270754"
      ]
     },
     "execution_count": 31,
     "metadata": {},
     "output_type": "execute_result"
    }
   ],
   "source": [
    "calc_precision('prediction_svd')"
   ]
  },
  {
   "cell_type": "markdown",
   "metadata": {},
   "source": [
    "## Часть 3. Контентные  модели"
   ]
  },
  {
   "cell_type": "markdown",
   "metadata": {},
   "source": [
    "В этой части реализуем альтернативных подход к рекомендательным системам — контентные модели."
   ]
  },
  {
   "cell_type": "markdown",
   "metadata": {},
   "source": [
    "Теперь мы будем оперировать не матрицей с оценками, а классической для машинного обучения матрицей объекты-признаки. Каждый объект будет характеризовать пару user-item и содержать признаки, описывающие как пользователя, так и товар. Кроме этого признаки могут описывать и саму пару целиком.\n",
    "\n",
    "Матрица со всеми взаимодействиями уже получена нами на этапа разбиения выборки на 2 части. \n",
    "\n",
    "Будем обучать классификатор на взаимодействие, а для него нужны отрицательные примеры. Добавим случайные отсутствующие взаимодействия как отрицательные.\n",
    "\n",
    "Заметим, что модель оценивает каждую пару потенциального взаимодействия, а значит, надо подготовить выборку из всех возможных пар из пользователей и статей."
   ]
  },
  {
   "cell_type": "code",
   "execution_count": 32,
   "metadata": {},
   "outputs": [],
   "source": [
    "test_personId = np.repeat(interactions.index, len(ratings.columns)) \n",
    "test_contentId = list(ratings.columns) * len(interactions)\n",
    "test = pd.DataFrame(\n",
    "    np.array([test_personId, test_contentId]).T,\n",
    "    columns=['personId', 'contentId'])\n",
    "\n",
    "interactions_train_df = pd.concat((\n",
    "    interactions_train_df,\n",
    "    test.loc[\n",
    "        np.random.permutation(test.index)[\n",
    "            :4*len(interactions_train_df)]]), ignore_index=True)\n",
    "interactions_train_df.eventStrength.fillna(0, inplace=True)"
   ]
  },
  {
   "cell_type": "markdown",
   "metadata": {},
   "source": [
    "Придумаем и добавим признаков о пользователях и статьях. Сначала добавим информацию о статьях в данные о взаимодействиях."
   ]
  },
  {
   "cell_type": "code",
   "execution_count": 33,
   "metadata": {},
   "outputs": [],
   "source": [
    "interactions_train_df = interactions_train_df.merge(articles_df, how='left', on='contentId')\n",
    "interactions_test_df = interactions_test_df.merge(articles_df, how='left', on='contentId')"
   ]
  },
  {
   "cell_type": "code",
   "execution_count": 34,
   "metadata": {},
   "outputs": [],
   "source": [
    "# first feature index\n",
    "features_start = len(interactions_train_df.columns)"
   ]
  },
  {
   "cell_type": "markdown",
   "metadata": {},
   "source": [
    "После обучения модели нам придётся делать предсказания на тестовой выборке для всех возможных пар статья-пользователь. Подготовим такую матрицу, чтобы параллельно посчитать признаки для неё."
   ]
  },
  {
   "cell_type": "code",
   "execution_count": 35,
   "metadata": {},
   "outputs": [
    {
     "data": {
      "text/html": [
       "<div>\n",
       "<style scoped>\n",
       "    .dataframe tbody tr th:only-of-type {\n",
       "        vertical-align: middle;\n",
       "    }\n",
       "\n",
       "    .dataframe tbody tr th {\n",
       "        vertical-align: top;\n",
       "    }\n",
       "\n",
       "    .dataframe thead th {\n",
       "        text-align: right;\n",
       "    }\n",
       "</style>\n",
       "<table border=\"1\" class=\"dataframe\">\n",
       "  <thead>\n",
       "    <tr style=\"text-align: right;\">\n",
       "      <th></th>\n",
       "      <th>personId</th>\n",
       "      <th>contentId</th>\n",
       "      <th>timestamp</th>\n",
       "      <th>eventType</th>\n",
       "      <th>authorPersonId</th>\n",
       "      <th>authorSessionId</th>\n",
       "      <th>authorUserAgent</th>\n",
       "      <th>authorRegion</th>\n",
       "      <th>authorCountry</th>\n",
       "      <th>contentType</th>\n",
       "      <th>url</th>\n",
       "      <th>title</th>\n",
       "      <th>text</th>\n",
       "      <th>lang</th>\n",
       "    </tr>\n",
       "  </thead>\n",
       "  <tbody>\n",
       "    <tr>\n",
       "      <th>0</th>\n",
       "      <td>-1007001694607905623</td>\n",
       "      <td>-4110354420726924665</td>\n",
       "      <td>1459193988</td>\n",
       "      <td>CONTENT SHARED</td>\n",
       "      <td>4340306774493623681</td>\n",
       "      <td>8940341205206233829</td>\n",
       "      <td>NaN</td>\n",
       "      <td>NaN</td>\n",
       "      <td>NaN</td>\n",
       "      <td>HTML</td>\n",
       "      <td>http://www.nytimes.com/2016/03/28/business/dea...</td>\n",
       "      <td>Ethereum, a Virtual Currency, Enables Transact...</td>\n",
       "      <td>All of this work is still very early. The firs...</td>\n",
       "      <td>en</td>\n",
       "    </tr>\n",
       "    <tr>\n",
       "      <th>1</th>\n",
       "      <td>-1007001694607905623</td>\n",
       "      <td>-7292285110016212249</td>\n",
       "      <td>1459194146</td>\n",
       "      <td>CONTENT SHARED</td>\n",
       "      <td>4340306774493623681</td>\n",
       "      <td>8940341205206233829</td>\n",
       "      <td>NaN</td>\n",
       "      <td>NaN</td>\n",
       "      <td>NaN</td>\n",
       "      <td>HTML</td>\n",
       "      <td>http://cointelegraph.com/news/bitcoin-future-w...</td>\n",
       "      <td>Bitcoin Future: When GBPcoin of Branson Wins O...</td>\n",
       "      <td>The alarm clock wakes me at 8:00 with stream o...</td>\n",
       "      <td>en</td>\n",
       "    </tr>\n",
       "    <tr>\n",
       "      <th>2</th>\n",
       "      <td>-1007001694607905623</td>\n",
       "      <td>-6151852268067518688</td>\n",
       "      <td>1459194474</td>\n",
       "      <td>CONTENT SHARED</td>\n",
       "      <td>3891637997717104548</td>\n",
       "      <td>-1457532940883382585</td>\n",
       "      <td>NaN</td>\n",
       "      <td>NaN</td>\n",
       "      <td>NaN</td>\n",
       "      <td>HTML</td>\n",
       "      <td>https://cloudplatform.googleblog.com/2016/03/G...</td>\n",
       "      <td>Google Data Center 360° Tour</td>\n",
       "      <td>We're excited to share the Google Data Center ...</td>\n",
       "      <td>en</td>\n",
       "    </tr>\n",
       "    <tr>\n",
       "      <th>3</th>\n",
       "      <td>-1007001694607905623</td>\n",
       "      <td>2448026894306402386</td>\n",
       "      <td>1459194497</td>\n",
       "      <td>CONTENT SHARED</td>\n",
       "      <td>4340306774493623681</td>\n",
       "      <td>8940341205206233829</td>\n",
       "      <td>NaN</td>\n",
       "      <td>NaN</td>\n",
       "      <td>NaN</td>\n",
       "      <td>HTML</td>\n",
       "      <td>https://bitcoinmagazine.com/articles/ibm-wants...</td>\n",
       "      <td>IBM Wants to \"Evolve the Internet\" With Blockc...</td>\n",
       "      <td>The Aite Group projects the blockchain market ...</td>\n",
       "      <td>en</td>\n",
       "    </tr>\n",
       "    <tr>\n",
       "      <th>4</th>\n",
       "      <td>-1007001694607905623</td>\n",
       "      <td>-2826566343807132236</td>\n",
       "      <td>1459194522</td>\n",
       "      <td>CONTENT SHARED</td>\n",
       "      <td>4340306774493623681</td>\n",
       "      <td>8940341205206233829</td>\n",
       "      <td>NaN</td>\n",
       "      <td>NaN</td>\n",
       "      <td>NaN</td>\n",
       "      <td>HTML</td>\n",
       "      <td>http://www.coindesk.com/ieee-blockchain-oxford...</td>\n",
       "      <td>IEEE to Talk Blockchain at Cloud Computing Oxf...</td>\n",
       "      <td>One of the largest and oldest organizations fo...</td>\n",
       "      <td>en</td>\n",
       "    </tr>\n",
       "  </tbody>\n",
       "</table>\n",
       "</div>"
      ],
      "text/plain": [
       "               personId             contentId   timestamp       eventType  \\\n",
       "0  -1007001694607905623  -4110354420726924665  1459193988  CONTENT SHARED   \n",
       "1  -1007001694607905623  -7292285110016212249  1459194146  CONTENT SHARED   \n",
       "2  -1007001694607905623  -6151852268067518688  1459194474  CONTENT SHARED   \n",
       "3  -1007001694607905623   2448026894306402386  1459194497  CONTENT SHARED   \n",
       "4  -1007001694607905623  -2826566343807132236  1459194522  CONTENT SHARED   \n",
       "\n",
       "        authorPersonId      authorSessionId authorUserAgent authorRegion  \\\n",
       "0  4340306774493623681  8940341205206233829             NaN          NaN   \n",
       "1  4340306774493623681  8940341205206233829             NaN          NaN   \n",
       "2  3891637997717104548 -1457532940883382585             NaN          NaN   \n",
       "3  4340306774493623681  8940341205206233829             NaN          NaN   \n",
       "4  4340306774493623681  8940341205206233829             NaN          NaN   \n",
       "\n",
       "  authorCountry contentType  \\\n",
       "0           NaN        HTML   \n",
       "1           NaN        HTML   \n",
       "2           NaN        HTML   \n",
       "3           NaN        HTML   \n",
       "4           NaN        HTML   \n",
       "\n",
       "                                                 url  \\\n",
       "0  http://www.nytimes.com/2016/03/28/business/dea...   \n",
       "1  http://cointelegraph.com/news/bitcoin-future-w...   \n",
       "2  https://cloudplatform.googleblog.com/2016/03/G...   \n",
       "3  https://bitcoinmagazine.com/articles/ibm-wants...   \n",
       "4  http://www.coindesk.com/ieee-blockchain-oxford...   \n",
       "\n",
       "                                               title  \\\n",
       "0  Ethereum, a Virtual Currency, Enables Transact...   \n",
       "1  Bitcoin Future: When GBPcoin of Branson Wins O...   \n",
       "2                       Google Data Center 360° Tour   \n",
       "3  IBM Wants to \"Evolve the Internet\" With Blockc...   \n",
       "4  IEEE to Talk Blockchain at Cloud Computing Oxf...   \n",
       "\n",
       "                                                text lang  \n",
       "0  All of this work is still very early. The firs...   en  \n",
       "1  The alarm clock wakes me at 8:00 with stream o...   en  \n",
       "2  We're excited to share the Google Data Center ...   en  \n",
       "3  The Aite Group projects the blockchain market ...   en  \n",
       "4  One of the largest and oldest organizations fo...   en  "
      ]
     },
     "execution_count": 35,
     "metadata": {},
     "output_type": "execute_result"
    }
   ],
   "source": [
    "test_personId = np.repeat(interactions.index, len(articles_df)) \n",
    "test_contentId = list(articles_df.contentId) * len(interactions)\n",
    "test = pd.DataFrame(\n",
    "    np.array([test_personId, test_contentId]).T,\n",
    "    columns=['personId', 'contentId'])\n",
    "test = test.merge(articles_df, how='left', on='contentId')\n",
    "\n",
    "test.head()"
   ]
  },
  {
   "cell_type": "markdown",
   "metadata": {},
   "source": [
    "Добавим признаки-индикаторы возможных значений contentType."
   ]
  },
  {
   "cell_type": "code",
   "execution_count": 36,
   "metadata": {},
   "outputs": [],
   "source": [
    "interactions_train_df['is_HTML'] = interactions_train_df.contentType == 'HTML'\n",
    "####### Здесь ваш код ##########\n",
    "interactions_train_df['is_RICH'] = interactions_train_df.contentType == 'RICH'\n",
    "interactions_train_df['is_VIDEO'] = interactions_train_df.contentType == 'VIDEO'\n",
    "\n",
    "test['is_HTML'] = test.contentType == 'HTML'\n",
    "test['is_RICH'] = test.contentType == 'RICH'\n",
    "test['is_VIDEO'] = test.contentType == 'VIDEO'\n",
    "################################"
   ]
  },
  {
   "cell_type": "markdown",
   "metadata": {},
   "source": [
    "Добавим признаки \"длина названия\" и \"длина текста\" + некоторые проверки на ключевые слова."
   ]
  },
  {
   "cell_type": "code",
   "execution_count": 37,
   "metadata": {},
   "outputs": [],
   "source": [
    "interactions_train_df['title_length'] = interactions_train_df.title.fillna('').apply(len)\n",
    "####### Здесь ваш код ##########\n",
    "interactions_train_df['text_length'] = interactions_train_df.text.fillna('').apply(len)\n",
    "\n",
    "test['title_length'] = test.title.fillna('').apply(len)\n",
    "test['text_length'] = test.text.fillna('').apply(len)\n",
    "\n",
    "interactions_train_df['has_new'] = \\\n",
    "    interactions_train_df.title.fillna('').apply(lambda x: 'new' in x.lower())\n",
    "interactions_train_df['has_why'] = \\\n",
    "    interactions_train_df.title.fillna('').apply(lambda x: 'why' in x.lower())\n",
    "interactions_train_df['has_how'] = \\\n",
    "    interactions_train_df.title.fillna('').apply(lambda x: 'how' in x.lower())\n",
    "interactions_train_df['has_ai'] = \\\n",
    "    interactions_train_df.title.fillna('').apply(lambda x: 'ai' in x.lower())\n",
    "\n",
    "test['has_new'] = \\\n",
    "    test.title.fillna('').apply(lambda x: 'new' in x.lower())\n",
    "test['has_why'] = \\\n",
    "    test.title.fillna('').apply(lambda x: 'why' in x.lower())\n",
    "test['has_how'] = \\\n",
    "    test.title.fillna('').apply(lambda x: 'how' in x.lower())\n",
    "test['has_ai'] = \\\n",
    "    test.title.fillna('').apply(lambda x: 'ai' in x.lower())\n",
    "################################"
   ]
  },
  {
   "cell_type": "markdown",
   "metadata": {},
   "source": [
    "Добавим признаки-индикаторы языка."
   ]
  },
  {
   "cell_type": "code",
   "execution_count": 38,
   "metadata": {},
   "outputs": [],
   "source": [
    "interactions_train_df['is_lang_en'] = interactions_train_df.lang == 'en'\n",
    "####### Здесь ваш код ##########\n",
    "interactions_train_df['is_lang_pt'] = interactions_train_df.lang == 'pt'\n",
    "\n",
    "test['is_lang_en'] = test.lang == 'en'\n",
    "test['is_lang_pt'] = test.lang == 'pt'\n",
    "################################"
   ]
  },
  {
   "cell_type": "markdown",
   "metadata": {},
   "source": [
    "Обучим на полученных признаках градиентный бустинг."
   ]
  },
  {
   "cell_type": "code",
   "execution_count": 39,
   "metadata": {
    "scrolled": true
   },
   "outputs": [
    {
     "name": "stdout",
     "output_type": "stream",
     "text": [
      "0:\tlearn: 0.6644216\ttotal: 231ms\tremaining: 3m 50s\n",
      "1:\tlearn: 0.6397517\ttotal: 282ms\tremaining: 2m 20s\n",
      "2:\tlearn: 0.6187005\ttotal: 345ms\tremaining: 1m 54s\n",
      "3:\tlearn: 0.6006784\ttotal: 393ms\tremaining: 1m 37s\n",
      "4:\tlearn: 0.5851678\ttotal: 453ms\tremaining: 1m 30s\n",
      "5:\tlearn: 0.5719286\ttotal: 506ms\tremaining: 1m 23s\n",
      "6:\tlearn: 0.5605556\ttotal: 561ms\tremaining: 1m 19s\n",
      "7:\tlearn: 0.5508589\ttotal: 617ms\tremaining: 1m 16s\n",
      "8:\tlearn: 0.5425047\ttotal: 667ms\tremaining: 1m 13s\n",
      "9:\tlearn: 0.5353031\ttotal: 732ms\tremaining: 1m 12s\n",
      "10:\tlearn: 0.5291311\ttotal: 784ms\tremaining: 1m 10s\n",
      "11:\tlearn: 0.5239659\ttotal: 851ms\tremaining: 1m 10s\n",
      "12:\tlearn: 0.5193952\ttotal: 911ms\tremaining: 1m 9s\n",
      "13:\tlearn: 0.5154735\ttotal: 967ms\tremaining: 1m 8s\n",
      "14:\tlearn: 0.5121020\ttotal: 1.02s\tremaining: 1m 7s\n",
      "15:\tlearn: 0.5091228\ttotal: 1.07s\tremaining: 1m 5s\n",
      "16:\tlearn: 0.5066393\ttotal: 1.12s\tremaining: 1m 4s\n",
      "17:\tlearn: 0.5043147\ttotal: 1.17s\tremaining: 1m 3s\n",
      "18:\tlearn: 0.5023287\ttotal: 1.22s\tremaining: 1m 3s\n",
      "19:\tlearn: 0.5006215\ttotal: 1.27s\tremaining: 1m 2s\n",
      "20:\tlearn: 0.4991156\ttotal: 1.32s\tremaining: 1m 1s\n",
      "21:\tlearn: 0.4977638\ttotal: 1.38s\tremaining: 1m 1s\n",
      "22:\tlearn: 0.4967043\ttotal: 1.42s\tremaining: 1m\n",
      "23:\tlearn: 0.4957021\ttotal: 1.49s\tremaining: 1m\n",
      "24:\tlearn: 0.4948859\ttotal: 1.56s\tremaining: 1m\n",
      "25:\tlearn: 0.4941019\ttotal: 1.62s\tremaining: 1m\n",
      "26:\tlearn: 0.4933852\ttotal: 1.66s\tremaining: 60s\n",
      "27:\tlearn: 0.4927816\ttotal: 1.73s\tremaining: 59.9s\n",
      "28:\tlearn: 0.4921085\ttotal: 1.77s\tremaining: 59.4s\n",
      "29:\tlearn: 0.4916541\ttotal: 1.82s\tremaining: 59s\n",
      "30:\tlearn: 0.4911969\ttotal: 1.89s\tremaining: 59.1s\n",
      "31:\tlearn: 0.4907682\ttotal: 1.93s\tremaining: 58.4s\n",
      "32:\tlearn: 0.4904135\ttotal: 1.97s\tremaining: 57.8s\n",
      "33:\tlearn: 0.4900714\ttotal: 2.01s\tremaining: 57.2s\n",
      "34:\tlearn: 0.4897263\ttotal: 2.05s\tremaining: 56.6s\n",
      "35:\tlearn: 0.4894527\ttotal: 2.1s\tremaining: 56.1s\n",
      "36:\tlearn: 0.4892422\ttotal: 2.14s\tremaining: 55.6s\n",
      "37:\tlearn: 0.4889348\ttotal: 2.18s\tremaining: 55.1s\n",
      "38:\tlearn: 0.4887203\ttotal: 2.22s\tremaining: 54.8s\n",
      "39:\tlearn: 0.4885474\ttotal: 2.3s\tremaining: 55.3s\n",
      "40:\tlearn: 0.4883951\ttotal: 2.39s\tremaining: 56s\n",
      "41:\tlearn: 0.4881915\ttotal: 2.46s\tremaining: 56.1s\n",
      "42:\tlearn: 0.4880441\ttotal: 2.51s\tremaining: 55.9s\n",
      "43:\tlearn: 0.4877945\ttotal: 2.56s\tremaining: 55.6s\n",
      "44:\tlearn: 0.4876403\ttotal: 2.61s\tremaining: 55.3s\n",
      "45:\tlearn: 0.4874476\ttotal: 2.67s\tremaining: 55.3s\n",
      "46:\tlearn: 0.4872206\ttotal: 2.79s\tremaining: 56.6s\n",
      "47:\tlearn: 0.4870846\ttotal: 2.89s\tremaining: 57.3s\n",
      "48:\tlearn: 0.4869124\ttotal: 2.96s\tremaining: 57.5s\n",
      "49:\tlearn: 0.4867406\ttotal: 3.01s\tremaining: 57.3s\n",
      "50:\tlearn: 0.4866497\ttotal: 3.07s\tremaining: 57.1s\n",
      "51:\tlearn: 0.4865047\ttotal: 3.11s\tremaining: 56.7s\n",
      "52:\tlearn: 0.4863962\ttotal: 3.15s\tremaining: 56.3s\n",
      "53:\tlearn: 0.4862573\ttotal: 3.21s\tremaining: 56.2s\n",
      "54:\tlearn: 0.4861288\ttotal: 3.26s\tremaining: 56s\n",
      "55:\tlearn: 0.4859827\ttotal: 3.3s\tremaining: 55.7s\n",
      "56:\tlearn: 0.4858413\ttotal: 3.35s\tremaining: 55.4s\n",
      "57:\tlearn: 0.4856923\ttotal: 3.41s\tremaining: 55.4s\n",
      "58:\tlearn: 0.4855596\ttotal: 3.45s\tremaining: 55.1s\n",
      "59:\tlearn: 0.4854788\ttotal: 3.5s\tremaining: 54.8s\n",
      "60:\tlearn: 0.4853854\ttotal: 3.56s\tremaining: 54.9s\n",
      "61:\tlearn: 0.4852774\ttotal: 3.6s\tremaining: 54.5s\n",
      "62:\tlearn: 0.4851506\ttotal: 3.65s\tremaining: 54.3s\n",
      "63:\tlearn: 0.4850179\ttotal: 3.69s\tremaining: 54s\n",
      "64:\tlearn: 0.4849315\ttotal: 3.73s\tremaining: 53.6s\n",
      "65:\tlearn: 0.4848289\ttotal: 3.76s\tremaining: 53.2s\n",
      "66:\tlearn: 0.4847341\ttotal: 3.81s\tremaining: 53.1s\n",
      "67:\tlearn: 0.4846084\ttotal: 3.86s\tremaining: 52.9s\n",
      "68:\tlearn: 0.4845011\ttotal: 3.92s\tremaining: 52.8s\n",
      "69:\tlearn: 0.4843860\ttotal: 4s\tremaining: 53.1s\n",
      "70:\tlearn: 0.4842661\ttotal: 4.07s\tremaining: 53.2s\n",
      "71:\tlearn: 0.4841934\ttotal: 4.12s\tremaining: 53.2s\n",
      "72:\tlearn: 0.4840477\ttotal: 4.19s\tremaining: 53.2s\n",
      "73:\tlearn: 0.4839061\ttotal: 4.25s\tremaining: 53.2s\n",
      "74:\tlearn: 0.4838070\ttotal: 4.3s\tremaining: 53s\n",
      "75:\tlearn: 0.4837038\ttotal: 4.34s\tremaining: 52.7s\n",
      "76:\tlearn: 0.4835982\ttotal: 4.38s\tremaining: 52.5s\n",
      "77:\tlearn: 0.4835114\ttotal: 4.42s\tremaining: 52.3s\n",
      "78:\tlearn: 0.4833917\ttotal: 4.46s\tremaining: 52s\n",
      "79:\tlearn: 0.4833016\ttotal: 4.5s\tremaining: 51.7s\n",
      "80:\tlearn: 0.4832143\ttotal: 4.53s\tremaining: 51.4s\n",
      "81:\tlearn: 0.4831136\ttotal: 4.56s\tremaining: 51.1s\n",
      "82:\tlearn: 0.4830560\ttotal: 4.6s\tremaining: 50.8s\n",
      "83:\tlearn: 0.4829044\ttotal: 4.64s\tremaining: 50.6s\n",
      "84:\tlearn: 0.4827972\ttotal: 4.67s\tremaining: 50.3s\n",
      "85:\tlearn: 0.4827313\ttotal: 4.71s\tremaining: 50.1s\n",
      "86:\tlearn: 0.4826352\ttotal: 4.76s\tremaining: 50s\n",
      "87:\tlearn: 0.4825609\ttotal: 4.82s\tremaining: 49.9s\n",
      "88:\tlearn: 0.4824568\ttotal: 4.85s\tremaining: 49.7s\n",
      "89:\tlearn: 0.4823148\ttotal: 4.9s\tremaining: 49.5s\n",
      "90:\tlearn: 0.4822075\ttotal: 4.95s\tremaining: 49.5s\n",
      "91:\tlearn: 0.4821535\ttotal: 4.99s\tremaining: 49.2s\n",
      "92:\tlearn: 0.4820822\ttotal: 5.04s\tremaining: 49.1s\n",
      "93:\tlearn: 0.4819704\ttotal: 5.1s\tremaining: 49.2s\n",
      "94:\tlearn: 0.4818695\ttotal: 5.14s\tremaining: 48.9s\n",
      "95:\tlearn: 0.4818105\ttotal: 5.17s\tremaining: 48.7s\n",
      "96:\tlearn: 0.4817475\ttotal: 5.21s\tremaining: 48.5s\n",
      "97:\tlearn: 0.4816863\ttotal: 5.24s\tremaining: 48.2s\n",
      "98:\tlearn: 0.4816297\ttotal: 5.27s\tremaining: 48s\n",
      "99:\tlearn: 0.4815209\ttotal: 5.31s\tremaining: 47.8s\n",
      "100:\tlearn: 0.4814223\ttotal: 5.35s\tremaining: 47.6s\n",
      "101:\tlearn: 0.4813634\ttotal: 5.38s\tremaining: 47.4s\n",
      "102:\tlearn: 0.4812806\ttotal: 5.41s\tremaining: 47.2s\n",
      "103:\tlearn: 0.4812083\ttotal: 5.46s\tremaining: 47.1s\n",
      "104:\tlearn: 0.4811361\ttotal: 5.51s\tremaining: 47s\n",
      "105:\tlearn: 0.4810196\ttotal: 5.56s\tremaining: 46.9s\n",
      "106:\tlearn: 0.4809442\ttotal: 5.61s\tremaining: 46.8s\n",
      "107:\tlearn: 0.4808718\ttotal: 5.65s\tremaining: 46.6s\n",
      "108:\tlearn: 0.4807854\ttotal: 5.68s\tremaining: 46.4s\n",
      "109:\tlearn: 0.4806948\ttotal: 5.72s\tremaining: 46.3s\n",
      "110:\tlearn: 0.4806306\ttotal: 5.75s\tremaining: 46.1s\n",
      "111:\tlearn: 0.4805540\ttotal: 5.79s\tremaining: 45.9s\n",
      "112:\tlearn: 0.4804595\ttotal: 5.82s\tremaining: 45.7s\n",
      "113:\tlearn: 0.4803615\ttotal: 5.87s\tremaining: 45.6s\n",
      "114:\tlearn: 0.4802877\ttotal: 5.91s\tremaining: 45.5s\n",
      "115:\tlearn: 0.4802331\ttotal: 5.95s\tremaining: 45.3s\n",
      "116:\tlearn: 0.4801813\ttotal: 5.99s\tremaining: 45.2s\n",
      "117:\tlearn: 0.4800957\ttotal: 6.04s\tremaining: 45.1s\n",
      "118:\tlearn: 0.4800376\ttotal: 6.08s\tremaining: 45s\n",
      "119:\tlearn: 0.4800119\ttotal: 6.11s\tremaining: 44.8s\n",
      "120:\tlearn: 0.4799205\ttotal: 6.16s\tremaining: 44.7s\n",
      "121:\tlearn: 0.4798310\ttotal: 6.19s\tremaining: 44.6s\n",
      "122:\tlearn: 0.4797902\ttotal: 6.24s\tremaining: 44.5s\n",
      "123:\tlearn: 0.4797288\ttotal: 6.3s\tremaining: 44.5s\n",
      "124:\tlearn: 0.4796431\ttotal: 6.35s\tremaining: 44.4s\n",
      "125:\tlearn: 0.4795939\ttotal: 6.4s\tremaining: 44.4s\n",
      "126:\tlearn: 0.4794884\ttotal: 6.45s\tremaining: 44.3s\n",
      "127:\tlearn: 0.4793956\ttotal: 6.51s\tremaining: 44.3s\n",
      "128:\tlearn: 0.4793762\ttotal: 6.54s\tremaining: 44.2s\n",
      "129:\tlearn: 0.4792955\ttotal: 6.61s\tremaining: 44.2s\n",
      "130:\tlearn: 0.4792047\ttotal: 6.67s\tremaining: 44.3s\n",
      "131:\tlearn: 0.4791304\ttotal: 6.72s\tremaining: 44.2s\n",
      "132:\tlearn: 0.4790162\ttotal: 6.77s\tremaining: 44.1s\n",
      "133:\tlearn: 0.4789572\ttotal: 6.81s\tremaining: 44s\n",
      "134:\tlearn: 0.4789290\ttotal: 6.86s\tremaining: 44s\n",
      "135:\tlearn: 0.4788453\ttotal: 6.91s\tremaining: 43.9s\n",
      "136:\tlearn: 0.4787493\ttotal: 6.95s\tremaining: 43.8s\n",
      "137:\tlearn: 0.4787027\ttotal: 7s\tremaining: 43.7s\n",
      "138:\tlearn: 0.4786429\ttotal: 7.03s\tremaining: 43.6s\n",
      "139:\tlearn: 0.4785463\ttotal: 7.07s\tremaining: 43.4s\n",
      "140:\tlearn: 0.4785065\ttotal: 7.11s\tremaining: 43.3s\n",
      "141:\tlearn: 0.4784444\ttotal: 7.17s\tremaining: 43.3s\n",
      "142:\tlearn: 0.4783994\ttotal: 7.21s\tremaining: 43.2s\n",
      "143:\tlearn: 0.4783167\ttotal: 7.25s\tremaining: 43.1s\n",
      "144:\tlearn: 0.4782153\ttotal: 7.29s\tremaining: 43s\n",
      "145:\tlearn: 0.4781671\ttotal: 7.32s\tremaining: 42.8s\n",
      "146:\tlearn: 0.4780905\ttotal: 7.36s\tremaining: 42.7s\n",
      "147:\tlearn: 0.4780136\ttotal: 7.41s\tremaining: 42.7s\n",
      "148:\tlearn: 0.4779606\ttotal: 7.46s\tremaining: 42.6s\n",
      "149:\tlearn: 0.4779273\ttotal: 7.5s\tremaining: 42.5s\n",
      "150:\tlearn: 0.4778571\ttotal: 7.55s\tremaining: 42.5s\n",
      "151:\tlearn: 0.4777972\ttotal: 7.61s\tremaining: 42.5s\n",
      "152:\tlearn: 0.4777277\ttotal: 7.66s\tremaining: 42.4s\n",
      "153:\tlearn: 0.4776069\ttotal: 7.71s\tremaining: 42.3s\n",
      "154:\tlearn: 0.4775276\ttotal: 7.74s\tremaining: 42.2s\n",
      "155:\tlearn: 0.4774583\ttotal: 7.78s\tremaining: 42.1s\n",
      "156:\tlearn: 0.4773741\ttotal: 7.82s\tremaining: 42s\n",
      "157:\tlearn: 0.4773288\ttotal: 7.88s\tremaining: 42s\n",
      "158:\tlearn: 0.4772292\ttotal: 7.92s\tremaining: 41.9s\n",
      "159:\tlearn: 0.4771828\ttotal: 7.95s\tremaining: 41.8s\n",
      "160:\tlearn: 0.4771144\ttotal: 7.99s\tremaining: 41.6s\n"
     ]
    },
    {
     "name": "stdout",
     "output_type": "stream",
     "text": [
      "161:\tlearn: 0.4770537\ttotal: 8.02s\tremaining: 41.5s\n",
      "162:\tlearn: 0.4769833\ttotal: 8.06s\tremaining: 41.4s\n",
      "163:\tlearn: 0.4769159\ttotal: 8.1s\tremaining: 41.3s\n",
      "164:\tlearn: 0.4768493\ttotal: 8.13s\tremaining: 41.1s\n",
      "165:\tlearn: 0.4767954\ttotal: 8.16s\tremaining: 41s\n",
      "166:\tlearn: 0.4767169\ttotal: 8.21s\tremaining: 41s\n",
      "167:\tlearn: 0.4766601\ttotal: 8.25s\tremaining: 40.9s\n",
      "168:\tlearn: 0.4766359\ttotal: 8.28s\tremaining: 40.7s\n",
      "169:\tlearn: 0.4765771\ttotal: 8.32s\tremaining: 40.6s\n",
      "170:\tlearn: 0.4765404\ttotal: 8.38s\tremaining: 40.6s\n",
      "171:\tlearn: 0.4764443\ttotal: 8.46s\tremaining: 40.7s\n",
      "172:\tlearn: 0.4763494\ttotal: 8.52s\tremaining: 40.7s\n",
      "173:\tlearn: 0.4762866\ttotal: 8.6s\tremaining: 40.8s\n",
      "174:\tlearn: 0.4762108\ttotal: 8.67s\tremaining: 40.9s\n",
      "175:\tlearn: 0.4761361\ttotal: 8.74s\tremaining: 40.9s\n",
      "176:\tlearn: 0.4760673\ttotal: 8.79s\tremaining: 40.9s\n",
      "177:\tlearn: 0.4760175\ttotal: 8.83s\tremaining: 40.8s\n",
      "178:\tlearn: 0.4759300\ttotal: 8.87s\tremaining: 40.7s\n",
      "179:\tlearn: 0.4758410\ttotal: 8.93s\tremaining: 40.7s\n",
      "180:\tlearn: 0.4757846\ttotal: 9s\tremaining: 40.7s\n",
      "181:\tlearn: 0.4757258\ttotal: 9.05s\tremaining: 40.7s\n",
      "182:\tlearn: 0.4756627\ttotal: 9.1s\tremaining: 40.6s\n",
      "183:\tlearn: 0.4756061\ttotal: 9.17s\tremaining: 40.7s\n",
      "184:\tlearn: 0.4755530\ttotal: 9.25s\tremaining: 40.7s\n",
      "185:\tlearn: 0.4754548\ttotal: 9.31s\tremaining: 40.7s\n",
      "186:\tlearn: 0.4754236\ttotal: 9.38s\tremaining: 40.8s\n",
      "187:\tlearn: 0.4753708\ttotal: 9.45s\tremaining: 40.8s\n",
      "188:\tlearn: 0.4753076\ttotal: 9.52s\tremaining: 40.8s\n",
      "189:\tlearn: 0.4752641\ttotal: 9.6s\tremaining: 40.9s\n",
      "190:\tlearn: 0.4751723\ttotal: 9.66s\tremaining: 40.9s\n",
      "191:\tlearn: 0.4751171\ttotal: 9.73s\tremaining: 40.9s\n",
      "192:\tlearn: 0.4750468\ttotal: 9.79s\tremaining: 40.9s\n",
      "193:\tlearn: 0.4749828\ttotal: 9.84s\tremaining: 40.9s\n",
      "194:\tlearn: 0.4749174\ttotal: 9.9s\tremaining: 40.9s\n",
      "195:\tlearn: 0.4748680\ttotal: 9.95s\tremaining: 40.8s\n",
      "196:\tlearn: 0.4747965\ttotal: 9.99s\tremaining: 40.7s\n",
      "197:\tlearn: 0.4747549\ttotal: 10s\tremaining: 40.6s\n",
      "198:\tlearn: 0.4746915\ttotal: 10.1s\tremaining: 40.5s\n",
      "199:\tlearn: 0.4746607\ttotal: 10.1s\tremaining: 40.4s\n",
      "200:\tlearn: 0.4746233\ttotal: 10.2s\tremaining: 40.4s\n",
      "201:\tlearn: 0.4745569\ttotal: 10.2s\tremaining: 40.3s\n",
      "202:\tlearn: 0.4744853\ttotal: 10.2s\tremaining: 40.2s\n",
      "203:\tlearn: 0.4744514\ttotal: 10.3s\tremaining: 40.1s\n",
      "204:\tlearn: 0.4744046\ttotal: 10.3s\tremaining: 40s\n",
      "205:\tlearn: 0.4743241\ttotal: 10.4s\tremaining: 40s\n",
      "206:\tlearn: 0.4742904\ttotal: 10.4s\tremaining: 39.9s\n",
      "207:\tlearn: 0.4741940\ttotal: 10.5s\tremaining: 39.8s\n",
      "208:\tlearn: 0.4741398\ttotal: 10.5s\tremaining: 39.7s\n",
      "209:\tlearn: 0.4740731\ttotal: 10.5s\tremaining: 39.7s\n",
      "210:\tlearn: 0.4740314\ttotal: 10.6s\tremaining: 39.6s\n",
      "211:\tlearn: 0.4739394\ttotal: 10.6s\tremaining: 39.5s\n",
      "212:\tlearn: 0.4738646\ttotal: 10.7s\tremaining: 39.5s\n",
      "213:\tlearn: 0.4737797\ttotal: 10.7s\tremaining: 39.4s\n",
      "214:\tlearn: 0.4737512\ttotal: 10.8s\tremaining: 39.3s\n",
      "215:\tlearn: 0.4737003\ttotal: 10.8s\tremaining: 39.2s\n",
      "216:\tlearn: 0.4736655\ttotal: 10.8s\tremaining: 39.2s\n",
      "217:\tlearn: 0.4735835\ttotal: 10.9s\tremaining: 39.1s\n",
      "218:\tlearn: 0.4735155\ttotal: 10.9s\tremaining: 39s\n",
      "219:\tlearn: 0.4734727\ttotal: 11s\tremaining: 38.9s\n",
      "220:\tlearn: 0.4734335\ttotal: 11s\tremaining: 38.8s\n",
      "221:\tlearn: 0.4733874\ttotal: 11.1s\tremaining: 38.7s\n",
      "222:\tlearn: 0.4733323\ttotal: 11.1s\tremaining: 38.7s\n",
      "223:\tlearn: 0.4732783\ttotal: 11.1s\tremaining: 38.6s\n",
      "224:\tlearn: 0.4732137\ttotal: 11.2s\tremaining: 38.5s\n",
      "225:\tlearn: 0.4731417\ttotal: 11.2s\tremaining: 38.5s\n",
      "226:\tlearn: 0.4730564\ttotal: 11.3s\tremaining: 38.4s\n",
      "227:\tlearn: 0.4729855\ttotal: 11.3s\tremaining: 38.3s\n",
      "228:\tlearn: 0.4729222\ttotal: 11.3s\tremaining: 38.2s\n",
      "229:\tlearn: 0.4728679\ttotal: 11.4s\tremaining: 38.2s\n",
      "230:\tlearn: 0.4728416\ttotal: 11.4s\tremaining: 38.1s\n",
      "231:\tlearn: 0.4727926\ttotal: 11.5s\tremaining: 38s\n",
      "232:\tlearn: 0.4727606\ttotal: 11.5s\tremaining: 38s\n",
      "233:\tlearn: 0.4727512\ttotal: 11.6s\tremaining: 37.9s\n",
      "234:\tlearn: 0.4726830\ttotal: 11.6s\tremaining: 37.9s\n",
      "235:\tlearn: 0.4726602\ttotal: 11.7s\tremaining: 37.8s\n",
      "236:\tlearn: 0.4726132\ttotal: 11.7s\tremaining: 37.8s\n",
      "237:\tlearn: 0.4725318\ttotal: 11.8s\tremaining: 37.7s\n",
      "238:\tlearn: 0.4725244\ttotal: 11.8s\tremaining: 37.6s\n",
      "239:\tlearn: 0.4724959\ttotal: 11.8s\tremaining: 37.5s\n",
      "240:\tlearn: 0.4724391\ttotal: 11.9s\tremaining: 37.4s\n",
      "241:\tlearn: 0.4723621\ttotal: 11.9s\tremaining: 37.4s\n",
      "242:\tlearn: 0.4722738\ttotal: 12s\tremaining: 37.3s\n",
      "243:\tlearn: 0.4722204\ttotal: 12s\tremaining: 37.2s\n",
      "244:\tlearn: 0.4721684\ttotal: 12.1s\tremaining: 37.2s\n",
      "245:\tlearn: 0.4721021\ttotal: 12.1s\tremaining: 37.1s\n",
      "246:\tlearn: 0.4720732\ttotal: 12.1s\tremaining: 37s\n",
      "247:\tlearn: 0.4720122\ttotal: 12.2s\tremaining: 36.9s\n",
      "248:\tlearn: 0.4719727\ttotal: 12.2s\tremaining: 36.9s\n",
      "249:\tlearn: 0.4719330\ttotal: 12.3s\tremaining: 36.8s\n",
      "250:\tlearn: 0.4718880\ttotal: 12.3s\tremaining: 36.7s\n",
      "251:\tlearn: 0.4718340\ttotal: 12.3s\tremaining: 36.6s\n",
      "252:\tlearn: 0.4717530\ttotal: 12.4s\tremaining: 36.6s\n",
      "253:\tlearn: 0.4716955\ttotal: 12.4s\tremaining: 36.6s\n",
      "254:\tlearn: 0.4716697\ttotal: 12.5s\tremaining: 36.5s\n",
      "255:\tlearn: 0.4716193\ttotal: 12.5s\tremaining: 36.5s\n",
      "256:\tlearn: 0.4715551\ttotal: 12.6s\tremaining: 36.4s\n",
      "257:\tlearn: 0.4715267\ttotal: 12.6s\tremaining: 36.3s\n",
      "258:\tlearn: 0.4714650\ttotal: 12.7s\tremaining: 36.2s\n",
      "259:\tlearn: 0.4714224\ttotal: 12.7s\tremaining: 36.2s\n",
      "260:\tlearn: 0.4714017\ttotal: 12.7s\tremaining: 36.1s\n",
      "261:\tlearn: 0.4713699\ttotal: 12.8s\tremaining: 36s\n",
      "262:\tlearn: 0.4713394\ttotal: 12.8s\tremaining: 35.9s\n",
      "263:\tlearn: 0.4712559\ttotal: 12.9s\tremaining: 35.9s\n",
      "264:\tlearn: 0.4712110\ttotal: 12.9s\tremaining: 35.8s\n",
      "265:\tlearn: 0.4711654\ttotal: 12.9s\tremaining: 35.7s\n",
      "266:\tlearn: 0.4711428\ttotal: 13s\tremaining: 35.7s\n",
      "267:\tlearn: 0.4711171\ttotal: 13s\tremaining: 35.6s\n",
      "268:\tlearn: 0.4710467\ttotal: 13.1s\tremaining: 35.5s\n",
      "269:\tlearn: 0.4709867\ttotal: 13.1s\tremaining: 35.4s\n",
      "270:\tlearn: 0.4709373\ttotal: 13.2s\tremaining: 35.4s\n",
      "271:\tlearn: 0.4708966\ttotal: 13.2s\tremaining: 35.3s\n",
      "272:\tlearn: 0.4708466\ttotal: 13.2s\tremaining: 35.2s\n",
      "273:\tlearn: 0.4707657\ttotal: 13.3s\tremaining: 35.2s\n",
      "274:\tlearn: 0.4707271\ttotal: 13.3s\tremaining: 35.1s\n",
      "275:\tlearn: 0.4706885\ttotal: 13.4s\tremaining: 35s\n",
      "276:\tlearn: 0.4706321\ttotal: 13.4s\tremaining: 35s\n",
      "277:\tlearn: 0.4705879\ttotal: 13.4s\tremaining: 34.9s\n",
      "278:\tlearn: 0.4704960\ttotal: 13.5s\tremaining: 34.9s\n",
      "279:\tlearn: 0.4704749\ttotal: 13.5s\tremaining: 34.8s\n",
      "280:\tlearn: 0.4704339\ttotal: 13.6s\tremaining: 34.7s\n",
      "281:\tlearn: 0.4703607\ttotal: 13.6s\tremaining: 34.7s\n",
      "282:\tlearn: 0.4703162\ttotal: 13.7s\tremaining: 34.6s\n",
      "283:\tlearn: 0.4702809\ttotal: 13.7s\tremaining: 34.6s\n",
      "284:\tlearn: 0.4702460\ttotal: 13.8s\tremaining: 34.6s\n",
      "285:\tlearn: 0.4701784\ttotal: 13.8s\tremaining: 34.5s\n",
      "286:\tlearn: 0.4700960\ttotal: 13.9s\tremaining: 34.4s\n",
      "287:\tlearn: 0.4700560\ttotal: 13.9s\tremaining: 34.4s\n",
      "288:\tlearn: 0.4700125\ttotal: 13.9s\tremaining: 34.3s\n",
      "289:\tlearn: 0.4699728\ttotal: 14s\tremaining: 34.2s\n",
      "290:\tlearn: 0.4699231\ttotal: 14s\tremaining: 34.2s\n",
      "291:\tlearn: 0.4698840\ttotal: 14.1s\tremaining: 34.1s\n",
      "292:\tlearn: 0.4698344\ttotal: 14.1s\tremaining: 34.1s\n",
      "293:\tlearn: 0.4697803\ttotal: 14.2s\tremaining: 34s\n",
      "294:\tlearn: 0.4697315\ttotal: 14.2s\tremaining: 33.9s\n",
      "295:\tlearn: 0.4696746\ttotal: 14.2s\tremaining: 33.8s\n",
      "296:\tlearn: 0.4696368\ttotal: 14.3s\tremaining: 33.8s\n",
      "297:\tlearn: 0.4695926\ttotal: 14.3s\tremaining: 33.7s\n",
      "298:\tlearn: 0.4695253\ttotal: 14.4s\tremaining: 33.7s\n",
      "299:\tlearn: 0.4694808\ttotal: 14.4s\tremaining: 33.7s\n",
      "300:\tlearn: 0.4694286\ttotal: 14.5s\tremaining: 33.6s\n",
      "301:\tlearn: 0.4693938\ttotal: 14.5s\tremaining: 33.6s\n",
      "302:\tlearn: 0.4693544\ttotal: 14.6s\tremaining: 33.6s\n",
      "303:\tlearn: 0.4693119\ttotal: 14.6s\tremaining: 33.5s\n",
      "304:\tlearn: 0.4692740\ttotal: 14.7s\tremaining: 33.4s\n",
      "305:\tlearn: 0.4692274\ttotal: 14.7s\tremaining: 33.4s\n",
      "306:\tlearn: 0.4692144\ttotal: 14.8s\tremaining: 33.3s\n",
      "307:\tlearn: 0.4691836\ttotal: 14.8s\tremaining: 33.3s\n",
      "308:\tlearn: 0.4691743\ttotal: 14.8s\tremaining: 33.2s\n",
      "309:\tlearn: 0.4690880\ttotal: 14.9s\tremaining: 33.1s\n",
      "310:\tlearn: 0.4690588\ttotal: 14.9s\tremaining: 33.1s\n",
      "311:\tlearn: 0.4689959\ttotal: 15s\tremaining: 33s\n",
      "312:\tlearn: 0.4689243\ttotal: 15s\tremaining: 32.9s\n",
      "313:\tlearn: 0.4688938\ttotal: 15s\tremaining: 32.9s\n",
      "314:\tlearn: 0.4688507\ttotal: 15.1s\tremaining: 32.8s\n",
      "315:\tlearn: 0.4688113\ttotal: 15.1s\tremaining: 32.7s\n",
      "316:\tlearn: 0.4687595\ttotal: 15.2s\tremaining: 32.7s\n",
      "317:\tlearn: 0.4687227\ttotal: 15.2s\tremaining: 32.6s\n",
      "318:\tlearn: 0.4687072\ttotal: 15.2s\tremaining: 32.6s\n",
      "319:\tlearn: 0.4686733\ttotal: 15.3s\tremaining: 32.5s\n"
     ]
    },
    {
     "name": "stdout",
     "output_type": "stream",
     "text": [
      "320:\tlearn: 0.4686459\ttotal: 15.3s\tremaining: 32.4s\n",
      "321:\tlearn: 0.4686100\ttotal: 15.4s\tremaining: 32.4s\n",
      "322:\tlearn: 0.4685912\ttotal: 15.4s\tremaining: 32.3s\n",
      "323:\tlearn: 0.4685357\ttotal: 15.5s\tremaining: 32.3s\n",
      "324:\tlearn: 0.4684726\ttotal: 15.5s\tremaining: 32.3s\n",
      "325:\tlearn: 0.4684443\ttotal: 15.6s\tremaining: 32.2s\n",
      "326:\tlearn: 0.4684053\ttotal: 15.6s\tremaining: 32.2s\n",
      "327:\tlearn: 0.4683636\ttotal: 15.7s\tremaining: 32.1s\n",
      "328:\tlearn: 0.4683313\ttotal: 15.7s\tremaining: 32.1s\n",
      "329:\tlearn: 0.4682710\ttotal: 15.8s\tremaining: 32s\n",
      "330:\tlearn: 0.4682155\ttotal: 15.8s\tremaining: 31.9s\n",
      "331:\tlearn: 0.4681807\ttotal: 15.8s\tremaining: 31.9s\n",
      "332:\tlearn: 0.4681549\ttotal: 15.9s\tremaining: 31.8s\n",
      "333:\tlearn: 0.4681266\ttotal: 15.9s\tremaining: 31.8s\n",
      "334:\tlearn: 0.4680756\ttotal: 16s\tremaining: 31.8s\n",
      "335:\tlearn: 0.4680472\ttotal: 16.1s\tremaining: 31.8s\n",
      "336:\tlearn: 0.4680072\ttotal: 16.1s\tremaining: 31.7s\n",
      "337:\tlearn: 0.4680029\ttotal: 16.2s\tremaining: 31.7s\n",
      "338:\tlearn: 0.4678952\ttotal: 16.2s\tremaining: 31.6s\n",
      "339:\tlearn: 0.4678597\ttotal: 16.3s\tremaining: 31.6s\n",
      "340:\tlearn: 0.4678349\ttotal: 16.3s\tremaining: 31.5s\n",
      "341:\tlearn: 0.4677705\ttotal: 16.3s\tremaining: 31.4s\n",
      "342:\tlearn: 0.4677583\ttotal: 16.4s\tremaining: 31.4s\n",
      "343:\tlearn: 0.4677502\ttotal: 16.5s\tremaining: 31.4s\n",
      "344:\tlearn: 0.4677292\ttotal: 16.5s\tremaining: 31.4s\n",
      "345:\tlearn: 0.4676857\ttotal: 16.6s\tremaining: 31.3s\n",
      "346:\tlearn: 0.4676098\ttotal: 16.7s\tremaining: 31.3s\n",
      "347:\tlearn: 0.4675722\ttotal: 16.7s\tremaining: 31.3s\n",
      "348:\tlearn: 0.4675194\ttotal: 16.8s\tremaining: 31.3s\n",
      "349:\tlearn: 0.4674992\ttotal: 16.9s\tremaining: 31.3s\n",
      "350:\tlearn: 0.4674713\ttotal: 16.9s\tremaining: 31.3s\n",
      "351:\tlearn: 0.4674291\ttotal: 17s\tremaining: 31.3s\n",
      "352:\tlearn: 0.4673941\ttotal: 17.1s\tremaining: 31.3s\n",
      "353:\tlearn: 0.4673286\ttotal: 17.1s\tremaining: 31.3s\n",
      "354:\tlearn: 0.4672808\ttotal: 17.2s\tremaining: 31.2s\n",
      "355:\tlearn: 0.4672195\ttotal: 17.2s\tremaining: 31.2s\n",
      "356:\tlearn: 0.4671592\ttotal: 17.3s\tremaining: 31.1s\n",
      "357:\tlearn: 0.4670791\ttotal: 17.3s\tremaining: 31.1s\n",
      "358:\tlearn: 0.4670346\ttotal: 17.4s\tremaining: 31s\n",
      "359:\tlearn: 0.4669879\ttotal: 17.4s\tremaining: 31s\n",
      "360:\tlearn: 0.4669278\ttotal: 17.5s\tremaining: 30.9s\n",
      "361:\tlearn: 0.4668966\ttotal: 17.5s\tremaining: 30.8s\n",
      "362:\tlearn: 0.4668691\ttotal: 17.5s\tremaining: 30.8s\n",
      "363:\tlearn: 0.4668110\ttotal: 17.6s\tremaining: 30.7s\n",
      "364:\tlearn: 0.4667813\ttotal: 17.6s\tremaining: 30.6s\n",
      "365:\tlearn: 0.4667516\ttotal: 17.7s\tremaining: 30.6s\n",
      "366:\tlearn: 0.4667089\ttotal: 17.7s\tremaining: 30.5s\n",
      "367:\tlearn: 0.4666751\ttotal: 17.8s\tremaining: 30.5s\n",
      "368:\tlearn: 0.4666406\ttotal: 17.8s\tremaining: 30.4s\n",
      "369:\tlearn: 0.4666090\ttotal: 17.8s\tremaining: 30.4s\n",
      "370:\tlearn: 0.4665800\ttotal: 17.9s\tremaining: 30.3s\n",
      "371:\tlearn: 0.4665322\ttotal: 17.9s\tremaining: 30.2s\n",
      "372:\tlearn: 0.4664859\ttotal: 18s\tremaining: 30.2s\n",
      "373:\tlearn: 0.4664138\ttotal: 18s\tremaining: 30.1s\n",
      "374:\tlearn: 0.4663679\ttotal: 18s\tremaining: 30.1s\n",
      "375:\tlearn: 0.4663369\ttotal: 18.1s\tremaining: 30s\n",
      "376:\tlearn: 0.4662915\ttotal: 18.1s\tremaining: 29.9s\n",
      "377:\tlearn: 0.4662639\ttotal: 18.1s\tremaining: 29.9s\n",
      "378:\tlearn: 0.4662238\ttotal: 18.2s\tremaining: 29.8s\n",
      "379:\tlearn: 0.4661993\ttotal: 18.3s\tremaining: 29.8s\n",
      "380:\tlearn: 0.4661751\ttotal: 18.3s\tremaining: 29.7s\n",
      "381:\tlearn: 0.4661457\ttotal: 18.4s\tremaining: 29.7s\n",
      "382:\tlearn: 0.4660856\ttotal: 18.4s\tremaining: 29.7s\n",
      "383:\tlearn: 0.4660591\ttotal: 18.5s\tremaining: 29.6s\n",
      "384:\tlearn: 0.4660370\ttotal: 18.5s\tremaining: 29.5s\n",
      "385:\tlearn: 0.4660096\ttotal: 18.5s\tremaining: 29.5s\n",
      "386:\tlearn: 0.4659614\ttotal: 18.6s\tremaining: 29.4s\n",
      "387:\tlearn: 0.4659008\ttotal: 18.6s\tremaining: 29.4s\n",
      "388:\tlearn: 0.4658381\ttotal: 18.7s\tremaining: 29.3s\n",
      "389:\tlearn: 0.4658122\ttotal: 18.7s\tremaining: 29.2s\n",
      "390:\tlearn: 0.4657681\ttotal: 18.8s\tremaining: 29.2s\n",
      "391:\tlearn: 0.4657026\ttotal: 18.8s\tremaining: 29.2s\n",
      "392:\tlearn: 0.4656656\ttotal: 18.8s\tremaining: 29.1s\n",
      "393:\tlearn: 0.4655918\ttotal: 18.9s\tremaining: 29.1s\n",
      "394:\tlearn: 0.4655610\ttotal: 18.9s\tremaining: 29s\n",
      "395:\tlearn: 0.4655279\ttotal: 19s\tremaining: 28.9s\n",
      "396:\tlearn: 0.4654872\ttotal: 19s\tremaining: 28.9s\n",
      "397:\tlearn: 0.4654786\ttotal: 19.1s\tremaining: 28.8s\n",
      "398:\tlearn: 0.4654188\ttotal: 19.1s\tremaining: 28.8s\n",
      "399:\tlearn: 0.4653946\ttotal: 19.1s\tremaining: 28.7s\n",
      "400:\tlearn: 0.4653472\ttotal: 19.2s\tremaining: 28.7s\n",
      "401:\tlearn: 0.4653215\ttotal: 19.2s\tremaining: 28.6s\n",
      "402:\tlearn: 0.4652901\ttotal: 19.3s\tremaining: 28.5s\n",
      "403:\tlearn: 0.4652482\ttotal: 19.3s\tremaining: 28.5s\n",
      "404:\tlearn: 0.4652003\ttotal: 19.3s\tremaining: 28.4s\n",
      "405:\tlearn: 0.4651737\ttotal: 19.4s\tremaining: 28.4s\n",
      "406:\tlearn: 0.4651575\ttotal: 19.4s\tremaining: 28.3s\n",
      "407:\tlearn: 0.4650727\ttotal: 19.5s\tremaining: 28.2s\n",
      "408:\tlearn: 0.4650411\ttotal: 19.5s\tremaining: 28.2s\n",
      "409:\tlearn: 0.4649948\ttotal: 19.5s\tremaining: 28.1s\n",
      "410:\tlearn: 0.4649468\ttotal: 19.6s\tremaining: 28.1s\n",
      "411:\tlearn: 0.4648828\ttotal: 19.6s\tremaining: 28s\n",
      "412:\tlearn: 0.4648568\ttotal: 19.7s\tremaining: 28s\n",
      "413:\tlearn: 0.4648172\ttotal: 19.7s\tremaining: 27.9s\n",
      "414:\tlearn: 0.4647962\ttotal: 19.7s\tremaining: 27.8s\n",
      "415:\tlearn: 0.4647601\ttotal: 19.8s\tremaining: 27.8s\n",
      "416:\tlearn: 0.4647412\ttotal: 19.8s\tremaining: 27.7s\n",
      "417:\tlearn: 0.4646925\ttotal: 19.9s\tremaining: 27.7s\n",
      "418:\tlearn: 0.4646350\ttotal: 19.9s\tremaining: 27.6s\n",
      "419:\tlearn: 0.4645668\ttotal: 20s\tremaining: 27.6s\n",
      "420:\tlearn: 0.4645243\ttotal: 20s\tremaining: 27.5s\n",
      "421:\tlearn: 0.4645003\ttotal: 20.1s\tremaining: 27.5s\n",
      "422:\tlearn: 0.4644512\ttotal: 20.1s\tremaining: 27.4s\n",
      "423:\tlearn: 0.4643891\ttotal: 20.1s\tremaining: 27.4s\n",
      "424:\tlearn: 0.4643735\ttotal: 20.2s\tremaining: 27.3s\n",
      "425:\tlearn: 0.4643420\ttotal: 20.2s\tremaining: 27.2s\n",
      "426:\tlearn: 0.4643246\ttotal: 20.3s\tremaining: 27.2s\n",
      "427:\tlearn: 0.4642787\ttotal: 20.3s\tremaining: 27.1s\n",
      "428:\tlearn: 0.4642677\ttotal: 20.3s\tremaining: 27.1s\n",
      "429:\tlearn: 0.4642181\ttotal: 20.4s\tremaining: 27s\n",
      "430:\tlearn: 0.4641845\ttotal: 20.4s\tremaining: 27s\n",
      "431:\tlearn: 0.4641298\ttotal: 20.5s\tremaining: 26.9s\n",
      "432:\tlearn: 0.4640958\ttotal: 20.5s\tremaining: 26.9s\n",
      "433:\tlearn: 0.4640620\ttotal: 20.6s\tremaining: 26.8s\n",
      "434:\tlearn: 0.4640270\ttotal: 20.6s\tremaining: 26.8s\n",
      "435:\tlearn: 0.4639807\ttotal: 20.7s\tremaining: 26.7s\n",
      "436:\tlearn: 0.4639516\ttotal: 20.7s\tremaining: 26.7s\n",
      "437:\tlearn: 0.4639064\ttotal: 20.8s\tremaining: 26.6s\n",
      "438:\tlearn: 0.4638795\ttotal: 20.8s\tremaining: 26.6s\n",
      "439:\tlearn: 0.4638613\ttotal: 20.9s\tremaining: 26.5s\n",
      "440:\tlearn: 0.4638260\ttotal: 20.9s\tremaining: 26.5s\n",
      "441:\tlearn: 0.4638129\ttotal: 20.9s\tremaining: 26.4s\n",
      "442:\tlearn: 0.4637796\ttotal: 21s\tremaining: 26.4s\n",
      "443:\tlearn: 0.4637275\ttotal: 21s\tremaining: 26.3s\n",
      "444:\tlearn: 0.4636885\ttotal: 21.1s\tremaining: 26.3s\n",
      "445:\tlearn: 0.4636541\ttotal: 21.1s\tremaining: 26.2s\n",
      "446:\tlearn: 0.4635990\ttotal: 21.2s\tremaining: 26.2s\n",
      "447:\tlearn: 0.4635892\ttotal: 21.2s\tremaining: 26.1s\n",
      "448:\tlearn: 0.4635471\ttotal: 21.3s\tremaining: 26.1s\n",
      "449:\tlearn: 0.4635094\ttotal: 21.3s\tremaining: 26s\n",
      "450:\tlearn: 0.4634924\ttotal: 21.3s\tremaining: 26s\n",
      "451:\tlearn: 0.4634664\ttotal: 21.4s\tremaining: 25.9s\n",
      "452:\tlearn: 0.4634319\ttotal: 21.4s\tremaining: 25.9s\n",
      "453:\tlearn: 0.4633924\ttotal: 21.5s\tremaining: 25.8s\n",
      "454:\tlearn: 0.4633729\ttotal: 21.5s\tremaining: 25.8s\n",
      "455:\tlearn: 0.4633557\ttotal: 21.5s\tremaining: 25.7s\n",
      "456:\tlearn: 0.4633066\ttotal: 21.6s\tremaining: 25.6s\n",
      "457:\tlearn: 0.4632833\ttotal: 21.6s\tremaining: 25.6s\n",
      "458:\tlearn: 0.4632698\ttotal: 21.7s\tremaining: 25.5s\n",
      "459:\tlearn: 0.4632238\ttotal: 21.7s\tremaining: 25.5s\n",
      "460:\tlearn: 0.4632020\ttotal: 21.7s\tremaining: 25.4s\n",
      "461:\tlearn: 0.4631749\ttotal: 21.8s\tremaining: 25.4s\n",
      "462:\tlearn: 0.4631019\ttotal: 21.8s\tremaining: 25.3s\n",
      "463:\tlearn: 0.4630721\ttotal: 21.9s\tremaining: 25.3s\n",
      "464:\tlearn: 0.4630618\ttotal: 21.9s\tremaining: 25.3s\n",
      "465:\tlearn: 0.4630238\ttotal: 22s\tremaining: 25.2s\n",
      "466:\tlearn: 0.4629901\ttotal: 22s\tremaining: 25.1s\n",
      "467:\tlearn: 0.4629807\ttotal: 22.1s\tremaining: 25.1s\n",
      "468:\tlearn: 0.4629489\ttotal: 22.1s\tremaining: 25.1s\n",
      "469:\tlearn: 0.4629067\ttotal: 22.2s\tremaining: 25s\n",
      "470:\tlearn: 0.4628740\ttotal: 22.2s\tremaining: 24.9s\n",
      "471:\tlearn: 0.4628357\ttotal: 22.3s\tremaining: 24.9s\n",
      "472:\tlearn: 0.4628122\ttotal: 22.3s\tremaining: 24.8s\n",
      "473:\tlearn: 0.4627743\ttotal: 22.3s\tremaining: 24.8s\n",
      "474:\tlearn: 0.4627309\ttotal: 22.4s\tremaining: 24.7s\n",
      "475:\tlearn: 0.4626879\ttotal: 22.4s\tremaining: 24.7s\n",
      "476:\tlearn: 0.4626462\ttotal: 22.5s\tremaining: 24.6s\n",
      "477:\tlearn: 0.4626340\ttotal: 22.5s\tremaining: 24.6s\n",
      "478:\tlearn: 0.4625975\ttotal: 22.6s\tremaining: 24.5s\n"
     ]
    },
    {
     "name": "stdout",
     "output_type": "stream",
     "text": [
      "479:\tlearn: 0.4625669\ttotal: 22.6s\tremaining: 24.5s\n",
      "480:\tlearn: 0.4625293\ttotal: 22.6s\tremaining: 24.4s\n",
      "481:\tlearn: 0.4624825\ttotal: 22.7s\tremaining: 24.4s\n",
      "482:\tlearn: 0.4624462\ttotal: 22.7s\tremaining: 24.3s\n",
      "483:\tlearn: 0.4624345\ttotal: 22.7s\tremaining: 24.2s\n",
      "484:\tlearn: 0.4624098\ttotal: 22.8s\tremaining: 24.2s\n",
      "485:\tlearn: 0.4623734\ttotal: 22.8s\tremaining: 24.1s\n",
      "486:\tlearn: 0.4623266\ttotal: 22.9s\tremaining: 24.1s\n",
      "487:\tlearn: 0.4623143\ttotal: 22.9s\tremaining: 24s\n",
      "488:\tlearn: 0.4622937\ttotal: 23s\tremaining: 24s\n",
      "489:\tlearn: 0.4622586\ttotal: 23s\tremaining: 23.9s\n",
      "490:\tlearn: 0.4622372\ttotal: 23.1s\tremaining: 23.9s\n",
      "491:\tlearn: 0.4622195\ttotal: 23.1s\tremaining: 23.8s\n",
      "492:\tlearn: 0.4621952\ttotal: 23.1s\tremaining: 23.8s\n",
      "493:\tlearn: 0.4621611\ttotal: 23.2s\tremaining: 23.7s\n",
      "494:\tlearn: 0.4621519\ttotal: 23.2s\tremaining: 23.7s\n",
      "495:\tlearn: 0.4621310\ttotal: 23.3s\tremaining: 23.7s\n",
      "496:\tlearn: 0.4621200\ttotal: 23.4s\tremaining: 23.6s\n",
      "497:\tlearn: 0.4621073\ttotal: 23.4s\tremaining: 23.6s\n",
      "498:\tlearn: 0.4620765\ttotal: 23.5s\tremaining: 23.6s\n",
      "499:\tlearn: 0.4620510\ttotal: 23.5s\tremaining: 23.5s\n",
      "500:\tlearn: 0.4620153\ttotal: 23.6s\tremaining: 23.5s\n",
      "501:\tlearn: 0.4620019\ttotal: 23.6s\tremaining: 23.4s\n",
      "502:\tlearn: 0.4619704\ttotal: 23.6s\tremaining: 23.4s\n",
      "503:\tlearn: 0.4619098\ttotal: 23.7s\tremaining: 23.3s\n",
      "504:\tlearn: 0.4618913\ttotal: 23.8s\tremaining: 23.3s\n",
      "505:\tlearn: 0.4618564\ttotal: 23.8s\tremaining: 23.3s\n",
      "506:\tlearn: 0.4618431\ttotal: 23.9s\tremaining: 23.2s\n",
      "507:\tlearn: 0.4618272\ttotal: 23.9s\tremaining: 23.2s\n",
      "508:\tlearn: 0.4617792\ttotal: 24s\tremaining: 23.2s\n",
      "509:\tlearn: 0.4617616\ttotal: 24.1s\tremaining: 23.1s\n",
      "510:\tlearn: 0.4617303\ttotal: 24.2s\tremaining: 23.1s\n",
      "511:\tlearn: 0.4616911\ttotal: 24.2s\tremaining: 23.1s\n",
      "512:\tlearn: 0.4616411\ttotal: 24.3s\tremaining: 23.1s\n",
      "513:\tlearn: 0.4616059\ttotal: 24.4s\tremaining: 23.1s\n",
      "514:\tlearn: 0.4615794\ttotal: 24.4s\tremaining: 23s\n",
      "515:\tlearn: 0.4615760\ttotal: 24.5s\tremaining: 23s\n",
      "516:\tlearn: 0.4615636\ttotal: 24.6s\tremaining: 22.9s\n",
      "517:\tlearn: 0.4615563\ttotal: 24.6s\tremaining: 22.9s\n",
      "518:\tlearn: 0.4615365\ttotal: 24.6s\tremaining: 22.8s\n",
      "519:\tlearn: 0.4615119\ttotal: 24.7s\tremaining: 22.8s\n",
      "520:\tlearn: 0.4614744\ttotal: 24.7s\tremaining: 22.7s\n",
      "521:\tlearn: 0.4614570\ttotal: 24.7s\tremaining: 22.7s\n",
      "522:\tlearn: 0.4614516\ttotal: 24.8s\tremaining: 22.6s\n",
      "523:\tlearn: 0.4614382\ttotal: 24.8s\tremaining: 22.6s\n",
      "524:\tlearn: 0.4614304\ttotal: 24.9s\tremaining: 22.5s\n",
      "525:\tlearn: 0.4614049\ttotal: 24.9s\tremaining: 22.4s\n",
      "526:\tlearn: 0.4613819\ttotal: 24.9s\tremaining: 22.4s\n",
      "527:\tlearn: 0.4613693\ttotal: 25s\tremaining: 22.3s\n",
      "528:\tlearn: 0.4613525\ttotal: 25.1s\tremaining: 22.3s\n",
      "529:\tlearn: 0.4613056\ttotal: 25.1s\tremaining: 22.3s\n",
      "530:\tlearn: 0.4612666\ttotal: 25.2s\tremaining: 22.2s\n",
      "531:\tlearn: 0.4612369\ttotal: 25.2s\tremaining: 22.2s\n",
      "532:\tlearn: 0.4612271\ttotal: 25.3s\tremaining: 22.1s\n",
      "533:\tlearn: 0.4612027\ttotal: 25.3s\tremaining: 22.1s\n",
      "534:\tlearn: 0.4611925\ttotal: 25.4s\tremaining: 22s\n",
      "535:\tlearn: 0.4611834\ttotal: 25.4s\tremaining: 22s\n",
      "536:\tlearn: 0.4611475\ttotal: 25.4s\tremaining: 21.9s\n",
      "537:\tlearn: 0.4611288\ttotal: 25.5s\tremaining: 21.9s\n",
      "538:\tlearn: 0.4611055\ttotal: 25.5s\tremaining: 21.9s\n",
      "539:\tlearn: 0.4610860\ttotal: 25.6s\tremaining: 21.8s\n",
      "540:\tlearn: 0.4610698\ttotal: 25.6s\tremaining: 21.8s\n",
      "541:\tlearn: 0.4610553\ttotal: 25.7s\tremaining: 21.7s\n",
      "542:\tlearn: 0.4610218\ttotal: 25.7s\tremaining: 21.7s\n",
      "543:\tlearn: 0.4610048\ttotal: 25.8s\tremaining: 21.6s\n",
      "544:\tlearn: 0.4609748\ttotal: 25.8s\tremaining: 21.6s\n",
      "545:\tlearn: 0.4609472\ttotal: 25.9s\tremaining: 21.5s\n",
      "546:\tlearn: 0.4609050\ttotal: 25.9s\tremaining: 21.5s\n",
      "547:\tlearn: 0.4608765\ttotal: 26s\tremaining: 21.4s\n",
      "548:\tlearn: 0.4608701\ttotal: 26s\tremaining: 21.4s\n",
      "549:\tlearn: 0.4608526\ttotal: 26s\tremaining: 21.3s\n",
      "550:\tlearn: 0.4608303\ttotal: 26.1s\tremaining: 21.3s\n",
      "551:\tlearn: 0.4608103\ttotal: 26.1s\tremaining: 21.2s\n",
      "552:\tlearn: 0.4607653\ttotal: 26.2s\tremaining: 21.2s\n",
      "553:\tlearn: 0.4607524\ttotal: 26.3s\tremaining: 21.2s\n",
      "554:\tlearn: 0.4607231\ttotal: 26.4s\tremaining: 21.1s\n",
      "555:\tlearn: 0.4607079\ttotal: 26.4s\tremaining: 21.1s\n",
      "556:\tlearn: 0.4606869\ttotal: 26.5s\tremaining: 21s\n",
      "557:\tlearn: 0.4606715\ttotal: 26.5s\tremaining: 21s\n",
      "558:\tlearn: 0.4606549\ttotal: 26.5s\tremaining: 20.9s\n",
      "559:\tlearn: 0.4606435\ttotal: 26.6s\tremaining: 20.9s\n",
      "560:\tlearn: 0.4606264\ttotal: 26.6s\tremaining: 20.8s\n",
      "561:\tlearn: 0.4605998\ttotal: 26.7s\tremaining: 20.8s\n",
      "562:\tlearn: 0.4605534\ttotal: 26.7s\tremaining: 20.7s\n",
      "563:\tlearn: 0.4604930\ttotal: 26.8s\tremaining: 20.7s\n",
      "564:\tlearn: 0.4604700\ttotal: 26.8s\tremaining: 20.7s\n",
      "565:\tlearn: 0.4604108\ttotal: 26.9s\tremaining: 20.6s\n",
      "566:\tlearn: 0.4604014\ttotal: 26.9s\tremaining: 20.6s\n",
      "567:\tlearn: 0.4603890\ttotal: 27s\tremaining: 20.5s\n",
      "568:\tlearn: 0.4603723\ttotal: 27s\tremaining: 20.5s\n",
      "569:\tlearn: 0.4603402\ttotal: 27.1s\tremaining: 20.4s\n",
      "570:\tlearn: 0.4602999\ttotal: 27.1s\tremaining: 20.4s\n",
      "571:\tlearn: 0.4602736\ttotal: 27.2s\tremaining: 20.3s\n",
      "572:\tlearn: 0.4602415\ttotal: 27.2s\tremaining: 20.3s\n",
      "573:\tlearn: 0.4602224\ttotal: 27.3s\tremaining: 20.2s\n",
      "574:\tlearn: 0.4602009\ttotal: 27.3s\tremaining: 20.2s\n",
      "575:\tlearn: 0.4601697\ttotal: 27.4s\tremaining: 20.1s\n",
      "576:\tlearn: 0.4601432\ttotal: 27.4s\tremaining: 20.1s\n",
      "577:\tlearn: 0.4600985\ttotal: 27.5s\tremaining: 20s\n",
      "578:\tlearn: 0.4600844\ttotal: 27.5s\tremaining: 20s\n",
      "579:\tlearn: 0.4600457\ttotal: 27.5s\tremaining: 19.9s\n",
      "580:\tlearn: 0.4600026\ttotal: 27.6s\tremaining: 19.9s\n",
      "581:\tlearn: 0.4599933\ttotal: 27.7s\tremaining: 19.9s\n",
      "582:\tlearn: 0.4599673\ttotal: 27.7s\tremaining: 19.8s\n",
      "583:\tlearn: 0.4599533\ttotal: 27.8s\tremaining: 19.8s\n",
      "584:\tlearn: 0.4599421\ttotal: 27.9s\tremaining: 19.8s\n",
      "585:\tlearn: 0.4599130\ttotal: 27.9s\tremaining: 19.7s\n",
      "586:\tlearn: 0.4598624\ttotal: 27.9s\tremaining: 19.7s\n",
      "587:\tlearn: 0.4598379\ttotal: 28s\tremaining: 19.6s\n",
      "588:\tlearn: 0.4598114\ttotal: 28.1s\tremaining: 19.6s\n",
      "589:\tlearn: 0.4597865\ttotal: 28.1s\tremaining: 19.5s\n",
      "590:\tlearn: 0.4597697\ttotal: 28.2s\tremaining: 19.5s\n",
      "591:\tlearn: 0.4597620\ttotal: 28.3s\tremaining: 19.5s\n",
      "592:\tlearn: 0.4597526\ttotal: 28.3s\tremaining: 19.4s\n",
      "593:\tlearn: 0.4597478\ttotal: 28.4s\tremaining: 19.4s\n",
      "594:\tlearn: 0.4597165\ttotal: 28.5s\tremaining: 19.4s\n",
      "595:\tlearn: 0.4597035\ttotal: 28.5s\tremaining: 19.3s\n",
      "596:\tlearn: 0.4596968\ttotal: 28.6s\tremaining: 19.3s\n",
      "597:\tlearn: 0.4596847\ttotal: 28.7s\tremaining: 19.3s\n",
      "598:\tlearn: 0.4596699\ttotal: 28.7s\tremaining: 19.2s\n",
      "599:\tlearn: 0.4596600\ttotal: 28.8s\tremaining: 19.2s\n",
      "600:\tlearn: 0.4596245\ttotal: 28.8s\tremaining: 19.1s\n",
      "601:\tlearn: 0.4595906\ttotal: 28.9s\tremaining: 19.1s\n",
      "602:\tlearn: 0.4595753\ttotal: 28.9s\tremaining: 19s\n",
      "603:\tlearn: 0.4595477\ttotal: 29s\tremaining: 19s\n",
      "604:\tlearn: 0.4595115\ttotal: 29s\tremaining: 18.9s\n",
      "605:\tlearn: 0.4595004\ttotal: 29s\tremaining: 18.9s\n",
      "606:\tlearn: 0.4594486\ttotal: 29.1s\tremaining: 18.8s\n",
      "607:\tlearn: 0.4594283\ttotal: 29.1s\tremaining: 18.8s\n",
      "608:\tlearn: 0.4594063\ttotal: 29.2s\tremaining: 18.7s\n",
      "609:\tlearn: 0.4593814\ttotal: 29.2s\tremaining: 18.7s\n",
      "610:\tlearn: 0.4593786\ttotal: 29.3s\tremaining: 18.6s\n",
      "611:\tlearn: 0.4593632\ttotal: 29.3s\tremaining: 18.6s\n",
      "612:\tlearn: 0.4593481\ttotal: 29.4s\tremaining: 18.6s\n",
      "613:\tlearn: 0.4593177\ttotal: 29.4s\tremaining: 18.5s\n",
      "614:\tlearn: 0.4592991\ttotal: 29.5s\tremaining: 18.5s\n",
      "615:\tlearn: 0.4592890\ttotal: 29.6s\tremaining: 18.4s\n",
      "616:\tlearn: 0.4592456\ttotal: 29.6s\tremaining: 18.4s\n",
      "617:\tlearn: 0.4592268\ttotal: 29.7s\tremaining: 18.3s\n",
      "618:\tlearn: 0.4592208\ttotal: 29.7s\tremaining: 18.3s\n",
      "619:\tlearn: 0.4592037\ttotal: 29.8s\tremaining: 18.3s\n",
      "620:\tlearn: 0.4591943\ttotal: 29.8s\tremaining: 18.2s\n",
      "621:\tlearn: 0.4591822\ttotal: 29.9s\tremaining: 18.2s\n",
      "622:\tlearn: 0.4591578\ttotal: 30s\tremaining: 18.2s\n",
      "623:\tlearn: 0.4591441\ttotal: 30.1s\tremaining: 18.1s\n",
      "624:\tlearn: 0.4591380\ttotal: 30.2s\tremaining: 18.1s\n",
      "625:\tlearn: 0.4591230\ttotal: 30.2s\tremaining: 18.1s\n",
      "626:\tlearn: 0.4591015\ttotal: 30.3s\tremaining: 18s\n",
      "627:\tlearn: 0.4590957\ttotal: 30.4s\tremaining: 18s\n",
      "628:\tlearn: 0.4590659\ttotal: 30.4s\tremaining: 18s\n",
      "629:\tlearn: 0.4590352\ttotal: 30.5s\tremaining: 17.9s\n",
      "630:\tlearn: 0.4590205\ttotal: 30.6s\tremaining: 17.9s\n",
      "631:\tlearn: 0.4589958\ttotal: 30.7s\tremaining: 17.9s\n",
      "632:\tlearn: 0.4589807\ttotal: 30.7s\tremaining: 17.8s\n",
      "633:\tlearn: 0.4589562\ttotal: 30.8s\tremaining: 17.8s\n",
      "634:\tlearn: 0.4589325\ttotal: 30.9s\tremaining: 17.7s\n",
      "635:\tlearn: 0.4588945\ttotal: 30.9s\tremaining: 17.7s\n",
      "636:\tlearn: 0.4588721\ttotal: 31s\tremaining: 17.7s\n",
      "637:\tlearn: 0.4588577\ttotal: 31.1s\tremaining: 17.6s\n"
     ]
    },
    {
     "name": "stdout",
     "output_type": "stream",
     "text": [
      "638:\tlearn: 0.4588349\ttotal: 31.2s\tremaining: 17.6s\n",
      "639:\tlearn: 0.4588188\ttotal: 31.2s\tremaining: 17.6s\n",
      "640:\tlearn: 0.4587997\ttotal: 31.3s\tremaining: 17.5s\n",
      "641:\tlearn: 0.4587901\ttotal: 31.4s\tremaining: 17.5s\n",
      "642:\tlearn: 0.4587686\ttotal: 31.5s\tremaining: 17.5s\n",
      "643:\tlearn: 0.4587556\ttotal: 31.5s\tremaining: 17.4s\n",
      "644:\tlearn: 0.4587328\ttotal: 31.6s\tremaining: 17.4s\n",
      "645:\tlearn: 0.4587225\ttotal: 31.6s\tremaining: 17.3s\n",
      "646:\tlearn: 0.4587089\ttotal: 31.7s\tremaining: 17.3s\n",
      "647:\tlearn: 0.4586982\ttotal: 31.7s\tremaining: 17.2s\n",
      "648:\tlearn: 0.4586872\ttotal: 31.8s\tremaining: 17.2s\n",
      "649:\tlearn: 0.4586798\ttotal: 31.8s\tremaining: 17.1s\n",
      "650:\tlearn: 0.4586303\ttotal: 31.9s\tremaining: 17.1s\n",
      "651:\tlearn: 0.4585739\ttotal: 31.9s\tremaining: 17s\n",
      "652:\tlearn: 0.4585573\ttotal: 32s\tremaining: 17s\n",
      "653:\tlearn: 0.4585426\ttotal: 32.1s\tremaining: 17s\n",
      "654:\tlearn: 0.4585186\ttotal: 32.1s\tremaining: 16.9s\n",
      "655:\tlearn: 0.4585082\ttotal: 32.2s\tremaining: 16.9s\n",
      "656:\tlearn: 0.4584751\ttotal: 32.2s\tremaining: 16.8s\n",
      "657:\tlearn: 0.4584591\ttotal: 32.3s\tremaining: 16.8s\n",
      "658:\tlearn: 0.4584277\ttotal: 32.3s\tremaining: 16.7s\n",
      "659:\tlearn: 0.4583881\ttotal: 32.4s\tremaining: 16.7s\n",
      "660:\tlearn: 0.4583843\ttotal: 32.4s\tremaining: 16.6s\n",
      "661:\tlearn: 0.4583721\ttotal: 32.5s\tremaining: 16.6s\n",
      "662:\tlearn: 0.4583403\ttotal: 32.6s\tremaining: 16.6s\n",
      "663:\tlearn: 0.4583150\ttotal: 32.6s\tremaining: 16.5s\n",
      "664:\tlearn: 0.4582879\ttotal: 32.7s\tremaining: 16.5s\n",
      "665:\tlearn: 0.4582748\ttotal: 32.7s\tremaining: 16.4s\n",
      "666:\tlearn: 0.4582664\ttotal: 32.8s\tremaining: 16.4s\n",
      "667:\tlearn: 0.4582444\ttotal: 32.9s\tremaining: 16.3s\n",
      "668:\tlearn: 0.4582265\ttotal: 32.9s\tremaining: 16.3s\n",
      "669:\tlearn: 0.4582069\ttotal: 33s\tremaining: 16.2s\n",
      "670:\tlearn: 0.4581876\ttotal: 33s\tremaining: 16.2s\n",
      "671:\tlearn: 0.4581837\ttotal: 33.1s\tremaining: 16.1s\n",
      "672:\tlearn: 0.4581695\ttotal: 33.1s\tremaining: 16.1s\n",
      "673:\tlearn: 0.4581422\ttotal: 33.2s\tremaining: 16.1s\n",
      "674:\tlearn: 0.4581157\ttotal: 33.3s\tremaining: 16s\n",
      "675:\tlearn: 0.4581055\ttotal: 33.3s\tremaining: 16s\n",
      "676:\tlearn: 0.4580641\ttotal: 33.4s\tremaining: 15.9s\n",
      "677:\tlearn: 0.4580438\ttotal: 33.4s\tremaining: 15.9s\n",
      "678:\tlearn: 0.4580353\ttotal: 33.5s\tremaining: 15.8s\n",
      "679:\tlearn: 0.4580163\ttotal: 33.5s\tremaining: 15.8s\n",
      "680:\tlearn: 0.4579992\ttotal: 33.6s\tremaining: 15.7s\n",
      "681:\tlearn: 0.4579887\ttotal: 33.6s\tremaining: 15.7s\n",
      "682:\tlearn: 0.4579550\ttotal: 33.7s\tremaining: 15.6s\n",
      "683:\tlearn: 0.4579359\ttotal: 33.8s\tremaining: 15.6s\n",
      "684:\tlearn: 0.4579192\ttotal: 33.8s\tremaining: 15.5s\n",
      "685:\tlearn: 0.4578883\ttotal: 33.9s\tremaining: 15.5s\n",
      "686:\tlearn: 0.4578706\ttotal: 33.9s\tremaining: 15.5s\n",
      "687:\tlearn: 0.4578508\ttotal: 34s\tremaining: 15.4s\n",
      "688:\tlearn: 0.4578423\ttotal: 34s\tremaining: 15.4s\n",
      "689:\tlearn: 0.4578257\ttotal: 34.1s\tremaining: 15.3s\n",
      "690:\tlearn: 0.4577929\ttotal: 34.1s\tremaining: 15.3s\n",
      "691:\tlearn: 0.4577839\ttotal: 34.2s\tremaining: 15.2s\n",
      "692:\tlearn: 0.4577666\ttotal: 34.2s\tremaining: 15.2s\n",
      "693:\tlearn: 0.4577543\ttotal: 34.3s\tremaining: 15.1s\n",
      "694:\tlearn: 0.4577171\ttotal: 34.3s\tremaining: 15.1s\n",
      "695:\tlearn: 0.4576893\ttotal: 34.4s\tremaining: 15s\n",
      "696:\tlearn: 0.4576668\ttotal: 34.4s\tremaining: 15s\n",
      "697:\tlearn: 0.4576537\ttotal: 34.5s\tremaining: 14.9s\n",
      "698:\tlearn: 0.4576370\ttotal: 34.6s\tremaining: 14.9s\n",
      "699:\tlearn: 0.4576314\ttotal: 34.6s\tremaining: 14.8s\n",
      "700:\tlearn: 0.4576170\ttotal: 34.7s\tremaining: 14.8s\n",
      "701:\tlearn: 0.4575929\ttotal: 34.8s\tremaining: 14.8s\n",
      "702:\tlearn: 0.4575858\ttotal: 34.8s\tremaining: 14.7s\n",
      "703:\tlearn: 0.4575647\ttotal: 34.9s\tremaining: 14.7s\n",
      "704:\tlearn: 0.4575586\ttotal: 34.9s\tremaining: 14.6s\n",
      "705:\tlearn: 0.4575291\ttotal: 35s\tremaining: 14.6s\n",
      "706:\tlearn: 0.4574506\ttotal: 35s\tremaining: 14.5s\n",
      "707:\tlearn: 0.4574389\ttotal: 35.1s\tremaining: 14.5s\n",
      "708:\tlearn: 0.4574195\ttotal: 35.1s\tremaining: 14.4s\n",
      "709:\tlearn: 0.4574023\ttotal: 35.2s\tremaining: 14.4s\n",
      "710:\tlearn: 0.4573631\ttotal: 35.2s\tremaining: 14.3s\n",
      "711:\tlearn: 0.4573489\ttotal: 35.3s\tremaining: 14.3s\n",
      "712:\tlearn: 0.4573152\ttotal: 35.4s\tremaining: 14.2s\n",
      "713:\tlearn: 0.4573044\ttotal: 35.4s\tremaining: 14.2s\n",
      "714:\tlearn: 0.4572840\ttotal: 35.5s\tremaining: 14.1s\n",
      "715:\tlearn: 0.4572625\ttotal: 35.5s\tremaining: 14.1s\n",
      "716:\tlearn: 0.4572371\ttotal: 35.6s\tremaining: 14s\n",
      "717:\tlearn: 0.4572151\ttotal: 35.6s\tremaining: 14s\n",
      "718:\tlearn: 0.4571624\ttotal: 35.7s\tremaining: 14s\n",
      "719:\tlearn: 0.4571575\ttotal: 35.8s\tremaining: 13.9s\n",
      "720:\tlearn: 0.4571111\ttotal: 35.8s\tremaining: 13.9s\n",
      "721:\tlearn: 0.4570844\ttotal: 35.9s\tremaining: 13.8s\n",
      "722:\tlearn: 0.4570622\ttotal: 35.9s\tremaining: 13.8s\n",
      "723:\tlearn: 0.4570231\ttotal: 36s\tremaining: 13.7s\n",
      "724:\tlearn: 0.4570101\ttotal: 36s\tremaining: 13.7s\n",
      "725:\tlearn: 0.4569781\ttotal: 36.1s\tremaining: 13.6s\n",
      "726:\tlearn: 0.4569668\ttotal: 36.1s\tremaining: 13.6s\n",
      "727:\tlearn: 0.4569638\ttotal: 36.2s\tremaining: 13.5s\n",
      "728:\tlearn: 0.4569331\ttotal: 36.2s\tremaining: 13.5s\n",
      "729:\tlearn: 0.4569117\ttotal: 36.3s\tremaining: 13.4s\n",
      "730:\tlearn: 0.4568675\ttotal: 36.3s\tremaining: 13.4s\n",
      "731:\tlearn: 0.4568568\ttotal: 36.4s\tremaining: 13.3s\n",
      "732:\tlearn: 0.4568232\ttotal: 36.5s\tremaining: 13.3s\n",
      "733:\tlearn: 0.4568156\ttotal: 36.5s\tremaining: 13.2s\n",
      "734:\tlearn: 0.4567858\ttotal: 36.6s\tremaining: 13.2s\n",
      "735:\tlearn: 0.4567687\ttotal: 36.6s\tremaining: 13.1s\n",
      "736:\tlearn: 0.4567364\ttotal: 36.7s\tremaining: 13.1s\n",
      "737:\tlearn: 0.4567288\ttotal: 36.7s\tremaining: 13s\n",
      "738:\tlearn: 0.4567155\ttotal: 36.8s\tremaining: 13s\n",
      "739:\tlearn: 0.4566753\ttotal: 36.9s\tremaining: 13s\n",
      "740:\tlearn: 0.4566409\ttotal: 37s\tremaining: 12.9s\n",
      "741:\tlearn: 0.4566250\ttotal: 37.1s\tremaining: 12.9s\n",
      "742:\tlearn: 0.4566041\ttotal: 37.1s\tremaining: 12.8s\n",
      "743:\tlearn: 0.4565877\ttotal: 37.2s\tremaining: 12.8s\n",
      "744:\tlearn: 0.4565533\ttotal: 37.3s\tremaining: 12.8s\n",
      "745:\tlearn: 0.4565360\ttotal: 37.3s\tremaining: 12.7s\n",
      "746:\tlearn: 0.4565103\ttotal: 37.4s\tremaining: 12.7s\n",
      "747:\tlearn: 0.4564968\ttotal: 37.5s\tremaining: 12.6s\n",
      "748:\tlearn: 0.4564823\ttotal: 37.5s\tremaining: 12.6s\n",
      "749:\tlearn: 0.4564343\ttotal: 37.6s\tremaining: 12.5s\n",
      "750:\tlearn: 0.4564271\ttotal: 37.7s\tremaining: 12.5s\n",
      "751:\tlearn: 0.4564160\ttotal: 37.7s\tremaining: 12.4s\n",
      "752:\tlearn: 0.4563950\ttotal: 37.8s\tremaining: 12.4s\n",
      "753:\tlearn: 0.4563766\ttotal: 37.8s\tremaining: 12.3s\n",
      "754:\tlearn: 0.4563668\ttotal: 37.9s\tremaining: 12.3s\n",
      "755:\tlearn: 0.4563510\ttotal: 38s\tremaining: 12.3s\n",
      "756:\tlearn: 0.4563381\ttotal: 38s\tremaining: 12.2s\n",
      "757:\tlearn: 0.4563111\ttotal: 38.1s\tremaining: 12.2s\n",
      "758:\tlearn: 0.4562998\ttotal: 38.1s\tremaining: 12.1s\n",
      "759:\tlearn: 0.4562809\ttotal: 38.2s\tremaining: 12.1s\n",
      "760:\tlearn: 0.4562689\ttotal: 38.3s\tremaining: 12s\n",
      "761:\tlearn: 0.4562611\ttotal: 38.3s\tremaining: 12s\n",
      "762:\tlearn: 0.4562324\ttotal: 38.4s\tremaining: 11.9s\n",
      "763:\tlearn: 0.4562213\ttotal: 38.4s\tremaining: 11.9s\n",
      "764:\tlearn: 0.4561908\ttotal: 38.5s\tremaining: 11.8s\n",
      "765:\tlearn: 0.4561888\ttotal: 38.5s\tremaining: 11.8s\n",
      "766:\tlearn: 0.4561854\ttotal: 38.6s\tremaining: 11.7s\n",
      "767:\tlearn: 0.4561737\ttotal: 38.6s\tremaining: 11.7s\n",
      "768:\tlearn: 0.4561611\ttotal: 38.7s\tremaining: 11.6s\n",
      "769:\tlearn: 0.4561504\ttotal: 38.8s\tremaining: 11.6s\n",
      "770:\tlearn: 0.4561321\ttotal: 38.8s\tremaining: 11.5s\n",
      "771:\tlearn: 0.4561088\ttotal: 38.9s\tremaining: 11.5s\n",
      "772:\tlearn: 0.4560955\ttotal: 38.9s\tremaining: 11.4s\n",
      "773:\tlearn: 0.4560864\ttotal: 39s\tremaining: 11.4s\n",
      "774:\tlearn: 0.4560733\ttotal: 39s\tremaining: 11.3s\n",
      "775:\tlearn: 0.4560354\ttotal: 39.1s\tremaining: 11.3s\n",
      "776:\tlearn: 0.4560228\ttotal: 39.1s\tremaining: 11.2s\n",
      "777:\tlearn: 0.4559977\ttotal: 39.2s\tremaining: 11.2s\n",
      "778:\tlearn: 0.4559831\ttotal: 39.2s\tremaining: 11.1s\n",
      "779:\tlearn: 0.4559574\ttotal: 39.3s\tremaining: 11.1s\n",
      "780:\tlearn: 0.4559411\ttotal: 39.3s\tremaining: 11s\n",
      "781:\tlearn: 0.4559252\ttotal: 39.3s\tremaining: 11s\n",
      "782:\tlearn: 0.4559151\ttotal: 39.4s\tremaining: 10.9s\n",
      "783:\tlearn: 0.4559060\ttotal: 39.4s\tremaining: 10.9s\n",
      "784:\tlearn: 0.4558807\ttotal: 39.5s\tremaining: 10.8s\n",
      "785:\tlearn: 0.4558756\ttotal: 39.5s\tremaining: 10.8s\n",
      "786:\tlearn: 0.4558583\ttotal: 39.6s\tremaining: 10.7s\n",
      "787:\tlearn: 0.4558221\ttotal: 39.6s\tremaining: 10.7s\n",
      "788:\tlearn: 0.4558139\ttotal: 39.6s\tremaining: 10.6s\n",
      "789:\tlearn: 0.4557874\ttotal: 39.7s\tremaining: 10.5s\n",
      "790:\tlearn: 0.4557782\ttotal: 39.7s\tremaining: 10.5s\n",
      "791:\tlearn: 0.4557649\ttotal: 39.8s\tremaining: 10.4s\n",
      "792:\tlearn: 0.4557575\ttotal: 39.8s\tremaining: 10.4s\n",
      "793:\tlearn: 0.4557281\ttotal: 39.9s\tremaining: 10.3s\n",
      "794:\tlearn: 0.4557155\ttotal: 39.9s\tremaining: 10.3s\n",
      "795:\tlearn: 0.4556951\ttotal: 40s\tremaining: 10.2s\n",
      "796:\tlearn: 0.4556798\ttotal: 40s\tremaining: 10.2s\n"
     ]
    },
    {
     "name": "stdout",
     "output_type": "stream",
     "text": [
      "797:\tlearn: 0.4556637\ttotal: 40s\tremaining: 10.1s\n",
      "798:\tlearn: 0.4556344\ttotal: 40.1s\tremaining: 10.1s\n",
      "799:\tlearn: 0.4556295\ttotal: 40.1s\tremaining: 10s\n",
      "800:\tlearn: 0.4556068\ttotal: 40.2s\tremaining: 9.98s\n",
      "801:\tlearn: 0.4555973\ttotal: 40.2s\tremaining: 9.93s\n",
      "802:\tlearn: 0.4555870\ttotal: 40.2s\tremaining: 9.87s\n",
      "803:\tlearn: 0.4555583\ttotal: 40.3s\tremaining: 9.82s\n",
      "804:\tlearn: 0.4555263\ttotal: 40.3s\tremaining: 9.77s\n",
      "805:\tlearn: 0.4555134\ttotal: 40.4s\tremaining: 9.72s\n",
      "806:\tlearn: 0.4554807\ttotal: 40.4s\tremaining: 9.67s\n",
      "807:\tlearn: 0.4554720\ttotal: 40.5s\tremaining: 9.62s\n",
      "808:\tlearn: 0.4554296\ttotal: 40.5s\tremaining: 9.57s\n",
      "809:\tlearn: 0.4554147\ttotal: 40.6s\tremaining: 9.52s\n",
      "810:\tlearn: 0.4553677\ttotal: 40.6s\tremaining: 9.47s\n",
      "811:\tlearn: 0.4553568\ttotal: 40.7s\tremaining: 9.42s\n",
      "812:\tlearn: 0.4553217\ttotal: 40.7s\tremaining: 9.37s\n",
      "813:\tlearn: 0.4553155\ttotal: 40.8s\tremaining: 9.32s\n",
      "814:\tlearn: 0.4552833\ttotal: 40.8s\tremaining: 9.27s\n",
      "815:\tlearn: 0.4552671\ttotal: 40.9s\tremaining: 9.22s\n",
      "816:\tlearn: 0.4552640\ttotal: 40.9s\tremaining: 9.17s\n",
      "817:\tlearn: 0.4552594\ttotal: 41s\tremaining: 9.12s\n",
      "818:\tlearn: 0.4552425\ttotal: 41s\tremaining: 9.07s\n",
      "819:\tlearn: 0.4552319\ttotal: 41.1s\tremaining: 9.02s\n",
      "820:\tlearn: 0.4552262\ttotal: 41.1s\tremaining: 8.96s\n",
      "821:\tlearn: 0.4552083\ttotal: 41.2s\tremaining: 8.91s\n",
      "822:\tlearn: 0.4551906\ttotal: 41.2s\tremaining: 8.86s\n",
      "823:\tlearn: 0.4551861\ttotal: 41.2s\tremaining: 8.81s\n",
      "824:\tlearn: 0.4551813\ttotal: 41.3s\tremaining: 8.76s\n",
      "825:\tlearn: 0.4551629\ttotal: 41.4s\tremaining: 8.71s\n",
      "826:\tlearn: 0.4551538\ttotal: 41.4s\tremaining: 8.66s\n",
      "827:\tlearn: 0.4551398\ttotal: 41.4s\tremaining: 8.61s\n",
      "828:\tlearn: 0.4551315\ttotal: 41.5s\tremaining: 8.56s\n",
      "829:\tlearn: 0.4551116\ttotal: 41.5s\tremaining: 8.51s\n",
      "830:\tlearn: 0.4550947\ttotal: 41.6s\tremaining: 8.46s\n",
      "831:\tlearn: 0.4550881\ttotal: 41.6s\tremaining: 8.4s\n",
      "832:\tlearn: 0.4550768\ttotal: 41.7s\tremaining: 8.35s\n",
      "833:\tlearn: 0.4550649\ttotal: 41.7s\tremaining: 8.3s\n",
      "834:\tlearn: 0.4550586\ttotal: 41.7s\tremaining: 8.25s\n",
      "835:\tlearn: 0.4550372\ttotal: 41.8s\tremaining: 8.2s\n",
      "836:\tlearn: 0.4550140\ttotal: 41.8s\tremaining: 8.15s\n",
      "837:\tlearn: 0.4550054\ttotal: 41.9s\tremaining: 8.09s\n",
      "838:\tlearn: 0.4549949\ttotal: 41.9s\tremaining: 8.04s\n",
      "839:\tlearn: 0.4549680\ttotal: 42s\tremaining: 7.99s\n",
      "840:\tlearn: 0.4549331\ttotal: 42s\tremaining: 7.94s\n",
      "841:\tlearn: 0.4549027\ttotal: 42.1s\tremaining: 7.89s\n",
      "842:\tlearn: 0.4548876\ttotal: 42.1s\tremaining: 7.84s\n",
      "843:\tlearn: 0.4548710\ttotal: 42.1s\tremaining: 7.79s\n",
      "844:\tlearn: 0.4548358\ttotal: 42.2s\tremaining: 7.74s\n",
      "845:\tlearn: 0.4548222\ttotal: 42.2s\tremaining: 7.69s\n",
      "846:\tlearn: 0.4547937\ttotal: 42.3s\tremaining: 7.63s\n",
      "847:\tlearn: 0.4547865\ttotal: 42.3s\tremaining: 7.58s\n",
      "848:\tlearn: 0.4547769\ttotal: 42.3s\tremaining: 7.53s\n",
      "849:\tlearn: 0.4547422\ttotal: 42.4s\tremaining: 7.48s\n",
      "850:\tlearn: 0.4547227\ttotal: 42.4s\tremaining: 7.43s\n",
      "851:\tlearn: 0.4546986\ttotal: 42.5s\tremaining: 7.38s\n",
      "852:\tlearn: 0.4546864\ttotal: 42.5s\tremaining: 7.33s\n",
      "853:\tlearn: 0.4546742\ttotal: 42.6s\tremaining: 7.27s\n",
      "854:\tlearn: 0.4546612\ttotal: 42.6s\tremaining: 7.22s\n",
      "855:\tlearn: 0.4546526\ttotal: 42.6s\tremaining: 7.17s\n",
      "856:\tlearn: 0.4546284\ttotal: 42.7s\tremaining: 7.12s\n",
      "857:\tlearn: 0.4546070\ttotal: 42.7s\tremaining: 7.07s\n",
      "858:\tlearn: 0.4545946\ttotal: 42.8s\tremaining: 7.02s\n",
      "859:\tlearn: 0.4545777\ttotal: 42.8s\tremaining: 6.97s\n",
      "860:\tlearn: 0.4545437\ttotal: 42.8s\tremaining: 6.92s\n",
      "861:\tlearn: 0.4545396\ttotal: 42.9s\tremaining: 6.87s\n",
      "862:\tlearn: 0.4545273\ttotal: 42.9s\tremaining: 6.81s\n",
      "863:\tlearn: 0.4545182\ttotal: 43s\tremaining: 6.76s\n",
      "864:\tlearn: 0.4545091\ttotal: 43s\tremaining: 6.71s\n",
      "865:\tlearn: 0.4544752\ttotal: 43.1s\tremaining: 6.67s\n",
      "866:\tlearn: 0.4544633\ttotal: 43.1s\tremaining: 6.62s\n",
      "867:\tlearn: 0.4544583\ttotal: 43.2s\tremaining: 6.57s\n",
      "868:\tlearn: 0.4544545\ttotal: 43.2s\tremaining: 6.51s\n",
      "869:\tlearn: 0.4544269\ttotal: 43.3s\tremaining: 6.46s\n",
      "870:\tlearn: 0.4544092\ttotal: 43.3s\tremaining: 6.41s\n",
      "871:\tlearn: 0.4543878\ttotal: 43.3s\tremaining: 6.36s\n",
      "872:\tlearn: 0.4543774\ttotal: 43.4s\tremaining: 6.31s\n",
      "873:\tlearn: 0.4543708\ttotal: 43.4s\tremaining: 6.26s\n",
      "874:\tlearn: 0.4543565\ttotal: 43.5s\tremaining: 6.21s\n",
      "875:\tlearn: 0.4543296\ttotal: 43.5s\tremaining: 6.16s\n",
      "876:\tlearn: 0.4543182\ttotal: 43.6s\tremaining: 6.11s\n",
      "877:\tlearn: 0.4543018\ttotal: 43.6s\tremaining: 6.06s\n",
      "878:\tlearn: 0.4542939\ttotal: 43.7s\tremaining: 6.01s\n",
      "879:\tlearn: 0.4542900\ttotal: 43.7s\tremaining: 5.96s\n",
      "880:\tlearn: 0.4542834\ttotal: 43.7s\tremaining: 5.91s\n",
      "881:\tlearn: 0.4542687\ttotal: 43.8s\tremaining: 5.86s\n",
      "882:\tlearn: 0.4542337\ttotal: 43.8s\tremaining: 5.81s\n",
      "883:\tlearn: 0.4541820\ttotal: 43.9s\tremaining: 5.76s\n",
      "884:\tlearn: 0.4541764\ttotal: 43.9s\tremaining: 5.71s\n",
      "885:\tlearn: 0.4541513\ttotal: 44s\tremaining: 5.66s\n",
      "886:\tlearn: 0.4541397\ttotal: 44s\tremaining: 5.61s\n",
      "887:\tlearn: 0.4541256\ttotal: 44.1s\tremaining: 5.56s\n",
      "888:\tlearn: 0.4540943\ttotal: 44.1s\tremaining: 5.51s\n",
      "889:\tlearn: 0.4540876\ttotal: 44.2s\tremaining: 5.46s\n",
      "890:\tlearn: 0.4540738\ttotal: 44.2s\tremaining: 5.41s\n",
      "891:\tlearn: 0.4540449\ttotal: 44.2s\tremaining: 5.36s\n",
      "892:\tlearn: 0.4540375\ttotal: 44.3s\tremaining: 5.31s\n",
      "893:\tlearn: 0.4540259\ttotal: 44.3s\tremaining: 5.25s\n",
      "894:\tlearn: 0.4540162\ttotal: 44.4s\tremaining: 5.2s\n",
      "895:\tlearn: 0.4540056\ttotal: 44.4s\tremaining: 5.15s\n",
      "896:\tlearn: 0.4539990\ttotal: 44.4s\tremaining: 5.1s\n",
      "897:\tlearn: 0.4539864\ttotal: 44.5s\tremaining: 5.05s\n",
      "898:\tlearn: 0.4539697\ttotal: 44.5s\tremaining: 5s\n",
      "899:\tlearn: 0.4539628\ttotal: 44.6s\tremaining: 4.95s\n",
      "900:\tlearn: 0.4539373\ttotal: 44.6s\tremaining: 4.9s\n",
      "901:\tlearn: 0.4539179\ttotal: 44.6s\tremaining: 4.85s\n",
      "902:\tlearn: 0.4539121\ttotal: 44.7s\tremaining: 4.8s\n",
      "903:\tlearn: 0.4538991\ttotal: 44.7s\tremaining: 4.75s\n",
      "904:\tlearn: 0.4538774\ttotal: 44.8s\tremaining: 4.7s\n",
      "905:\tlearn: 0.4538732\ttotal: 44.8s\tremaining: 4.65s\n",
      "906:\tlearn: 0.4538645\ttotal: 44.9s\tremaining: 4.6s\n",
      "907:\tlearn: 0.4538477\ttotal: 44.9s\tremaining: 4.55s\n",
      "908:\tlearn: 0.4538297\ttotal: 44.9s\tremaining: 4.5s\n",
      "909:\tlearn: 0.4538121\ttotal: 45s\tremaining: 4.45s\n",
      "910:\tlearn: 0.4538039\ttotal: 45s\tremaining: 4.4s\n",
      "911:\tlearn: 0.4537663\ttotal: 45.1s\tremaining: 4.35s\n",
      "912:\tlearn: 0.4537496\ttotal: 45.1s\tremaining: 4.3s\n",
      "913:\tlearn: 0.4537359\ttotal: 45.2s\tremaining: 4.25s\n",
      "914:\tlearn: 0.4537193\ttotal: 45.2s\tremaining: 4.2s\n",
      "915:\tlearn: 0.4537019\ttotal: 45.2s\tremaining: 4.15s\n",
      "916:\tlearn: 0.4536824\ttotal: 45.3s\tremaining: 4.1s\n",
      "917:\tlearn: 0.4536502\ttotal: 45.3s\tremaining: 4.05s\n",
      "918:\tlearn: 0.4536302\ttotal: 45.4s\tremaining: 4s\n",
      "919:\tlearn: 0.4536254\ttotal: 45.4s\tremaining: 3.95s\n",
      "920:\tlearn: 0.4536060\ttotal: 45.4s\tremaining: 3.9s\n",
      "921:\tlearn: 0.4535843\ttotal: 45.5s\tremaining: 3.85s\n",
      "922:\tlearn: 0.4535834\ttotal: 45.5s\tremaining: 3.8s\n",
      "923:\tlearn: 0.4535738\ttotal: 45.6s\tremaining: 3.75s\n",
      "924:\tlearn: 0.4535720\ttotal: 45.6s\tremaining: 3.7s\n",
      "925:\tlearn: 0.4535495\ttotal: 45.7s\tremaining: 3.65s\n",
      "926:\tlearn: 0.4535343\ttotal: 45.7s\tremaining: 3.6s\n",
      "927:\tlearn: 0.4535172\ttotal: 45.7s\tremaining: 3.55s\n",
      "928:\tlearn: 0.4534919\ttotal: 45.8s\tremaining: 3.5s\n",
      "929:\tlearn: 0.4534849\ttotal: 45.8s\tremaining: 3.45s\n",
      "930:\tlearn: 0.4534524\ttotal: 45.9s\tremaining: 3.4s\n",
      "931:\tlearn: 0.4534501\ttotal: 45.9s\tremaining: 3.35s\n",
      "932:\tlearn: 0.4534380\ttotal: 45.9s\tremaining: 3.3s\n",
      "933:\tlearn: 0.4534282\ttotal: 46s\tremaining: 3.25s\n",
      "934:\tlearn: 0.4533994\ttotal: 46s\tremaining: 3.2s\n",
      "935:\tlearn: 0.4533769\ttotal: 46.1s\tremaining: 3.15s\n",
      "936:\tlearn: 0.4533696\ttotal: 46.1s\tremaining: 3.1s\n",
      "937:\tlearn: 0.4533479\ttotal: 46.2s\tremaining: 3.05s\n",
      "938:\tlearn: 0.4533291\ttotal: 46.3s\tremaining: 3s\n",
      "939:\tlearn: 0.4533194\ttotal: 46.3s\tremaining: 2.96s\n",
      "940:\tlearn: 0.4533180\ttotal: 46.4s\tremaining: 2.91s\n",
      "941:\tlearn: 0.4533030\ttotal: 46.4s\tremaining: 2.86s\n",
      "942:\tlearn: 0.4532801\ttotal: 46.5s\tremaining: 2.81s\n",
      "943:\tlearn: 0.4532734\ttotal: 46.5s\tremaining: 2.76s\n",
      "944:\tlearn: 0.4532397\ttotal: 46.5s\tremaining: 2.71s\n",
      "945:\tlearn: 0.4532245\ttotal: 46.6s\tremaining: 2.66s\n",
      "946:\tlearn: 0.4532206\ttotal: 46.6s\tremaining: 2.61s\n",
      "947:\tlearn: 0.4532106\ttotal: 46.7s\tremaining: 2.56s\n",
      "948:\tlearn: 0.4531949\ttotal: 46.7s\tremaining: 2.51s\n",
      "949:\tlearn: 0.4531747\ttotal: 46.8s\tremaining: 2.46s\n",
      "950:\tlearn: 0.4531649\ttotal: 46.8s\tremaining: 2.41s\n",
      "951:\tlearn: 0.4531237\ttotal: 46.8s\tremaining: 2.36s\n",
      "952:\tlearn: 0.4531153\ttotal: 46.9s\tremaining: 2.31s\n",
      "953:\tlearn: 0.4530949\ttotal: 46.9s\tremaining: 2.26s\n",
      "954:\tlearn: 0.4530650\ttotal: 47s\tremaining: 2.21s\n",
      "955:\tlearn: 0.4530524\ttotal: 47s\tremaining: 2.16s\n"
     ]
    },
    {
     "name": "stdout",
     "output_type": "stream",
     "text": [
      "956:\tlearn: 0.4530386\ttotal: 47s\tremaining: 2.11s\n",
      "957:\tlearn: 0.4530246\ttotal: 47.1s\tremaining: 2.06s\n",
      "958:\tlearn: 0.4530160\ttotal: 47.1s\tremaining: 2.01s\n",
      "959:\tlearn: 0.4530004\ttotal: 47.2s\tremaining: 1.97s\n",
      "960:\tlearn: 0.4529758\ttotal: 47.2s\tremaining: 1.92s\n",
      "961:\tlearn: 0.4529669\ttotal: 47.3s\tremaining: 1.87s\n",
      "962:\tlearn: 0.4529505\ttotal: 47.3s\tremaining: 1.82s\n",
      "963:\tlearn: 0.4529238\ttotal: 47.4s\tremaining: 1.77s\n",
      "964:\tlearn: 0.4528951\ttotal: 47.4s\tremaining: 1.72s\n",
      "965:\tlearn: 0.4528840\ttotal: 47.4s\tremaining: 1.67s\n",
      "966:\tlearn: 0.4528735\ttotal: 47.5s\tremaining: 1.62s\n",
      "967:\tlearn: 0.4528707\ttotal: 47.5s\tremaining: 1.57s\n",
      "968:\tlearn: 0.4528614\ttotal: 47.6s\tremaining: 1.52s\n",
      "969:\tlearn: 0.4528585\ttotal: 47.6s\tremaining: 1.47s\n",
      "970:\tlearn: 0.4528401\ttotal: 47.6s\tremaining: 1.42s\n",
      "971:\tlearn: 0.4528012\ttotal: 47.7s\tremaining: 1.37s\n",
      "972:\tlearn: 0.4527911\ttotal: 47.7s\tremaining: 1.32s\n",
      "973:\tlearn: 0.4527851\ttotal: 47.8s\tremaining: 1.27s\n",
      "974:\tlearn: 0.4527754\ttotal: 47.8s\tremaining: 1.23s\n",
      "975:\tlearn: 0.4527661\ttotal: 47.9s\tremaining: 1.18s\n",
      "976:\tlearn: 0.4527624\ttotal: 47.9s\tremaining: 1.13s\n",
      "977:\tlearn: 0.4527537\ttotal: 48s\tremaining: 1.08s\n",
      "978:\tlearn: 0.4527291\ttotal: 48s\tremaining: 1.03s\n",
      "979:\tlearn: 0.4527090\ttotal: 48.1s\tremaining: 981ms\n",
      "980:\tlearn: 0.4526877\ttotal: 48.1s\tremaining: 932ms\n",
      "981:\tlearn: 0.4526727\ttotal: 48.2s\tremaining: 883ms\n",
      "982:\tlearn: 0.4526520\ttotal: 48.2s\tremaining: 834ms\n",
      "983:\tlearn: 0.4526457\ttotal: 48.3s\tremaining: 785ms\n",
      "984:\tlearn: 0.4526302\ttotal: 48.3s\tremaining: 736ms\n",
      "985:\tlearn: 0.4526211\ttotal: 48.4s\tremaining: 687ms\n",
      "986:\tlearn: 0.4526095\ttotal: 48.4s\tremaining: 638ms\n",
      "987:\tlearn: 0.4525950\ttotal: 48.5s\tremaining: 589ms\n",
      "988:\tlearn: 0.4525705\ttotal: 48.5s\tremaining: 540ms\n",
      "989:\tlearn: 0.4525635\ttotal: 48.6s\tremaining: 491ms\n",
      "990:\tlearn: 0.4525613\ttotal: 48.6s\tremaining: 442ms\n",
      "991:\tlearn: 0.4525487\ttotal: 48.7s\tremaining: 393ms\n",
      "992:\tlearn: 0.4525373\ttotal: 48.7s\tremaining: 343ms\n",
      "993:\tlearn: 0.4525269\ttotal: 48.8s\tremaining: 294ms\n",
      "994:\tlearn: 0.4525171\ttotal: 48.8s\tremaining: 245ms\n",
      "995:\tlearn: 0.4524975\ttotal: 48.8s\tremaining: 196ms\n",
      "996:\tlearn: 0.4524906\ttotal: 48.9s\tremaining: 147ms\n",
      "997:\tlearn: 0.4524706\ttotal: 48.9s\tremaining: 98ms\n",
      "998:\tlearn: 0.4524562\ttotal: 49s\tremaining: 49ms\n",
      "999:\tlearn: 0.4524537\ttotal: 49s\tremaining: 0us\n"
     ]
    },
    {
     "data": {
      "text/plain": [
       "<catboost.core.CatBoostClassifier at 0x17942ec7710>"
      ]
     },
     "execution_count": 39,
     "metadata": {},
     "output_type": "execute_result"
    }
   ],
   "source": [
    "import catboost \n",
    "\n",
    "model = catboost.CatBoostClassifier()\n",
    "model.fit(interactions_train_df[interactions_train_df.columns[features_start:]],\n",
    "          np.array(interactions_train_df.eventStrength > 0, dtype=int))"
   ]
  },
  {
   "cell_type": "markdown",
   "metadata": {},
   "source": [
    "Сделаем предсказания на тестовой выборке, сформируем из них рекомендации. "
   ]
  },
  {
   "cell_type": "code",
   "execution_count": 40,
   "metadata": {},
   "outputs": [
    {
     "data": {
      "application/vnd.jupyter.widget-view+json": {
       "model_id": "954d6e6847974caba1b4485e4d354b66",
       "version_major": 2,
       "version_minor": 0
      },
      "text/plain": [
       "HBox(children=(IntProgress(value=0, max=1112), HTML(value='')))"
      ]
     },
     "metadata": {},
     "output_type": "display_data"
    },
    {
     "name": "stdout",
     "output_type": "stream",
     "text": [
      "\n"
     ]
    }
   ],
   "source": [
    "####### Здесь ваш код ##########\n",
    "predictions = model.predict_proba(test[interactions_train_df.columns[features_start:]])[:, 1]\n",
    "test['predictions'] = predictions\n",
    "\n",
    "test = test.sort_values('predictions', ascending=False)\n",
    "predictions = test.groupby('personId')['contentId'].aggregate(list)\n",
    "tmp_predictions = []\n",
    "\n",
    "for personId in tqdm_notebook(interactions.index):\n",
    "    prediction = np.array(predictions.loc[personId])\n",
    "    \n",
    "    tmp_predictions.append(\n",
    "        list(prediction[~np.in1d(\n",
    "            prediction,\n",
    "            interactions.loc[personId, 'true_train'])])[:top_k])\n",
    "    \n",
    "interactions['prediction_content'] = tmp_predictions\n",
    "################################"
   ]
  },
  {
   "cell_type": "markdown",
   "metadata": {},
   "source": [
    "Оценим их качество."
   ]
  },
  {
   "cell_type": "code",
   "execution_count": 41,
   "metadata": {
    "scrolled": true
   },
   "outputs": [
    {
     "data": {
      "text/plain": [
       "0.007991753561699618"
      ]
     },
     "execution_count": 41,
     "metadata": {},
     "output_type": "execute_result"
    }
   ],
   "source": [
    "# calc_precision(...)\n",
    "####### Здесь ваш код ##########\n",
    "calc_precision('prediction_content')\n",
    "################################"
   ]
  },
  {
   "cell_type": "markdown",
   "metadata": {},
   "source": [
    "## Часть 4. Факторизационная машина"
   ]
  },
  {
   "cell_type": "markdown",
   "metadata": {},
   "source": [
    "Вспомним, что факторизационная машина учитывает попарные взаимодействия признаков, что приводит сразу и к использованию контента (сами признаки), и к обучению скрытых представлений (индикаторы пользователей и статей).\n",
    "\n",
    "Попробуем факторизационные машины из библиотеки pyFM (так как можно работать прямо из питона). https://github.com/coreylynch/pyFM"
   ]
  },
  {
   "cell_type": "code",
   "execution_count": 42,
   "metadata": {},
   "outputs": [
    {
     "ename": "ModuleNotFoundError",
     "evalue": "No module named 'pyfm'",
     "output_type": "error",
     "traceback": [
      "\u001b[1;31m---------------------------------------------------------------------------\u001b[0m",
      "\u001b[1;31mModuleNotFoundError\u001b[0m                       Traceback (most recent call last)",
      "\u001b[1;32m<ipython-input-42-f2ee4a0ad016>\u001b[0m in \u001b[0;36m<module>\u001b[1;34m\u001b[0m\n\u001b[1;32m----> 1\u001b[1;33m \u001b[1;32mfrom\u001b[0m \u001b[0mpyfm\u001b[0m \u001b[1;32mimport\u001b[0m \u001b[0mpylibfm\u001b[0m\u001b[1;33m\u001b[0m\u001b[0m\n\u001b[0m\u001b[0;32m      2\u001b[0m \u001b[1;32mfrom\u001b[0m \u001b[0msklearn\u001b[0m\u001b[1;33m.\u001b[0m\u001b[0mfeature_extraction\u001b[0m \u001b[1;32mimport\u001b[0m \u001b[0mDictVectorizer\u001b[0m\u001b[1;33m\u001b[0m\u001b[0m\n",
      "\u001b[1;31mModuleNotFoundError\u001b[0m: No module named 'pyfm'"
     ]
    }
   ],
   "source": [
    "from pyfm import pylibfm\n",
    "from sklearn.feature_extraction import DictVectorizer"
   ]
  },
  {
   "cell_type": "markdown",
   "metadata": {},
   "source": [
    "Перейдём к обобщению матричных разложений — факторизационным машинам, которые работают могут работать с контентной информацией. Вспомним, какие данные у нас изначально были:"
   ]
  },
  {
   "cell_type": "markdown",
   "metadata": {},
   "source": [
    "В факторизационную машину можно загрузить \"айдишники\" пользователей и статей (то есть сделать аналог коллаборативной фильтрации) и одновременно различные признаки.\n",
    "\n",
    "Удобно обрабатывать категориальные переменные (id и другие) можно с помощью DictVectorizer. Например, процесс может выглядить вот так:\n",
    "```python\n",
    "train = [\n",
    "    {\"user\": \"1\", \"item\": \"5\", \"age\": 19},\n",
    "    {\"user\": \"2\", \"item\": \"43\", \"age\": 33},\n",
    "    {\"user\": \"3\", \"item\": \"20\", \"age\": 55},\n",
    "    {\"user\": \"4\", \"item\": \"10\", \"age\": 20},\n",
    "]\n",
    "v = DictVectorizer()\n",
    "X = v.fit_transform(train)\n",
    "y = np.repeat(1.0, X.shape[0])\n",
    "fm = pylibfm.FM()\n",
    "fm.fit(X,y)\n",
    "fm.predict(v.transform({\"user\": \"1\", \"item\": \"10\", \"age\": 24}))\n",
    "```"
   ]
  },
  {
   "cell_type": "markdown",
   "metadata": {},
   "source": [
    "Сгенерируем таблицу с признаками в таком виде, где будут id пользователя, статьи и автора статьи и несколько признаков, которые вы сможете придумать."
   ]
  },
  {
   "cell_type": "code",
   "execution_count": 311,
   "metadata": {},
   "outputs": [],
   "source": [
    "train_data = []\n",
    "\n",
    "for i in tqdm_notebook(range(len(interactions_train_df))):\n",
    "    features = {}\n",
    "    features['personId'] = str(interactions_train_df.iloc[i].personId)\n",
    "    features['contentId'] = str(interactions_train_df.iloc[i].contentId)\n",
    "    ####### Здесь ваш код ##########\n",
    "    try:\n",
    "        article = articles_df.loc[features['contentId']]\n",
    "        features['authorId'] = str(article.authorPersonId)\n",
    "        features['authorCountry'] = str(article.authorCountry)\n",
    "        features['lang'] = str(article.lang)\n",
    "    except:\n",
    "        features['authorId'] = 'unknown'\n",
    "        features['authorCountry'] = 'unknown'\n",
    "        features['lang'] = 'unknown'\n",
    "    ################################\n",
    "    train_data.append(features)"
   ]
  },
  {
   "cell_type": "markdown",
   "metadata": {},
   "source": [
    "Повторим эту процедуру для тестовой выборки. Заметим, что модель оценивает каждую пару потенциального взаимодействия, а значит, надо подготовить выборку из всех возможных пар из пользователей и статей."
   ]
  },
  {
   "cell_type": "code",
   "execution_count": 312,
   "metadata": {},
   "outputs": [],
   "source": [
    "from copy import deepcopy\n",
    "\n",
    "test_data = []\n",
    "\n",
    "for i in tqdm_notebook(range(len(interactions))):\n",
    "    features = {}\n",
    "    features['personId'] = str(interactions.index[i])  \n",
    "    for j in range(len(ratings.columns)):\n",
    "        ####### Здесь ваш код ##########\n",
    "        features['contentId'] = str(ratings.columns[j])\n",
    "        \n",
    "        try:\n",
    "            article = articles_df.loc[features['contentId']]\n",
    "            features['authorId'] = str(article.authorPersonId)\n",
    "            features['authorCountry'] = str(article.authorCountry)\n",
    "            features['lang'] = str(article.lang)\n",
    "        except:\n",
    "            features['authorId'] = 'unknown'\n",
    "            features['authorCountry'] = 'unknown'\n",
    "            features['lang'] = 'unknown'\n",
    "        ################################\n",
    "        test_data.append(deepcopy(features))"
   ]
  },
  {
   "cell_type": "markdown",
   "metadata": {},
   "source": [
    "Векторизуем, получим разреженные матрицы.\n",
    "\n",
    "Мы будем обучать регрессор на силу взаимодействия, а для него нужны отрицательные примеры. Добавим некоторое количество случайных примеров как негативные (матрица взаимодействий разреженная, поэтому шансы взять как негативное взаимодействие некоторое положительное мало)."
   ]
  },
  {
   "cell_type": "code",
   "execution_count": 313,
   "metadata": {},
   "outputs": [],
   "source": [
    "dv = DictVectorizer()\n",
    "\n",
    "train_features = dv.fit_transform(\n",
    "    train_data + list(np.random.permutation(test_data)[:100000]))\n",
    "test_features = dv.transform(test_data)"
   ]
  },
  {
   "cell_type": "code",
   "execution_count": 314,
   "metadata": {},
   "outputs": [],
   "source": [
    "train_features"
   ]
  },
  {
   "cell_type": "code",
   "execution_count": 315,
   "metadata": {},
   "outputs": [],
   "source": [
    "y_train = list(interactions_train_df.eventStrength.values) + list(np.zeros(100000))"
   ]
  },
  {
   "cell_type": "markdown",
   "metadata": {},
   "source": [
    "Укажем размером скрытого представления 10, сделаем 10 итераций."
   ]
  },
  {
   "cell_type": "code",
   "execution_count": 316,
   "metadata": {
    "scrolled": true
   },
   "outputs": [],
   "source": [
    "# fm = pylibfm.FM(...\n",
    "####### Здесь ваш код ##########\n",
    "fm = pylibfm.FM(num_factors=10, num_iter=30, task='regression')\n",
    "################################\n",
    "fm.fit(train_features, y_train)"
   ]
  },
  {
   "cell_type": "markdown",
   "metadata": {},
   "source": [
    "Предскажем и оценим качество."
   ]
  },
  {
   "cell_type": "code",
   "execution_count": 317,
   "metadata": {},
   "outputs": [],
   "source": [
    "####### Здесь ваш код ##########\n",
    "test_features = dv.transform(test_data)\n",
    "\n",
    "y_predict = fm.predict(test_features)\n",
    "\n",
    "new_ratings = y_predict.reshape((1112, 2366))\n",
    "################################"
   ]
  },
  {
   "cell_type": "code",
   "execution_count": 320,
   "metadata": {},
   "outputs": [],
   "source": [
    "predictions = []\n",
    "\n",
    "for i, person in enumerate(interactions.index):\n",
    "    user_prediction = ratings.columns[np.argsort(new_ratings[i])[::-1]]\n",
    "    predictions.append(\n",
    "        user_prediction[~np.in1d(user_prediction,\n",
    "                                 interactions.loc[person, 'true_train'])][:top_k])\n",
    "    \n",
    "interactions['fm_prediction'] = predictions"
   ]
  },
  {
   "cell_type": "code",
   "execution_count": 321,
   "metadata": {},
   "outputs": [],
   "source": [
    "calc_precision('fm_prediction')"
   ]
  },
  {
   "cell_type": "code",
   "execution_count": 323,
   "metadata": {},
   "outputs": [],
   "source": [
    "\n",
    "\n"
   ]
  },
  {
   "cell_type": "code",
   "execution_count": null,
   "metadata": {},
   "outputs": [],
   "source": []
  }
 ],
 "metadata": {
  "kernelspec": {
   "display_name": "Python 3",
   "language": "python",
   "name": "python3"
  },
  "toc": {
   "base_numbering": 1,
   "nav_menu": {},
   "number_sections": true,
   "sideBar": true,
   "skip_h1_title": false,
   "title_cell": "Table of Contents",
   "title_sidebar": "Contents",
   "toc_cell": false,
   "toc_position": {},
   "toc_section_display": true,
   "toc_window_display": true
  },
  "varInspector": {
   "cols": {
    "lenName": 16,
    "lenType": 16,
    "lenVar": 40
   },
   "kernels_config": {
    "python": {
     "delete_cmd_postfix": "",
     "delete_cmd_prefix": "del ",
     "library": "var_list.py",
     "varRefreshCmd": "print(var_dic_list())"
    },
    "r": {
     "delete_cmd_postfix": ") ",
     "delete_cmd_prefix": "rm(",
     "library": "var_list.r",
     "varRefreshCmd": "cat(var_dic_list()) "
    }
   },
   "types_to_exclude": [
    "module",
    "function",
    "builtin_function_or_method",
    "instance",
    "_Feature"
   ],
   "window_display": false
  }
 },
 "nbformat": 4,
 "nbformat_minor": 1
}
