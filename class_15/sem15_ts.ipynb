{
 "cells": [
  {
   "cell_type": "markdown",
   "metadata": {},
   "source": [
    "# Семинар 12. Временные ряды. \n",
    "\n",
    "Основано на материалах Елены Кантонистовой."
   ]
  },
  {
   "cell_type": "markdown",
   "metadata": {},
   "source": [
    "### План\n",
    "#### 1 Прогнозирование временного ряда\n",
    "#### 1.1 Прогнозирование средним (Mean Constant Model)\n",
    "#### 1.2. Линейная модель (Linear Trend Model)\n",
    "#### 1.3. Линейная модель с регрессией (Linear Regression Model)\n",
    "#### 2 Выделение тренда и сезонности\n",
    "#### 3 Стационарность ряда\n",
    "#### 4 ARIMA"
   ]
  },
  {
   "cell_type": "markdown",
   "metadata": {},
   "source": [
    "## Временной ряд"
   ]
  },
  {
   "cell_type": "markdown",
   "metadata": {},
   "source": [
    "Временно́й ряд — собранный в разные моменты времени статистический материал о значении каких-либо параметров исследуемого процесса."
   ]
  },
  {
   "cell_type": "markdown",
   "metadata": {},
   "source": [
    "Скалярным временным рядом \n",
    "$$\\{x_i\\}_{i=1}^N$$\n",
    "называется массив из $N$ чисел, представляющих собой значения некоторой измеренной (наблюдаемой динамической переменной $x(t)$ с некоторым постоянным шагом $τ$ по времени, $$t_i = t_0 + (i − 1)τ : x_i = x(t_i), i = 1, . . . , N.$$  "
   ]
  },
  {
   "cell_type": "markdown",
   "metadata": {},
   "source": [
    "Такой подход используется, когда нет возможности построить уравнения движения.  \n",
    "\n",
    "Примеры: \n",
    "- объёмы продаж в торговых сетях\n",
    "- объёмы потребления и цены электроэнергии\n",
    "- остатки складских запасов\n",
    "- рыночные цены\n",
    "- дорожный трафик (прогнозирование пробок)\n",
    "\n",
    "Основные свойства временных рядах:\n",
    "- тренды\n",
    "- сезонности\n",
    "\n",
    "Какие задачи здесь возникают?"
   ]
  },
  {
   "cell_type": "markdown",
   "metadata": {},
   "source": [
    "Для начала визуализируем наши данные и попробуем сформулировать новые гипотезы о задаче, которую хотим решить.\n",
    "\n",
    "Загрузим данные и посмотрим на структуру данных"
   ]
  },
  {
   "cell_type": "markdown",
   "metadata": {},
   "source": [
    "## Чтение данных"
   ]
  },
  {
   "cell_type": "code",
   "execution_count": 1,
   "metadata": {},
   "outputs": [],
   "source": [
    "import pandas as pd\n",
    "import numpy as np\n",
    "import matplotlib.pyplot as plt\n",
    "\n",
    "import statsmodels.api as sm\n",
    "import statsmodels.formula.api as smf\n",
    "from statsmodels.tsa.stattools import adfuller\n",
    "%matplotlib inline\n",
    "\n",
    "pd.options.display.float_format = '{:.2f}'.format\n",
    "\n",
    "plt.style.use('ggplot')\n",
    "plt.rcParams['figure.figsize'] = (15, 15)\n",
    "\n",
    "# данные по продажам в Индии в различных городах и штатах\n",
    "df = pd.read_csv('MarketArrivals_Ind.csv')"
   ]
  },
  {
   "cell_type": "markdown",
   "metadata": {},
   "source": [
    "# Прогнозирование временного ряда"
   ]
  },
  {
   "cell_type": "code",
   "execution_count": 2,
   "metadata": {},
   "outputs": [
    {
     "data": {
      "text/html": [
       "<div>\n",
       "<style scoped>\n",
       "    .dataframe tbody tr th:only-of-type {\n",
       "        vertical-align: middle;\n",
       "    }\n",
       "\n",
       "    .dataframe tbody tr th {\n",
       "        vertical-align: top;\n",
       "    }\n",
       "\n",
       "    .dataframe thead th {\n",
       "        text-align: right;\n",
       "    }\n",
       "</style>\n",
       "<table border=\"1\" class=\"dataframe\">\n",
       "  <thead>\n",
       "    <tr style=\"text-align: right;\">\n",
       "      <th></th>\n",
       "      <th>market</th>\n",
       "      <th>month</th>\n",
       "      <th>year</th>\n",
       "      <th>quantity</th>\n",
       "      <th>priceMin</th>\n",
       "      <th>priceMax</th>\n",
       "      <th>priceMod</th>\n",
       "      <th>state</th>\n",
       "      <th>city</th>\n",
       "      <th>date</th>\n",
       "    </tr>\n",
       "  </thead>\n",
       "  <tbody>\n",
       "    <tr>\n",
       "      <th>0</th>\n",
       "      <td>ABOHAR(PB)</td>\n",
       "      <td>January</td>\n",
       "      <td>2005</td>\n",
       "      <td>2350</td>\n",
       "      <td>404</td>\n",
       "      <td>493</td>\n",
       "      <td>446</td>\n",
       "      <td>PB</td>\n",
       "      <td>ABOHAR</td>\n",
       "      <td>January-2005</td>\n",
       "    </tr>\n",
       "    <tr>\n",
       "      <th>1</th>\n",
       "      <td>ABOHAR(PB)</td>\n",
       "      <td>January</td>\n",
       "      <td>2006</td>\n",
       "      <td>900</td>\n",
       "      <td>487</td>\n",
       "      <td>638</td>\n",
       "      <td>563</td>\n",
       "      <td>PB</td>\n",
       "      <td>ABOHAR</td>\n",
       "      <td>January-2006</td>\n",
       "    </tr>\n",
       "    <tr>\n",
       "      <th>2</th>\n",
       "      <td>ABOHAR(PB)</td>\n",
       "      <td>January</td>\n",
       "      <td>2010</td>\n",
       "      <td>790</td>\n",
       "      <td>1283</td>\n",
       "      <td>1592</td>\n",
       "      <td>1460</td>\n",
       "      <td>PB</td>\n",
       "      <td>ABOHAR</td>\n",
       "      <td>January-2010</td>\n",
       "    </tr>\n",
       "    <tr>\n",
       "      <th>3</th>\n",
       "      <td>ABOHAR(PB)</td>\n",
       "      <td>January</td>\n",
       "      <td>2011</td>\n",
       "      <td>245</td>\n",
       "      <td>3067</td>\n",
       "      <td>3750</td>\n",
       "      <td>3433</td>\n",
       "      <td>PB</td>\n",
       "      <td>ABOHAR</td>\n",
       "      <td>January-2011</td>\n",
       "    </tr>\n",
       "    <tr>\n",
       "      <th>4</th>\n",
       "      <td>ABOHAR(PB)</td>\n",
       "      <td>January</td>\n",
       "      <td>2012</td>\n",
       "      <td>1035</td>\n",
       "      <td>523</td>\n",
       "      <td>686</td>\n",
       "      <td>605</td>\n",
       "      <td>PB</td>\n",
       "      <td>ABOHAR</td>\n",
       "      <td>January-2012</td>\n",
       "    </tr>\n",
       "  </tbody>\n",
       "</table>\n",
       "</div>"
      ],
      "text/plain": [
       "       market    month  year  quantity  priceMin  priceMax  priceMod state  \\\n",
       "0  ABOHAR(PB)  January  2005      2350       404       493       446    PB   \n",
       "1  ABOHAR(PB)  January  2006       900       487       638       563    PB   \n",
       "2  ABOHAR(PB)  January  2010       790      1283      1592      1460    PB   \n",
       "3  ABOHAR(PB)  January  2011       245      3067      3750      3433    PB   \n",
       "4  ABOHAR(PB)  January  2012      1035       523       686       605    PB   \n",
       "\n",
       "     city          date  \n",
       "0  ABOHAR  January-2005  \n",
       "1  ABOHAR  January-2006  \n",
       "2  ABOHAR  January-2010  \n",
       "3  ABOHAR  January-2011  \n",
       "4  ABOHAR  January-2012  "
      ]
     },
     "execution_count": 2,
     "metadata": {},
     "output_type": "execute_result"
    }
   ],
   "source": [
    "df.head()"
   ]
  },
  {
   "cell_type": "code",
   "execution_count": 3,
   "metadata": {},
   "outputs": [],
   "source": [
    "df.date = pd.DatetimeIndex(df.date)\n",
    "\n",
    "# Отсортируем и добавим date в индекс\n",
    "df = df.sort_values(by = \"date\")\n",
    "df.index = pd.PeriodIndex(df.date, freq='M')"
   ]
  },
  {
   "cell_type": "code",
   "execution_count": 4,
   "metadata": {},
   "outputs": [
    {
     "data": {
      "text/html": [
       "<div>\n",
       "<style scoped>\n",
       "    .dataframe tbody tr th:only-of-type {\n",
       "        vertical-align: middle;\n",
       "    }\n",
       "\n",
       "    .dataframe tbody tr th {\n",
       "        vertical-align: top;\n",
       "    }\n",
       "\n",
       "    .dataframe thead th {\n",
       "        text-align: right;\n",
       "    }\n",
       "</style>\n",
       "<table border=\"1\" class=\"dataframe\">\n",
       "  <thead>\n",
       "    <tr style=\"text-align: right;\">\n",
       "      <th></th>\n",
       "      <th>market</th>\n",
       "      <th>month</th>\n",
       "      <th>year</th>\n",
       "      <th>quantity</th>\n",
       "      <th>priceMin</th>\n",
       "      <th>priceMax</th>\n",
       "      <th>priceMod</th>\n",
       "      <th>state</th>\n",
       "      <th>city</th>\n",
       "      <th>date</th>\n",
       "    </tr>\n",
       "    <tr>\n",
       "      <th>date</th>\n",
       "      <th></th>\n",
       "      <th></th>\n",
       "      <th></th>\n",
       "      <th></th>\n",
       "      <th></th>\n",
       "      <th></th>\n",
       "      <th></th>\n",
       "      <th></th>\n",
       "      <th></th>\n",
       "      <th></th>\n",
       "    </tr>\n",
       "  </thead>\n",
       "  <tbody>\n",
       "    <tr>\n",
       "      <th>1996-01</th>\n",
       "      <td>LASALGAON(MS)</td>\n",
       "      <td>January</td>\n",
       "      <td>1996</td>\n",
       "      <td>225063</td>\n",
       "      <td>160</td>\n",
       "      <td>257</td>\n",
       "      <td>226</td>\n",
       "      <td>MS</td>\n",
       "      <td>LASALGAON</td>\n",
       "      <td>1996-01-01</td>\n",
       "    </tr>\n",
       "    <tr>\n",
       "      <th>1996-02</th>\n",
       "      <td>LASALGAON(MS)</td>\n",
       "      <td>February</td>\n",
       "      <td>1996</td>\n",
       "      <td>196164</td>\n",
       "      <td>133</td>\n",
       "      <td>229</td>\n",
       "      <td>186</td>\n",
       "      <td>MS</td>\n",
       "      <td>LASALGAON</td>\n",
       "      <td>1996-02-01</td>\n",
       "    </tr>\n",
       "    <tr>\n",
       "      <th>1996-03</th>\n",
       "      <td>LASALGAON(MS)</td>\n",
       "      <td>March</td>\n",
       "      <td>1996</td>\n",
       "      <td>178992</td>\n",
       "      <td>155</td>\n",
       "      <td>274</td>\n",
       "      <td>243</td>\n",
       "      <td>MS</td>\n",
       "      <td>LASALGAON</td>\n",
       "      <td>1996-03-01</td>\n",
       "    </tr>\n",
       "    <tr>\n",
       "      <th>1996-04</th>\n",
       "      <td>LASALGAON(MS)</td>\n",
       "      <td>April</td>\n",
       "      <td>1996</td>\n",
       "      <td>192592</td>\n",
       "      <td>136</td>\n",
       "      <td>279</td>\n",
       "      <td>254</td>\n",
       "      <td>MS</td>\n",
       "      <td>LASALGAON</td>\n",
       "      <td>1996-04-01</td>\n",
       "    </tr>\n",
       "    <tr>\n",
       "      <th>1996-05</th>\n",
       "      <td>LASALGAON(MS)</td>\n",
       "      <td>May</td>\n",
       "      <td>1996</td>\n",
       "      <td>237574</td>\n",
       "      <td>154</td>\n",
       "      <td>312</td>\n",
       "      <td>269</td>\n",
       "      <td>MS</td>\n",
       "      <td>LASALGAON</td>\n",
       "      <td>1996-05-01</td>\n",
       "    </tr>\n",
       "  </tbody>\n",
       "</table>\n",
       "</div>"
      ],
      "text/plain": [
       "                market     month  year  quantity  priceMin  priceMax  \\\n",
       "date                                                                   \n",
       "1996-01  LASALGAON(MS)   January  1996    225063       160       257   \n",
       "1996-02  LASALGAON(MS)  February  1996    196164       133       229   \n",
       "1996-03  LASALGAON(MS)     March  1996    178992       155       274   \n",
       "1996-04  LASALGAON(MS)     April  1996    192592       136       279   \n",
       "1996-05  LASALGAON(MS)       May  1996    237574       154       312   \n",
       "\n",
       "         priceMod state       city       date  \n",
       "date                                           \n",
       "1996-01       226    MS  LASALGAON 1996-01-01  \n",
       "1996-02       186    MS  LASALGAON 1996-02-01  \n",
       "1996-03       243    MS  LASALGAON 1996-03-01  \n",
       "1996-04       254    MS  LASALGAON 1996-04-01  \n",
       "1996-05       269    MS  LASALGAON 1996-05-01  "
      ]
     },
     "execution_count": 4,
     "metadata": {},
     "output_type": "execute_result"
    }
   ],
   "source": [
    "df.head()"
   ]
  },
  {
   "cell_type": "markdown",
   "metadata": {},
   "source": [
    "Будем работать с данными в городе Бангалор"
   ]
  },
  {
   "cell_type": "code",
   "execution_count": 5,
   "metadata": {},
   "outputs": [],
   "source": [
    "dfBang = df.loc[df.city == \"BANGALORE\"].copy()"
   ]
  },
  {
   "cell_type": "code",
   "execution_count": 6,
   "metadata": {},
   "outputs": [
    {
     "data": {
      "text/html": [
       "<div>\n",
       "<style scoped>\n",
       "    .dataframe tbody tr th:only-of-type {\n",
       "        vertical-align: middle;\n",
       "    }\n",
       "\n",
       "    .dataframe tbody tr th {\n",
       "        vertical-align: top;\n",
       "    }\n",
       "\n",
       "    .dataframe thead th {\n",
       "        text-align: right;\n",
       "    }\n",
       "</style>\n",
       "<table border=\"1\" class=\"dataframe\">\n",
       "  <thead>\n",
       "    <tr style=\"text-align: right;\">\n",
       "      <th></th>\n",
       "      <th>market</th>\n",
       "      <th>month</th>\n",
       "      <th>year</th>\n",
       "      <th>quantity</th>\n",
       "      <th>priceMin</th>\n",
       "      <th>priceMax</th>\n",
       "      <th>priceMod</th>\n",
       "      <th>state</th>\n",
       "      <th>city</th>\n",
       "      <th>date</th>\n",
       "    </tr>\n",
       "    <tr>\n",
       "      <th>date</th>\n",
       "      <th></th>\n",
       "      <th></th>\n",
       "      <th></th>\n",
       "      <th></th>\n",
       "      <th></th>\n",
       "      <th></th>\n",
       "      <th></th>\n",
       "      <th></th>\n",
       "      <th></th>\n",
       "      <th></th>\n",
       "    </tr>\n",
       "  </thead>\n",
       "  <tbody>\n",
       "    <tr>\n",
       "      <th>2004-01</th>\n",
       "      <td>BANGALORE</td>\n",
       "      <td>January</td>\n",
       "      <td>2004</td>\n",
       "      <td>227832</td>\n",
       "      <td>916</td>\n",
       "      <td>1066</td>\n",
       "      <td>991</td>\n",
       "      <td>KNT</td>\n",
       "      <td>BANGALORE</td>\n",
       "      <td>2004-01-01</td>\n",
       "    </tr>\n",
       "    <tr>\n",
       "      <th>2004-02</th>\n",
       "      <td>BANGALORE</td>\n",
       "      <td>February</td>\n",
       "      <td>2004</td>\n",
       "      <td>225133</td>\n",
       "      <td>741</td>\n",
       "      <td>870</td>\n",
       "      <td>793</td>\n",
       "      <td>KNT</td>\n",
       "      <td>BANGALORE</td>\n",
       "      <td>2004-02-01</td>\n",
       "    </tr>\n",
       "    <tr>\n",
       "      <th>2004-03</th>\n",
       "      <td>BANGALORE</td>\n",
       "      <td>March</td>\n",
       "      <td>2004</td>\n",
       "      <td>221952</td>\n",
       "      <td>527</td>\n",
       "      <td>586</td>\n",
       "      <td>556</td>\n",
       "      <td>KNT</td>\n",
       "      <td>BANGALORE</td>\n",
       "      <td>2004-03-01</td>\n",
       "    </tr>\n",
       "    <tr>\n",
       "      <th>2004-04</th>\n",
       "      <td>BANGALORE</td>\n",
       "      <td>April</td>\n",
       "      <td>2004</td>\n",
       "      <td>185150</td>\n",
       "      <td>419</td>\n",
       "      <td>518</td>\n",
       "      <td>465</td>\n",
       "      <td>KNT</td>\n",
       "      <td>BANGALORE</td>\n",
       "      <td>2004-04-01</td>\n",
       "    </tr>\n",
       "    <tr>\n",
       "      <th>2004-05</th>\n",
       "      <td>BANGALORE</td>\n",
       "      <td>May</td>\n",
       "      <td>2004</td>\n",
       "      <td>137390</td>\n",
       "      <td>400</td>\n",
       "      <td>516</td>\n",
       "      <td>455</td>\n",
       "      <td>KNT</td>\n",
       "      <td>BANGALORE</td>\n",
       "      <td>2004-05-01</td>\n",
       "    </tr>\n",
       "  </tbody>\n",
       "</table>\n",
       "</div>"
      ],
      "text/plain": [
       "            market     month  year  quantity  priceMin  priceMax  priceMod  \\\n",
       "date                                                                         \n",
       "2004-01  BANGALORE   January  2004    227832       916      1066       991   \n",
       "2004-02  BANGALORE  February  2004    225133       741       870       793   \n",
       "2004-03  BANGALORE     March  2004    221952       527       586       556   \n",
       "2004-04  BANGALORE     April  2004    185150       419       518       465   \n",
       "2004-05  BANGALORE       May  2004    137390       400       516       455   \n",
       "\n",
       "        state       city       date  \n",
       "date                                 \n",
       "2004-01   KNT  BANGALORE 2004-01-01  \n",
       "2004-02   KNT  BANGALORE 2004-02-01  \n",
       "2004-03   KNT  BANGALORE 2004-03-01  \n",
       "2004-04   KNT  BANGALORE 2004-04-01  \n",
       "2004-05   KNT  BANGALORE 2004-05-01  "
      ]
     },
     "execution_count": 6,
     "metadata": {},
     "output_type": "execute_result"
    }
   ],
   "source": [
    "dfBang.head()"
   ]
  },
  {
   "cell_type": "code",
   "execution_count": 7,
   "metadata": {},
   "outputs": [],
   "source": [
    "# Удалим лишние столбцы\n",
    "dfBang = dfBang.drop([\"market\", \"month\", \"year\", \"state\", \"city\", \"priceMin\", \"priceMax\"], axis = 1)"
   ]
  },
  {
   "cell_type": "code",
   "execution_count": 8,
   "metadata": {},
   "outputs": [
    {
     "data": {
      "text/plain": [
       "(146, 3)"
      ]
     },
     "execution_count": 8,
     "metadata": {},
     "output_type": "execute_result"
    }
   ],
   "source": [
    "dfBang.shape"
   ]
  },
  {
   "cell_type": "code",
   "execution_count": 9,
   "metadata": {},
   "outputs": [
    {
     "data": {
      "text/html": [
       "<div>\n",
       "<style scoped>\n",
       "    .dataframe tbody tr th:only-of-type {\n",
       "        vertical-align: middle;\n",
       "    }\n",
       "\n",
       "    .dataframe tbody tr th {\n",
       "        vertical-align: top;\n",
       "    }\n",
       "\n",
       "    .dataframe thead th {\n",
       "        text-align: right;\n",
       "    }\n",
       "</style>\n",
       "<table border=\"1\" class=\"dataframe\">\n",
       "  <thead>\n",
       "    <tr style=\"text-align: right;\">\n",
       "      <th></th>\n",
       "      <th>quantity</th>\n",
       "      <th>priceMod</th>\n",
       "      <th>date</th>\n",
       "    </tr>\n",
       "    <tr>\n",
       "      <th>date</th>\n",
       "      <th></th>\n",
       "      <th></th>\n",
       "      <th></th>\n",
       "    </tr>\n",
       "  </thead>\n",
       "  <tbody>\n",
       "    <tr>\n",
       "      <th>2004-01</th>\n",
       "      <td>227832</td>\n",
       "      <td>991</td>\n",
       "      <td>2004-01-01</td>\n",
       "    </tr>\n",
       "    <tr>\n",
       "      <th>2004-02</th>\n",
       "      <td>225133</td>\n",
       "      <td>793</td>\n",
       "      <td>2004-02-01</td>\n",
       "    </tr>\n",
       "    <tr>\n",
       "      <th>2004-03</th>\n",
       "      <td>221952</td>\n",
       "      <td>556</td>\n",
       "      <td>2004-03-01</td>\n",
       "    </tr>\n",
       "    <tr>\n",
       "      <th>2004-04</th>\n",
       "      <td>185150</td>\n",
       "      <td>465</td>\n",
       "      <td>2004-04-01</td>\n",
       "    </tr>\n",
       "    <tr>\n",
       "      <th>2004-05</th>\n",
       "      <td>137390</td>\n",
       "      <td>455</td>\n",
       "      <td>2004-05-01</td>\n",
       "    </tr>\n",
       "  </tbody>\n",
       "</table>\n",
       "</div>"
      ],
      "text/plain": [
       "         quantity  priceMod       date\n",
       "date                                  \n",
       "2004-01    227832       991 2004-01-01\n",
       "2004-02    225133       793 2004-02-01\n",
       "2004-03    221952       556 2004-03-01\n",
       "2004-04    185150       465 2004-04-01\n",
       "2004-05    137390       455 2004-05-01"
      ]
     },
     "execution_count": 9,
     "metadata": {},
     "output_type": "execute_result"
    }
   ],
   "source": [
    "dfBang.head()"
   ]
  },
  {
   "cell_type": "code",
   "execution_count": 10,
   "metadata": {},
   "outputs": [
    {
     "data": {
      "text/plain": [
       "<matplotlib.axes._subplots.AxesSubplot at 0x2ab121ddd68>"
      ]
     },
     "execution_count": 10,
     "metadata": {},
     "output_type": "execute_result"
    },
    {
     "data": {
      "image/png": "[encoded data removed]",
      "text/plain": [
       "<Figure size 432x288 with 1 Axes>"
      ]
     },
     "metadata": {
      "needs_background": "light"
     },
     "output_type": "display_data"
    }
   ],
   "source": [
    "dfBang.priceMod.plot()"
   ]
  },
  {
   "cell_type": "code",
   "execution_count": 11,
   "metadata": {},
   "outputs": [
    {
     "data": {
      "text/plain": [
       "<matplotlib.axes._subplots.AxesSubplot at 0x2ab12512470>"
      ]
     },
     "execution_count": 11,
     "metadata": {},
     "output_type": "execute_result"
    },
    {
     "data": {
      "image/png": "[encoded data removed]",
      "text/plain": [
       "<Figure size 432x288 with 1 Axes>"
      ]
     },
     "metadata": {
      "needs_background": "light"
     },
     "output_type": "display_data"
    }
   ],
   "source": [
    "dfBang.quantity.plot()"
   ]
  },
  {
   "cell_type": "markdown",
   "metadata": {},
   "source": [
    "## Начнем с трех простых моделей прогноза цены\n",
    "\n",
    "### 1. Прогнозирование средним (Mean Constant Model)\n",
    "### 2. Линейная модель (Linear Trend Model)\n",
    "### 3. Линейная модель с регрессии (Linear Regression Model)"
   ]
  },
  {
   "cell_type": "markdown",
   "metadata": {},
   "source": [
    "### Логарифмическое преобразование данных\n",
    "Логарифмирование помогает стабилизировать разброс значений."
   ]
  },
  {
   "cell_type": "code",
   "execution_count": 12,
   "metadata": {},
   "outputs": [
    {
     "data": {
      "text/plain": [
       "<matplotlib.axes._subplots.AxesSubplot at 0x2ab125eefd0>"
      ]
     },
     "execution_count": 12,
     "metadata": {},
     "output_type": "execute_result"
    },
    {
     "data": {
      "image/png": "[encoded data removed]",
      "text/plain": [
       "<Figure size 432x288 with 1 Axes>"
      ]
     },
     "metadata": {
      "needs_background": "light"
     },
     "output_type": "display_data"
    }
   ],
   "source": [
    "dfBang.priceMod.plot(kind = \"hist\", bins = 30)"
   ]
  },
  {
   "cell_type": "markdown",
   "metadata": {},
   "source": [
    "При визуализации можем заметить, что есть данные, далеко отстающие от среднего значения, что может искажать модель регрессии. Наша задача минимизировать влияние таких данных. Желательно не исключая их.  \n",
    "В этом случае самый распространенный вариант действия - логарифмирование переменной."
   ]
  },
  {
   "cell_type": "code",
   "execution_count": 13,
   "metadata": {},
   "outputs": [
    {
     "data": {
      "text/html": [
       "<div>\n",
       "<style scoped>\n",
       "    .dataframe tbody tr th:only-of-type {\n",
       "        vertical-align: middle;\n",
       "    }\n",
       "\n",
       "    .dataframe tbody tr th {\n",
       "        vertical-align: top;\n",
       "    }\n",
       "\n",
       "    .dataframe thead th {\n",
       "        text-align: right;\n",
       "    }\n",
       "</style>\n",
       "<table border=\"1\" class=\"dataframe\">\n",
       "  <thead>\n",
       "    <tr style=\"text-align: right;\">\n",
       "      <th></th>\n",
       "      <th>quantity</th>\n",
       "      <th>priceMod</th>\n",
       "      <th>date</th>\n",
       "      <th>priceModLog</th>\n",
       "    </tr>\n",
       "    <tr>\n",
       "      <th>date</th>\n",
       "      <th></th>\n",
       "      <th></th>\n",
       "      <th></th>\n",
       "      <th></th>\n",
       "    </tr>\n",
       "  </thead>\n",
       "  <tbody>\n",
       "    <tr>\n",
       "      <th>2004-01</th>\n",
       "      <td>227832</td>\n",
       "      <td>991</td>\n",
       "      <td>2004-01-01</td>\n",
       "      <td>6.90</td>\n",
       "    </tr>\n",
       "    <tr>\n",
       "      <th>2004-02</th>\n",
       "      <td>225133</td>\n",
       "      <td>793</td>\n",
       "      <td>2004-02-01</td>\n",
       "      <td>6.68</td>\n",
       "    </tr>\n",
       "    <tr>\n",
       "      <th>2004-03</th>\n",
       "      <td>221952</td>\n",
       "      <td>556</td>\n",
       "      <td>2004-03-01</td>\n",
       "      <td>6.32</td>\n",
       "    </tr>\n",
       "    <tr>\n",
       "      <th>2004-04</th>\n",
       "      <td>185150</td>\n",
       "      <td>465</td>\n",
       "      <td>2004-04-01</td>\n",
       "      <td>6.14</td>\n",
       "    </tr>\n",
       "    <tr>\n",
       "      <th>2004-05</th>\n",
       "      <td>137390</td>\n",
       "      <td>455</td>\n",
       "      <td>2004-05-01</td>\n",
       "      <td>6.12</td>\n",
       "    </tr>\n",
       "  </tbody>\n",
       "</table>\n",
       "</div>"
      ],
      "text/plain": [
       "         quantity  priceMod       date  priceModLog\n",
       "date                                               \n",
       "2004-01    227832       991 2004-01-01         6.90\n",
       "2004-02    225133       793 2004-02-01         6.68\n",
       "2004-03    221952       556 2004-03-01         6.32\n",
       "2004-04    185150       465 2004-04-01         6.14\n",
       "2004-05    137390       455 2004-05-01         6.12"
      ]
     },
     "execution_count": 13,
     "metadata": {},
     "output_type": "execute_result"
    }
   ],
   "source": [
    "dfBang['priceModLog'] = np.log(dfBang.priceMod)\n",
    "dfBang.head()"
   ]
  },
  {
   "cell_type": "code",
   "execution_count": 14,
   "metadata": {},
   "outputs": [
    {
     "data": {
      "text/plain": [
       "<matplotlib.axes._subplots.AxesSubplot at 0x2ab126adf28>"
      ]
     },
     "execution_count": 14,
     "metadata": {},
     "output_type": "execute_result"
    },
    {
     "data": {
      "image/png": "[encoded data removed]",
      "text/plain": [
       "<Figure size 432x288 with 1 Axes>"
      ]
     },
     "metadata": {
      "needs_background": "light"
     },
     "output_type": "display_data"
    }
   ],
   "source": [
    "dfBang.priceModLog.plot(kind = \"hist\", bins = 30)"
   ]
  },
  {
   "cell_type": "code",
   "execution_count": 15,
   "metadata": {},
   "outputs": [
    {
     "data": {
      "text/plain": [
       "<matplotlib.axes._subplots.AxesSubplot at 0x2ab1274f780>"
      ]
     },
     "execution_count": 15,
     "metadata": {},
     "output_type": "execute_result"
    },
    {
     "data": {
      "image/png": "[encoded data removed]",
      "text/plain": [
       "<Figure size 432x288 with 1 Axes>"
      ]
     },
     "metadata": {
      "needs_background": "light"
     },
     "output_type": "display_data"
    }
   ],
   "source": [
    "dfBang.priceModLog.plot()"
   ]
  },
  {
   "cell_type": "markdown",
   "metadata": {},
   "source": [
    "## 1.1. Прогнозирование средним "
   ]
  },
  {
   "cell_type": "code",
   "execution_count": 16,
   "metadata": {},
   "outputs": [],
   "source": [
    "model_mean_pred = dfBang.priceModLog.mean()"
   ]
  },
  {
   "cell_type": "code",
   "execution_count": 17,
   "metadata": {},
   "outputs": [],
   "source": [
    "# Запишем это значение в priceMean\n",
    "dfBang[\"priceMean\"] = np.exp(model_mean_pred)"
   ]
  },
  {
   "cell_type": "code",
   "execution_count": 18,
   "metadata": {},
   "outputs": [
    {
     "data": {
      "text/plain": [
       "<matplotlib.axes._subplots.AxesSubplot at 0x2ab127c0780>"
      ]
     },
     "execution_count": 18,
     "metadata": {},
     "output_type": "execute_result"
    },
    {
     "data": {
      "image/png": "[encoded data removed]",
      "text/plain": [
       "<Figure size 432x288 with 1 Axes>"
      ]
     },
     "metadata": {
      "needs_background": "light"
     },
     "output_type": "display_data"
    }
   ],
   "source": [
    "dfBang.plot(kind=\"line\", x=\"date\", y = [\"priceMod\", \"priceMean\"])"
   ]
  },
  {
   "cell_type": "markdown",
   "metadata": {},
   "source": [
    "**Как мерить качество?**\n",
    "\n",
    "Чтобы обучать регрессионные модели, нужно определиться, как именно измеряется качество предсказаний.   \n",
    "Будем использовать метрику RMSE (Root Mean Squared Error) - корень среднего квадрата отклонения.\n",
    "\n",
    "$$RMSE = \\Sigma \\sqrt{ (\\hat{y} - y)^2/n} $$ , \n",
    "где $\\hat{y}$ это предсказанное значение y"
   ]
  },
  {
   "cell_type": "markdown",
   "metadata": {},
   "source": [
    "#### Какие еще метрики применимы в задачах с временными рядами?"
   ]
  },
  {
   "cell_type": "code",
   "execution_count": 20,
   "metadata": {},
   "outputs": [],
   "source": [
    "def RMSE(predicted, actual):\n",
    "    mse = (predicted - actual)**2\n",
    "    rmse = np.sqrt(mse.sum()/mse.count())\n",
    "    return rmse"
   ]
  },
  {
   "cell_type": "code",
   "execution_count": 21,
   "metadata": {},
   "outputs": [
    {
     "data": {
      "text/plain": [
       "683.9533483996255"
      ]
     },
     "execution_count": 21,
     "metadata": {},
     "output_type": "execute_result"
    }
   ],
   "source": [
    "model_mean_RMSE = RMSE(dfBang.priceMean, dfBang.priceMod)\n",
    "model_mean_RMSE"
   ]
  },
  {
   "cell_type": "code",
   "execution_count": 55,
   "metadata": {},
   "outputs": [
    {
     "data": {
      "text/html": [
       "<div>\n",
       "<style scoped>\n",
       "    .dataframe tbody tr th:only-of-type {\n",
       "        vertical-align: middle;\n",
       "    }\n",
       "\n",
       "    .dataframe tbody tr th {\n",
       "        vertical-align: top;\n",
       "    }\n",
       "\n",
       "    .dataframe thead th {\n",
       "        text-align: right;\n",
       "    }\n",
       "</style>\n",
       "<table border=\"1\" class=\"dataframe\">\n",
       "  <thead>\n",
       "    <tr style=\"text-align: right;\">\n",
       "      <th></th>\n",
       "      <th>Model</th>\n",
       "      <th>Forecast</th>\n",
       "      <th>RMSE</th>\n",
       "    </tr>\n",
       "  </thead>\n",
       "  <tbody>\n",
       "  </tbody>\n",
       "</table>\n",
       "</div>"
      ],
      "text/plain": [
       "Empty DataFrame\n",
       "Columns: [Model, Forecast, RMSE]\n",
       "Index: []"
      ]
     },
     "execution_count": 55,
     "metadata": {},
     "output_type": "execute_result"
    }
   ],
   "source": [
    "dfBangResults = pd.DataFrame(columns = [\"Model\", \"Forecast\", \"RMSE\"])\n",
    "dfBangResults.head()"
   ]
  },
  {
   "cell_type": "code",
   "execution_count": 56,
   "metadata": {},
   "outputs": [
    {
     "data": {
      "text/html": [
       "<div>\n",
       "<style scoped>\n",
       "    .dataframe tbody tr th:only-of-type {\n",
       "        vertical-align: middle;\n",
       "    }\n",
       "\n",
       "    .dataframe tbody tr th {\n",
       "        vertical-align: top;\n",
       "    }\n",
       "\n",
       "    .dataframe thead th {\n",
       "        text-align: right;\n",
       "    }\n",
       "</style>\n",
       "<table border=\"1\" class=\"dataframe\">\n",
       "  <thead>\n",
       "    <tr style=\"text-align: right;\">\n",
       "      <th></th>\n",
       "      <th>Model</th>\n",
       "      <th>Forecast</th>\n",
       "      <th>RMSE</th>\n",
       "    </tr>\n",
       "  </thead>\n",
       "  <tbody>\n",
       "    <tr>\n",
       "      <th>0</th>\n",
       "      <td>Mean</td>\n",
       "      <td>884.57</td>\n",
       "      <td>683.95</td>\n",
       "    </tr>\n",
       "  </tbody>\n",
       "</table>\n",
       "</div>"
      ],
      "text/plain": [
       "  Model Forecast   RMSE\n",
       "0  Mean   884.57 683.95"
      ]
     },
     "execution_count": 56,
     "metadata": {},
     "output_type": "execute_result"
    }
   ],
   "source": [
    "dfBangResults.loc[0,\"Model\"] = \"Mean\"\n",
    "dfBangResults.loc[0,\"Forecast\"] = np.exp(model_mean_pred)\n",
    "dfBangResults.loc[0,\"RMSE\"] = model_mean_RMSE\n",
    "dfBangResults.head()"
   ]
  },
  {
   "cell_type": "markdown",
   "metadata": {},
   "source": [
    "### Задание 6. Постройте модель средних для величины quantity"
   ]
  },
  {
   "cell_type": "code",
   "execution_count": 24,
   "metadata": {},
   "outputs": [
    {
     "data": {
      "text/plain": [
       "<matplotlib.axes._subplots.AxesSubplot at 0x2ab1298dba8>"
      ]
     },
     "execution_count": 24,
     "metadata": {},
     "output_type": "execute_result"
    },
    {
     "data": {
      "image/png": "[encoded data removed]",
      "text/plain": [
       "<Figure size 432x288 with 1 Axes>"
      ]
     },
     "metadata": {
      "needs_background": "light"
     },
     "output_type": "display_data"
    }
   ],
   "source": [
    "#your code here\n",
    "dfBang.quantity.plot(kind = \"hist\", bins = 30)"
   ]
  },
  {
   "cell_type": "code",
   "execution_count": 25,
   "metadata": {},
   "outputs": [
    {
     "data": {
      "text/plain": [
       "<matplotlib.axes._subplots.AxesSubplot at 0x2ab12d5f080>"
      ]
     },
     "execution_count": 25,
     "metadata": {},
     "output_type": "execute_result"
    },
    {
     "data": {
      "image/png": "[encoded data removed]",
      "text/plain": [
       "<Figure size 432x288 with 1 Axes>"
      ]
     },
     "metadata": {
      "needs_background": "light"
     },
     "output_type": "display_data"
    }
   ],
   "source": [
    "dfBang['quantityLog'] = np.log(dfBang.quantity)\n",
    "dfBang.quantityLog.plot(kind = \"hist\", bins = 30)"
   ]
  },
  {
   "cell_type": "code",
   "execution_count": 26,
   "metadata": {},
   "outputs": [
    {
     "data": {
      "text/plain": [
       "13.02909096567534"
      ]
     },
     "execution_count": 26,
     "metadata": {},
     "output_type": "execute_result"
    }
   ],
   "source": [
    "model_q_pred = dfBang.quantityLog.mean()\n",
    "model_q_pred"
   ]
  },
  {
   "cell_type": "code",
   "execution_count": 27,
   "metadata": {},
   "outputs": [
    {
     "data": {
      "text/html": [
       "<div>\n",
       "<style scoped>\n",
       "    .dataframe tbody tr th:only-of-type {\n",
       "        vertical-align: middle;\n",
       "    }\n",
       "\n",
       "    .dataframe tbody tr th {\n",
       "        vertical-align: top;\n",
       "    }\n",
       "\n",
       "    .dataframe thead th {\n",
       "        text-align: right;\n",
       "    }\n",
       "</style>\n",
       "<table border=\"1\" class=\"dataframe\">\n",
       "  <thead>\n",
       "    <tr style=\"text-align: right;\">\n",
       "      <th></th>\n",
       "      <th>quantity</th>\n",
       "      <th>priceMod</th>\n",
       "      <th>date</th>\n",
       "      <th>priceModLog</th>\n",
       "      <th>priceMean</th>\n",
       "      <th>quantityLog</th>\n",
       "      <th>quantityMean</th>\n",
       "    </tr>\n",
       "    <tr>\n",
       "      <th>date</th>\n",
       "      <th></th>\n",
       "      <th></th>\n",
       "      <th></th>\n",
       "      <th></th>\n",
       "      <th></th>\n",
       "      <th></th>\n",
       "      <th></th>\n",
       "    </tr>\n",
       "  </thead>\n",
       "  <tbody>\n",
       "    <tr>\n",
       "      <th>2004-01</th>\n",
       "      <td>227832</td>\n",
       "      <td>991</td>\n",
       "      <td>2004-01-01</td>\n",
       "      <td>6.90</td>\n",
       "      <td>884.57</td>\n",
       "      <td>12.34</td>\n",
       "      <td>455472.66</td>\n",
       "    </tr>\n",
       "    <tr>\n",
       "      <th>2004-02</th>\n",
       "      <td>225133</td>\n",
       "      <td>793</td>\n",
       "      <td>2004-02-01</td>\n",
       "      <td>6.68</td>\n",
       "      <td>884.57</td>\n",
       "      <td>12.32</td>\n",
       "      <td>455472.66</td>\n",
       "    </tr>\n",
       "    <tr>\n",
       "      <th>2004-03</th>\n",
       "      <td>221952</td>\n",
       "      <td>556</td>\n",
       "      <td>2004-03-01</td>\n",
       "      <td>6.32</td>\n",
       "      <td>884.57</td>\n",
       "      <td>12.31</td>\n",
       "      <td>455472.66</td>\n",
       "    </tr>\n",
       "    <tr>\n",
       "      <th>2004-04</th>\n",
       "      <td>185150</td>\n",
       "      <td>465</td>\n",
       "      <td>2004-04-01</td>\n",
       "      <td>6.14</td>\n",
       "      <td>884.57</td>\n",
       "      <td>12.13</td>\n",
       "      <td>455472.66</td>\n",
       "    </tr>\n",
       "    <tr>\n",
       "      <th>2004-05</th>\n",
       "      <td>137390</td>\n",
       "      <td>455</td>\n",
       "      <td>2004-05-01</td>\n",
       "      <td>6.12</td>\n",
       "      <td>884.57</td>\n",
       "      <td>11.83</td>\n",
       "      <td>455472.66</td>\n",
       "    </tr>\n",
       "  </tbody>\n",
       "</table>\n",
       "</div>"
      ],
      "text/plain": [
       "         quantity  priceMod       date  priceModLog  priceMean  quantityLog  \\\n",
       "date                                                                          \n",
       "2004-01    227832       991 2004-01-01         6.90     884.57        12.34   \n",
       "2004-02    225133       793 2004-02-01         6.68     884.57        12.32   \n",
       "2004-03    221952       556 2004-03-01         6.32     884.57        12.31   \n",
       "2004-04    185150       465 2004-04-01         6.14     884.57        12.13   \n",
       "2004-05    137390       455 2004-05-01         6.12     884.57        11.83   \n",
       "\n",
       "         quantityMean  \n",
       "date                   \n",
       "2004-01     455472.66  \n",
       "2004-02     455472.66  \n",
       "2004-03     455472.66  \n",
       "2004-04     455472.66  \n",
       "2004-05     455472.66  "
      ]
     },
     "execution_count": 27,
     "metadata": {},
     "output_type": "execute_result"
    }
   ],
   "source": [
    "dfBang[\"quantityMean\"] = np.exp(model_q_pred)\n",
    "dfBang.head()"
   ]
  },
  {
   "cell_type": "code",
   "execution_count": 28,
   "metadata": {},
   "outputs": [
    {
     "data": {
      "text/plain": [
       "309007.2882757871"
      ]
     },
     "execution_count": 28,
     "metadata": {},
     "output_type": "execute_result"
    }
   ],
   "source": [
    "RMSE(dfBang.quantity, dfBang.quantityMean)"
   ]
  },
  {
   "cell_type": "code",
   "execution_count": 29,
   "metadata": {},
   "outputs": [
    {
     "data": {
      "text/html": [
       "<div>\n",
       "<style scoped>\n",
       "    .dataframe tbody tr th:only-of-type {\n",
       "        vertical-align: middle;\n",
       "    }\n",
       "\n",
       "    .dataframe tbody tr th {\n",
       "        vertical-align: top;\n",
       "    }\n",
       "\n",
       "    .dataframe thead th {\n",
       "        text-align: right;\n",
       "    }\n",
       "</style>\n",
       "<table border=\"1\" class=\"dataframe\">\n",
       "  <thead>\n",
       "    <tr style=\"text-align: right;\">\n",
       "      <th></th>\n",
       "      <th>Model</th>\n",
       "      <th>Forecast</th>\n",
       "      <th>RMSE</th>\n",
       "    </tr>\n",
       "  </thead>\n",
       "  <tbody>\n",
       "  </tbody>\n",
       "</table>\n",
       "</div>"
      ],
      "text/plain": [
       "Empty DataFrame\n",
       "Columns: [Model, Forecast, RMSE]\n",
       "Index: []"
      ]
     },
     "execution_count": 29,
     "metadata": {},
     "output_type": "execute_result"
    }
   ],
   "source": [
    "dfBangQ = pd.DataFrame(columns = [\"Model\", \"Forecast\", \"RMSE\"])\n",
    "dfBangQ.head()"
   ]
  },
  {
   "cell_type": "code",
   "execution_count": 54,
   "metadata": {},
   "outputs": [
    {
     "data": {
      "text/html": [
       "<div>\n",
       "<style scoped>\n",
       "    .dataframe tbody tr th:only-of-type {\n",
       "        vertical-align: middle;\n",
       "    }\n",
       "\n",
       "    .dataframe tbody tr th {\n",
       "        vertical-align: top;\n",
       "    }\n",
       "\n",
       "    .dataframe thead th {\n",
       "        text-align: right;\n",
       "    }\n",
       "</style>\n",
       "<table border=\"1\" class=\"dataframe\">\n",
       "  <thead>\n",
       "    <tr style=\"text-align: right;\">\n",
       "      <th></th>\n",
       "      <th>Model</th>\n",
       "      <th>Forecast</th>\n",
       "      <th>RMSE</th>\n",
       "    </tr>\n",
       "  </thead>\n",
       "  <tbody>\n",
       "    <tr>\n",
       "      <th>0</th>\n",
       "      <td>Mean</td>\n",
       "      <td>455472.66</td>\n",
       "      <td>309007.29</td>\n",
       "    </tr>\n",
       "  </tbody>\n",
       "</table>\n",
       "</div>"
      ],
      "text/plain": [
       "  Model  Forecast      RMSE\n",
       "0  Mean 455472.66 309007.29"
      ]
     },
     "execution_count": 54,
     "metadata": {},
     "output_type": "execute_result"
    }
   ],
   "source": [
    "dfBangQ.loc[0,\"Model\"] = \"Mean\"\n",
    "dfBangQ.loc[0,\"Forecast\"] = np.exp(model_q_pred)\n",
    "dfBangQ.loc[0,\"RMSE\"] = RMSE(dfBang.quantity, dfBang.quantityMean)\n",
    "dfBangQ.head()"
   ]
  },
  {
   "cell_type": "markdown",
   "metadata": {},
   "source": [
    "## 1.2. Линейная модель\n",
    "\n",
    "Построим линейную зависимость между priceModLog and time.   \n",
    "Уравнение регрессии строится с помощью метода наимменьших квадратов."
   ]
  },
  {
   "cell_type": "code",
   "execution_count": 31,
   "metadata": {},
   "outputs": [
    {
     "data": {
      "text/html": [
       "<div>\n",
       "<style scoped>\n",
       "    .dataframe tbody tr th:only-of-type {\n",
       "        vertical-align: middle;\n",
       "    }\n",
       "\n",
       "    .dataframe tbody tr th {\n",
       "        vertical-align: top;\n",
       "    }\n",
       "\n",
       "    .dataframe thead th {\n",
       "        text-align: right;\n",
       "    }\n",
       "</style>\n",
       "<table border=\"1\" class=\"dataframe\">\n",
       "  <thead>\n",
       "    <tr style=\"text-align: right;\">\n",
       "      <th></th>\n",
       "      <th>quantity</th>\n",
       "      <th>priceMod</th>\n",
       "      <th>date</th>\n",
       "      <th>priceModLog</th>\n",
       "      <th>priceMean</th>\n",
       "      <th>quantityLog</th>\n",
       "      <th>quantityMean</th>\n",
       "    </tr>\n",
       "    <tr>\n",
       "      <th>date</th>\n",
       "      <th></th>\n",
       "      <th></th>\n",
       "      <th></th>\n",
       "      <th></th>\n",
       "      <th></th>\n",
       "      <th></th>\n",
       "      <th></th>\n",
       "    </tr>\n",
       "  </thead>\n",
       "  <tbody>\n",
       "    <tr>\n",
       "      <th>2004-01</th>\n",
       "      <td>227832</td>\n",
       "      <td>991</td>\n",
       "      <td>2004-01-01</td>\n",
       "      <td>6.90</td>\n",
       "      <td>884.57</td>\n",
       "      <td>12.34</td>\n",
       "      <td>455472.66</td>\n",
       "    </tr>\n",
       "    <tr>\n",
       "      <th>2004-02</th>\n",
       "      <td>225133</td>\n",
       "      <td>793</td>\n",
       "      <td>2004-02-01</td>\n",
       "      <td>6.68</td>\n",
       "      <td>884.57</td>\n",
       "      <td>12.32</td>\n",
       "      <td>455472.66</td>\n",
       "    </tr>\n",
       "    <tr>\n",
       "      <th>2004-03</th>\n",
       "      <td>221952</td>\n",
       "      <td>556</td>\n",
       "      <td>2004-03-01</td>\n",
       "      <td>6.32</td>\n",
       "      <td>884.57</td>\n",
       "      <td>12.31</td>\n",
       "      <td>455472.66</td>\n",
       "    </tr>\n",
       "    <tr>\n",
       "      <th>2004-04</th>\n",
       "      <td>185150</td>\n",
       "      <td>465</td>\n",
       "      <td>2004-04-01</td>\n",
       "      <td>6.14</td>\n",
       "      <td>884.57</td>\n",
       "      <td>12.13</td>\n",
       "      <td>455472.66</td>\n",
       "    </tr>\n",
       "    <tr>\n",
       "      <th>2004-05</th>\n",
       "      <td>137390</td>\n",
       "      <td>455</td>\n",
       "      <td>2004-05-01</td>\n",
       "      <td>6.12</td>\n",
       "      <td>884.57</td>\n",
       "      <td>11.83</td>\n",
       "      <td>455472.66</td>\n",
       "    </tr>\n",
       "  </tbody>\n",
       "</table>\n",
       "</div>"
      ],
      "text/plain": [
       "         quantity  priceMod       date  priceModLog  priceMean  quantityLog  \\\n",
       "date                                                                          \n",
       "2004-01    227832       991 2004-01-01         6.90     884.57        12.34   \n",
       "2004-02    225133       793 2004-02-01         6.68     884.57        12.32   \n",
       "2004-03    221952       556 2004-03-01         6.32     884.57        12.31   \n",
       "2004-04    185150       465 2004-04-01         6.14     884.57        12.13   \n",
       "2004-05    137390       455 2004-05-01         6.12     884.57        11.83   \n",
       "\n",
       "         quantityMean  \n",
       "date                   \n",
       "2004-01     455472.66  \n",
       "2004-02     455472.66  \n",
       "2004-03     455472.66  \n",
       "2004-04     455472.66  \n",
       "2004-05     455472.66  "
      ]
     },
     "execution_count": 31,
     "metadata": {},
     "output_type": "execute_result"
    }
   ],
   "source": [
    "dfBang.head()"
   ]
  },
  {
   "cell_type": "code",
   "execution_count": 32,
   "metadata": {},
   "outputs": [
    {
     "data": {
      "text/plain": [
       "quantity                 int64\n",
       "priceMod                 int64\n",
       "date            datetime64[ns]\n",
       "priceModLog            float64\n",
       "priceMean              float64\n",
       "quantityLog            float64\n",
       "quantityMean           float64\n",
       "dtype: object"
      ]
     },
     "execution_count": 32,
     "metadata": {},
     "output_type": "execute_result"
    }
   ],
   "source": [
    "dfBang.dtypes"
   ]
  },
  {
   "cell_type": "code",
   "execution_count": 33,
   "metadata": {},
   "outputs": [
    {
     "data": {
      "text/plain": [
       "Timestamp('2004-01-01 00:00:00')"
      ]
     },
     "execution_count": 33,
     "metadata": {},
     "output_type": "execute_result"
    }
   ],
   "source": [
    "dfBang.date.min()"
   ]
  },
  {
   "cell_type": "code",
   "execution_count": 34,
   "metadata": {},
   "outputs": [],
   "source": [
    "dfBang[\"timeIndex\"] = dfBang.date - dfBang.date.min()"
   ]
  },
  {
   "cell_type": "code",
   "execution_count": 35,
   "metadata": {},
   "outputs": [
    {
     "data": {
      "text/plain": [
       "date\n",
       "2004-01      0 days\n",
       "2004-02     31 days\n",
       "2004-03     60 days\n",
       "2004-04     91 days\n",
       "2004-05    121 days\n",
       "             ...   \n",
       "2015-10   4291 days\n",
       "2015-11   4322 days\n",
       "2015-12   4352 days\n",
       "2016-01   4383 days\n",
       "2016-02   4414 days\n",
       "Freq: M, Name: timeIndex, Length: 146, dtype: timedelta64[ns]"
      ]
     },
     "execution_count": 35,
     "metadata": {},
     "output_type": "execute_result"
    }
   ],
   "source": [
    "dfBang.timeIndex"
   ]
  },
  {
   "cell_type": "code",
   "execution_count": 36,
   "metadata": {},
   "outputs": [
    {
     "data": {
      "text/plain": [
       "quantity                  int64\n",
       "priceMod                  int64\n",
       "date             datetime64[ns]\n",
       "priceModLog             float64\n",
       "priceMean               float64\n",
       "quantityLog             float64\n",
       "quantityMean            float64\n",
       "timeIndex       timedelta64[ns]\n",
       "dtype: object"
      ]
     },
     "execution_count": 36,
     "metadata": {},
     "output_type": "execute_result"
    }
   ],
   "source": [
    "dfBang.dtypes"
   ]
  },
  {
   "cell_type": "code",
   "execution_count": 37,
   "metadata": {},
   "outputs": [],
   "source": [
    "dfBang[\"timeIndex\"] =  dfBang[\"timeIndex\"]/np.timedelta64(1, 'M')"
   ]
  },
  {
   "cell_type": "code",
   "execution_count": 38,
   "metadata": {},
   "outputs": [
    {
     "data": {
      "text/plain": [
       "date\n",
       "2004-01     0.00\n",
       "2004-02     1.02\n",
       "2004-03     1.97\n",
       "2004-04     2.99\n",
       "2004-05     3.98\n",
       "           ...  \n",
       "2015-10   140.98\n",
       "2015-11   142.00\n",
       "2015-12   142.98\n",
       "2016-01   144.00\n",
       "2016-02   145.02\n",
       "Freq: M, Name: timeIndex, Length: 146, dtype: float64"
      ]
     },
     "execution_count": 38,
     "metadata": {},
     "output_type": "execute_result"
    }
   ],
   "source": [
    "dfBang.timeIndex"
   ]
  },
  {
   "cell_type": "code",
   "execution_count": 39,
   "metadata": {},
   "outputs": [],
   "source": [
    "dfBang[\"timeIndex\"] = dfBang[\"timeIndex\"].round(0).astype(int)"
   ]
  },
  {
   "cell_type": "code",
   "execution_count": 40,
   "metadata": {},
   "outputs": [
    {
     "data": {
      "text/plain": [
       "date\n",
       "2015-10    141\n",
       "2015-11    142\n",
       "2015-12    143\n",
       "2016-01    144\n",
       "2016-02    145\n",
       "Freq: M, Name: timeIndex, dtype: int32"
      ]
     },
     "execution_count": 40,
     "metadata": {},
     "output_type": "execute_result"
    }
   ],
   "source": [
    "dfBang.timeIndex.tail()"
   ]
  },
  {
   "cell_type": "code",
   "execution_count": 41,
   "metadata": {},
   "outputs": [
    {
     "data": {
      "text/html": [
       "<div>\n",
       "<style scoped>\n",
       "    .dataframe tbody tr th:only-of-type {\n",
       "        vertical-align: middle;\n",
       "    }\n",
       "\n",
       "    .dataframe tbody tr th {\n",
       "        vertical-align: top;\n",
       "    }\n",
       "\n",
       "    .dataframe thead th {\n",
       "        text-align: right;\n",
       "    }\n",
       "</style>\n",
       "<table border=\"1\" class=\"dataframe\">\n",
       "  <thead>\n",
       "    <tr style=\"text-align: right;\">\n",
       "      <th></th>\n",
       "      <th>quantity</th>\n",
       "      <th>priceMod</th>\n",
       "      <th>date</th>\n",
       "      <th>priceModLog</th>\n",
       "      <th>priceMean</th>\n",
       "      <th>quantityLog</th>\n",
       "      <th>quantityMean</th>\n",
       "      <th>timeIndex</th>\n",
       "    </tr>\n",
       "    <tr>\n",
       "      <th>date</th>\n",
       "      <th></th>\n",
       "      <th></th>\n",
       "      <th></th>\n",
       "      <th></th>\n",
       "      <th></th>\n",
       "      <th></th>\n",
       "      <th></th>\n",
       "      <th></th>\n",
       "    </tr>\n",
       "  </thead>\n",
       "  <tbody>\n",
       "    <tr>\n",
       "      <th>2004-01</th>\n",
       "      <td>227832</td>\n",
       "      <td>991</td>\n",
       "      <td>2004-01-01</td>\n",
       "      <td>6.90</td>\n",
       "      <td>884.57</td>\n",
       "      <td>12.34</td>\n",
       "      <td>455472.66</td>\n",
       "      <td>0</td>\n",
       "    </tr>\n",
       "    <tr>\n",
       "      <th>2004-02</th>\n",
       "      <td>225133</td>\n",
       "      <td>793</td>\n",
       "      <td>2004-02-01</td>\n",
       "      <td>6.68</td>\n",
       "      <td>884.57</td>\n",
       "      <td>12.32</td>\n",
       "      <td>455472.66</td>\n",
       "      <td>1</td>\n",
       "    </tr>\n",
       "    <tr>\n",
       "      <th>2004-03</th>\n",
       "      <td>221952</td>\n",
       "      <td>556</td>\n",
       "      <td>2004-03-01</td>\n",
       "      <td>6.32</td>\n",
       "      <td>884.57</td>\n",
       "      <td>12.31</td>\n",
       "      <td>455472.66</td>\n",
       "      <td>2</td>\n",
       "    </tr>\n",
       "    <tr>\n",
       "      <th>2004-04</th>\n",
       "      <td>185150</td>\n",
       "      <td>465</td>\n",
       "      <td>2004-04-01</td>\n",
       "      <td>6.14</td>\n",
       "      <td>884.57</td>\n",
       "      <td>12.13</td>\n",
       "      <td>455472.66</td>\n",
       "      <td>3</td>\n",
       "    </tr>\n",
       "    <tr>\n",
       "      <th>2004-05</th>\n",
       "      <td>137390</td>\n",
       "      <td>455</td>\n",
       "      <td>2004-05-01</td>\n",
       "      <td>6.12</td>\n",
       "      <td>884.57</td>\n",
       "      <td>11.83</td>\n",
       "      <td>455472.66</td>\n",
       "      <td>4</td>\n",
       "    </tr>\n",
       "  </tbody>\n",
       "</table>\n",
       "</div>"
      ],
      "text/plain": [
       "         quantity  priceMod       date  priceModLog  priceMean  quantityLog  \\\n",
       "date                                                                          \n",
       "2004-01    227832       991 2004-01-01         6.90     884.57        12.34   \n",
       "2004-02    225133       793 2004-02-01         6.68     884.57        12.32   \n",
       "2004-03    221952       556 2004-03-01         6.32     884.57        12.31   \n",
       "2004-04    185150       465 2004-04-01         6.14     884.57        12.13   \n",
       "2004-05    137390       455 2004-05-01         6.12     884.57        11.83   \n",
       "\n",
       "         quantityMean  timeIndex  \n",
       "date                              \n",
       "2004-01     455472.66          0  \n",
       "2004-02     455472.66          1  \n",
       "2004-03     455472.66          2  \n",
       "2004-04     455472.66          3  \n",
       "2004-05     455472.66          4  "
      ]
     },
     "execution_count": 41,
     "metadata": {},
     "output_type": "execute_result"
    }
   ],
   "source": [
    "dfBang.head()"
   ]
  },
  {
   "cell_type": "code",
   "execution_count": 42,
   "metadata": {},
   "outputs": [],
   "source": [
    "model_linear = smf.ols('priceModLog ~ timeIndex', data = dfBang).fit()"
   ]
  },
  {
   "cell_type": "code",
   "execution_count": 43,
   "metadata": {},
   "outputs": [
    {
     "data": {
      "text/html": [
       "<table class=\"simpletable\">\n",
       "<caption>OLS Regression Results</caption>\n",
       "<tr>\n",
       "  <th>Dep. Variable:</th>       <td>priceModLog</td>   <th>  R-squared:         </th> <td>   0.493</td>\n",
       "</tr>\n",
       "<tr>\n",
       "  <th>Model:</th>                   <td>OLS</td>       <th>  Adj. R-squared:    </th> <td>   0.489</td>\n",
       "</tr>\n",
       "<tr>\n",
       "  <th>Method:</th>             <td>Least Squares</td>  <th>  F-statistic:       </th> <td>   139.8</td>\n",
       "</tr>\n",
       "<tr>\n",
       "  <th>Date:</th>             <td>Sat, 31 Oct 2020</td> <th>  Prob (F-statistic):</th> <td>5.75e-23</td>\n",
       "</tr>\n",
       "<tr>\n",
       "  <th>Time:</th>                 <td>17:40:52</td>     <th>  Log-Likelihood:    </th> <td> -72.317</td>\n",
       "</tr>\n",
       "<tr>\n",
       "  <th>No. Observations:</th>      <td>   146</td>      <th>  AIC:               </th> <td>   148.6</td>\n",
       "</tr>\n",
       "<tr>\n",
       "  <th>Df Residuals:</th>          <td>   144</td>      <th>  BIC:               </th> <td>   154.6</td>\n",
       "</tr>\n",
       "<tr>\n",
       "  <th>Df Model:</th>              <td>     1</td>      <th>                     </th>     <td> </td>   \n",
       "</tr>\n",
       "<tr>\n",
       "  <th>Covariance Type:</th>      <td>nonrobust</td>    <th>                     </th>     <td> </td>   \n",
       "</tr>\n",
       "</table>\n",
       "<table class=\"simpletable\">\n",
       "<tr>\n",
       "      <td></td>         <th>coef</th>     <th>std err</th>      <th>t</th>      <th>P>|t|</th>  <th>[0.025</th>    <th>0.975]</th>  \n",
       "</tr>\n",
       "<tr>\n",
       "  <th>Intercept</th> <td>    6.1121</td> <td>    0.066</td> <td>   92.830</td> <td> 0.000</td> <td>    5.982</td> <td>    6.242</td>\n",
       "</tr>\n",
       "<tr>\n",
       "  <th>timeIndex</th> <td>    0.0093</td> <td>    0.001</td> <td>   11.823</td> <td> 0.000</td> <td>    0.008</td> <td>    0.011</td>\n",
       "</tr>\n",
       "</table>\n",
       "<table class=\"simpletable\">\n",
       "<tr>\n",
       "  <th>Omnibus:</th>       <td> 4.750</td> <th>  Durbin-Watson:     </th> <td>   0.384</td>\n",
       "</tr>\n",
       "<tr>\n",
       "  <th>Prob(Omnibus):</th> <td> 0.093</td> <th>  Jarque-Bera (JB):  </th> <td>   4.739</td>\n",
       "</tr>\n",
       "<tr>\n",
       "  <th>Skew:</th>          <td> 0.405</td> <th>  Prob(JB):          </th> <td>  0.0935</td>\n",
       "</tr>\n",
       "<tr>\n",
       "  <th>Kurtosis:</th>      <td> 2.648</td> <th>  Cond. No.          </th> <td>    167.</td>\n",
       "</tr>\n",
       "</table><br/><br/>Warnings:<br/>[1] Standard Errors assume that the covariance matrix of the errors is correctly specified."
      ],
      "text/plain": [
       "<class 'statsmodels.iolib.summary.Summary'>\n",
       "\"\"\"\n",
       "                            OLS Regression Results                            \n",
       "==============================================================================\n",
       "Dep. Variable:            priceModLog   R-squared:                       0.493\n",
       "Model:                            OLS   Adj. R-squared:                  0.489\n",
       "Method:                 Least Squares   F-statistic:                     139.8\n",
       "Date:                Sat, 31 Oct 2020   Prob (F-statistic):           5.75e-23\n",
       "Time:                        17:40:52   Log-Likelihood:                -72.317\n",
       "No. Observations:                 146   AIC:                             148.6\n",
       "Df Residuals:                     144   BIC:                             154.6\n",
       "Df Model:                           1                                         \n",
       "Covariance Type:            nonrobust                                         \n",
       "==============================================================================\n",
       "                 coef    std err          t      P>|t|      [0.025      0.975]\n",
       "------------------------------------------------------------------------------\n",
       "Intercept      6.1121      0.066     92.830      0.000       5.982       6.242\n",
       "timeIndex      0.0093      0.001     11.823      0.000       0.008       0.011\n",
       "==============================================================================\n",
       "Omnibus:                        4.750   Durbin-Watson:                   0.384\n",
       "Prob(Omnibus):                  0.093   Jarque-Bera (JB):                4.739\n",
       "Skew:                           0.405   Prob(JB):                       0.0935\n",
       "Kurtosis:                       2.648   Cond. No.                         167.\n",
       "==============================================================================\n",
       "\n",
       "Warnings:\n",
       "[1] Standard Errors assume that the covariance matrix of the errors is correctly specified.\n",
       "\"\"\""
      ]
     },
     "execution_count": 43,
     "metadata": {},
     "output_type": "execute_result"
    }
   ],
   "source": [
    "model_linear.summary()"
   ]
  },
  {
   "cell_type": "markdown",
   "metadata": {},
   "source": [
    "#### Выведем параметры нашей линейной модели"
   ]
  },
  {
   "cell_type": "code",
   "execution_count": 44,
   "metadata": {},
   "outputs": [
    {
     "data": {
      "text/plain": [
       "Intercept   6.11\n",
       "timeIndex   0.01\n",
       "dtype: float64"
      ]
     },
     "execution_count": 44,
     "metadata": {},
     "output_type": "execute_result"
    }
   ],
   "source": [
    "model_linear.params"
   ]
  },
  {
   "cell_type": "markdown",
   "metadata": {},
   "source": [
    "$$ price = 0.01 \\cdot time + 6.11 $$"
   ]
  },
  {
   "cell_type": "code",
   "execution_count": 45,
   "metadata": {},
   "outputs": [
    {
     "data": {
      "text/plain": [
       "6.112108132763634"
      ]
     },
     "execution_count": 45,
     "metadata": {},
     "output_type": "execute_result"
    }
   ],
   "source": [
    "c = model_linear.params[0]\n",
    "c"
   ]
  },
  {
   "cell_type": "code",
   "execution_count": 46,
   "metadata": {},
   "outputs": [
    {
     "data": {
      "text/plain": [
       "0.009282603918039922"
      ]
     },
     "execution_count": 46,
     "metadata": {},
     "output_type": "execute_result"
    }
   ],
   "source": [
    "m = model_linear.params[1]\n",
    "m"
   ]
  },
  {
   "cell_type": "code",
   "execution_count": 47,
   "metadata": {},
   "outputs": [],
   "source": [
    "model_linear_pred = model_linear.predict()"
   ]
  },
  {
   "cell_type": "code",
   "execution_count": 48,
   "metadata": {},
   "outputs": [
    {
     "data": {
      "text/plain": [
       "array([6.11210813, 6.12139074, 6.13067334, 6.13995594, 6.14923855,\n",
       "       6.15852115, 6.16780376, 6.17708636, 6.18636896, 6.19565157,\n",
       "       6.20493417, 6.21421678, 6.22349938, 6.23278198, 6.24206459,\n",
       "       6.25134719, 6.2606298 , 6.2699124 , 6.279195  , 6.28847761,\n",
       "       6.29776021, 6.30704282, 6.31632542, 6.32560802, 6.33489063,\n",
       "       6.34417323, 6.35345583, 6.36273844, 6.37202104, 6.38130365,\n",
       "       6.39058625, 6.39986885, 6.40915146, 6.41843406, 6.42771667,\n",
       "       6.43699927, 6.44628187, 6.45556448, 6.46484708, 6.47412969,\n",
       "       6.48341229, 6.49269489, 6.5019775 , 6.5112601 , 6.52054271,\n",
       "       6.52982531, 6.53910791, 6.54839052, 6.55767312, 6.56695572,\n",
       "       6.57623833, 6.58552093, 6.59480354, 6.60408614, 6.61336874,\n",
       "       6.62265135, 6.63193395, 6.64121656, 6.65049916, 6.65978176,\n",
       "       6.66906437, 6.67834697, 6.68762958, 6.69691218, 6.70619478,\n",
       "       6.71547739, 6.72475999, 6.7340426 , 6.7433252 , 6.7526078 ,\n",
       "       6.76189041, 6.77117301, 6.78045561, 6.78973822, 6.79902082,\n",
       "       6.80830343, 6.81758603, 6.82686863, 6.83615124, 6.84543384,\n",
       "       6.85471645, 6.86399905, 6.87328165, 6.88256426, 6.89184686,\n",
       "       6.90112947, 6.91041207, 6.91969467, 6.92897728, 6.93825988,\n",
       "       6.94754249, 6.95682509, 6.96610769, 6.9753903 , 6.9846729 ,\n",
       "       6.9939555 , 7.00323811, 7.01252071, 7.02180332, 7.03108592,\n",
       "       7.04036852, 7.04965113, 7.05893373, 7.06821634, 7.07749894,\n",
       "       7.08678154, 7.09606415, 7.10534675, 7.11462936, 7.12391196,\n",
       "       7.13319456, 7.14247717, 7.15175977, 7.16104238, 7.17032498,\n",
       "       7.17960758, 7.18889019, 7.19817279, 7.2074554 , 7.216738  ,\n",
       "       7.2260206 , 7.23530321, 7.24458581, 7.25386841, 7.26315102,\n",
       "       7.27243362, 7.28171623, 7.29099883, 7.30028143, 7.30956404,\n",
       "       7.31884664, 7.32812925, 7.33741185, 7.34669445, 7.35597706,\n",
       "       7.36525966, 7.37454227, 7.38382487, 7.39310747, 7.40239008,\n",
       "       7.41167268, 7.42095529, 7.43023789, 7.43952049, 7.4488031 ,\n",
       "       7.4580857 ])"
      ]
     },
     "execution_count": 48,
     "metadata": {},
     "output_type": "execute_result"
    }
   ],
   "source": [
    "model_linear_pred"
   ]
  },
  {
   "cell_type": "code",
   "execution_count": 49,
   "metadata": {},
   "outputs": [],
   "source": [
    "dfBang[\"priceLinear\"] = np.exp(model_linear_pred)"
   ]
  },
  {
   "cell_type": "code",
   "execution_count": 50,
   "metadata": {},
   "outputs": [
    {
     "data": {
      "text/plain": [
       "[<matplotlib.lines.Line2D at 0x2ab135213c8>]"
      ]
     },
     "execution_count": 50,
     "metadata": {},
     "output_type": "execute_result"
    },
    {
     "data": {
      "image/png": "[encoded data removed]",
      "text/plain": [
       "<Figure size 432x288 with 1 Axes>"
      ]
     },
     "metadata": {
      "needs_background": "light"
     },
     "output_type": "display_data"
    }
   ],
   "source": [
    "dfBang.plot(kind=\"line\", x=\"timeIndex\", y = \"priceModLog\")\n",
    "plt.plot(dfBang.timeIndex,model_linear_pred, '-')"
   ]
  },
  {
   "cell_type": "code",
   "execution_count": 51,
   "metadata": {},
   "outputs": [
    {
     "data": {
      "text/plain": [
       "<matplotlib.axes._subplots.AxesSubplot at 0x2ab12741358>"
      ]
     },
     "execution_count": 51,
     "metadata": {},
     "output_type": "execute_result"
    },
    {
     "data": {
      "image/png": "[encoded data removed]",
      "text/plain": [
       "<Figure size 432x288 with 1 Axes>"
      ]
     },
     "metadata": {
      "needs_background": "light"
     },
     "output_type": "display_data"
    }
   ],
   "source": [
    "model_linear.resid.plot(kind = \"bar\")"
   ]
  },
  {
   "cell_type": "markdown",
   "metadata": {},
   "source": [
    "Посчитаем ошибку RMSE на линейной модели:"
   ]
  },
  {
   "cell_type": "code",
   "execution_count": 57,
   "metadata": {},
   "outputs": [
    {
     "data": {
      "text/plain": [
       "518.523607584147"
      ]
     },
     "execution_count": 57,
     "metadata": {},
     "output_type": "execute_result"
    }
   ],
   "source": [
    "model_linear_RMSE = RMSE(dfBang.priceLinear, dfBang.priceMod)\n",
    "model_linear_RMSE"
   ]
  },
  {
   "cell_type": "code",
   "execution_count": 58,
   "metadata": {},
   "outputs": [
    {
     "data": {
      "text/html": [
       "<div>\n",
       "<style scoped>\n",
       "    .dataframe tbody tr th:only-of-type {\n",
       "        vertical-align: middle;\n",
       "    }\n",
       "\n",
       "    .dataframe tbody tr th {\n",
       "        vertical-align: top;\n",
       "    }\n",
       "\n",
       "    .dataframe thead th {\n",
       "        text-align: right;\n",
       "    }\n",
       "</style>\n",
       "<table border=\"1\" class=\"dataframe\">\n",
       "  <thead>\n",
       "    <tr style=\"text-align: right;\">\n",
       "      <th></th>\n",
       "      <th>Model</th>\n",
       "      <th>Forecast</th>\n",
       "      <th>RMSE</th>\n",
       "    </tr>\n",
       "  </thead>\n",
       "  <tbody>\n",
       "    <tr>\n",
       "      <th>0</th>\n",
       "      <td>Mean</td>\n",
       "      <td>884.57</td>\n",
       "      <td>683.95</td>\n",
       "    </tr>\n",
       "    <tr>\n",
       "      <th>1</th>\n",
       "      <td>Linear</td>\n",
       "      <td>Linear</td>\n",
       "      <td>518.52</td>\n",
       "    </tr>\n",
       "  </tbody>\n",
       "</table>\n",
       "</div>"
      ],
      "text/plain": [
       "    Model Forecast   RMSE\n",
       "0    Mean   884.57 683.95\n",
       "1  Linear   Linear 518.52"
      ]
     },
     "execution_count": 58,
     "metadata": {},
     "output_type": "execute_result"
    }
   ],
   "source": [
    "dfBangResults.loc[1,\"Model\"] = \"Linear\"\n",
    "dfBangResults.loc[1,\"Forecast\"] = 'Linear'\n",
    "dfBangResults.loc[1,\"RMSE\"] = model_linear_RMSE\n",
    "dfBangResults.head()"
   ]
  },
  {
   "cell_type": "markdown",
   "metadata": {},
   "source": [
    "### Задание 7. Постройте линейную модель для величины quantity"
   ]
  },
  {
   "cell_type": "code",
   "execution_count": 59,
   "metadata": {},
   "outputs": [
    {
     "data": {
      "text/html": [
       "<table class=\"simpletable\">\n",
       "<caption>OLS Regression Results</caption>\n",
       "<tr>\n",
       "  <th>Dep. Variable:</th>       <td>quantityLog</td>   <th>  R-squared:         </th> <td>   0.195</td>\n",
       "</tr>\n",
       "<tr>\n",
       "  <th>Model:</th>                   <td>OLS</td>       <th>  Adj. R-squared:    </th> <td>   0.190</td>\n",
       "</tr>\n",
       "<tr>\n",
       "  <th>Method:</th>             <td>Least Squares</td>  <th>  F-statistic:       </th> <td>   34.97</td>\n",
       "</tr>\n",
       "<tr>\n",
       "  <th>Date:</th>             <td>Sat, 31 Oct 2020</td> <th>  Prob (F-statistic):</th> <td>2.33e-08</td>\n",
       "</tr>\n",
       "<tr>\n",
       "  <th>Time:</th>                 <td>17:50:09</td>     <th>  Log-Likelihood:    </th> <td> -96.788</td>\n",
       "</tr>\n",
       "<tr>\n",
       "  <th>No. Observations:</th>      <td>   146</td>      <th>  AIC:               </th> <td>   197.6</td>\n",
       "</tr>\n",
       "<tr>\n",
       "  <th>Df Residuals:</th>          <td>   144</td>      <th>  BIC:               </th> <td>   203.5</td>\n",
       "</tr>\n",
       "<tr>\n",
       "  <th>Df Model:</th>              <td>     1</td>      <th>                     </th>     <td> </td>   \n",
       "</tr>\n",
       "<tr>\n",
       "  <th>Covariance Type:</th>      <td>nonrobust</td>    <th>                     </th>     <td> </td>   \n",
       "</tr>\n",
       "</table>\n",
       "<table class=\"simpletable\">\n",
       "<tr>\n",
       "      <td></td>         <th>coef</th>     <th>std err</th>      <th>t</th>      <th>P>|t|</th>  <th>[0.025</th>    <th>0.975]</th>  \n",
       "</tr>\n",
       "<tr>\n",
       "  <th>Intercept</th> <td>   12.6311</td> <td>    0.078</td> <td>  162.236</td> <td> 0.000</td> <td>   12.477</td> <td>   12.785</td>\n",
       "</tr>\n",
       "<tr>\n",
       "  <th>timeIndex</th> <td>    0.0055</td> <td>    0.001</td> <td>    5.914</td> <td> 0.000</td> <td>    0.004</td> <td>    0.007</td>\n",
       "</tr>\n",
       "</table>\n",
       "<table class=\"simpletable\">\n",
       "<tr>\n",
       "  <th>Omnibus:</th>       <td> 9.031</td> <th>  Durbin-Watson:     </th> <td>   0.680</td>\n",
       "</tr>\n",
       "<tr>\n",
       "  <th>Prob(Omnibus):</th> <td> 0.011</td> <th>  Jarque-Bera (JB):  </th> <td>   9.025</td>\n",
       "</tr>\n",
       "<tr>\n",
       "  <th>Skew:</th>          <td> 0.526</td> <th>  Prob(JB):          </th> <td>  0.0110</td>\n",
       "</tr>\n",
       "<tr>\n",
       "  <th>Kurtosis:</th>      <td> 3.613</td> <th>  Cond. No.          </th> <td>    167.</td>\n",
       "</tr>\n",
       "</table><br/><br/>Warnings:<br/>[1] Standard Errors assume that the covariance matrix of the errors is correctly specified."
      ],
      "text/plain": [
       "<class 'statsmodels.iolib.summary.Summary'>\n",
       "\"\"\"\n",
       "                            OLS Regression Results                            \n",
       "==============================================================================\n",
       "Dep. Variable:            quantityLog   R-squared:                       0.195\n",
       "Model:                            OLS   Adj. R-squared:                  0.190\n",
       "Method:                 Least Squares   F-statistic:                     34.97\n",
       "Date:                Sat, 31 Oct 2020   Prob (F-statistic):           2.33e-08\n",
       "Time:                        17:50:09   Log-Likelihood:                -96.788\n",
       "No. Observations:                 146   AIC:                             197.6\n",
       "Df Residuals:                     144   BIC:                             203.5\n",
       "Df Model:                           1                                         \n",
       "Covariance Type:            nonrobust                                         \n",
       "==============================================================================\n",
       "                 coef    std err          t      P>|t|      [0.025      0.975]\n",
       "------------------------------------------------------------------------------\n",
       "Intercept     12.6311      0.078    162.236      0.000      12.477      12.785\n",
       "timeIndex      0.0055      0.001      5.914      0.000       0.004       0.007\n",
       "==============================================================================\n",
       "Omnibus:                        9.031   Durbin-Watson:                   0.680\n",
       "Prob(Omnibus):                  0.011   Jarque-Bera (JB):                9.025\n",
       "Skew:                           0.526   Prob(JB):                       0.0110\n",
       "Kurtosis:                       3.613   Cond. No.                         167.\n",
       "==============================================================================\n",
       "\n",
       "Warnings:\n",
       "[1] Standard Errors assume that the covariance matrix of the errors is correctly specified.\n",
       "\"\"\""
      ]
     },
     "execution_count": 59,
     "metadata": {},
     "output_type": "execute_result"
    }
   ],
   "source": [
    "### your code here\n",
    "model_linear = smf.ols('quantityLog ~ timeIndex', data = dfBang).fit()\n",
    "model_linear.summary()"
   ]
  },
  {
   "cell_type": "code",
   "execution_count": 60,
   "metadata": {},
   "outputs": [
    {
     "data": {
      "text/plain": [
       "287064.24879347923"
      ]
     },
     "execution_count": 60,
     "metadata": {},
     "output_type": "execute_result"
    }
   ],
   "source": [
    "dfBang['quantityLinear'] = np.exp(model_linear.predict())\n",
    "\n",
    "model_linear_RMSE = RMSE(dfBang.quantityLinear, dfBang.quantity)\n",
    "model_linear_RMSE"
   ]
  },
  {
   "cell_type": "code",
   "execution_count": 61,
   "metadata": {},
   "outputs": [
    {
     "data": {
      "text/html": [
       "<div>\n",
       "<style scoped>\n",
       "    .dataframe tbody tr th:only-of-type {\n",
       "        vertical-align: middle;\n",
       "    }\n",
       "\n",
       "    .dataframe tbody tr th {\n",
       "        vertical-align: top;\n",
       "    }\n",
       "\n",
       "    .dataframe thead th {\n",
       "        text-align: right;\n",
       "    }\n",
       "</style>\n",
       "<table border=\"1\" class=\"dataframe\">\n",
       "  <thead>\n",
       "    <tr style=\"text-align: right;\">\n",
       "      <th></th>\n",
       "      <th>Model</th>\n",
       "      <th>Forecast</th>\n",
       "      <th>RMSE</th>\n",
       "    </tr>\n",
       "  </thead>\n",
       "  <tbody>\n",
       "    <tr>\n",
       "      <th>0</th>\n",
       "      <td>Mean</td>\n",
       "      <td>455472.66</td>\n",
       "      <td>309007.29</td>\n",
       "    </tr>\n",
       "    <tr>\n",
       "      <th>1</th>\n",
       "      <td>Linear</td>\n",
       "      <td>Linear</td>\n",
       "      <td>287064.25</td>\n",
       "    </tr>\n",
       "  </tbody>\n",
       "</table>\n",
       "</div>"
      ],
      "text/plain": [
       "    Model  Forecast      RMSE\n",
       "0    Mean 455472.66 309007.29\n",
       "1  Linear    Linear 287064.25"
      ]
     },
     "execution_count": 61,
     "metadata": {},
     "output_type": "execute_result"
    }
   ],
   "source": [
    "dfBangQ.loc[1,\"Model\"] = \"Linear\"\n",
    "dfBangQ.loc[1,\"Forecast\"] = 'Linear'\n",
    "dfBangQ.loc[1,\"RMSE\"] = model_linear_RMSE\n",
    "dfBangQ.head()"
   ]
  },
  {
   "cell_type": "markdown",
   "metadata": {},
   "source": [
    "## 1.3 Линейная модель с регрессией"
   ]
  },
  {
   "cell_type": "code",
   "execution_count": 62,
   "metadata": {},
   "outputs": [],
   "source": [
    "## Построим регрессию, используя несколько переменных timeIndex и np.log(quantity)\n",
    "model_linear_quantity = smf.ols('priceModLog ~ timeIndex + np.log(quantity)', data = dfBang).fit()"
   ]
  },
  {
   "cell_type": "code",
   "execution_count": 63,
   "metadata": {},
   "outputs": [
    {
     "data": {
      "text/html": [
       "<table class=\"simpletable\">\n",
       "<caption>OLS Regression Results</caption>\n",
       "<tr>\n",
       "  <th>Dep. Variable:</th>       <td>priceModLog</td>   <th>  R-squared:         </th> <td>   0.509</td>\n",
       "</tr>\n",
       "<tr>\n",
       "  <th>Model:</th>                   <td>OLS</td>       <th>  Adj. R-squared:    </th> <td>   0.502</td>\n",
       "</tr>\n",
       "<tr>\n",
       "  <th>Method:</th>             <td>Least Squares</td>  <th>  F-statistic:       </th> <td>   74.16</td>\n",
       "</tr>\n",
       "<tr>\n",
       "  <th>Date:</th>             <td>Sat, 31 Oct 2020</td> <th>  Prob (F-statistic):</th> <td>8.00e-23</td>\n",
       "</tr>\n",
       "<tr>\n",
       "  <th>Time:</th>                 <td>17:53:22</td>     <th>  Log-Likelihood:    </th> <td> -69.892</td>\n",
       "</tr>\n",
       "<tr>\n",
       "  <th>No. Observations:</th>      <td>   146</td>      <th>  AIC:               </th> <td>   145.8</td>\n",
       "</tr>\n",
       "<tr>\n",
       "  <th>Df Residuals:</th>          <td>   143</td>      <th>  BIC:               </th> <td>   154.7</td>\n",
       "</tr>\n",
       "<tr>\n",
       "  <th>Df Model:</th>              <td>     2</td>      <th>                     </th>     <td> </td>   \n",
       "</tr>\n",
       "<tr>\n",
       "  <th>Covariance Type:</th>      <td>nonrobust</td>    <th>                     </th>     <td> </td>   \n",
       "</tr>\n",
       "</table>\n",
       "<table class=\"simpletable\">\n",
       "<tr>\n",
       "          <td></td>            <th>coef</th>     <th>std err</th>      <th>t</th>      <th>P>|t|</th>  <th>[0.025</th>    <th>0.975]</th>  \n",
       "</tr>\n",
       "<tr>\n",
       "  <th>Intercept</th>        <td>    4.1813</td> <td>    0.881</td> <td>    4.746</td> <td> 0.000</td> <td>    2.440</td> <td>    5.923</td>\n",
       "</tr>\n",
       "<tr>\n",
       "  <th>timeIndex</th>        <td>    0.0084</td> <td>    0.001</td> <td>    9.774</td> <td> 0.000</td> <td>    0.007</td> <td>    0.010</td>\n",
       "</tr>\n",
       "<tr>\n",
       "  <th>np.log(quantity)</th> <td>    0.1529</td> <td>    0.070</td> <td>    2.198</td> <td> 0.030</td> <td>    0.015</td> <td>    0.290</td>\n",
       "</tr>\n",
       "</table>\n",
       "<table class=\"simpletable\">\n",
       "<tr>\n",
       "  <th>Omnibus:</th>       <td> 5.097</td> <th>  Durbin-Watson:     </th> <td>   0.412</td>\n",
       "</tr>\n",
       "<tr>\n",
       "  <th>Prob(Omnibus):</th> <td> 0.078</td> <th>  Jarque-Bera (JB):  </th> <td>   4.952</td>\n",
       "</tr>\n",
       "<tr>\n",
       "  <th>Skew:</th>          <td> 0.403</td> <th>  Prob(JB):          </th> <td>  0.0841</td>\n",
       "</tr>\n",
       "<tr>\n",
       "  <th>Kurtosis:</th>      <td> 2.593</td> <th>  Cond. No.          </th> <td>2.29e+03</td>\n",
       "</tr>\n",
       "</table><br/><br/>Warnings:<br/>[1] Standard Errors assume that the covariance matrix of the errors is correctly specified.<br/>[2] The condition number is large, 2.29e+03. This might indicate that there are<br/>strong multicollinearity or other numerical problems."
      ],
      "text/plain": [
       "<class 'statsmodels.iolib.summary.Summary'>\n",
       "\"\"\"\n",
       "                            OLS Regression Results                            \n",
       "==============================================================================\n",
       "Dep. Variable:            priceModLog   R-squared:                       0.509\n",
       "Model:                            OLS   Adj. R-squared:                  0.502\n",
       "Method:                 Least Squares   F-statistic:                     74.16\n",
       "Date:                Sat, 31 Oct 2020   Prob (F-statistic):           8.00e-23\n",
       "Time:                        17:53:22   Log-Likelihood:                -69.892\n",
       "No. Observations:                 146   AIC:                             145.8\n",
       "Df Residuals:                     143   BIC:                             154.7\n",
       "Df Model:                           2                                         \n",
       "Covariance Type:            nonrobust                                         \n",
       "====================================================================================\n",
       "                       coef    std err          t      P>|t|      [0.025      0.975]\n",
       "------------------------------------------------------------------------------------\n",
       "Intercept            4.1813      0.881      4.746      0.000       2.440       5.923\n",
       "timeIndex            0.0084      0.001      9.774      0.000       0.007       0.010\n",
       "np.log(quantity)     0.1529      0.070      2.198      0.030       0.015       0.290\n",
       "==============================================================================\n",
       "Omnibus:                        5.097   Durbin-Watson:                   0.412\n",
       "Prob(Omnibus):                  0.078   Jarque-Bera (JB):                4.952\n",
       "Skew:                           0.403   Prob(JB):                       0.0841\n",
       "Kurtosis:                       2.593   Cond. No.                     2.29e+03\n",
       "==============================================================================\n",
       "\n",
       "Warnings:\n",
       "[1] Standard Errors assume that the covariance matrix of the errors is correctly specified.\n",
       "[2] The condition number is large, 2.29e+03. This might indicate that there are\n",
       "strong multicollinearity or other numerical problems.\n",
       "\"\"\""
      ]
     },
     "execution_count": 63,
     "metadata": {},
     "output_type": "execute_result"
    }
   ],
   "source": [
    "model_linear_quantity.summary()"
   ]
  },
  {
   "cell_type": "code",
   "execution_count": 64,
   "metadata": {},
   "outputs": [
    {
     "data": {
      "text/html": [
       "<div>\n",
       "<style scoped>\n",
       "    .dataframe tbody tr th:only-of-type {\n",
       "        vertical-align: middle;\n",
       "    }\n",
       "\n",
       "    .dataframe tbody tr th {\n",
       "        vertical-align: top;\n",
       "    }\n",
       "\n",
       "    .dataframe thead th {\n",
       "        text-align: right;\n",
       "    }\n",
       "</style>\n",
       "<table border=\"1\" class=\"dataframe\">\n",
       "  <thead>\n",
       "    <tr style=\"text-align: right;\">\n",
       "      <th></th>\n",
       "      <th>quantity</th>\n",
       "      <th>priceMod</th>\n",
       "      <th>date</th>\n",
       "      <th>priceModLog</th>\n",
       "      <th>priceMean</th>\n",
       "      <th>quantityLog</th>\n",
       "      <th>quantityMean</th>\n",
       "      <th>timeIndex</th>\n",
       "      <th>priceLinear</th>\n",
       "      <th>quantityLinear</th>\n",
       "    </tr>\n",
       "    <tr>\n",
       "      <th>date</th>\n",
       "      <th></th>\n",
       "      <th></th>\n",
       "      <th></th>\n",
       "      <th></th>\n",
       "      <th></th>\n",
       "      <th></th>\n",
       "      <th></th>\n",
       "      <th></th>\n",
       "      <th></th>\n",
       "      <th></th>\n",
       "    </tr>\n",
       "  </thead>\n",
       "  <tbody>\n",
       "    <tr>\n",
       "      <th>2004-01</th>\n",
       "      <td>227832</td>\n",
       "      <td>991</td>\n",
       "      <td>2004-01-01</td>\n",
       "      <td>6.90</td>\n",
       "      <td>884.57</td>\n",
       "      <td>12.34</td>\n",
       "      <td>455472.66</td>\n",
       "      <td>0</td>\n",
       "      <td>451.29</td>\n",
       "      <td>305911.98</td>\n",
       "    </tr>\n",
       "    <tr>\n",
       "      <th>2004-02</th>\n",
       "      <td>225133</td>\n",
       "      <td>793</td>\n",
       "      <td>2004-02-01</td>\n",
       "      <td>6.68</td>\n",
       "      <td>884.57</td>\n",
       "      <td>12.32</td>\n",
       "      <td>455472.66</td>\n",
       "      <td>1</td>\n",
       "      <td>455.50</td>\n",
       "      <td>307596.11</td>\n",
       "    </tr>\n",
       "    <tr>\n",
       "      <th>2004-03</th>\n",
       "      <td>221952</td>\n",
       "      <td>556</td>\n",
       "      <td>2004-03-01</td>\n",
       "      <td>6.32</td>\n",
       "      <td>884.57</td>\n",
       "      <td>12.31</td>\n",
       "      <td>455472.66</td>\n",
       "      <td>2</td>\n",
       "      <td>459.75</td>\n",
       "      <td>309289.51</td>\n",
       "    </tr>\n",
       "    <tr>\n",
       "      <th>2004-04</th>\n",
       "      <td>185150</td>\n",
       "      <td>465</td>\n",
       "      <td>2004-04-01</td>\n",
       "      <td>6.14</td>\n",
       "      <td>884.57</td>\n",
       "      <td>12.13</td>\n",
       "      <td>455472.66</td>\n",
       "      <td>3</td>\n",
       "      <td>464.03</td>\n",
       "      <td>310992.24</td>\n",
       "    </tr>\n",
       "    <tr>\n",
       "      <th>2004-05</th>\n",
       "      <td>137390</td>\n",
       "      <td>455</td>\n",
       "      <td>2004-05-01</td>\n",
       "      <td>6.12</td>\n",
       "      <td>884.57</td>\n",
       "      <td>11.83</td>\n",
       "      <td>455472.66</td>\n",
       "      <td>4</td>\n",
       "      <td>468.36</td>\n",
       "      <td>312704.34</td>\n",
       "    </tr>\n",
       "  </tbody>\n",
       "</table>\n",
       "</div>"
      ],
      "text/plain": [
       "         quantity  priceMod       date  priceModLog  priceMean  quantityLog  \\\n",
       "date                                                                          \n",
       "2004-01    227832       991 2004-01-01         6.90     884.57        12.34   \n",
       "2004-02    225133       793 2004-02-01         6.68     884.57        12.32   \n",
       "2004-03    221952       556 2004-03-01         6.32     884.57        12.31   \n",
       "2004-04    185150       465 2004-04-01         6.14     884.57        12.13   \n",
       "2004-05    137390       455 2004-05-01         6.12     884.57        11.83   \n",
       "\n",
       "         quantityMean  timeIndex  priceLinear  quantityLinear  \n",
       "date                                                           \n",
       "2004-01     455472.66          0       451.29       305911.98  \n",
       "2004-02     455472.66          1       455.50       307596.11  \n",
       "2004-03     455472.66          2       459.75       309289.51  \n",
       "2004-04     455472.66          3       464.03       310992.24  \n",
       "2004-05     455472.66          4       468.36       312704.34  "
      ]
     },
     "execution_count": 64,
     "metadata": {},
     "output_type": "execute_result"
    }
   ],
   "source": [
    "dfBang.head()"
   ]
  },
  {
   "cell_type": "code",
   "execution_count": 65,
   "metadata": {},
   "outputs": [],
   "source": [
    "dfBang[\"priceLinearQuantity\"] = np.exp(model_linear_quantity.predict())"
   ]
  },
  {
   "cell_type": "code",
   "execution_count": 66,
   "metadata": {},
   "outputs": [],
   "source": [
    "model_linear_q_pred = model_linear_quantity.predict()"
   ]
  },
  {
   "cell_type": "code",
   "execution_count": 67,
   "metadata": {},
   "outputs": [
    {
     "data": {
      "text/plain": [
       "<matplotlib.axes._subplots.AxesSubplot at 0x2ab13a76be0>"
      ]
     },
     "execution_count": 67,
     "metadata": {},
     "output_type": "execute_result"
    },
    {
     "data": {
      "image/png": "[encoded data removed]",
      "text/plain": [
       "<Figure size 432x288 with 1 Axes>"
      ]
     },
     "metadata": {
      "needs_background": "light"
     },
     "output_type": "display_data"
    },
    {
     "data": {
      "image/png": "[encoded data removed]",
      "text/plain": [
       "<Figure size 432x288 with 1 Axes>"
      ]
     },
     "metadata": {
      "needs_background": "light"
     },
     "output_type": "display_data"
    }
   ],
   "source": [
    "dfBang.plot(kind = \"line\", x=\"timeIndex\", y = \"quantity\")\n",
    "dfBang.plot(kind=\"line\", x=\"timeIndex\", y = [\"priceMod\", \"priceMean\", \n",
    "                                             \"priceLinear\", \"priceLinearQuantity\"])"
   ]
  },
  {
   "cell_type": "code",
   "execution_count": 73,
   "metadata": {},
   "outputs": [
    {
     "data": {
      "text/html": [
       "<div>\n",
       "<style scoped>\n",
       "    .dataframe tbody tr th:only-of-type {\n",
       "        vertical-align: middle;\n",
       "    }\n",
       "\n",
       "    .dataframe tbody tr th {\n",
       "        vertical-align: top;\n",
       "    }\n",
       "\n",
       "    .dataframe thead th {\n",
       "        text-align: right;\n",
       "    }\n",
       "</style>\n",
       "<table border=\"1\" class=\"dataframe\">\n",
       "  <thead>\n",
       "    <tr style=\"text-align: right;\">\n",
       "      <th></th>\n",
       "      <th>Model</th>\n",
       "      <th>Forecast</th>\n",
       "      <th>RMSE</th>\n",
       "    </tr>\n",
       "  </thead>\n",
       "  <tbody>\n",
       "    <tr>\n",
       "      <th>0</th>\n",
       "      <td>Mean</td>\n",
       "      <td>884.57</td>\n",
       "      <td>683.95</td>\n",
       "    </tr>\n",
       "    <tr>\n",
       "      <th>1</th>\n",
       "      <td>Linear</td>\n",
       "      <td>Linear</td>\n",
       "      <td>518.52</td>\n",
       "    </tr>\n",
       "    <tr>\n",
       "      <th>2</th>\n",
       "      <td>Mean</td>\n",
       "      <td>trend+regression</td>\n",
       "      <td>505.25</td>\n",
       "    </tr>\n",
       "  </tbody>\n",
       "</table>\n",
       "</div>"
      ],
      "text/plain": [
       "    Model          Forecast   RMSE\n",
       "0    Mean            884.57 683.95\n",
       "1  Linear            Linear 518.52\n",
       "2    Mean  trend+regression 505.25"
      ]
     },
     "execution_count": 73,
     "metadata": {},
     "output_type": "execute_result"
    }
   ],
   "source": [
    "dfBangResults.loc[2,\"Model\"] = \"Mean\"\n",
    "dfBangResults.loc[2,\"Forecast\"] = \"trend+regression\"\n",
    "dfBangResults.loc[2,\"RMSE\"] = RMSE(dfBang.priceMod, dfBang.priceLinearQuantity)\n",
    "dfBangResults.head()"
   ]
  },
  {
   "cell_type": "markdown",
   "metadata": {},
   "source": [
    "### Задание 8. Постройте линейную модель с регрессией для величины quantity"
   ]
  },
  {
   "cell_type": "code",
   "execution_count": 69,
   "metadata": {},
   "outputs": [],
   "source": [
    "### your code here\n",
    "model_linear_price = smf.ols('quantityLog ~ timeIndex + np.log(priceMod)', data = dfBang).fit()"
   ]
  },
  {
   "cell_type": "code",
   "execution_count": 70,
   "metadata": {},
   "outputs": [
    {
     "data": {
      "text/html": [
       "<table class=\"simpletable\">\n",
       "<caption>OLS Regression Results</caption>\n",
       "<tr>\n",
       "  <th>Dep. Variable:</th>       <td>quantityLog</td>   <th>  R-squared:         </th> <td>   0.222</td>\n",
       "</tr>\n",
       "<tr>\n",
       "  <th>Model:</th>                   <td>OLS</td>       <th>  Adj. R-squared:    </th> <td>   0.211</td>\n",
       "</tr>\n",
       "<tr>\n",
       "  <th>Method:</th>             <td>Least Squares</td>  <th>  F-statistic:       </th> <td>   20.37</td>\n",
       "</tr>\n",
       "<tr>\n",
       "  <th>Date:</th>             <td>Sat, 31 Oct 2020</td> <th>  Prob (F-statistic):</th> <td>1.65e-08</td>\n",
       "</tr>\n",
       "<tr>\n",
       "  <th>Time:</th>                 <td>18:00:08</td>     <th>  Log-Likelihood:    </th> <td> -94.363</td>\n",
       "</tr>\n",
       "<tr>\n",
       "  <th>No. Observations:</th>      <td>   146</td>      <th>  AIC:               </th> <td>   194.7</td>\n",
       "</tr>\n",
       "<tr>\n",
       "  <th>Df Residuals:</th>          <td>   143</td>      <th>  BIC:               </th> <td>   203.7</td>\n",
       "</tr>\n",
       "<tr>\n",
       "  <th>Df Model:</th>              <td>     2</td>      <th>                     </th>     <td> </td>   \n",
       "</tr>\n",
       "<tr>\n",
       "  <th>Covariance Type:</th>      <td>nonrobust</td>    <th>                     </th>     <td> </td>   \n",
       "</tr>\n",
       "</table>\n",
       "<table class=\"simpletable\">\n",
       "<tr>\n",
       "          <td></td>            <th>coef</th>     <th>std err</th>      <th>t</th>      <th>P>|t|</th>  <th>[0.025</th>    <th>0.975]</th>  \n",
       "</tr>\n",
       "<tr>\n",
       "  <th>Intercept</th>        <td>   11.3246</td> <td>    0.599</td> <td>   18.894</td> <td> 0.000</td> <td>   10.140</td> <td>   12.509</td>\n",
       "</tr>\n",
       "<tr>\n",
       "  <th>timeIndex</th>        <td>    0.0035</td> <td>    0.001</td> <td>    2.726</td> <td> 0.007</td> <td>    0.001</td> <td>    0.006</td>\n",
       "</tr>\n",
       "<tr>\n",
       "  <th>np.log(priceMod)</th> <td>    0.2137</td> <td>    0.097</td> <td>    2.198</td> <td> 0.030</td> <td>    0.021</td> <td>    0.406</td>\n",
       "</tr>\n",
       "</table>\n",
       "<table class=\"simpletable\">\n",
       "<tr>\n",
       "  <th>Omnibus:</th>       <td> 5.865</td> <th>  Durbin-Watson:     </th> <td>   0.708</td>\n",
       "</tr>\n",
       "<tr>\n",
       "  <th>Prob(Omnibus):</th> <td> 0.053</td> <th>  Jarque-Bera (JB):  </th> <td>   5.491</td>\n",
       "</tr>\n",
       "<tr>\n",
       "  <th>Skew:</th>          <td> 0.393</td> <th>  Prob(JB):          </th> <td>  0.0642</td>\n",
       "</tr>\n",
       "<tr>\n",
       "  <th>Kurtosis:</th>      <td> 3.532</td> <th>  Cond. No.          </th> <td>1.32e+03</td>\n",
       "</tr>\n",
       "</table><br/><br/>Warnings:<br/>[1] Standard Errors assume that the covariance matrix of the errors is correctly specified.<br/>[2] The condition number is large, 1.32e+03. This might indicate that there are<br/>strong multicollinearity or other numerical problems."
      ],
      "text/plain": [
       "<class 'statsmodels.iolib.summary.Summary'>\n",
       "\"\"\"\n",
       "                            OLS Regression Results                            \n",
       "==============================================================================\n",
       "Dep. Variable:            quantityLog   R-squared:                       0.222\n",
       "Model:                            OLS   Adj. R-squared:                  0.211\n",
       "Method:                 Least Squares   F-statistic:                     20.37\n",
       "Date:                Sat, 31 Oct 2020   Prob (F-statistic):           1.65e-08\n",
       "Time:                        18:00:08   Log-Likelihood:                -94.363\n",
       "No. Observations:                 146   AIC:                             194.7\n",
       "Df Residuals:                     143   BIC:                             203.7\n",
       "Df Model:                           2                                         \n",
       "Covariance Type:            nonrobust                                         \n",
       "====================================================================================\n",
       "                       coef    std err          t      P>|t|      [0.025      0.975]\n",
       "------------------------------------------------------------------------------------\n",
       "Intercept           11.3246      0.599     18.894      0.000      10.140      12.509\n",
       "timeIndex            0.0035      0.001      2.726      0.007       0.001       0.006\n",
       "np.log(priceMod)     0.2137      0.097      2.198      0.030       0.021       0.406\n",
       "==============================================================================\n",
       "Omnibus:                        5.865   Durbin-Watson:                   0.708\n",
       "Prob(Omnibus):                  0.053   Jarque-Bera (JB):                5.491\n",
       "Skew:                           0.393   Prob(JB):                       0.0642\n",
       "Kurtosis:                       3.532   Cond. No.                     1.32e+03\n",
       "==============================================================================\n",
       "\n",
       "Warnings:\n",
       "[1] Standard Errors assume that the covariance matrix of the errors is correctly specified.\n",
       "[2] The condition number is large, 1.32e+03. This might indicate that there are\n",
       "strong multicollinearity or other numerical problems.\n",
       "\"\"\""
      ]
     },
     "execution_count": 70,
     "metadata": {},
     "output_type": "execute_result"
    }
   ],
   "source": [
    "model_linear_price.summary()"
   ]
  },
  {
   "cell_type": "code",
   "execution_count": 72,
   "metadata": {},
   "outputs": [],
   "source": [
    "dfBang[\"quantityLinearPrice\"] = np.exp(model_linear_price.predict())"
   ]
  },
  {
   "cell_type": "code",
   "execution_count": 74,
   "metadata": {},
   "outputs": [
    {
     "data": {
      "text/html": [
       "<div>\n",
       "<style scoped>\n",
       "    .dataframe tbody tr th:only-of-type {\n",
       "        vertical-align: middle;\n",
       "    }\n",
       "\n",
       "    .dataframe tbody tr th {\n",
       "        vertical-align: top;\n",
       "    }\n",
       "\n",
       "    .dataframe thead th {\n",
       "        text-align: right;\n",
       "    }\n",
       "</style>\n",
       "<table border=\"1\" class=\"dataframe\">\n",
       "  <thead>\n",
       "    <tr style=\"text-align: right;\">\n",
       "      <th></th>\n",
       "      <th>Model</th>\n",
       "      <th>Forecast</th>\n",
       "      <th>RMSE</th>\n",
       "    </tr>\n",
       "  </thead>\n",
       "  <tbody>\n",
       "    <tr>\n",
       "      <th>0</th>\n",
       "      <td>Mean</td>\n",
       "      <td>455472.66</td>\n",
       "      <td>309007.29</td>\n",
       "    </tr>\n",
       "    <tr>\n",
       "      <th>1</th>\n",
       "      <td>Linear</td>\n",
       "      <td>Linear</td>\n",
       "      <td>287064.25</td>\n",
       "    </tr>\n",
       "    <tr>\n",
       "      <th>2</th>\n",
       "      <td>Mean</td>\n",
       "      <td>trend+regression</td>\n",
       "      <td>279091.12</td>\n",
       "    </tr>\n",
       "  </tbody>\n",
       "</table>\n",
       "</div>"
      ],
      "text/plain": [
       "    Model          Forecast      RMSE\n",
       "0    Mean         455472.66 309007.29\n",
       "1  Linear            Linear 287064.25\n",
       "2    Mean  trend+regression 279091.12"
      ]
     },
     "execution_count": 74,
     "metadata": {},
     "output_type": "execute_result"
    }
   ],
   "source": [
    "dfBangQ.loc[2,\"Model\"] = \"Mean\"\n",
    "dfBangQ.loc[2,\"Forecast\"] = \"trend+regression\"\n",
    "dfBangQ.loc[2,\"RMSE\"] = RMSE(dfBang.quantity, dfBang.quantityLinearPrice)\n",
    "dfBangQ.head()"
   ]
  },
  {
   "cell_type": "markdown",
   "metadata": {},
   "source": [
    "## 2 Выделение тренда и сезонности\n",
    "\n",
    "При работе с временными рядами выделяют два действия:\n",
    "- Дифференцирование - расчет разницы с определенным временным лагом\n",
    "- Декомпозиция - моделирование как тренда, так и сезонности и удаление их из модели."
   ]
  },
  {
   "cell_type": "markdown",
   "metadata": {},
   "source": [
    "Предположим, что у вас имеются ежемесячные данные о пассажиропотоке на международных авиалиниях.  \n",
    "Объем пассажиропотока имеет во времени возрастающий линейный тренд, и в ряде имеется ежегодно повторяющаяся закономерность - сезонность (большинство перевозок приходится на летние месяцы, кроме того, имеется пик меньшей высоты в районе декабрьских каникул). \n",
    "Цель декомпозиции как раз и состоит в том, чтобы отделить эти компоненты, то есть разложить ряд на составляющую тренда, сезонную компоненту и оставшуюся нерегулярную составляющую. "
   ]
  },
  {
   "cell_type": "markdown",
   "metadata": {},
   "source": [
    "То есть каждый уровень временного ряда формируется под воздействием большого числа факторов, которые условно можно подразделить на три группы:\n",
    "- факторы, формирующие тенденцию ряда\n",
    "- факторы, формирующие циклические колебания ряда\n",
    "- случайные факторы  \n",
    "\n",
    "Рассмотрим воздействие каждого фактора на временной ряд в отдельности.  \n",
    "Большинство временных рядов экономических показателей имеют тенденцию, \n",
    "характеризующую совокупное долговременное воздействие множества факторов на динамику изучаемого показателя.  \n",
    "Все эти факторы, взятые в отдельности, могут оказывать разнонаправленное воздействие на исследуемый показатель. Однако в совокупности они формируют его возрастающую или убывающую тенденцию"
   ]
  },
  {
   "cell_type": "markdown",
   "metadata": {},
   "source": [
    "В большинстве случаев фактический уровень временного ряда можно представить как сумму или произведение трендовой, циклической и случайной компонент. Модель, в которой временной ряд представлен как сумма перечисленных компонент, называется **аддитивной** моделью временного ряда. Модель, в которой временной ряд представлен как произведение перечисленных компонент, называется **мультипликативной** моделью временного ряда. "
   ]
  },
  {
   "cell_type": "markdown",
   "metadata": {},
   "source": [
    "**Аддитивная модель** \n",
    "$${Y_t} = t (trend) + s (seasonality) + r (residual)$$"
   ]
  },
  {
   "cell_type": "markdown",
   "metadata": {},
   "source": [
    "![](https://miro.medium.com/max/1360/0*JWWglnH4RBR-SbxC.png)"
   ]
  },
  {
   "cell_type": "markdown",
   "metadata": {},
   "source": [
    "**Мультипликативная модель** \n",
    "$${Y_t} = t (trend) * s (seasonality) * r (residual)$$"
   ]
  },
  {
   "cell_type": "markdown",
   "metadata": {},
   "source": [
    "![](https://anomaly.io/wp-content/uploads/2015/12/multiplicative-model.png)"
   ]
  },
  {
   "cell_type": "markdown",
   "metadata": {},
   "source": [
    "Как видим, отличие мультипликативной модели от аддитивной состоит в том, \n",
    "что в мультипликативной модели сезонная и случайная составляющие определены в виде относительных величин (коэффициентов), \n",
    "а в аддитивной модели – в виде абсолютных величин.   \n",
    "Эти модели в практических расчетах дадут близкие результаты, если амплитуда колебаний уровней ряда слабо изменяется во времени"
   ]
  },
  {
   "cell_type": "markdown",
   "metadata": {},
   "source": [
    "Какие примеры аддитивных и мультипликаативных рядов из жизни вы знаете?"
   ]
  },
  {
   "cell_type": "markdown",
   "metadata": {},
   "source": [
    "### Расчет лагов\n",
    "Представим временной ряд в виде последовательности разницы между значениями.  \n",
    "Рассчитаем лаги, выведем их на графике"
   ]
  },
  {
   "cell_type": "code",
   "execution_count": 94,
   "metadata": {},
   "outputs": [],
   "source": [
    "# Рассчитаем лаги\n",
    "dfBang[\"priceModLogShift1\"] = dfBang.priceModLog.shift()"
   ]
  },
  {
   "cell_type": "code",
   "execution_count": 95,
   "metadata": {},
   "outputs": [
    {
     "data": {
      "text/plain": [
       "<matplotlib.axes._subplots.AxesSubplot at 0x2ab164dd198>"
      ]
     },
     "execution_count": 95,
     "metadata": {},
     "output_type": "execute_result"
    },
    {
     "data": {
      "image/png": "[encoded data removed]",
      "text/plain": [
       "<Figure size 432x288 with 1 Axes>"
      ]
     },
     "metadata": {
      "needs_background": "light"
     },
     "output_type": "display_data"
    }
   ],
   "source": [
    "# Выведем на графике priceModLog и priceModLogShift1\n",
    "dfBang.plot(kind= \"scatter\", y = \"priceModLog\", x = \"priceModLogShift1\", s = 50)"
   ]
  },
  {
   "cell_type": "code",
   "execution_count": 96,
   "metadata": {},
   "outputs": [],
   "source": [
    "dfBang[\"priceModLogDiff\"] = dfBang.priceModLog - dfBang.priceModLogShift1"
   ]
  },
  {
   "cell_type": "code",
   "execution_count": 97,
   "metadata": {},
   "outputs": [
    {
     "data": {
      "text/plain": [
       "<matplotlib.axes._subplots.AxesSubplot at 0x2ab0b8fe748>"
      ]
     },
     "execution_count": 97,
     "metadata": {},
     "output_type": "execute_result"
    },
    {
     "data": {
      "image/png": "[encoded data removed]",
      "text/plain": [
       "<Figure size 432x288 with 1 Axes>"
      ]
     },
     "metadata": {
      "needs_background": "light"
     },
     "output_type": "display_data"
    }
   ],
   "source": [
    "dfBang.priceModLogDiff.plot()"
   ]
  },
  {
   "cell_type": "markdown",
   "metadata": {},
   "source": [
    "### Декомпозиция \n",
    "Декомпозируем наш временной ряд на тренд и сезонность"
   ]
  },
  {
   "cell_type": "code",
   "execution_count": 75,
   "metadata": {},
   "outputs": [],
   "source": [
    "from statsmodels.tsa.seasonal import seasonal_decompose"
   ]
  },
  {
   "cell_type": "code",
   "execution_count": 77,
   "metadata": {},
   "outputs": [],
   "source": [
    "dfBang.index = dfBang.index.to_timestamp()"
   ]
  },
  {
   "cell_type": "code",
   "execution_count": 76,
   "metadata": {},
   "outputs": [],
   "source": [
    "#timestamp, datetime"
   ]
  },
  {
   "cell_type": "code",
   "execution_count": 78,
   "metadata": {},
   "outputs": [
    {
     "data": {
      "text/html": [
       "<div>\n",
       "<style scoped>\n",
       "    .dataframe tbody tr th:only-of-type {\n",
       "        vertical-align: middle;\n",
       "    }\n",
       "\n",
       "    .dataframe tbody tr th {\n",
       "        vertical-align: top;\n",
       "    }\n",
       "\n",
       "    .dataframe thead th {\n",
       "        text-align: right;\n",
       "    }\n",
       "</style>\n",
       "<table border=\"1\" class=\"dataframe\">\n",
       "  <thead>\n",
       "    <tr style=\"text-align: right;\">\n",
       "      <th></th>\n",
       "      <th>quantity</th>\n",
       "      <th>priceMod</th>\n",
       "      <th>date</th>\n",
       "      <th>priceModLog</th>\n",
       "      <th>priceMean</th>\n",
       "      <th>quantityLog</th>\n",
       "      <th>quantityMean</th>\n",
       "      <th>timeIndex</th>\n",
       "      <th>priceLinear</th>\n",
       "      <th>quantityLinear</th>\n",
       "      <th>priceLinearQuantity</th>\n",
       "      <th>quantityLinearPrice</th>\n",
       "    </tr>\n",
       "    <tr>\n",
       "      <th>date</th>\n",
       "      <th></th>\n",
       "      <th></th>\n",
       "      <th></th>\n",
       "      <th></th>\n",
       "      <th></th>\n",
       "      <th></th>\n",
       "      <th></th>\n",
       "      <th></th>\n",
       "      <th></th>\n",
       "      <th></th>\n",
       "      <th></th>\n",
       "      <th></th>\n",
       "    </tr>\n",
       "  </thead>\n",
       "  <tbody>\n",
       "    <tr>\n",
       "      <th>2004-01-01</th>\n",
       "      <td>227832</td>\n",
       "      <td>991</td>\n",
       "      <td>2004-01-01</td>\n",
       "      <td>6.90</td>\n",
       "      <td>884.57</td>\n",
       "      <td>12.34</td>\n",
       "      <td>455472.66</td>\n",
       "      <td>0</td>\n",
       "      <td>451.29</td>\n",
       "      <td>305911.98</td>\n",
       "      <td>431.41</td>\n",
       "      <td>361921.33</td>\n",
       "    </tr>\n",
       "    <tr>\n",
       "      <th>2004-02-01</th>\n",
       "      <td>225133</td>\n",
       "      <td>793</td>\n",
       "      <td>2004-02-01</td>\n",
       "      <td>6.68</td>\n",
       "      <td>884.57</td>\n",
       "      <td>12.32</td>\n",
       "      <td>455472.66</td>\n",
       "      <td>1</td>\n",
       "      <td>455.50</td>\n",
       "      <td>307596.11</td>\n",
       "      <td>434.28</td>\n",
       "      <td>346295.39</td>\n",
       "    </tr>\n",
       "    <tr>\n",
       "      <th>2004-03-01</th>\n",
       "      <td>221952</td>\n",
       "      <td>556</td>\n",
       "      <td>2004-03-01</td>\n",
       "      <td>6.32</td>\n",
       "      <td>884.57</td>\n",
       "      <td>12.31</td>\n",
       "      <td>455472.66</td>\n",
       "      <td>2</td>\n",
       "      <td>459.75</td>\n",
       "      <td>309289.51</td>\n",
       "      <td>437.01</td>\n",
       "      <td>322115.03</td>\n",
       "    </tr>\n",
       "    <tr>\n",
       "      <th>2004-04-01</th>\n",
       "      <td>185150</td>\n",
       "      <td>465</td>\n",
       "      <td>2004-04-01</td>\n",
       "      <td>6.14</td>\n",
       "      <td>884.57</td>\n",
       "      <td>12.13</td>\n",
       "      <td>455472.66</td>\n",
       "      <td>3</td>\n",
       "      <td>464.03</td>\n",
       "      <td>310992.24</td>\n",
       "      <td>428.67</td>\n",
       "      <td>311130.63</td>\n",
       "    </tr>\n",
       "    <tr>\n",
       "      <th>2004-05-01</th>\n",
       "      <td>137390</td>\n",
       "      <td>455</td>\n",
       "      <td>2004-05-01</td>\n",
       "      <td>6.12</td>\n",
       "      <td>884.57</td>\n",
       "      <td>11.83</td>\n",
       "      <td>455472.66</td>\n",
       "      <td>4</td>\n",
       "      <td>468.36</td>\n",
       "      <td>312704.34</td>\n",
       "      <td>413.03</td>\n",
       "      <td>310775.96</td>\n",
       "    </tr>\n",
       "  </tbody>\n",
       "</table>\n",
       "</div>"
      ],
      "text/plain": [
       "            quantity  priceMod       date  priceModLog  priceMean  \\\n",
       "date                                                                \n",
       "2004-01-01    227832       991 2004-01-01         6.90     884.57   \n",
       "2004-02-01    225133       793 2004-02-01         6.68     884.57   \n",
       "2004-03-01    221952       556 2004-03-01         6.32     884.57   \n",
       "2004-04-01    185150       465 2004-04-01         6.14     884.57   \n",
       "2004-05-01    137390       455 2004-05-01         6.12     884.57   \n",
       "\n",
       "            quantityLog  quantityMean  timeIndex  priceLinear  quantityLinear  \\\n",
       "date                                                                            \n",
       "2004-01-01        12.34     455472.66          0       451.29       305911.98   \n",
       "2004-02-01        12.32     455472.66          1       455.50       307596.11   \n",
       "2004-03-01        12.31     455472.66          2       459.75       309289.51   \n",
       "2004-04-01        12.13     455472.66          3       464.03       310992.24   \n",
       "2004-05-01        11.83     455472.66          4       468.36       312704.34   \n",
       "\n",
       "            priceLinearQuantity  quantityLinearPrice  \n",
       "date                                                  \n",
       "2004-01-01               431.41            361921.33  \n",
       "2004-02-01               434.28            346295.39  \n",
       "2004-03-01               437.01            322115.03  \n",
       "2004-04-01               428.67            311130.63  \n",
       "2004-05-01               413.03            310775.96  "
      ]
     },
     "execution_count": 78,
     "metadata": {},
     "output_type": "execute_result"
    }
   ],
   "source": [
    "dfBang.head()"
   ]
  },
  {
   "cell_type": "code",
   "execution_count": 79,
   "metadata": {},
   "outputs": [],
   "source": [
    "decomposition = seasonal_decompose(dfBang.priceModLog, model = \"additive\")"
   ]
  },
  {
   "cell_type": "code",
   "execution_count": 80,
   "metadata": {},
   "outputs": [
    {
     "data": {
      "image/png": "[encoded data removed]",
      "text/plain": [
       "<Figure size 432x288 with 4 Axes>"
      ]
     },
     "execution_count": 80,
     "metadata": {},
     "output_type": "execute_result"
    },
    {
     "data": {
      "image/png": "[encoded data removed]",
      "text/plain": [
       "<Figure size 432x288 with 4 Axes>"
      ]
     },
     "metadata": {
      "needs_background": "light"
     },
     "output_type": "display_data"
    }
   ],
   "source": [
    "decomposition.plot()"
   ]
  },
  {
   "cell_type": "code",
   "execution_count": 81,
   "metadata": {},
   "outputs": [],
   "source": [
    "trend = decomposition.trend\n",
    "seasonal = decomposition.seasonal\n",
    "residual = decomposition.resid"
   ]
  },
  {
   "cell_type": "code",
   "execution_count": 82,
   "metadata": {},
   "outputs": [],
   "source": [
    "# Построим ряд по тренду и сезонности\n",
    "dfBang[\"priceDecomp\"] = np.exp(trend + seasonal)"
   ]
  },
  {
   "cell_type": "code",
   "execution_count": 83,
   "metadata": {},
   "outputs": [
    {
     "data": {
      "text/plain": [
       "374.10858464802345"
      ]
     },
     "execution_count": 83,
     "metadata": {},
     "output_type": "execute_result"
    }
   ],
   "source": [
    "# Расчет RMSE\n",
    "model_Decomp_RMSE = RMSE(dfBang.priceDecomp, dfBang.priceMod)\n",
    "model_Decomp_RMSE"
   ]
  },
  {
   "cell_type": "code",
   "execution_count": 84,
   "metadata": {},
   "outputs": [
    {
     "data": {
      "text/plain": [
       "<matplotlib.axes._subplots.AxesSubplot at 0x2ab15f7a8d0>"
      ]
     },
     "execution_count": 84,
     "metadata": {},
     "output_type": "execute_result"
    },
    {
     "data": {
      "image/png": "[encoded data removed]",
      "text/plain": [
       "<Figure size 432x288 with 1 Axes>"
      ]
     },
     "metadata": {
      "needs_background": "light"
     },
     "output_type": "display_data"
    }
   ],
   "source": [
    "dfBang.plot(kind=\"line\", x=\"timeIndex\", y = [\"priceMod\", \"priceMean\", \"priceLinear\", \"priceLinearQuantity\", \"priceDecomp\"])"
   ]
  },
  {
   "cell_type": "code",
   "execution_count": null,
   "metadata": {},
   "outputs": [],
   "source": [
    "dfBangResults"
   ]
  },
  {
   "cell_type": "code",
   "execution_count": 85,
   "metadata": {},
   "outputs": [
    {
     "data": {
      "text/html": [
       "<div>\n",
       "<style scoped>\n",
       "    .dataframe tbody tr th:only-of-type {\n",
       "        vertical-align: middle;\n",
       "    }\n",
       "\n",
       "    .dataframe tbody tr th {\n",
       "        vertical-align: top;\n",
       "    }\n",
       "\n",
       "    .dataframe thead th {\n",
       "        text-align: right;\n",
       "    }\n",
       "</style>\n",
       "<table border=\"1\" class=\"dataframe\">\n",
       "  <thead>\n",
       "    <tr style=\"text-align: right;\">\n",
       "      <th></th>\n",
       "      <th>Model</th>\n",
       "      <th>Forecast</th>\n",
       "      <th>RMSE</th>\n",
       "    </tr>\n",
       "  </thead>\n",
       "  <tbody>\n",
       "    <tr>\n",
       "      <th>0</th>\n",
       "      <td>Mean</td>\n",
       "      <td>884.57</td>\n",
       "      <td>683.95</td>\n",
       "    </tr>\n",
       "    <tr>\n",
       "      <th>1</th>\n",
       "      <td>Linear</td>\n",
       "      <td>Linear</td>\n",
       "      <td>518.52</td>\n",
       "    </tr>\n",
       "    <tr>\n",
       "      <th>2</th>\n",
       "      <td>Mean</td>\n",
       "      <td>trend+regression</td>\n",
       "      <td>505.25</td>\n",
       "    </tr>\n",
       "    <tr>\n",
       "      <th>3</th>\n",
       "      <td>priceDecomp</td>\n",
       "      <td>priceDecomp</td>\n",
       "      <td>374.11</td>\n",
       "    </tr>\n",
       "  </tbody>\n",
       "</table>\n",
       "</div>"
      ],
      "text/plain": [
       "         Model          Forecast   RMSE\n",
       "0         Mean            884.57 683.95\n",
       "1       Linear            Linear 518.52\n",
       "2         Mean  trend+regression 505.25\n",
       "3  priceDecomp       priceDecomp 374.11"
      ]
     },
     "execution_count": 85,
     "metadata": {},
     "output_type": "execute_result"
    }
   ],
   "source": [
    "dfBangResults.loc[3,\"Model\"] = \"priceDecomp\"\n",
    "dfBangResults.loc[3,\"Forecast\"] = 'priceDecomp'\n",
    "dfBangResults.loc[3,\"RMSE\"] = model_Decomp_RMSE\n",
    "dfBangResults.head()"
   ]
  },
  {
   "cell_type": "markdown",
   "metadata": {},
   "source": [
    "### Задание 9. Декомпозируйте ряд остатков quantity"
   ]
  },
  {
   "cell_type": "code",
   "execution_count": 88,
   "metadata": {},
   "outputs": [
    {
     "data": {
      "image/png": "[encoded data removed]",
      "text/plain": [
       "<Figure size 432x288 with 4 Axes>"
      ]
     },
     "execution_count": 88,
     "metadata": {},
     "output_type": "execute_result"
    },
    {
     "data": {
      "image/png": "[encoded data removed]",
      "text/plain": [
       "<Figure size 432x288 with 4 Axes>"
      ]
     },
     "metadata": {
      "needs_background": "light"
     },
     "output_type": "display_data"
    }
   ],
   "source": [
    "### your code here\n",
    "decomposition = seasonal_decompose(dfBang.quantityLog, model = \"additive\")\n",
    "decomposition.plot()"
   ]
  },
  {
   "cell_type": "code",
   "execution_count": 89,
   "metadata": {},
   "outputs": [],
   "source": [
    "# Построим ряд по тренду и сезонности\n",
    "trend = decomposition.trend\n",
    "seasonal = decomposition.seasonal\n",
    "residual = decomposition.resid\n",
    "\n",
    "dfBang[\"quantityDecomp\"] = np.exp(trend + seasonal)"
   ]
  },
  {
   "cell_type": "code",
   "execution_count": 90,
   "metadata": {},
   "outputs": [
    {
     "data": {
      "text/html": [
       "<div>\n",
       "<style scoped>\n",
       "    .dataframe tbody tr th:only-of-type {\n",
       "        vertical-align: middle;\n",
       "    }\n",
       "\n",
       "    .dataframe tbody tr th {\n",
       "        vertical-align: top;\n",
       "    }\n",
       "\n",
       "    .dataframe thead th {\n",
       "        text-align: right;\n",
       "    }\n",
       "</style>\n",
       "<table border=\"1\" class=\"dataframe\">\n",
       "  <thead>\n",
       "    <tr style=\"text-align: right;\">\n",
       "      <th></th>\n",
       "      <th>Model</th>\n",
       "      <th>Forecast</th>\n",
       "      <th>RMSE</th>\n",
       "    </tr>\n",
       "  </thead>\n",
       "  <tbody>\n",
       "    <tr>\n",
       "      <th>0</th>\n",
       "      <td>Mean</td>\n",
       "      <td>455472.66</td>\n",
       "      <td>309007.29</td>\n",
       "    </tr>\n",
       "    <tr>\n",
       "      <th>1</th>\n",
       "      <td>Linear</td>\n",
       "      <td>Linear</td>\n",
       "      <td>287064.25</td>\n",
       "    </tr>\n",
       "    <tr>\n",
       "      <th>2</th>\n",
       "      <td>Mean</td>\n",
       "      <td>trend+regression</td>\n",
       "      <td>279091.12</td>\n",
       "    </tr>\n",
       "    <tr>\n",
       "      <th>3</th>\n",
       "      <td>quantityDecomp</td>\n",
       "      <td>quantityDecomp</td>\n",
       "      <td>110233.87</td>\n",
       "    </tr>\n",
       "  </tbody>\n",
       "</table>\n",
       "</div>"
      ],
      "text/plain": [
       "            Model          Forecast      RMSE\n",
       "0            Mean         455472.66 309007.29\n",
       "1          Linear            Linear 287064.25\n",
       "2            Mean  trend+regression 279091.12\n",
       "3  quantityDecomp    quantityDecomp 110233.87"
      ]
     },
     "execution_count": 90,
     "metadata": {},
     "output_type": "execute_result"
    }
   ],
   "source": [
    "dfBangQ.loc[3,\"Model\"] = \"quantityDecomp\"\n",
    "dfBangQ.loc[3,\"Forecast\"] = 'quantityDecomp'\n",
    "dfBangQ.loc[3,\"RMSE\"] = RMSE(dfBang.quantity, dfBang.quantityDecomp)\n",
    "dfBangQ.head()"
   ]
  },
  {
   "cell_type": "code",
   "execution_count": 92,
   "metadata": {},
   "outputs": [],
   "source": [
    "# from sklearn.metrics import r2_score\n",
    "\n",
    "# r2_score(dfBang.quantity, dfBang.quantityDecomp)"
   ]
  },
  {
   "cell_type": "markdown",
   "metadata": {},
   "source": [
    "## 3 Стационарность ряда\n",
    "\n",
    "Перед тем, как перейти к моделированию, стоит сказать о таком важном свойстве временного ряда, как стационарность.  \n",
    "Под стационарностью понимают свойство процесса не менять своих статистических характеристик с течением времени, а именно постоянство матожидания, постоянство дисперсии и независимость ковариационной функции от времени (должна зависеть только от расстояния между наблюдениями). Наглядно можно посмотреть на эти свойства на картинках:\n",
    "\n",
    "![](https://habrastorage.org/files/20c/9d8/a63/20c9d8a633ec436f91dccd4aedcc6940.png)  \n",
    "Временной ряд справа не является стационарным, так как его матожидание со временем растёт\n",
    "\n",
    "![](https://habrastorage.org/files/b88/eec/a67/b88eeca676d642449cab135273fd5a95.png)  \n",
    "Здесь не повезло с дисперсией — разброс значений ряда существенно варьируется в зависимости от периода\n",
    "\n",
    "![](https://habrastorage.org/files/2f6/1ee/cb2/2f61eecb20714352840748b826e38680.png)  \n",
    "На последнем графике видно, что значения ряда внезапно становятся ближе друг ко другу, образуя некоторый кластер, а в результате получаем непостоянство ковариаций\n"
   ]
  },
  {
   "cell_type": "markdown",
   "metadata": {},
   "source": [
    "Почему стационарность так важна?  \n",
    "По стационарному ряду просто строить прогноз, так как мы полагаем, что его будущие статистические характеристики не будут отличаться от наблюдаемых текущих. Большинство моделей временных рядов так или иначе моделируют и предсказывают эти характеристики (например, матожидание или дисперсию), поэтому в случае нестационарности исходного ряда предсказания окажутся неверными. К сожалению, большинство временных рядов, с которыми приходится сталкиваться за пределыми учебных материалов, стационарными не являются, но с этим можно (и нужно) бороться."
   ]
  },
  {
   "cell_type": "code",
   "execution_count": 93,
   "metadata": {},
   "outputs": [
    {
     "name": "stdout",
     "output_type": "stream",
     "text": [
      "adf:  -4.004401077671534\n",
      "p-value:  0.00138764044231547\n",
      "Critical values:  {'1%': -3.4769274060112707, '5%': -2.8819726324025625, '10%': -2.577665408088415}\n",
      "Единичных корней нет, ряд стационарен\n"
     ]
    }
   ],
   "source": [
    "test = sm.tsa.adfuller(dfBang.priceMod)\n",
    "print('adf: ', test[0])\n",
    "print('p-value: ', test[1])\n",
    "print('Critical values: ', test[4])\n",
    "if test[0]> test[4]['5%']: \n",
    "    print('Есть единичные корни, ряд не стационарен')\n",
    "else:\n",
    "    print('Единичных корней нет, ряд стационарен')\n",
    "\n",
    "# p-value > 0.05: Fail to reject the null hypothesis (H0), the data has a unit root and is non-stationary.\n",
    "# p-value <= 0.05: Reject the null hypothesis (H0), the data does not have a unit root and is stationary."
   ]
  },
  {
   "cell_type": "markdown",
   "metadata": {},
   "source": [
    "## 4 Построение модели АRIMA\n",
    "\n",
    "Для моделирования будем использовать модель ARIMA, построенную для ряда первых разностей.  \n",
    "Итак, чтобы построить модель нам нужно знать ее порядок, состоящий из 2-х параметров:  \n",
    "- p — порядок компоненты AR\n",
    "- d — порядок интегрированного ряда (порядок разности временного ряда)\n",
    "- q — порядок компонетны MA  \n",
    "\n",
    "\n",
    "Параметр d равен 1, осталось определить p и q. Для их определения нам надо изучить авторкорреляционную (ACF) и частично автокорреляционную (PACF) функции для ряда первых разностей.\n",
    "ACF поможет нам определить q, т. к. по ее коррелограмме можно определить количество автокорреляционных коэффициентов сильно отличных от 0 в модели MA\n",
    "PACF поможет нам определить p, т. к. по ее коррелограмме можно определить максимальный номер коэффициента сильно отличный от 0 в модели AR.  \n",
    "\n",
    "Чтобы построить соответствующие коррелограммы, в пакете statsmodels имеются следующие функции: acf и pacf.  \n",
    "Можем построить графики ACF и PACF, у которых по оси X откладываются номера лагов, а по оси Y значения соответствующих функций. Нужно отметить, что количество лагов в функциях и определяет число значимых коэффициентов."
   ]
  },
  {
   "cell_type": "code",
   "execution_count": 118,
   "metadata": {},
   "outputs": [],
   "source": [
    "ts = dfBang.priceModLog\n",
    "ts_diff = dfBang.priceModLogDiff\n",
    "ts_diff.dropna(inplace = True)"
   ]
  },
  {
   "cell_type": "code",
   "execution_count": 119,
   "metadata": {},
   "outputs": [],
   "source": [
    "# ACF и PACF \n",
    "from statsmodels.tsa.stattools import acf, pacf"
   ]
  },
  {
   "cell_type": "code",
   "execution_count": 120,
   "metadata": {},
   "outputs": [],
   "source": [
    "lag_acf = acf(ts_diff, nlags=20)"
   ]
  },
  {
   "cell_type": "code",
   "execution_count": 121,
   "metadata": {},
   "outputs": [
    {
     "data": {
      "text/plain": [
       "array([ 1.        ,  0.40215445, -0.02855346, -0.21472715, -0.23756032,\n",
       "       -0.26332645, -0.22038359, -0.08576989, -0.0754398 ,  0.01497797,\n",
       "        0.12361818,  0.20862956,  0.158123  ,  0.02053933, -0.01290934,\n",
       "       -0.07097602, -0.17993659, -0.09514604, -0.04878255, -0.08854117,\n",
       "       -0.18810881])"
      ]
     },
     "execution_count": 121,
     "metadata": {},
     "output_type": "execute_result"
    }
   ],
   "source": [
    "lag_acf"
   ]
  },
  {
   "cell_type": "code",
   "execution_count": 122,
   "metadata": {},
   "outputs": [],
   "source": [
    "ACF = pd.Series(lag_acf)"
   ]
  },
  {
   "cell_type": "code",
   "execution_count": 123,
   "metadata": {},
   "outputs": [
    {
     "data": {
      "text/plain": [
       "0     1.00\n",
       "1     0.40\n",
       "2    -0.03\n",
       "3    -0.21\n",
       "4    -0.24\n",
       "5    -0.26\n",
       "6    -0.22\n",
       "7    -0.09\n",
       "8    -0.08\n",
       "9     0.01\n",
       "10    0.12\n",
       "11    0.21\n",
       "12    0.16\n",
       "13    0.02\n",
       "14   -0.01\n",
       "15   -0.07\n",
       "16   -0.18\n",
       "17   -0.10\n",
       "18   -0.05\n",
       "19   -0.09\n",
       "20   -0.19\n",
       "dtype: float64"
      ]
     },
     "execution_count": 123,
     "metadata": {},
     "output_type": "execute_result"
    }
   ],
   "source": [
    "ACF"
   ]
  },
  {
   "cell_type": "code",
   "execution_count": 124,
   "metadata": {},
   "outputs": [
    {
     "data": {
      "text/plain": [
       "<matplotlib.axes._subplots.AxesSubplot at 0x2ab19d355c0>"
      ]
     },
     "execution_count": 124,
     "metadata": {},
     "output_type": "execute_result"
    },
    {
     "data": {
      "image/png": "[encoded data removed]",
      "text/plain": [
       "<Figure size 432x288 with 1 Axes>"
      ]
     },
     "metadata": {
      "needs_background": "light"
     },
     "output_type": "display_data"
    }
   ],
   "source": [
    "ACF.plot(kind = \"bar\")"
   ]
  },
  {
   "cell_type": "code",
   "execution_count": 125,
   "metadata": {},
   "outputs": [],
   "source": [
    "lag_pacf = pacf(ts_diff, nlags=20, method='ols')"
   ]
  },
  {
   "cell_type": "code",
   "execution_count": 126,
   "metadata": {},
   "outputs": [],
   "source": [
    "PACF = pd.Series(lag_pacf)"
   ]
  },
  {
   "cell_type": "code",
   "execution_count": 127,
   "metadata": {},
   "outputs": [
    {
     "data": {
      "text/plain": [
       "<matplotlib.axes._subplots.AxesSubplot at 0x2ab19de7080>"
      ]
     },
     "execution_count": 127,
     "metadata": {},
     "output_type": "execute_result"
    },
    {
     "data": {
      "image/png": "[encoded data removed]",
      "text/plain": [
       "<Figure size 432x288 with 1 Axes>"
      ]
     },
     "metadata": {
      "needs_background": "light"
     },
     "output_type": "display_data"
    }
   ],
   "source": [
    "PACF.plot(kind = \"bar\")"
   ]
  },
  {
   "cell_type": "markdown",
   "metadata": {},
   "source": [
    "## Построим модель ARIMA "
   ]
  },
  {
   "cell_type": "code",
   "execution_count": 128,
   "metadata": {},
   "outputs": [],
   "source": [
    "from statsmodels.tsa.arima_model import ARIMA"
   ]
  },
  {
   "cell_type": "code",
   "execution_count": 129,
   "metadata": {},
   "outputs": [
    {
     "data": {
      "text/plain": [
       "date\n",
       "2004-02-01   -0.22\n",
       "2004-03-01   -0.36\n",
       "2004-04-01   -0.18\n",
       "2004-05-01   -0.02\n",
       "2004-06-01    0.19\n",
       "Freq: MS, Name: priceModLogDiff, dtype: float64"
      ]
     },
     "execution_count": 129,
     "metadata": {},
     "output_type": "execute_result"
    }
   ],
   "source": [
    "ts_diff.head()"
   ]
  },
  {
   "cell_type": "code",
   "execution_count": 130,
   "metadata": {},
   "outputs": [],
   "source": [
    "# ARIMA Model (1,0,1)\n",
    "model_AR1MA = ARIMA(ts_diff, order=(1,0,1))"
   ]
  },
  {
   "cell_type": "code",
   "execution_count": 131,
   "metadata": {},
   "outputs": [],
   "source": [
    "results_ARIMA = model_AR1MA.fit(disp = -1)"
   ]
  },
  {
   "cell_type": "code",
   "execution_count": 132,
   "metadata": {},
   "outputs": [
    {
     "data": {
      "text/plain": [
       "date\n",
       "2004-02-01   -0.00\n",
       "2004-03-01   -0.09\n",
       "2004-04-01   -0.14\n",
       "2004-05-01   -0.04\n",
       "2004-06-01    0.00\n",
       "Freq: MS, dtype: float64"
      ]
     },
     "execution_count": 132,
     "metadata": {},
     "output_type": "execute_result"
    }
   ],
   "source": [
    "results_ARIMA.fittedvalues.head()"
   ]
  },
  {
   "cell_type": "code",
   "execution_count": 133,
   "metadata": {},
   "outputs": [
    {
     "data": {
      "text/plain": [
       "<matplotlib.axes._subplots.AxesSubplot at 0x2ab19e982b0>"
      ]
     },
     "execution_count": 133,
     "metadata": {},
     "output_type": "execute_result"
    },
    {
     "data": {
      "image/png": "[encoded data removed]",
      "text/plain": [
       "<Figure size 432x288 with 1 Axes>"
      ]
     },
     "metadata": {
      "needs_background": "light"
     },
     "output_type": "display_data"
    }
   ],
   "source": [
    "ts_diff.plot()\n",
    "results_ARIMA.fittedvalues.plot()"
   ]
  },
  {
   "cell_type": "code",
   "execution_count": 134,
   "metadata": {},
   "outputs": [
    {
     "data": {
      "text/plain": [
       "0.1052596023926915"
      ]
     },
     "execution_count": 134,
     "metadata": {},
     "output_type": "execute_result"
    }
   ],
   "source": [
    "ts_diff.sum()"
   ]
  },
  {
   "cell_type": "code",
   "execution_count": 135,
   "metadata": {},
   "outputs": [
    {
     "data": {
      "text/plain": [
       "date\n",
       "2015-10-01    0.01\n",
       "2015-11-01   -0.17\n",
       "2015-12-01   -0.10\n",
       "2016-01-01   -0.06\n",
       "2016-02-01    0.05\n",
       "Freq: MS, dtype: float64"
      ]
     },
     "execution_count": 135,
     "metadata": {},
     "output_type": "execute_result"
    }
   ],
   "source": [
    "predictions_ARIMA_diff = pd.Series(results_ARIMA.fittedvalues, copy=True)\n",
    "predictions_ARIMA_diff.tail()"
   ]
  },
  {
   "cell_type": "code",
   "execution_count": 136,
   "metadata": {},
   "outputs": [
    {
     "data": {
      "text/plain": [
       "0.07204827894014404"
      ]
     },
     "execution_count": 136,
     "metadata": {},
     "output_type": "execute_result"
    }
   ],
   "source": [
    "predictions_ARIMA_diff.sum()"
   ]
  },
  {
   "cell_type": "code",
   "execution_count": 137,
   "metadata": {},
   "outputs": [
    {
     "data": {
      "text/plain": [
       "date\n",
       "2015-10-01   0.34\n",
       "2015-11-01   0.17\n",
       "2015-12-01   0.08\n",
       "2016-01-01   0.02\n",
       "2016-02-01   0.07\n",
       "Freq: MS, dtype: float64"
      ]
     },
     "execution_count": 137,
     "metadata": {},
     "output_type": "execute_result"
    }
   ],
   "source": [
    "predictions_ARIMA_diff_cumsum = predictions_ARIMA_diff.cumsum()\n",
    "predictions_ARIMA_diff_cumsum.tail()"
   ]
  },
  {
   "cell_type": "code",
   "execution_count": 138,
   "metadata": {},
   "outputs": [
    {
     "data": {
      "text/plain": [
       "Timestamp('2004-01-01 00:00:00', freq='MS')"
      ]
     },
     "execution_count": 138,
     "metadata": {},
     "output_type": "execute_result"
    }
   ],
   "source": [
    "ts.index[0]"
   ]
  },
  {
   "cell_type": "code",
   "execution_count": 139,
   "metadata": {},
   "outputs": [
    {
     "data": {
      "text/plain": [
       "date\n",
       "2015-10-01   8.05\n",
       "2015-11-01   7.56\n",
       "2015-12-01   7.28\n",
       "2016-01-01   7.30\n",
       "2016-02-01   7.08\n",
       "Freq: MS, dtype: float64"
      ]
     },
     "execution_count": 139,
     "metadata": {},
     "output_type": "execute_result"
    }
   ],
   "source": [
    "predictions_ARIMA_log = pd.Series(ts, index=ts.index)\n",
    "predictions_ARIMA_log = predictions_ARIMA_log.add(predictions_ARIMA_diff_cumsum, fill_value=0)\n",
    "predictions_ARIMA_log.tail()"
   ]
  },
  {
   "cell_type": "code",
   "execution_count": 140,
   "metadata": {},
   "outputs": [],
   "source": [
    "dfBang['priceARIMA'] = np.exp(predictions_ARIMA_log)"
   ]
  },
  {
   "cell_type": "code",
   "execution_count": 141,
   "metadata": {},
   "outputs": [
    {
     "data": {
      "text/plain": [
       "<matplotlib.axes._subplots.AxesSubplot at 0x2ab19f213c8>"
      ]
     },
     "execution_count": 141,
     "metadata": {},
     "output_type": "execute_result"
    },
    {
     "data": {
      "image/png": "[encoded data removed]",
      "text/plain": [
       "<Figure size 432x288 with 1 Axes>"
      ]
     },
     "metadata": {
      "needs_background": "light"
     },
     "output_type": "display_data"
    }
   ],
   "source": [
    "dfBang.plot(kind=\"line\", x=\"timeIndex\", y = [\"priceMod\", \"priceARIMA\"])"
   ]
  },
  {
   "cell_type": "code",
   "execution_count": 142,
   "metadata": {},
   "outputs": [
    {
     "data": {
      "text/plain": [
       "<matplotlib.axes._subplots.AxesSubplot at 0x2ab19f95748>"
      ]
     },
     "execution_count": 142,
     "metadata": {},
     "output_type": "execute_result"
    },
    {
     "data": {
      "image/png": "[encoded data removed]",
      "text/plain": [
       "<Figure size 432x288 with 1 Axes>"
      ]
     },
     "metadata": {
      "needs_background": "light"
     },
     "output_type": "display_data"
    }
   ],
   "source": [
    "dfBang.plot(kind=\"line\", x=\"timeIndex\", y = [\"priceMod\", \"priceMean\", \"priceLinear\", \n",
    "                                             \"priceLinearQuantity\", \"priceARIMA\"])"
   ]
  },
  {
   "cell_type": "code",
   "execution_count": 143,
   "metadata": {},
   "outputs": [
    {
     "data": {
      "text/plain": [
       "332.5227909019957"
      ]
     },
     "execution_count": 143,
     "metadata": {},
     "output_type": "execute_result"
    }
   ],
   "source": [
    "# RMSE\n",
    "model_arima_RMSE = RMSE(dfBang.priceARIMA, dfBang.priceMod)\n",
    "model_arima_RMSE"
   ]
  },
  {
   "cell_type": "code",
   "execution_count": 144,
   "metadata": {},
   "outputs": [
    {
     "data": {
      "text/html": [
       "<div>\n",
       "<style scoped>\n",
       "    .dataframe tbody tr th:only-of-type {\n",
       "        vertical-align: middle;\n",
       "    }\n",
       "\n",
       "    .dataframe tbody tr th {\n",
       "        vertical-align: top;\n",
       "    }\n",
       "\n",
       "    .dataframe thead th {\n",
       "        text-align: right;\n",
       "    }\n",
       "</style>\n",
       "<table border=\"1\" class=\"dataframe\">\n",
       "  <thead>\n",
       "    <tr style=\"text-align: right;\">\n",
       "      <th></th>\n",
       "      <th>Model</th>\n",
       "      <th>Forecast</th>\n",
       "      <th>RMSE</th>\n",
       "    </tr>\n",
       "  </thead>\n",
       "  <tbody>\n",
       "    <tr>\n",
       "      <th>0</th>\n",
       "      <td>Mean</td>\n",
       "      <td>884.57</td>\n",
       "      <td>683.95</td>\n",
       "    </tr>\n",
       "    <tr>\n",
       "      <th>1</th>\n",
       "      <td>Linear</td>\n",
       "      <td>Linear</td>\n",
       "      <td>518.52</td>\n",
       "    </tr>\n",
       "    <tr>\n",
       "      <th>2</th>\n",
       "      <td>Mean</td>\n",
       "      <td>trend+regression</td>\n",
       "      <td>505.25</td>\n",
       "    </tr>\n",
       "    <tr>\n",
       "      <th>3</th>\n",
       "      <td>priceDecomp</td>\n",
       "      <td>priceDecomp</td>\n",
       "      <td>374.11</td>\n",
       "    </tr>\n",
       "    <tr>\n",
       "      <th>4</th>\n",
       "      <td>ARIMA</td>\n",
       "      <td>ARIMA</td>\n",
       "      <td>332.52</td>\n",
       "    </tr>\n",
       "  </tbody>\n",
       "</table>\n",
       "</div>"
      ],
      "text/plain": [
       "         Model          Forecast   RMSE\n",
       "0         Mean            884.57 683.95\n",
       "1       Linear            Linear 518.52\n",
       "2         Mean  trend+regression 505.25\n",
       "3  priceDecomp       priceDecomp 374.11\n",
       "4        ARIMA             ARIMA 332.52"
      ]
     },
     "execution_count": 144,
     "metadata": {},
     "output_type": "execute_result"
    }
   ],
   "source": [
    "dfBangResults.loc[4,\"Model\"] = \"ARIMA\"\n",
    "dfBangResults.loc[4,\"Forecast\"] = 'ARIMA'\n",
    "dfBangResults.loc[4,\"RMSE\"] = model_arima_RMSE\n",
    "dfBangResults.head()"
   ]
  },
  {
   "cell_type": "markdown",
   "metadata": {},
   "source": [
    "Обычно подбор параметров для ARIMA — сложный и трудоемкий процесс.  \n",
    "23-го февраля 2017 года команда Core Data Science из Facebook выпустила новую библиотеку для работы с временными рядами — Prophet. "
   ]
  },
  {
   "cell_type": "markdown",
   "metadata": {},
   "source": [
    "### Вывод"
   ]
  },
  {
   "cell_type": "markdown",
   "metadata": {},
   "source": [
    "Мы ознакомились с разными подходами к анализу и прогнозированию временных рядов.  \n",
    "Была рассмотрена интегрированная модель авторегрессии – скользящего среднего (ARIMA), как базовая модель прогнозирования.  \n",
    "Как вы уже убедились, серебряной пули для решения такого рода задач пока нет.  \n",
    "Методы, разработанные в 60-е годы прошлого века, (а некоторые и в начале 19-го), по-прежнему пользуются популярностью. Отчасти это связано с тем, что задача прогнозирования, как и любая другая задача, возникающая в процессе работы с данными — во многом творческая и уж точно исследовательская. Несмотря на обилие формальных метрик качества и способов оценки параметров, для каждого временного ряда часто приходится подбирать и пробовать что-то своё. Не последнюю роль играет и баланс между качеством и трудозатратами."
   ]
  },
  {
   "cell_type": "code",
   "execution_count": null,
   "metadata": {},
   "outputs": [],
   "source": []
  }
 ],
 "metadata": {
  "kernelspec": {
   "display_name": "Python 3",
   "language": "python",
   "name": "python3"
  },
  "language_info": {
   "codemirror_mode": {
    "name": "ipython",
    "version": 3
   },
   "file_extension": ".py",
   "mimetype": "text/x-python",
   "name": "python",
   "nbconvert_exporter": "python",
   "pygments_lexer": "ipython3",
   "version": "3.6.6"
  }
 },
 "nbformat": 4,
 "nbformat_minor": 1
}
