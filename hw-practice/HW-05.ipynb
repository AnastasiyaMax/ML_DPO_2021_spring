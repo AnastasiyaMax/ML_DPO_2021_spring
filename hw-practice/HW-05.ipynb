{
 "cells": [
  {
   "cell_type": "code",
   "execution_count": 1,
   "metadata": {},
   "outputs": [
    {
     "name": "stdout",
     "output_type": "stream",
     "text": [
      "Populating the interactive namespace from numpy and matplotlib\n"
     ]
    },
    {
     "name": "stderr",
     "output_type": "stream",
     "text": [
      "/Library/Frameworks/Python.framework/Versions/3.6/lib/python3.6/site-packages/IPython/core/magics/pylab.py:160: UserWarning: pylab import has clobbered these variables: ['product']\n",
      "`%matplotlib` prevents importing * from pylab and numpy\n",
      "  \"\\n`%matplotlib` prevents importing * from pylab and numpy\"\n"
     ]
    }
   ],
   "source": [
    "import pandas as pd\n",
    "import numpy as np\n",
    "import matplotlib.pyplot as plt\n",
    "import seaborn as sns\n",
    "from scipy import stats\n",
    "import statsmodels.api as sm\n",
    "import warnings\n",
    "from itertools import product\n",
    "\n",
    "%matplotlib inline\n",
    "%pylab inline\n",
    "\n",
    "import warnings\n",
    "warnings.filterwarnings('ignore')"
   ]
  },
  {
   "cell_type": "code",
   "execution_count": 2,
   "metadata": {},
   "outputs": [],
   "source": [
    "sns.set(style='darkgrid', palette='pastel', color_codes=True)\n",
    "plt.style.use('ggplot')\n",
    "plt.rcParams['figure.figsize'] = (15, 7)"
   ]
  },
  {
   "cell_type": "markdown",
   "metadata": {},
   "source": [
    "## Предисловие\n",
    "\n",
    "Вам предоставлены данные индекса объема сельскохозяйственного производства с поправкой с 1993 по 2020 год. Баллы за задания указаны перед ними. Для получения полного балла за каждое задание необходимо соответствовать двум критериям:\n",
    "1. Правильно выполнить задание;\n",
    "2. Подробно прокомментировать свои действия (старайтесь объяснить свои выводы понятным языком, не требуется использовать определения из учебников).\n",
    "\n",
    "При выполнении проекта помните, что подобного рода задачи вполне могут встретиться на реальном проекте, где требуется прогнозировать макроэкономические показатели. Старайтесь оформить свое решение так, как будто собираетесь презентовать файл заказчику. "
   ]
  },
  {
   "cell_type": "markdown",
   "metadata": {},
   "source": [
    "## Шаг 1. Изучение временного ряда. \n",
    "\n",
    "Разложение на тренд, сезонность и шум, обработка пропусков. Проверка на стационарность. Нужно ли брать первую/вторую разность?        "
   ]
  },
  {
   "cell_type": "markdown",
   "metadata": {},
   "source": [
    "**[0.5б] Задание 1.1** Визуализировать временной ряд. Библиотеки на выбор: matplotlib/seaborn. Прологарифмируйте данные, если они достаточно волатильны. Добавьте месяц в качестве признака."
   ]
  },
  {
   "cell_type": "code",
   "execution_count": 3,
   "metadata": {},
   "outputs": [
    {
     "data": {
      "text/html": [
       "<div>\n",
       "<style scoped>\n",
       "    .dataframe tbody tr th:only-of-type {\n",
       "        vertical-align: middle;\n",
       "    }\n",
       "\n",
       "    .dataframe tbody tr th {\n",
       "        vertical-align: top;\n",
       "    }\n",
       "\n",
       "    .dataframe thead th {\n",
       "        text-align: right;\n",
       "    }\n",
       "</style>\n",
       "<table border=\"1\" class=\"dataframe\">\n",
       "  <thead>\n",
       "    <tr style=\"text-align: right;\">\n",
       "      <th></th>\n",
       "      <th>date</th>\n",
       "      <th>agr_m_sa</th>\n",
       "    </tr>\n",
       "  </thead>\n",
       "  <tbody>\n",
       "    <tr>\n",
       "      <td>0</td>\n",
       "      <td>1993-01-01</td>\n",
       "      <td>260.1</td>\n",
       "    </tr>\n",
       "    <tr>\n",
       "      <td>1</td>\n",
       "      <td>1993-02-01</td>\n",
       "      <td>258.3</td>\n",
       "    </tr>\n",
       "    <tr>\n",
       "      <td>2</td>\n",
       "      <td>1993-03-01</td>\n",
       "      <td>255.9</td>\n",
       "    </tr>\n",
       "    <tr>\n",
       "      <td>3</td>\n",
       "      <td>1993-04-01</td>\n",
       "      <td>252.9</td>\n",
       "    </tr>\n",
       "    <tr>\n",
       "      <td>4</td>\n",
       "      <td>1993-05-01</td>\n",
       "      <td>249.5</td>\n",
       "    </tr>\n",
       "  </tbody>\n",
       "</table>\n",
       "</div>"
      ],
      "text/plain": [
       "         date  agr_m_sa\n",
       "0  1993-01-01     260.1\n",
       "1  1993-02-01     258.3\n",
       "2  1993-03-01     255.9\n",
       "3  1993-04-01     252.9\n",
       "4  1993-05-01     249.5"
      ]
     },
     "execution_count": 3,
     "metadata": {},
     "output_type": "execute_result"
    }
   ],
   "source": [
    "df = pd.read_csv('agro_index.csv')\n",
    "df.head()"
   ]
  },
  {
   "cell_type": "code",
   "execution_count": null,
   "metadata": {},
   "outputs": [],
   "source": []
  },
  {
   "cell_type": "markdown",
   "metadata": {},
   "source": [
    "**[0.5б] Задание 1.2** На основе того, что вы изучили на курсах по временным рядам, попробуйте сделать предположения о временном ряде. Ответьте на вопросы ниже. \n",
    "\n",
    "* Что вы можете сказать о ряде по его графику? \n",
    "* Есть ли у Вас гипотезы о тренде и/или сезонности? \n",
    "* Есть ли у Вас гипотезы о пиках и чем они могут быть объяснены?\n",
    "* Стоит ли добавить какие-то переменные, исходя из Вашего первичного анализа? \n",
    "\n",
    "**Ответ:**"
   ]
  },
  {
   "cell_type": "markdown",
   "metadata": {},
   "source": [
    "**[0.5б] Задание 1.3** Проверить на наличие пропусков. При необходимости заполнить средним двух соседей."
   ]
  },
  {
   "cell_type": "code",
   "execution_count": null,
   "metadata": {},
   "outputs": [],
   "source": []
  },
  {
   "cell_type": "markdown",
   "metadata": {},
   "source": [
    "**[1б] Задание 1.4** Разложить ряд на тренд, сезонность, шум. Сделать выводы.\n",
    "\n",
    "Используйте функцию https://www.statsmodels.org/stable/generated/statsmodels.tsa.seasonal.seasonal_decompose.html с параметрами x=df['agr_m_sa'], period=30 (т.к. период у нас равен месяцу)."
   ]
  },
  {
   "cell_type": "code",
   "execution_count": null,
   "metadata": {},
   "outputs": [],
   "source": []
  },
  {
   "cell_type": "markdown",
   "metadata": {},
   "source": [
    "**[1б] Задание 1.5** Проверить ряд на стационарность с помощью критерия Дики-Фуллера. Взять первую/вторую разность при необходимости. Если Вы планируете работать с первой/второй разностью, то добавьте ее новым столбцом и прогнозируйте ее в дальнейшем.\n",
    "\n",
    "Используйте https://www.statsmodels.org/stable/generated/statsmodels.tsa.stattools.adfuller.html с параметром autolag='AIC'."
   ]
  },
  {
   "cell_type": "code",
   "execution_count": null,
   "metadata": {},
   "outputs": [],
   "source": []
  },
  {
   "cell_type": "markdown",
   "metadata": {},
   "source": [
    "## Шаг 2. БОНУС. Самостоятельный подбор и выгрузка дополнительных признаков (например, экономических индексов, курсов валют и т.д.)."
   ]
  },
  {
   "cell_type": "markdown",
   "metadata": {},
   "source": [
    "**[0.5б] Задание 2.1** Предположить, какие данные могут пригодиться.\n",
    "\n",
    "**[3б] Задание 2.2** Выгрузить их, добавить к признакам, дополнить предобработку при необходимости."
   ]
  },
  {
   "cell_type": "markdown",
   "metadata": {},
   "source": [
    "## Шаг 3. Корреляционный анализ. Отбор признаков."
   ]
  },
  {
   "cell_type": "markdown",
   "metadata": {},
   "source": [
    "**[0.5б] Задание 3.1** Провести корреляционный анализ. Какие признаки стоит оставить (из-за сильной корреляции с целевой переменной), а какие оставить? Удалить сильно коррелирующие признаки."
   ]
  },
  {
   "cell_type": "code",
   "execution_count": null,
   "metadata": {},
   "outputs": [],
   "source": []
  },
  {
   "cell_type": "markdown",
   "metadata": {},
   "source": [
    "## Шаг 4. Валидация временного ряда"
   ]
  },
  {
   "cell_type": "markdown",
   "metadata": {},
   "source": [
    "Для валидации моделей, связанных с предсказанием временных рядов, существует 2 классических подхода: метод скользящего окна и метод расширяющегося окна. При использовании скользящего окна для обучения модели используется фиксированный размер тестовой выборки, сдвигающийся по времени на размер окна. Метод расширяющегося окна на каждом шаге использует все больше тренировочных данных, но тестовое окно, аналогично предыдущему случаю, остаются фиксированным. Мы воспользуемся последним, так как он чаще применяется при небольших выборках согласно исследованию Убера, которое можно посмотреть $\\href{https://eng.uber.com/forecasting-introduction/}{здесь.}$ Нас интересует как будет меняться значение метрики с увеличением окна, а также последнее и среднее значения. Мы задали 7 окон, т.к. на более маленькие подвыборки делить данные смысла нет, иначе тестовый набор не позволит хорошо оценить модели.\n",
    "\n",
    "**[1б] Задание 4.1** Написать функцию для метода расширяющегося окна, которая считает метрику на каждом шаге и возвращает список результатов для каждого окна (длина списка равна числу окон, n_splits в TimeSeriesSplir). На вход функция принимает X, y, модель, метрику и количество сплитов. Вам может помочь [TimeSeriesSplit](https://scikit-learn.org/stable/modules/generated/sklearn.model_selection.TimeSeriesSplit.html)."
   ]
  },
  {
   "cell_type": "code",
   "execution_count": null,
   "metadata": {},
   "outputs": [],
   "source": []
  },
  {
   "cell_type": "markdown",
   "metadata": {},
   "source": [
    "## Шаг 5. Построение и предсказание с помощью модели ARIMA. Подбор p, q с помощью графиков автокорреляции. Какие лаги стоит добавить?"
   ]
  },
  {
   "cell_type": "markdown",
   "metadata": {},
   "source": [
    "**[1б] Задание 5.1** Визуализировать графики автокорреляции, используя функции по ссылкам ниже. Какие лаги стоит добавить к исходному набору признаков? \n",
    "\n",
    "ACF: https://www.statsmodels.org/stable/generated/statsmodels.graphics.tsaplots.plot_acf.html\n",
    "\n",
    "PACF: https://www.statsmodels.org/stable/generated/statsmodels.graphics.tsaplots.plot_pacf.html"
   ]
  },
  {
   "cell_type": "code",
   "execution_count": null,
   "metadata": {},
   "outputs": [],
   "source": []
  },
  {
   "cell_type": "markdown",
   "metadata": {},
   "source": [
    "**[1.5б] Задание 5.2** Подобрать параметры p, q. Обучить модель ARIMA. Сравнить качество с лагами и без."
   ]
  },
  {
   "cell_type": "code",
   "execution_count": null,
   "metadata": {},
   "outputs": [],
   "source": []
  },
  {
   "cell_type": "markdown",
   "metadata": {},
   "source": [
    "**[1.5б] Задание 5.3** \n",
    "\n",
    "1. **[0.5б]** Визуализировать истинные и предсказанные моделью значения. Какие выводы можно сделать?\n",
    "2. **[1б]** Воспользуйтесь функцией [plot_diagnostics](https://www.statsmodels.org/stable/generated/statsmodels.tsa.arima.model.ARIMAResults.plot_diagnostics.html). Прокомментируйте каждый график (что он значит и какие выводы можно сделать)."
   ]
  },
  {
   "cell_type": "code",
   "execution_count": null,
   "metadata": {},
   "outputs": [],
   "source": []
  },
  {
   "cell_type": "markdown",
   "metadata": {},
   "source": [
    "## Шаг 6. Построение предсказания на следующий месяц. Аналитическое задание."
   ]
  },
  {
   "cell_type": "markdown",
   "metadata": {},
   "source": [
    "**[0.5б] Задание 6.1** Сделать предсказание на будущий месяц. Не забыть взять экспоненту, если целевая переменная была логарифмирована."
   ]
  },
  {
   "cell_type": "code",
   "execution_count": null,
   "metadata": {},
   "outputs": [],
   "source": []
  },
  {
   "cell_type": "markdown",
   "metadata": {},
   "source": [
    "**[0.5б] Задание 6.2** Ответить на вопросы из списка ниже.\n",
    "\n",
    "* Что можно сказать о поведении ряда?\n",
    "* Почему были выбраны именно эта метрика и метод валидации?\n",
    "* Если бы была возможность запросить дополнительные данные, что бы Вы запросили?\n",
    "\n",
    "\n",
    "**Ответ:**"
   ]
  }
 ],
 "metadata": {
  "kernelspec": {
   "display_name": "Python 3",
   "language": "python",
   "name": "python3"
  },
  "language_info": {
   "codemirror_mode": {
    "name": "ipython",
    "version": 3
   },
   "file_extension": ".py",
   "mimetype": "text/x-python",
   "name": "python",
   "nbconvert_exporter": "python",
   "pygments_lexer": "ipython3",
   "version": "3.6.6"
  }
 },
 "nbformat": 4,
 "nbformat_minor": 2
}
